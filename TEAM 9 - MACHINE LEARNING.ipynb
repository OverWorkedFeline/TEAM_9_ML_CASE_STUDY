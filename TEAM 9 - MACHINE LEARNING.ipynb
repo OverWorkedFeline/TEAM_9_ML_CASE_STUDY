{
 "cells": [
  {
   "cell_type": "markdown",
   "id": "3df646bb",
   "metadata": {},
   "source": [
    "## LEAD SCORING CASE STUDY (TEAM 9 SEPT 2022 MODULE EXAM)"
   ]
  },
  {
   "cell_type": "markdown",
   "id": "ebcaa627",
   "metadata": {},
   "source": [
    "### PROBLEM STATEMENT\n",
    "\n",
    "    An education company named X Education sells online courses to our industry professionals.\n",
    "    many professionals who are interested in the courses land on their website for courses.\n",
    "    \n",
    "    The company is using social Media marketing on various websites and search engines like google\n",
    "    once the people land on websites, they might get intrested and browse courses or fill up a \n",
    "    form for the course or watch videos.\n",
    "    1. Important to know that these people are classified as leads as they fill up a form \n",
    "    providing their email address or phone number. \n",
    "    Moreover, the company also gets leads through past referrals\n",
    "    2. Important to know that once the they get a lead. sales team contacts them.\n",
    "    3. Important to know that Thru this process, some of the leads get converted while most do \n",
    "    not. TYPICAL LEAD CONVERSION RATE IS ABOUT 30%.\n",
    "    \n",
    "    X Education has now hired you!!!\n",
    "    They have given you a task.\n",
    "    1. SELECT THE MOST PROMISING LEADS. i.e. the leads that are most likely to convert into paying \n",
    "    customers.\n",
    "    2. The company requires a model. wherein you need to assign a leadscore to each of the leads\n",
    "    such that the customers with higher lead socre have a higher conversion chance and the\n",
    "    customers with lower lead score havd a lower conversion chance.\n",
    "    3. The CEO, in particular has given a target lead conversion rate to be around 80%.\n",
    "    "
   ]
  },
  {
   "cell_type": "markdown",
   "id": "60054c0b",
   "metadata": {},
   "source": [
    "### GOALS OF THE CASE STUDY\n",
    "\n",
    "    1. Build a LOGISTIC REGRESSION MODEL to assign a lead score between 0 and 100 to each of the \n",
    "    leads which can be used by the company to target potential sales.\n",
    "    2. higher the score would mean that the lead is hot.\n",
    "    hot here means the lead is most likely to convert, whereas a lower score would mean that\n",
    "    the lead is cold and will most likely skip."
   ]
  },
  {
   "cell_type": "code",
   "execution_count": 1,
   "id": "f6fe6304",
   "metadata": {},
   "outputs": [],
   "source": [
    "#basic modules\n",
    "import pandas as pd\n",
    "import numpy as np\n",
    "#data Visualization modules\n",
    "import matplotlib.pyplot as plt\n",
    "import seaborn as sns\n",
    "#supress warnings\n",
    "import warnings\n",
    "warnings.filterwarnings('ignore')\n",
    "#increase view limits\n",
    "pd.options.display.max_columns = None\n",
    "pd.options.display.max_rows = 100\n",
    "pd.options.display.float_format= '{:.2f}'.format"
   ]
  },
  {
   "cell_type": "markdown",
   "id": "bcc99d66",
   "metadata": {},
   "source": [
    "### Reading and Understanding Data"
   ]
  },
  {
   "cell_type": "code",
   "execution_count": 2,
   "id": "f64a90b2",
   "metadata": {},
   "outputs": [],
   "source": [
    "# importing os \n",
    "import os\n",
    "os.chdir(r\"C:\\Users\\stanl\\Downloads\")"
   ]
  },
  {
   "cell_type": "code",
   "execution_count": 3,
   "id": "3503952b",
   "metadata": {},
   "outputs": [
    {
     "data": {
      "text/html": [
       "<div>\n",
       "<style scoped>\n",
       "    .dataframe tbody tr th:only-of-type {\n",
       "        vertical-align: middle;\n",
       "    }\n",
       "\n",
       "    .dataframe tbody tr th {\n",
       "        vertical-align: top;\n",
       "    }\n",
       "\n",
       "    .dataframe thead th {\n",
       "        text-align: right;\n",
       "    }\n",
       "</style>\n",
       "<table border=\"1\" class=\"dataframe\">\n",
       "  <thead>\n",
       "    <tr style=\"text-align: right;\">\n",
       "      <th></th>\n",
       "      <th>Prospect ID</th>\n",
       "      <th>Lead Number</th>\n",
       "      <th>Lead Origin</th>\n",
       "      <th>Lead Source</th>\n",
       "      <th>Do Not Email</th>\n",
       "      <th>Do Not Call</th>\n",
       "      <th>Converted</th>\n",
       "      <th>TotalVisits</th>\n",
       "      <th>Total Time Spent on Website</th>\n",
       "      <th>Page Views Per Visit</th>\n",
       "      <th>Last Activity</th>\n",
       "      <th>Country</th>\n",
       "      <th>Specialization</th>\n",
       "      <th>How did you hear about X Education</th>\n",
       "      <th>What is your current occupation</th>\n",
       "      <th>What matters most to you in choosing a course</th>\n",
       "      <th>Search</th>\n",
       "      <th>Magazine</th>\n",
       "      <th>Newspaper Article</th>\n",
       "      <th>X Education Forums</th>\n",
       "      <th>Newspaper</th>\n",
       "      <th>Digital Advertisement</th>\n",
       "      <th>Through Recommendations</th>\n",
       "      <th>Receive More Updates About Our Courses</th>\n",
       "      <th>Tags</th>\n",
       "      <th>Lead Quality</th>\n",
       "      <th>Update me on Supply Chain Content</th>\n",
       "      <th>Get updates on DM Content</th>\n",
       "      <th>Lead Profile</th>\n",
       "      <th>City</th>\n",
       "      <th>Asymmetrique Activity Index</th>\n",
       "      <th>Asymmetrique Profile Index</th>\n",
       "      <th>Asymmetrique Activity Score</th>\n",
       "      <th>Asymmetrique Profile Score</th>\n",
       "      <th>I agree to pay the amount through cheque</th>\n",
       "      <th>A free copy of Mastering The Interview</th>\n",
       "      <th>Last Notable Activity</th>\n",
       "    </tr>\n",
       "  </thead>\n",
       "  <tbody>\n",
       "    <tr>\n",
       "      <th>0</th>\n",
       "      <td>7927b2df-8bba-4d29-b9a2-b6e0beafe620</td>\n",
       "      <td>660737</td>\n",
       "      <td>API</td>\n",
       "      <td>Olark Chat</td>\n",
       "      <td>No</td>\n",
       "      <td>No</td>\n",
       "      <td>0</td>\n",
       "      <td>0.00</td>\n",
       "      <td>0</td>\n",
       "      <td>0.00</td>\n",
       "      <td>Page Visited on Website</td>\n",
       "      <td>NaN</td>\n",
       "      <td>Select</td>\n",
       "      <td>Select</td>\n",
       "      <td>Unemployed</td>\n",
       "      <td>Better Career Prospects</td>\n",
       "      <td>No</td>\n",
       "      <td>No</td>\n",
       "      <td>No</td>\n",
       "      <td>No</td>\n",
       "      <td>No</td>\n",
       "      <td>No</td>\n",
       "      <td>No</td>\n",
       "      <td>No</td>\n",
       "      <td>Interested in other courses</td>\n",
       "      <td>Low in Relevance</td>\n",
       "      <td>No</td>\n",
       "      <td>No</td>\n",
       "      <td>Select</td>\n",
       "      <td>Select</td>\n",
       "      <td>02.Medium</td>\n",
       "      <td>02.Medium</td>\n",
       "      <td>15.00</td>\n",
       "      <td>15.00</td>\n",
       "      <td>No</td>\n",
       "      <td>No</td>\n",
       "      <td>Modified</td>\n",
       "    </tr>\n",
       "    <tr>\n",
       "      <th>1</th>\n",
       "      <td>2a272436-5132-4136-86fa-dcc88c88f482</td>\n",
       "      <td>660728</td>\n",
       "      <td>API</td>\n",
       "      <td>Organic Search</td>\n",
       "      <td>No</td>\n",
       "      <td>No</td>\n",
       "      <td>0</td>\n",
       "      <td>5.00</td>\n",
       "      <td>674</td>\n",
       "      <td>2.50</td>\n",
       "      <td>Email Opened</td>\n",
       "      <td>India</td>\n",
       "      <td>Select</td>\n",
       "      <td>Select</td>\n",
       "      <td>Unemployed</td>\n",
       "      <td>Better Career Prospects</td>\n",
       "      <td>No</td>\n",
       "      <td>No</td>\n",
       "      <td>No</td>\n",
       "      <td>No</td>\n",
       "      <td>No</td>\n",
       "      <td>No</td>\n",
       "      <td>No</td>\n",
       "      <td>No</td>\n",
       "      <td>Ringing</td>\n",
       "      <td>NaN</td>\n",
       "      <td>No</td>\n",
       "      <td>No</td>\n",
       "      <td>Select</td>\n",
       "      <td>Select</td>\n",
       "      <td>02.Medium</td>\n",
       "      <td>02.Medium</td>\n",
       "      <td>15.00</td>\n",
       "      <td>15.00</td>\n",
       "      <td>No</td>\n",
       "      <td>No</td>\n",
       "      <td>Email Opened</td>\n",
       "    </tr>\n",
       "    <tr>\n",
       "      <th>2</th>\n",
       "      <td>8cc8c611-a219-4f35-ad23-fdfd2656bd8a</td>\n",
       "      <td>660727</td>\n",
       "      <td>Landing Page Submission</td>\n",
       "      <td>Direct Traffic</td>\n",
       "      <td>No</td>\n",
       "      <td>No</td>\n",
       "      <td>1</td>\n",
       "      <td>2.00</td>\n",
       "      <td>1532</td>\n",
       "      <td>2.00</td>\n",
       "      <td>Email Opened</td>\n",
       "      <td>India</td>\n",
       "      <td>Business Administration</td>\n",
       "      <td>Select</td>\n",
       "      <td>Student</td>\n",
       "      <td>Better Career Prospects</td>\n",
       "      <td>No</td>\n",
       "      <td>No</td>\n",
       "      <td>No</td>\n",
       "      <td>No</td>\n",
       "      <td>No</td>\n",
       "      <td>No</td>\n",
       "      <td>No</td>\n",
       "      <td>No</td>\n",
       "      <td>Will revert after reading the email</td>\n",
       "      <td>Might be</td>\n",
       "      <td>No</td>\n",
       "      <td>No</td>\n",
       "      <td>Potential Lead</td>\n",
       "      <td>Mumbai</td>\n",
       "      <td>02.Medium</td>\n",
       "      <td>01.High</td>\n",
       "      <td>14.00</td>\n",
       "      <td>20.00</td>\n",
       "      <td>No</td>\n",
       "      <td>Yes</td>\n",
       "      <td>Email Opened</td>\n",
       "    </tr>\n",
       "    <tr>\n",
       "      <th>3</th>\n",
       "      <td>0cc2df48-7cf4-4e39-9de9-19797f9b38cc</td>\n",
       "      <td>660719</td>\n",
       "      <td>Landing Page Submission</td>\n",
       "      <td>Direct Traffic</td>\n",
       "      <td>No</td>\n",
       "      <td>No</td>\n",
       "      <td>0</td>\n",
       "      <td>1.00</td>\n",
       "      <td>305</td>\n",
       "      <td>1.00</td>\n",
       "      <td>Unreachable</td>\n",
       "      <td>India</td>\n",
       "      <td>Media and Advertising</td>\n",
       "      <td>Word Of Mouth</td>\n",
       "      <td>Unemployed</td>\n",
       "      <td>Better Career Prospects</td>\n",
       "      <td>No</td>\n",
       "      <td>No</td>\n",
       "      <td>No</td>\n",
       "      <td>No</td>\n",
       "      <td>No</td>\n",
       "      <td>No</td>\n",
       "      <td>No</td>\n",
       "      <td>No</td>\n",
       "      <td>Ringing</td>\n",
       "      <td>Not Sure</td>\n",
       "      <td>No</td>\n",
       "      <td>No</td>\n",
       "      <td>Select</td>\n",
       "      <td>Mumbai</td>\n",
       "      <td>02.Medium</td>\n",
       "      <td>01.High</td>\n",
       "      <td>13.00</td>\n",
       "      <td>17.00</td>\n",
       "      <td>No</td>\n",
       "      <td>No</td>\n",
       "      <td>Modified</td>\n",
       "    </tr>\n",
       "    <tr>\n",
       "      <th>4</th>\n",
       "      <td>3256f628-e534-4826-9d63-4a8b88782852</td>\n",
       "      <td>660681</td>\n",
       "      <td>Landing Page Submission</td>\n",
       "      <td>Google</td>\n",
       "      <td>No</td>\n",
       "      <td>No</td>\n",
       "      <td>1</td>\n",
       "      <td>2.00</td>\n",
       "      <td>1428</td>\n",
       "      <td>1.00</td>\n",
       "      <td>Converted to Lead</td>\n",
       "      <td>India</td>\n",
       "      <td>Select</td>\n",
       "      <td>Other</td>\n",
       "      <td>Unemployed</td>\n",
       "      <td>Better Career Prospects</td>\n",
       "      <td>No</td>\n",
       "      <td>No</td>\n",
       "      <td>No</td>\n",
       "      <td>No</td>\n",
       "      <td>No</td>\n",
       "      <td>No</td>\n",
       "      <td>No</td>\n",
       "      <td>No</td>\n",
       "      <td>Will revert after reading the email</td>\n",
       "      <td>Might be</td>\n",
       "      <td>No</td>\n",
       "      <td>No</td>\n",
       "      <td>Select</td>\n",
       "      <td>Mumbai</td>\n",
       "      <td>02.Medium</td>\n",
       "      <td>01.High</td>\n",
       "      <td>15.00</td>\n",
       "      <td>18.00</td>\n",
       "      <td>No</td>\n",
       "      <td>No</td>\n",
       "      <td>Modified</td>\n",
       "    </tr>\n",
       "  </tbody>\n",
       "</table>\n",
       "</div>"
      ],
      "text/plain": [
       "                            Prospect ID  Lead Number              Lead Origin  \\\n",
       "0  7927b2df-8bba-4d29-b9a2-b6e0beafe620       660737                      API   \n",
       "1  2a272436-5132-4136-86fa-dcc88c88f482       660728                      API   \n",
       "2  8cc8c611-a219-4f35-ad23-fdfd2656bd8a       660727  Landing Page Submission   \n",
       "3  0cc2df48-7cf4-4e39-9de9-19797f9b38cc       660719  Landing Page Submission   \n",
       "4  3256f628-e534-4826-9d63-4a8b88782852       660681  Landing Page Submission   \n",
       "\n",
       "      Lead Source Do Not Email Do Not Call  Converted  TotalVisits  \\\n",
       "0      Olark Chat           No          No          0         0.00   \n",
       "1  Organic Search           No          No          0         5.00   \n",
       "2  Direct Traffic           No          No          1         2.00   \n",
       "3  Direct Traffic           No          No          0         1.00   \n",
       "4          Google           No          No          1         2.00   \n",
       "\n",
       "   Total Time Spent on Website  Page Views Per Visit            Last Activity  \\\n",
       "0                            0                  0.00  Page Visited on Website   \n",
       "1                          674                  2.50             Email Opened   \n",
       "2                         1532                  2.00             Email Opened   \n",
       "3                          305                  1.00              Unreachable   \n",
       "4                         1428                  1.00        Converted to Lead   \n",
       "\n",
       "  Country           Specialization How did you hear about X Education  \\\n",
       "0     NaN                   Select                             Select   \n",
       "1   India                   Select                             Select   \n",
       "2   India  Business Administration                             Select   \n",
       "3   India    Media and Advertising                      Word Of Mouth   \n",
       "4   India                   Select                              Other   \n",
       "\n",
       "  What is your current occupation  \\\n",
       "0                      Unemployed   \n",
       "1                      Unemployed   \n",
       "2                         Student   \n",
       "3                      Unemployed   \n",
       "4                      Unemployed   \n",
       "\n",
       "  What matters most to you in choosing a course Search Magazine  \\\n",
       "0                       Better Career Prospects     No       No   \n",
       "1                       Better Career Prospects     No       No   \n",
       "2                       Better Career Prospects     No       No   \n",
       "3                       Better Career Prospects     No       No   \n",
       "4                       Better Career Prospects     No       No   \n",
       "\n",
       "  Newspaper Article X Education Forums Newspaper Digital Advertisement  \\\n",
       "0                No                 No        No                    No   \n",
       "1                No                 No        No                    No   \n",
       "2                No                 No        No                    No   \n",
       "3                No                 No        No                    No   \n",
       "4                No                 No        No                    No   \n",
       "\n",
       "  Through Recommendations Receive More Updates About Our Courses  \\\n",
       "0                      No                                     No   \n",
       "1                      No                                     No   \n",
       "2                      No                                     No   \n",
       "3                      No                                     No   \n",
       "4                      No                                     No   \n",
       "\n",
       "                                  Tags      Lead Quality  \\\n",
       "0          Interested in other courses  Low in Relevance   \n",
       "1                              Ringing               NaN   \n",
       "2  Will revert after reading the email          Might be   \n",
       "3                              Ringing          Not Sure   \n",
       "4  Will revert after reading the email          Might be   \n",
       "\n",
       "  Update me on Supply Chain Content Get updates on DM Content    Lead Profile  \\\n",
       "0                                No                        No          Select   \n",
       "1                                No                        No          Select   \n",
       "2                                No                        No  Potential Lead   \n",
       "3                                No                        No          Select   \n",
       "4                                No                        No          Select   \n",
       "\n",
       "     City Asymmetrique Activity Index Asymmetrique Profile Index  \\\n",
       "0  Select                   02.Medium                  02.Medium   \n",
       "1  Select                   02.Medium                  02.Medium   \n",
       "2  Mumbai                   02.Medium                    01.High   \n",
       "3  Mumbai                   02.Medium                    01.High   \n",
       "4  Mumbai                   02.Medium                    01.High   \n",
       "\n",
       "   Asymmetrique Activity Score  Asymmetrique Profile Score  \\\n",
       "0                        15.00                       15.00   \n",
       "1                        15.00                       15.00   \n",
       "2                        14.00                       20.00   \n",
       "3                        13.00                       17.00   \n",
       "4                        15.00                       18.00   \n",
       "\n",
       "  I agree to pay the amount through cheque  \\\n",
       "0                                       No   \n",
       "1                                       No   \n",
       "2                                       No   \n",
       "3                                       No   \n",
       "4                                       No   \n",
       "\n",
       "  A free copy of Mastering The Interview Last Notable Activity  \n",
       "0                                     No              Modified  \n",
       "1                                     No          Email Opened  \n",
       "2                                    Yes          Email Opened  \n",
       "3                                     No              Modified  \n",
       "4                                     No              Modified  "
      ]
     },
     "execution_count": 3,
     "metadata": {},
     "output_type": "execute_result"
    }
   ],
   "source": [
    "#reading the data file using pandas.\n",
    "df = pd.read_csv('Leads.csv')\n",
    "\n",
    "df.head()"
   ]
  },
  {
   "cell_type": "code",
   "execution_count": 4,
   "id": "6bc77c9c",
   "metadata": {},
   "outputs": [
    {
     "data": {
      "text/plain": [
       "(9240, 37)"
      ]
     },
     "execution_count": 4,
     "metadata": {},
     "output_type": "execute_result"
    }
   ],
   "source": [
    "# checking shape\n",
    "df.shape\n",
    "\n",
    "# 9240 rows and 37 columns"
   ]
  },
  {
   "cell_type": "code",
   "execution_count": 5,
   "id": "d3580b94",
   "metadata": {},
   "outputs": [
    {
     "data": {
      "text/html": [
       "<div>\n",
       "<style scoped>\n",
       "    .dataframe tbody tr th:only-of-type {\n",
       "        vertical-align: middle;\n",
       "    }\n",
       "\n",
       "    .dataframe tbody tr th {\n",
       "        vertical-align: top;\n",
       "    }\n",
       "\n",
       "    .dataframe thead th {\n",
       "        text-align: right;\n",
       "    }\n",
       "</style>\n",
       "<table border=\"1\" class=\"dataframe\">\n",
       "  <thead>\n",
       "    <tr style=\"text-align: right;\">\n",
       "      <th></th>\n",
       "      <th>Lead Number</th>\n",
       "      <th>Converted</th>\n",
       "      <th>TotalVisits</th>\n",
       "      <th>Total Time Spent on Website</th>\n",
       "      <th>Page Views Per Visit</th>\n",
       "      <th>Asymmetrique Activity Score</th>\n",
       "      <th>Asymmetrique Profile Score</th>\n",
       "    </tr>\n",
       "  </thead>\n",
       "  <tbody>\n",
       "    <tr>\n",
       "      <th>count</th>\n",
       "      <td>9240.00</td>\n",
       "      <td>9240.00</td>\n",
       "      <td>9103.00</td>\n",
       "      <td>9240.00</td>\n",
       "      <td>9103.00</td>\n",
       "      <td>5022.00</td>\n",
       "      <td>5022.00</td>\n",
       "    </tr>\n",
       "    <tr>\n",
       "      <th>mean</th>\n",
       "      <td>617188.44</td>\n",
       "      <td>0.39</td>\n",
       "      <td>3.45</td>\n",
       "      <td>487.70</td>\n",
       "      <td>2.36</td>\n",
       "      <td>14.31</td>\n",
       "      <td>16.34</td>\n",
       "    </tr>\n",
       "    <tr>\n",
       "      <th>std</th>\n",
       "      <td>23406.00</td>\n",
       "      <td>0.49</td>\n",
       "      <td>4.85</td>\n",
       "      <td>548.02</td>\n",
       "      <td>2.16</td>\n",
       "      <td>1.39</td>\n",
       "      <td>1.81</td>\n",
       "    </tr>\n",
       "    <tr>\n",
       "      <th>min</th>\n",
       "      <td>579533.00</td>\n",
       "      <td>0.00</td>\n",
       "      <td>0.00</td>\n",
       "      <td>0.00</td>\n",
       "      <td>0.00</td>\n",
       "      <td>7.00</td>\n",
       "      <td>11.00</td>\n",
       "    </tr>\n",
       "    <tr>\n",
       "      <th>25%</th>\n",
       "      <td>596484.50</td>\n",
       "      <td>0.00</td>\n",
       "      <td>1.00</td>\n",
       "      <td>12.00</td>\n",
       "      <td>1.00</td>\n",
       "      <td>14.00</td>\n",
       "      <td>15.00</td>\n",
       "    </tr>\n",
       "    <tr>\n",
       "      <th>50%</th>\n",
       "      <td>615479.00</td>\n",
       "      <td>0.00</td>\n",
       "      <td>3.00</td>\n",
       "      <td>248.00</td>\n",
       "      <td>2.00</td>\n",
       "      <td>14.00</td>\n",
       "      <td>16.00</td>\n",
       "    </tr>\n",
       "    <tr>\n",
       "      <th>75%</th>\n",
       "      <td>637387.25</td>\n",
       "      <td>1.00</td>\n",
       "      <td>5.00</td>\n",
       "      <td>936.00</td>\n",
       "      <td>3.00</td>\n",
       "      <td>15.00</td>\n",
       "      <td>18.00</td>\n",
       "    </tr>\n",
       "    <tr>\n",
       "      <th>max</th>\n",
       "      <td>660737.00</td>\n",
       "      <td>1.00</td>\n",
       "      <td>251.00</td>\n",
       "      <td>2272.00</td>\n",
       "      <td>55.00</td>\n",
       "      <td>18.00</td>\n",
       "      <td>20.00</td>\n",
       "    </tr>\n",
       "  </tbody>\n",
       "</table>\n",
       "</div>"
      ],
      "text/plain": [
       "       Lead Number  Converted  TotalVisits  Total Time Spent on Website  \\\n",
       "count      9240.00    9240.00      9103.00                      9240.00   \n",
       "mean     617188.44       0.39         3.45                       487.70   \n",
       "std       23406.00       0.49         4.85                       548.02   \n",
       "min      579533.00       0.00         0.00                         0.00   \n",
       "25%      596484.50       0.00         1.00                        12.00   \n",
       "50%      615479.00       0.00         3.00                       248.00   \n",
       "75%      637387.25       1.00         5.00                       936.00   \n",
       "max      660737.00       1.00       251.00                      2272.00   \n",
       "\n",
       "       Page Views Per Visit  Asymmetrique Activity Score  \\\n",
       "count               9103.00                      5022.00   \n",
       "mean                   2.36                        14.31   \n",
       "std                    2.16                         1.39   \n",
       "min                    0.00                         7.00   \n",
       "25%                    1.00                        14.00   \n",
       "50%                    2.00                        14.00   \n",
       "75%                    3.00                        15.00   \n",
       "max                   55.00                        18.00   \n",
       "\n",
       "       Asymmetrique Profile Score  \n",
       "count                     5022.00  \n",
       "mean                        16.34  \n",
       "std                          1.81  \n",
       "min                         11.00  \n",
       "25%                         15.00  \n",
       "50%                         16.00  \n",
       "75%                         18.00  \n",
       "max                         20.00  "
      ]
     },
     "execution_count": 5,
     "metadata": {},
     "output_type": "execute_result"
    }
   ],
   "source": [
    "# checking stats for numerical columns\n",
    "df.describe()"
   ]
  },
  {
   "cell_type": "code",
   "execution_count": 6,
   "id": "07fa05e2",
   "metadata": {
    "scrolled": true
   },
   "outputs": [
    {
     "data": {
      "text/plain": [
       "0"
      ]
     },
     "execution_count": 6,
     "metadata": {},
     "output_type": "execute_result"
    }
   ],
   "source": [
    "# checking dublicates.\n",
    "df.duplicated().sum()\n",
    "\n",
    "# No dublicate rows. duplicated function returns a bool of rows which contain False for no dublicates."
   ]
  },
  {
   "cell_type": "code",
   "execution_count": 7,
   "id": "9b2e87c0",
   "metadata": {},
   "outputs": [
    {
     "name": "stdout",
     "output_type": "stream",
     "text": [
      "<class 'pandas.core.frame.DataFrame'>\n",
      "RangeIndex: 9240 entries, 0 to 9239\n",
      "Data columns (total 37 columns):\n",
      " #   Column                                         Non-Null Count  Dtype  \n",
      "---  ------                                         --------------  -----  \n",
      " 0   Prospect ID                                    9240 non-null   object \n",
      " 1   Lead Number                                    9240 non-null   int64  \n",
      " 2   Lead Origin                                    9240 non-null   object \n",
      " 3   Lead Source                                    9204 non-null   object \n",
      " 4   Do Not Email                                   9240 non-null   object \n",
      " 5   Do Not Call                                    9240 non-null   object \n",
      " 6   Converted                                      9240 non-null   int64  \n",
      " 7   TotalVisits                                    9103 non-null   float64\n",
      " 8   Total Time Spent on Website                    9240 non-null   int64  \n",
      " 9   Page Views Per Visit                           9103 non-null   float64\n",
      " 10  Last Activity                                  9137 non-null   object \n",
      " 11  Country                                        6779 non-null   object \n",
      " 12  Specialization                                 7802 non-null   object \n",
      " 13  How did you hear about X Education             7033 non-null   object \n",
      " 14  What is your current occupation                6550 non-null   object \n",
      " 15  What matters most to you in choosing a course  6531 non-null   object \n",
      " 16  Search                                         9240 non-null   object \n",
      " 17  Magazine                                       9240 non-null   object \n",
      " 18  Newspaper Article                              9240 non-null   object \n",
      " 19  X Education Forums                             9240 non-null   object \n",
      " 20  Newspaper                                      9240 non-null   object \n",
      " 21  Digital Advertisement                          9240 non-null   object \n",
      " 22  Through Recommendations                        9240 non-null   object \n",
      " 23  Receive More Updates About Our Courses         9240 non-null   object \n",
      " 24  Tags                                           5887 non-null   object \n",
      " 25  Lead Quality                                   4473 non-null   object \n",
      " 26  Update me on Supply Chain Content              9240 non-null   object \n",
      " 27  Get updates on DM Content                      9240 non-null   object \n",
      " 28  Lead Profile                                   6531 non-null   object \n",
      " 29  City                                           7820 non-null   object \n",
      " 30  Asymmetrique Activity Index                    5022 non-null   object \n",
      " 31  Asymmetrique Profile Index                     5022 non-null   object \n",
      " 32  Asymmetrique Activity Score                    5022 non-null   float64\n",
      " 33  Asymmetrique Profile Score                     5022 non-null   float64\n",
      " 34  I agree to pay the amount through cheque       9240 non-null   object \n",
      " 35  A free copy of Mastering The Interview         9240 non-null   object \n",
      " 36  Last Notable Activity                          9240 non-null   object \n",
      "dtypes: float64(4), int64(3), object(30)\n",
      "memory usage: 2.6+ MB\n"
     ]
    }
   ],
   "source": [
    "# checking all columns, their datatypes and also get idea of amount of null values\n",
    "df.info('all')"
   ]
  },
  {
   "cell_type": "markdown",
   "id": "67c2a04d",
   "metadata": {},
   "source": [
    "#### Observations : \n",
    "    1. alot of columns have alot of null values and are not so important, it is safe to drop it.\n",
    "    2. Prospect ID and Lead Number both have a unique idenfier(Primary key). we can drop either \n",
    "    one of them. it is safe to drop Prospect ID.\n",
    "    3. Columns names are toooooooo long.\n",
    "    4. we have observed 'select' insted of 'Nan'. it means that select appears when someone does\n",
    "    not select anything from the dropdown in the form provided.\n",
    "    "
   ]
  },
  {
   "cell_type": "markdown",
   "id": "2db4d56b",
   "metadata": {},
   "source": [
    "### Data Cleaning\n",
    "\n",
    "#### Rename column names.\n",
    "    1. Long column names makes analysis a bit hard.\n",
    "    2. convert into snake case (personal preference to handle data.)\n",
    "    "
   ]
  },
  {
   "cell_type": "code",
   "execution_count": 8,
   "id": "fe2a9cbe",
   "metadata": {},
   "outputs": [
    {
     "data": {
      "text/plain": [
       "Index(['prospect_id', 'lead_number', 'lead_origin', 'lead_source',\n",
       "       'do_not_email', 'do_not_call', 'converted', 'totalvisits',\n",
       "       'total_time_spent_on_website', 'page_views_per_visit', 'last_activity',\n",
       "       'country', 'specialization', 'how_did_you_hear_about_x_education',\n",
       "       'what_is_your_current_occupation',\n",
       "       'what_matters_most_to_you_in_choosing_a_course', 'search', 'magazine',\n",
       "       'newspaper_article', 'x_education_forums', 'newspaper',\n",
       "       'digital_advertisement', 'through_recommendations',\n",
       "       'receive_more_updates_about_our_courses', 'tags', 'lead_quality',\n",
       "       'update_me_on_supply_chain_content', 'get_updates_on_dm_content',\n",
       "       'lead_profile', 'city', 'asymmetrique_activity_index',\n",
       "       'asymmetrique_profile_index', 'asymmetrique_activity_score',\n",
       "       'asymmetrique_profile_score',\n",
       "       'i_agree_to_pay_the_amount_through_cheque',\n",
       "       'a_free_copy_of_mastering_the_interview', 'last_notable_activity'],\n",
       "      dtype='object')"
      ]
     },
     "execution_count": 8,
     "metadata": {},
     "output_type": "execute_result"
    }
   ],
   "source": [
    "# change into snake case (space to ____)\n",
    "\n",
    "df.columns = df.columns.str.replace(' ','_').str.lower()\n",
    "\n",
    "# checks\n",
    "\n",
    "df.columns"
   ]
  },
  {
   "cell_type": "code",
   "execution_count": 9,
   "id": "8619456c",
   "metadata": {},
   "outputs": [
    {
     "data": {
      "text/plain": [
       "['prospect_id',\n",
       " 'lead_number',\n",
       " 'lead_origin',\n",
       " 'lead_source',\n",
       " 'do_not_email',\n",
       " 'do_not_call',\n",
       " 'converted',\n",
       " 'total_visits',\n",
       " 'time_on_website',\n",
       " 'page_views_per_visit',\n",
       " 'last_activity',\n",
       " 'country',\n",
       " 'specialization',\n",
       " 'source',\n",
       " 'occupation',\n",
       " 'course_selection_reason',\n",
       " 'search',\n",
       " 'magazine',\n",
       " 'newspaper_article',\n",
       " 'x_education_forums',\n",
       " 'newspaper',\n",
       " 'digital_advertisement',\n",
       " 'through_recommendations',\n",
       " 'courses_updates',\n",
       " 'tags',\n",
       " 'lead_quality',\n",
       " 'supply_chain_content_updates',\n",
       " 'dm_content_updates',\n",
       " 'lead_profile',\n",
       " 'city',\n",
       " 'asymmetrique_activity_index',\n",
       " 'asymmetrique_profile_index',\n",
       " 'asymmetrique_activity_score',\n",
       " 'asymmetrique_profile_score',\n",
       " 'cheque_payment',\n",
       " 'mastering_interview',\n",
       " 'last_notable_activity']"
      ]
     },
     "execution_count": 9,
     "metadata": {},
     "output_type": "execute_result"
    }
   ],
   "source": [
    "# shorten column name\n",
    "\n",
    "df.rename(columns=\n",
    "          {'totalvisits': 'total_visits',\n",
    "           'total_time_spent_on_website': 'time_on_website', \n",
    "           'how_did_you_hear_about_x_education': 'source',\n",
    "           'what_is_your_current_occupation': 'occupation',\n",
    "           'what_matters_most_to_you_in_choosing_a_course' : 'course_selection_reason', \n",
    "           'receive_more_updates_about_our_courses': 'courses_updates', \n",
    "           'update_me_on_supply_chain_content': 'supply_chain_content_updates',\n",
    "           'get_updates_on_dm_content': 'dm_content_updates',\n",
    "           'i_agree_to_pay_the_amount_through_cheque': 'cheque_payment',\n",
    "            'a_free_copy_of_mastering_the_interview': 'mastering_interview'},\n",
    "          inplace = True)\n",
    "\n",
    "# df.rename mein dict ka key value dalo. kush raho.\n",
    "# inplace = True means it is overwriding changes to the actual data set.\n",
    "\n",
    "# checking\n",
    "\n",
    "df.columns.to_list()"
   ]
  },
  {
   "cell_type": "markdown",
   "id": "2f0992d9",
   "metadata": {},
   "source": [
    "#### Drop prospect_id column"
   ]
  },
  {
   "cell_type": "code",
   "execution_count": 10,
   "id": "74716745",
   "metadata": {},
   "outputs": [],
   "source": [
    "df.drop(['prospect_id'],axis=1,inplace=True)"
   ]
  },
  {
   "cell_type": "markdown",
   "id": "0feabac4",
   "metadata": {},
   "source": [
    "#### Replace 'select' category with Nan or null values.\n"
   ]
  },
  {
   "cell_type": "code",
   "execution_count": 11,
   "id": "0e0d5e21",
   "metadata": {},
   "outputs": [
    {
     "data": {
      "text/plain": [
       "['specialization', 'source', 'lead_profile', 'city']"
      ]
     },
     "execution_count": 11,
     "metadata": {},
     "output_type": "execute_result"
    }
   ],
   "source": [
    "# select data types with object as datatype or non numeric columns\n",
    "df_non_numeric=df.select_dtypes(include='object')\n",
    "\n",
    "# find out columns who have'Select'\n",
    "columns_with_select=df_non_numeric.columns[df_non_numeric.apply(lambda x : x.str.contains('Select',na=False)).any()]\n",
    "columns_with_select.to_list()"
   ]
  },
  {
   "cell_type": "markdown",
   "id": "2dd10a07",
   "metadata": {},
   "source": [
    "There are 4 columns that contain 'Select', which are effectively treated as null values.\n",
    "we are going to make that change."
   ]
  },
  {
   "cell_type": "code",
   "execution_count": 12,
   "id": "38397b76",
   "metadata": {},
   "outputs": [],
   "source": [
    "#replace values\n",
    "select=columns_with_select.to_list()\n",
    "df[select]=df[select].replace('Select',np.nan)"
   ]
  },
  {
   "cell_type": "markdown",
   "id": "65501daa",
   "metadata": {},
   "source": [
    "#### Handle null values and columns generated by sales team / flags\n",
    "\n",
    "1. Given are alot of columns with very high number of null entities. best is to calculate the percentage of null values in the columns and take a decision.\n",
    "2. We can drop sales related columns because they seem to be data entries that are made after the sales team has contacted the student / potential lead. those have no purpose of our model i.e providing lead scores\n",
    "3. The columns are identified as :\n",
    "    - tages <br />\n",
    "    - lead_quality <br />\n",
    "    - last_activity <br />\n",
    "    - last_notable_activity <br />\n",
    "    - all columns which start with asymmetric name. <br />\n",
    "    "
   ]
  },
  {
   "cell_type": "code",
   "execution_count": 13,
   "id": "58328577",
   "metadata": {},
   "outputs": [
    {
     "data": {
      "text/plain": [
       "lead_number                     0.00\n",
       "lead_origin                     0.00\n",
       "lead_source                     0.39\n",
       "do_not_email                    0.00\n",
       "do_not_call                     0.00\n",
       "converted                       0.00\n",
       "total_visits                    1.48\n",
       "time_on_website                 0.00\n",
       "page_views_per_visit            1.48\n",
       "last_activity                   1.11\n",
       "country                        26.63\n",
       "specialization                 36.58\n",
       "source                         78.46\n",
       "occupation                     29.11\n",
       "course_selection_reason        29.32\n",
       "search                          0.00\n",
       "magazine                        0.00\n",
       "newspaper_article               0.00\n",
       "x_education_forums              0.00\n",
       "newspaper                       0.00\n",
       "digital_advertisement           0.00\n",
       "through_recommendations         0.00\n",
       "courses_updates                 0.00\n",
       "tags                           36.29\n",
       "lead_quality                   51.59\n",
       "supply_chain_content_updates    0.00\n",
       "dm_content_updates              0.00\n",
       "lead_profile                   74.19\n",
       "city                           39.71\n",
       "asymmetrique_activity_index    45.65\n",
       "asymmetrique_profile_index     45.65\n",
       "asymmetrique_activity_score    45.65\n",
       "asymmetrique_profile_score     45.65\n",
       "cheque_payment                  0.00\n",
       "mastering_interview             0.00\n",
       "last_notable_activity           0.00\n",
       "dtype: float64"
      ]
     },
     "execution_count": 13,
     "metadata": {},
     "output_type": "execute_result"
    }
   ],
   "source": [
    "# Percentage of null values for each column in df\n",
    "(df.isnull().sum()/len(df))*100"
   ]
  },
  {
   "cell_type": "markdown",
   "id": "0405265d",
   "metadata": {},
   "source": [
    "**Observation :** we can see that few columns with high percentage of missing data.\n",
    "since, there are no ways to get data back, we can drop this columns."
   ]
  },
  {
   "cell_type": "markdown",
   "id": "90f18336",
   "metadata": {},
   "source": [
    "#### Drop columns that have 40% more null values, sales generated flags or tags and columns named as assymetric "
   ]
  },
  {
   "cell_type": "code",
   "execution_count": 14,
   "id": "e0786a9e",
   "metadata": {},
   "outputs": [
    {
     "data": {
      "text/plain": [
       "Index(['lead_number', 'lead_origin', 'lead_source', 'do_not_email',\n",
       "       'do_not_call', 'converted', 'total_visits', 'time_on_website',\n",
       "       'page_views_per_visit', 'country', 'specialization', 'occupation',\n",
       "       'course_selection_reason', 'search', 'magazine', 'newspaper_article',\n",
       "       'x_education_forums', 'newspaper', 'digital_advertisement',\n",
       "       'through_recommendations', 'courses_updates', 'tags',\n",
       "       'supply_chain_content_updates', 'dm_content_updates', 'city',\n",
       "       'cheque_payment', 'mastering_interview'],\n",
       "      dtype='object')"
      ]
     },
     "execution_count": 14,
     "metadata": {},
     "output_type": "execute_result"
    }
   ],
   "source": [
    "df.drop(\n",
    "    [\n",
    "    'source',\n",
    "    'lead_quality',\n",
    "    'lead_profile',\n",
    "    'asymmetrique_activity_index',\n",
    "    'asymmetrique_profile_index',\n",
    "    'asymmetrique_activity_score',\n",
    "    'asymmetrique_profile_score',\n",
    "    'last_activity',\n",
    "    'last_notable_activity'\n",
    "    ],axis=1,inplace=True)\n",
    "\n",
    "df.columns"
   ]
  },
  {
   "cell_type": "code",
   "execution_count": 15,
   "id": "06973d3d",
   "metadata": {},
   "outputs": [
    {
     "data": {
      "text/plain": [
       "lead_number                     0.00\n",
       "lead_origin                     0.00\n",
       "lead_source                     0.39\n",
       "do_not_email                    0.00\n",
       "do_not_call                     0.00\n",
       "converted                       0.00\n",
       "total_visits                    1.48\n",
       "time_on_website                 0.00\n",
       "page_views_per_visit            1.48\n",
       "country                        26.63\n",
       "specialization                 36.58\n",
       "occupation                     29.11\n",
       "course_selection_reason        29.32\n",
       "search                          0.00\n",
       "magazine                        0.00\n",
       "newspaper_article               0.00\n",
       "x_education_forums              0.00\n",
       "newspaper                       0.00\n",
       "digital_advertisement           0.00\n",
       "through_recommendations         0.00\n",
       "courses_updates                 0.00\n",
       "tags                           36.29\n",
       "supply_chain_content_updates    0.00\n",
       "dm_content_updates              0.00\n",
       "city                           39.71\n",
       "cheque_payment                  0.00\n",
       "mastering_interview             0.00\n",
       "dtype: float64"
      ]
     },
     "execution_count": 15,
     "metadata": {},
     "output_type": "execute_result"
    }
   ],
   "source": [
    "# we are left with few columns with nulls, rechecking\n",
    "(df.isnull().sum()/len(df))*100"
   ]
  },
  {
   "cell_type": "markdown",
   "id": "4a893e76",
   "metadata": {},
   "source": [
    "**Observation** : we have 5 columns with high null values\n",
    "- country\n",
    "- specialization\n",
    "- occupation\n",
    "- course_selection_reason\n",
    "- city\n",
    "\n",
    "we look at them individually to see what can be done."
   ]
  },
  {
   "cell_type": "markdown",
   "id": "b84a62d4",
   "metadata": {},
   "source": [
    "**Country Column**"
   ]
  },
  {
   "cell_type": "code",
   "execution_count": 16,
   "id": "58325d2e",
   "metadata": {},
   "outputs": [
    {
     "data": {
      "text/plain": [
       "India                  70.26\n",
       "NaN                    26.63\n",
       "United States           0.75\n",
       "United Arab Emirates    0.57\n",
       "Singapore               0.26\n",
       "Saudi Arabia            0.23\n",
       "United Kingdom          0.16\n",
       "Australia               0.14\n",
       "Qatar                   0.11\n",
       "Bahrain                 0.08\n",
       "Hong Kong               0.08\n",
       "Oman                    0.06\n",
       "France                  0.06\n",
       "unknown                 0.05\n",
       "Kuwait                  0.04\n",
       "South Africa            0.04\n",
       "Canada                  0.04\n",
       "Nigeria                 0.04\n",
       "Germany                 0.04\n",
       "Sweden                  0.03\n",
       "Philippines             0.02\n",
       "Uganda                  0.02\n",
       "Italy                   0.02\n",
       "Bangladesh              0.02\n",
       "Netherlands             0.02\n",
       "Asia/Pacific Region     0.02\n",
       "China                   0.02\n",
       "Belgium                 0.02\n",
       "Ghana                   0.02\n",
       "Kenya                   0.01\n",
       "Sri Lanka               0.01\n",
       "Tanzania                0.01\n",
       "Malaysia                0.01\n",
       "Liberia                 0.01\n",
       "Switzerland             0.01\n",
       "Denmark                 0.01\n",
       "Russia                  0.01\n",
       "Vietnam                 0.01\n",
       "Indonesia               0.01\n",
       "Name: country, dtype: float64"
      ]
     },
     "execution_count": 16,
     "metadata": {},
     "output_type": "execute_result"
    }
   ],
   "source": [
    "df.country.value_counts(normalize=True,dropna=False)*100"
   ]
  },
  {
   "cell_type": "code",
   "execution_count": 17,
   "id": "1a241e7d",
   "metadata": {},
   "outputs": [
    {
     "data": {
      "image/png": "[encoded data removed]",
      "text/plain": [
       "<Figure size 1080x360 with 1 Axes>"
      ]
     },
     "metadata": {
      "needs_background": "light"
     },
     "output_type": "display_data"
    }
   ],
   "source": [
    "plt.figure(figsize=(15,5))\n",
    "s1=sns.countplot(df.country,hue=df.converted)\n",
    "s1.set_xticklabels(s1.get_xticklabels(),rotation=90)\n",
    "plt.show()"
   ]
  },
  {
   "cell_type": "markdown",
   "id": "f9d8ee12",
   "metadata": {},
   "source": [
    "**Observation :** This Distribution of the data is very heavily skewed with India + Nullvalues.\n",
    "It is safe to drop this column."
   ]
  },
  {
   "cell_type": "code",
   "execution_count": 18,
   "id": "9a4b8dd0",
   "metadata": {},
   "outputs": [],
   "source": [
    "df.drop('country',axis=1,inplace=True)"
   ]
  },
  {
   "cell_type": "markdown",
   "id": "c00333ab",
   "metadata": {},
   "source": [
    "**Column course_selection_reason**"
   ]
  },
  {
   "cell_type": "code",
   "execution_count": 19,
   "id": "89ed263e",
   "metadata": {},
   "outputs": [
    {
     "data": {
      "text/plain": [
       "Better Career Prospects     70.65\n",
       "NaN                         29.32\n",
       "Flexibility & Convenience    0.02\n",
       "Other                        0.01\n",
       "Name: course_selection_reason, dtype: float64"
      ]
     },
     "execution_count": 19,
     "metadata": {},
     "output_type": "execute_result"
    }
   ],
   "source": [
    "df.course_selection_reason.value_counts(normalize=True,dropna=False)*100"
   ]
  },
  {
   "cell_type": "markdown",
   "id": "b08cdfad",
   "metadata": {},
   "source": [
    "**Observation :** The distribution of data is heavily skewed with Better Career Prospects + Nullvalues.\n",
    "It is safe to drop this column."
   ]
  },
  {
   "cell_type": "code",
   "execution_count": 20,
   "id": "8796ded6",
   "metadata": {},
   "outputs": [],
   "source": [
    "df.drop('course_selection_reason',axis=1,inplace=True)"
   ]
  },
  {
   "cell_type": "markdown",
   "id": "559f8d4c",
   "metadata": {},
   "source": [
    "**Occupation Column**"
   ]
  },
  {
   "cell_type": "code",
   "execution_count": 21,
   "id": "6efcc321",
   "metadata": {},
   "outputs": [
    {
     "data": {
      "text/plain": [
       "Unemployed             60.61\n",
       "NaN                    29.11\n",
       "Working Professional    7.64\n",
       "Student                 2.27\n",
       "Other                   0.17\n",
       "Housewife               0.11\n",
       "Businessman             0.09\n",
       "Name: occupation, dtype: float64"
      ]
     },
     "execution_count": 21,
     "metadata": {},
     "output_type": "execute_result"
    }
   ],
   "source": [
    "df.occupation.value_counts(normalize=True,dropna=False)*100"
   ]
  },
  {
   "cell_type": "markdown",
   "id": "329418f5",
   "metadata": {},
   "source": [
    "**Observation :** For Occupation, we can combine the categories and then impute."
   ]
  },
  {
   "cell_type": "markdown",
   "id": "ee22239e",
   "metadata": {},
   "source": [
    "29% Missing Values show that the column **who don't have any jobs didn't specify their Occupation**<br/>\n",
    "So we can Impute it with Mode as it is categorical column."
   ]
  },
  {
   "cell_type": "code",
   "execution_count": 22,
   "id": "7f4b2bd0",
   "metadata": {},
   "outputs": [],
   "source": [
    "df['occupation'].replace(np.nan, 'Unemployed',inplace=True)"
   ]
  },
  {
   "cell_type": "code",
   "execution_count": 23,
   "id": "69dc389b",
   "metadata": {},
   "outputs": [
    {
     "data": {
      "text/plain": [
       "Unemployed             89.72\n",
       "Working Professional    7.64\n",
       "Student                 2.27\n",
       "Other                   0.17\n",
       "Housewife               0.11\n",
       "Businessman             0.09\n",
       "Name: occupation, dtype: float64"
      ]
     },
     "execution_count": 23,
     "metadata": {},
     "output_type": "execute_result"
    }
   ],
   "source": [
    "df.occupation.value_counts(normalize=True,dropna=False)*100"
   ]
  },
  {
   "cell_type": "code",
   "execution_count": 24,
   "id": "392b421b",
   "metadata": {},
   "outputs": [
    {
     "data": {
      "image/png": "[encoded data removed]",
      "text/plain": [
       "<Figure size 1080x360 with 1 Axes>"
      ]
     },
     "metadata": {
      "needs_background": "light"
     },
     "output_type": "display_data"
    }
   ],
   "source": [
    "# Visualizing the column after replacement\n",
    "\n",
    "plt.figure(figsize=(15,5))\n",
    "g1 = sns.countplot(df['occupation'], hue = df.converted)\n",
    "plt.xticks(rotation=90)\n",
    "plt.show()"
   ]
  },
  {
   "cell_type": "markdown",
   "id": "aab66f48",
   "metadata": {},
   "source": [
    "- Unemployed leads are the most in terms of absolute numbers\n",
    "- working professionals have a higher chance to get converted"
   ]
  },
  {
   "cell_type": "code",
   "execution_count": 25,
   "id": "19b6531c",
   "metadata": {},
   "outputs": [
    {
     "data": {
      "text/plain": [
       "Unemployed             89.72\n",
       "Working Professional    7.64\n",
       "Student                 2.27\n",
       "Other                   0.17\n",
       "Housewife               0.11\n",
       "Businessman             0.09\n",
       "Name: occupation, dtype: float64"
      ]
     },
     "execution_count": 25,
     "metadata": {},
     "output_type": "execute_result"
    }
   ],
   "source": [
    "df.occupation.value_counts(normalize=True,dropna=False)*100"
   ]
  },
  {
   "cell_type": "markdown",
   "id": "72164fcd",
   "metadata": {},
   "source": [
    "**Specialization column**"
   ]
  },
  {
   "cell_type": "code",
   "execution_count": 26,
   "id": "f7763e6d",
   "metadata": {},
   "outputs": [
    {
     "data": {
      "text/plain": [
       "NaN                                 36.58\n",
       "Finance Management                  10.56\n",
       "Human Resource Management            9.18\n",
       "Marketing Management                 9.07\n",
       "Operations Management                5.44\n",
       "Business Administration              4.36\n",
       "IT Projects Management               3.96\n",
       "Supply Chain Management              3.78\n",
       "Banking, Investment And Insurance    3.66\n",
       "Travel and Tourism                   2.20\n",
       "Media and Advertising                2.20\n",
       "International Business               1.93\n",
       "Healthcare Management                1.72\n",
       "Hospitality Management               1.23\n",
       "E-COMMERCE                           1.21\n",
       "Retail Management                    1.08\n",
       "Rural and Agribusiness               0.79\n",
       "E-Business                           0.62\n",
       "Services Excellence                  0.43\n",
       "Name: specialization, dtype: float64"
      ]
     },
     "execution_count": 26,
     "metadata": {},
     "output_type": "execute_result"
    }
   ],
   "source": [
    "df.specialization.value_counts(normalize = True, dropna = False) * 100"
   ]
  },
  {
   "cell_type": "markdown",
   "id": "040d7195",
   "metadata": {},
   "source": [
    "**Observation :** we can combine categories and impute them in propotion \n",
    "Handling missing values.\n",
    "- replacing the missing values in Specialization column with 'Not Specified' as lead may not have mentioned specialization because it was not in the list or maybe they are a students and don't have a specialization yet. \n",
    "- So we will replace NaN values here with 'Not Specified'"
   ]
  },
  {
   "cell_type": "code",
   "execution_count": 27,
   "id": "197743e3",
   "metadata": {},
   "outputs": [],
   "source": [
    "df['specialization'].replace(np.nan,'Not Specified',inplace=True)"
   ]
  },
  {
   "cell_type": "code",
   "execution_count": 28,
   "id": "79ad6bfd",
   "metadata": {},
   "outputs": [
    {
     "data": {
      "text/plain": [
       "Not Specified                       36.58\n",
       "Finance Management                  10.56\n",
       "Human Resource Management            9.18\n",
       "Marketing Management                 9.07\n",
       "Operations Management                5.44\n",
       "Business Administration              4.36\n",
       "IT Projects Management               3.96\n",
       "Supply Chain Management              3.78\n",
       "Banking, Investment And Insurance    3.66\n",
       "Travel and Tourism                   2.20\n",
       "Media and Advertising                2.20\n",
       "International Business               1.93\n",
       "Healthcare Management                1.72\n",
       "Hospitality Management               1.23\n",
       "E-COMMERCE                           1.21\n",
       "Retail Management                    1.08\n",
       "Rural and Agribusiness               0.79\n",
       "E-Business                           0.62\n",
       "Services Excellence                  0.43\n",
       "Name: specialization, dtype: float64"
      ]
     },
     "execution_count": 28,
     "metadata": {},
     "output_type": "execute_result"
    }
   ],
   "source": [
    "df.specialization.value_counts(normalize = True) * 100"
   ]
  },
  {
   "cell_type": "markdown",
   "id": "612e8763",
   "metadata": {},
   "source": [
    "**we can combine the management specialisations as they fall under the same category**"
   ]
  },
  {
   "cell_type": "code",
   "execution_count": 29,
   "id": "73e908e9",
   "metadata": {},
   "outputs": [],
   "source": [
    "df['specialization'].replace(['Finance Management','Human Resource Management','Marketing Management',\n",
    "                                 'Operations Management','IT Projects Management','Supply Chain Management',\n",
    "                                 'Healthcare Management','Hospitality Management','Retail Management'],\n",
    "                                 'Management', inplace = True)  "
   ]
  },
  {
   "cell_type": "code",
   "execution_count": 30,
   "id": "ac711dca",
   "metadata": {},
   "outputs": [
    {
     "data": {
      "text/plain": [
       "Management                          46.03\n",
       "Not Specified                       36.58\n",
       "Business Administration              4.36\n",
       "Banking, Investment And Insurance    3.66\n",
       "Media and Advertising                2.20\n",
       "Travel and Tourism                   2.20\n",
       "International Business               1.93\n",
       "E-COMMERCE                           1.21\n",
       "Rural and Agribusiness               0.79\n",
       "E-Business                           0.62\n",
       "Services Excellence                  0.43\n",
       "Name: specialization, dtype: float64"
      ]
     },
     "execution_count": 30,
     "metadata": {},
     "output_type": "execute_result"
    }
   ],
   "source": [
    "df.specialization.value_counts(normalize = True) * 100"
   ]
  },
  {
   "cell_type": "markdown",
   "id": "a4f4eb29",
   "metadata": {},
   "source": [
    "**City column**"
   ]
  },
  {
   "cell_type": "code",
   "execution_count": 31,
   "id": "4fe8e6da",
   "metadata": {},
   "outputs": [
    {
     "data": {
      "text/plain": [
       "NaN                           39.71\n",
       "Mumbai                        34.87\n",
       "Thane & Outskirts              8.14\n",
       "Other Cities                   7.42\n",
       "Other Cities of Maharashtra    4.95\n",
       "Other Metro Cities             4.11\n",
       "Tier II Cities                 0.80\n",
       "Name: city, dtype: float64"
      ]
     },
     "execution_count": 31,
     "metadata": {},
     "output_type": "execute_result"
    }
   ],
   "source": [
    "df.city.value_counts(normalize = True, dropna = False) * 100"
   ]
  },
  {
   "cell_type": "code",
   "execution_count": 32,
   "id": "ff1a77ac",
   "metadata": {},
   "outputs": [
    {
     "data": {
      "image/png": "[encoded data removed]",
      "text/plain": [
       "<Figure size 1080x360 with 1 Axes>"
      ]
     },
     "metadata": {
      "needs_background": "light"
     },
     "output_type": "display_data"
    }
   ],
   "source": [
    "# Visualizing the country column\n",
    "\n",
    "plt.figure(figsize=(15,5))\n",
    "s1 = sns.countplot(df.city, hue = df.converted)\n",
    "plt.xticks(rotation=90)\n",
    "plt.show()"
   ]
  },
  {
   "cell_type": "markdown",
   "id": "16d1df6f",
   "metadata": {},
   "source": [
    "**we can clearly see that Mumbai is the Mode of the Given Column** \n",
    "- Replacing the missing values with Mode. \n",
    "- As it is a categorical column we use mode"
   ]
  },
  {
   "cell_type": "code",
   "execution_count": 33,
   "id": "dda5d53f",
   "metadata": {},
   "outputs": [],
   "source": [
    "df['city'].replace(np.nan,df['city'].mode()[0],inplace=True)"
   ]
  },
  {
   "cell_type": "code",
   "execution_count": 34,
   "id": "cfd28f59",
   "metadata": {},
   "outputs": [
    {
     "data": {
      "text/plain": [
       "NaN                                                  3353\n",
       "Will revert after reading the email                  2072\n",
       "Ringing                                              1203\n",
       "Interested in other courses                           513\n",
       "Already a student                                     465\n",
       "Closed by Horizzon                                    358\n",
       "switched off                                          240\n",
       "Busy                                                  186\n",
       "Lost to EINS                                          175\n",
       "Not doing further education                           145\n",
       "Interested  in full time MBA                          117\n",
       "Graduation in progress                                111\n",
       "invalid number                                         83\n",
       "Diploma holder (Not Eligible)                          63\n",
       "wrong number given                                     47\n",
       "opp hangup                                             33\n",
       "number not provided                                    27\n",
       "in touch with EINS                                     12\n",
       "Lost to Others                                          7\n",
       "Still Thinking                                          6\n",
       "Want to take admission but has financial problems       6\n",
       "In confusion whether part time or DLP                   5\n",
       "Interested in Next batch                                5\n",
       "Lateral student                                         3\n",
       "Shall take in the next coming month                     2\n",
       "University not recognized                               2\n",
       "Recognition issue (DEC approval)                        1\n",
       "Name: tags, dtype: int64"
      ]
     },
     "execution_count": 34,
     "metadata": {},
     "output_type": "execute_result"
    }
   ],
   "source": [
    "df['tags'].value_counts(dropna=False)"
   ]
  },
  {
   "cell_type": "code",
   "execution_count": 35,
   "id": "87ada03b",
   "metadata": {},
   "outputs": [],
   "source": [
    "#replacing Nan values with \"Not Specified\"\n",
    "\n",
    "df['tags'] = df['tags'].replace(np.nan,'Not Specified')"
   ]
  },
  {
   "cell_type": "markdown",
   "id": "2dab4cbb",
   "metadata": {},
   "source": [
    "#### Handle categorical columns with less missing values and low representation of categories\n",
    "\n",
    "- Impute missing values.\n",
    "- Merge categories that have low representation."
   ]
  },
  {
   "cell_type": "code",
   "execution_count": 36,
   "id": "500dd926",
   "metadata": {},
   "outputs": [],
   "source": [
    "df['tags'] = df['tags'].replace(['In confusion whether part time or DLP', 'in touch with EINS','Diploma holder (Not Eligible)',\n",
    "                                     'Approached upfront','Graduation in progress','number not provided', 'opp hangup','Still Thinking',\n",
    "                                    'Lost to Others','Shall take in the next coming month','Lateral student','Interested in Next batch',\n",
    "                                    'Recognition issue (DEC approval)','Want to take admission but has financial problems',\n",
    "                                    'University not recognized','switched off',\n",
    "                                      'Already a student',\n",
    "                                       'Not doing further education',\n",
    "                                       'invalid number',\n",
    "                                       'wrong number given',\n",
    "                                       'Interested  in full time MBA'], 'Other_Tags')"
   ]
  },
  {
   "cell_type": "code",
   "execution_count": 37,
   "id": "72155897",
   "metadata": {},
   "outputs": [
    {
     "data": {
      "text/plain": [
       "lead_number                    0.00\n",
       "lead_origin                    0.00\n",
       "lead_source                    0.39\n",
       "do_not_email                   0.00\n",
       "do_not_call                    0.00\n",
       "converted                      0.00\n",
       "total_visits                   1.48\n",
       "time_on_website                0.00\n",
       "page_views_per_visit           1.48\n",
       "specialization                 0.00\n",
       "occupation                     0.00\n",
       "search                         0.00\n",
       "magazine                       0.00\n",
       "newspaper_article              0.00\n",
       "x_education_forums             0.00\n",
       "newspaper                      0.00\n",
       "digital_advertisement          0.00\n",
       "through_recommendations        0.00\n",
       "courses_updates                0.00\n",
       "tags                           0.00\n",
       "supply_chain_content_updates   0.00\n",
       "dm_content_updates             0.00\n",
       "city                           0.00\n",
       "cheque_payment                 0.00\n",
       "mastering_interview            0.00\n",
       "dtype: float64"
      ]
     },
     "execution_count": 37,
     "metadata": {},
     "output_type": "execute_result"
    }
   ],
   "source": [
    "df.isnull().sum()/len(df)*100"
   ]
  },
  {
   "cell_type": "code",
   "execution_count": 38,
   "id": "c75f5e21",
   "metadata": {},
   "outputs": [
    {
     "data": {
      "text/plain": [
       "lead_origin                      5\n",
       "lead_source                     21\n",
       "do_not_email                     2\n",
       "do_not_call                      2\n",
       "specialization                  11\n",
       "occupation                       6\n",
       "search                           2\n",
       "magazine                         1\n",
       "newspaper_article                2\n",
       "x_education_forums               2\n",
       "newspaper                        2\n",
       "digital_advertisement            2\n",
       "through_recommendations          2\n",
       "courses_updates                  1\n",
       "tags                             8\n",
       "supply_chain_content_updates     1\n",
       "dm_content_updates               1\n",
       "city                             6\n",
       "cheque_payment                   1\n",
       "mastering_interview              2\n",
       "dtype: int64"
      ]
     },
     "execution_count": 38,
     "metadata": {},
     "output_type": "execute_result"
    }
   ],
   "source": [
    "# determine all unique values for object datatype columns.\n",
    "df.select_dtypes(include='object').nunique()"
   ]
  },
  {
   "cell_type": "markdown",
   "id": "d6ee1b56",
   "metadata": {},
   "source": [
    "**Observation :** As we can see that number of unique value is greater than 3 in two columns.\n",
    "- lead_source\n",
    "- lead_origin"
   ]
  },
  {
   "cell_type": "markdown",
   "id": "18e2376e",
   "metadata": {},
   "source": [
    "**Column lead_source**"
   ]
  },
  {
   "cell_type": "code",
   "execution_count": 39,
   "id": "ff30d1ae",
   "metadata": {},
   "outputs": [
    {
     "data": {
      "text/plain": [
       "Google              31.04\n",
       "Direct Traffic      27.52\n",
       "Olark Chat          18.99\n",
       "Organic Search      12.49\n",
       "Reference            5.78\n",
       "Welingak Website     1.54\n",
       "Referral Sites       1.35\n",
       "Facebook             0.60\n",
       "NaN                  0.39\n",
       "bing                 0.06\n",
       "google               0.05\n",
       "Click2call           0.04\n",
       "Press_Release        0.02\n",
       "Social Media         0.02\n",
       "Live Chat            0.02\n",
       "youtubechannel       0.01\n",
       "testone              0.01\n",
       "Pay per Click Ads    0.01\n",
       "welearnblog_Home     0.01\n",
       "WeLearn              0.01\n",
       "blog                 0.01\n",
       "NC_EDM               0.01\n",
       "Name: lead_source, dtype: float64"
      ]
     },
     "execution_count": 39,
     "metadata": {},
     "output_type": "execute_result"
    }
   ],
   "source": [
    "df.lead_source.value_counts(normalize=True,dropna=False)*100"
   ]
  },
  {
   "cell_type": "code",
   "execution_count": 40,
   "id": "ec86ce2f",
   "metadata": {},
   "outputs": [
    {
     "data": {
      "text/plain": [
       "'Google'"
      ]
     },
     "execution_count": 40,
     "metadata": {},
     "output_type": "execute_result"
    }
   ],
   "source": [
    "df.lead_source.mode()[0]"
   ]
  },
  {
   "cell_type": "code",
   "execution_count": 41,
   "id": "a62c2463",
   "metadata": {},
   "outputs": [],
   "source": [
    "# we can impute missing values with mode of data. i.e Google.\n",
    "df.lead_source.fillna('Google',inplace=True)"
   ]
  },
  {
   "cell_type": "code",
   "execution_count": 42,
   "id": "e24bf3b9",
   "metadata": {},
   "outputs": [],
   "source": [
    "df['lead_source'] = df['lead_source'].replace('google','Google')\n",
    "df['lead_source'] = df['lead_source'].replace('Facebook','Social Media')"
   ]
  },
  {
   "cell_type": "code",
   "execution_count": 43,
   "id": "a24f0767",
   "metadata": {},
   "outputs": [],
   "source": [
    "# There are alot of smaller values which will not be used. so we are safe to group them all.\n",
    "df['lead_source'] = df['lead_source'].apply(lambda x: x if \n",
    "                                            ((x== 'Google') | (x=='Direct Traffic') | (x=='Olark Chat') | \n",
    "                                             (x=='Organic Search') | (x=='Reference')) \n",
    "                                            else 'Other Social Sites')"
   ]
  },
  {
   "cell_type": "code",
   "execution_count": 44,
   "id": "386c64a5",
   "metadata": {},
   "outputs": [
    {
     "data": {
      "text/plain": [
       "Google               31.48\n",
       "Direct Traffic       27.52\n",
       "Olark Chat           18.99\n",
       "Organic Search       12.49\n",
       "Reference             5.78\n",
       "Other Social Sites    3.73\n",
       "Name: lead_source, dtype: float64"
      ]
     },
     "execution_count": 44,
     "metadata": {},
     "output_type": "execute_result"
    }
   ],
   "source": [
    "df.lead_source.value_counts(normalize=True,dropna=False)*100"
   ]
  },
  {
   "cell_type": "code",
   "execution_count": 45,
   "id": "1b7e16ee",
   "metadata": {},
   "outputs": [
    {
     "data": {
      "image/png": "[encoded data removed]",
      "text/plain": [
       "<Figure size 1080x360 with 1 Axes>"
      ]
     },
     "metadata": {
      "needs_background": "light"
     },
     "output_type": "display_data"
    }
   ],
   "source": [
    "# Visualizing the column after replacement\n",
    "plt.figure(figsize=(15,5))\n",
    "s1 = sns.countplot(df['lead_source'], hue = df.converted)\n",
    "plt.xticks(rotation=90)\n",
    "plt.show()"
   ]
  },
  {
   "cell_type": "markdown",
   "id": "c67673bb",
   "metadata": {},
   "source": [
    "**Observation**\n",
    "- Max Number of leads are generated by 'Google' and 'Direct Traffic'\n",
    "- Conversion rate for referals are higher!\n",
    "- we have to focus on 'Olark Chat' and other columns to convert to leads\n",
    "- other social sites do have a higher conversion rate.\n",
    "- maybe google is lower due to the fact that they first googled the course but got thru by some other means (googling for information)"
   ]
  },
  {
   "cell_type": "markdown",
   "id": "c6af1e3a",
   "metadata": {},
   "source": [
    "**column lead_origin**"
   ]
  },
  {
   "cell_type": "code",
   "execution_count": 46,
   "id": "c452afb9",
   "metadata": {},
   "outputs": [
    {
     "data": {
      "text/plain": [
       "Landing Page Submission   52.88\n",
       "API                       38.74\n",
       "Lead Add Form              7.77\n",
       "Lead Import                0.60\n",
       "Quick Add Form             0.01\n",
       "Name: lead_origin, dtype: float64"
      ]
     },
     "execution_count": 46,
     "metadata": {},
     "output_type": "execute_result"
    }
   ],
   "source": [
    "df.lead_origin.value_counts(normalize = True, dropna = False) * 100"
   ]
  },
  {
   "cell_type": "code",
   "execution_count": 47,
   "id": "44ef8876",
   "metadata": {},
   "outputs": [
    {
     "data": {
      "image/png": "[encoded data removed]",
      "text/plain": [
       "<Figure size 1080x360 with 1 Axes>"
      ]
     },
     "metadata": {
      "needs_background": "light"
     },
     "output_type": "display_data"
    }
   ],
   "source": [
    "# Visualizing the Lead Origin column\n",
    "\n",
    "plt.figure(figsize=(15,5))\n",
    "s1 = sns.countplot(df['lead_origin'], hue = df.converted)\n",
    "plt.xticks(rotation=90)\n",
    "plt.show()"
   ]
  },
  {
   "cell_type": "markdown",
   "id": "28561629",
   "metadata": {},
   "source": [
    "**Observations**\n",
    "- API brings alot of people but less conversions\n",
    "- Landing page Submission are higher in number and more than 50 % conversions\n",
    "- very few leads from lead import and quick add form\n",
    "- Lead Add Form has higherconversion rate.\n",
    "- In order to improve overall lead conversion rate, we have to improve lead conversion of API and landing page submission.\n"
   ]
  },
  {
   "cell_type": "markdown",
   "id": "230c2cf7",
   "metadata": {},
   "source": [
    "#### Handle Bindary Columns\n",
    "\n",
    "- Drop those Columns that have data imbalance\n",
    "- Drop those Columns that have only 1 unique entry"
   ]
  },
  {
   "cell_type": "code",
   "execution_count": 48,
   "id": "da8a5257",
   "metadata": {},
   "outputs": [
    {
     "data": {
      "text/plain": [
       "lead_origin                      5\n",
       "lead_source                      6\n",
       "do_not_email                     2\n",
       "do_not_call                      2\n",
       "specialization                  11\n",
       "occupation                       6\n",
       "search                           2\n",
       "magazine                         1\n",
       "newspaper_article                2\n",
       "x_education_forums               2\n",
       "newspaper                        2\n",
       "digital_advertisement            2\n",
       "through_recommendations          2\n",
       "courses_updates                  1\n",
       "tags                             8\n",
       "supply_chain_content_updates     1\n",
       "dm_content_updates               1\n",
       "city                             6\n",
       "cheque_payment                   1\n",
       "mastering_interview              2\n",
       "dtype: int64"
      ]
     },
     "execution_count": 48,
     "metadata": {},
     "output_type": "execute_result"
    }
   ],
   "source": [
    "df.select_dtypes(include='object').nunique()"
   ]
  },
  {
   "cell_type": "markdown",
   "id": "16469796",
   "metadata": {},
   "source": [
    "**Observation** \n",
    "- The columns can be droped cause they have only one Unique value.\n",
    "    - cheque_payment\n",
    "    - courses_updates\n",
    "    - supply_chain_content_updates\n",
    "    - dm_content_updates\n",
    "    - magazine"
   ]
  },
  {
   "cell_type": "code",
   "execution_count": 49,
   "id": "91c77111",
   "metadata": {},
   "outputs": [],
   "source": [
    "df.drop(['cheque_payment','courses_updates','supply_chain_content_updates','dm_content_updates','cheque_payment','magazine'],axis=1,inplace=True)"
   ]
  },
  {
   "cell_type": "markdown",
   "id": "769c6057",
   "metadata": {},
   "source": [
    "**Lets check for data imbalance for the rest of the columns**"
   ]
  },
  {
   "cell_type": "code",
   "execution_count": 50,
   "id": "1f563658",
   "metadata": {},
   "outputs": [
    {
     "name": "stdout",
     "output_type": "stream",
     "text": [
      "No    92.06\n",
      "Yes    7.94\n",
      "Name: do_not_email, dtype: float64\n",
      "No    99.98\n",
      "Yes    0.02\n",
      "Name: do_not_call, dtype: float64\n",
      "No    99.85\n",
      "Yes    0.15\n",
      "Name: search, dtype: float64\n",
      "No    99.98\n",
      "Yes    0.02\n",
      "Name: newspaper_article, dtype: float64\n",
      "No    99.99\n",
      "Yes    0.01\n",
      "Name: x_education_forums, dtype: float64\n",
      "No    99.99\n",
      "Yes    0.01\n",
      "Name: newspaper, dtype: float64\n",
      "No    99.96\n",
      "Yes    0.04\n",
      "Name: digital_advertisement, dtype: float64\n",
      "No    99.92\n",
      "Yes    0.08\n",
      "Name: through_recommendations, dtype: float64\n",
      "No    68.74\n",
      "Yes   31.26\n",
      "Name: mastering_interview, dtype: float64\n"
     ]
    }
   ],
   "source": [
    "# select rest of columns with 2 unique values\n",
    "col=['do_not_email', 'do_not_call', 'search', 'newspaper_article', 'x_education_forums', \n",
    "           'newspaper', 'digital_advertisement', 'through_recommendations', 'mastering_interview']\n",
    "\n",
    "df_binary=df[col]\n",
    "\n",
    "for _ in df_binary.columns:\n",
    "    print(df_binary[_].value_counts(normalize=True)*100)"
   ]
  },
  {
   "cell_type": "markdown",
   "id": "6d051027",
   "metadata": {},
   "source": [
    "**Observation**\n",
    "\n",
    "- The following columns can be droped as well. why, cause they have a heavy imbalance.\n",
    "    - through_recommendations\n",
    "    - newspaper\n",
    "    - x_education_forums\n",
    "    - digital_advertisement\n",
    "    - do_not_call\n",
    "    - search\n",
    "    - newspaper_article"
   ]
  },
  {
   "cell_type": "code",
   "execution_count": 51,
   "id": "ba7ea0bb",
   "metadata": {},
   "outputs": [],
   "source": [
    "df.drop(['do_not_call', 'search', 'newspaper_article', 'x_education_forums', \n",
    "           'newspaper', 'digital_advertisement', 'through_recommendations','mastering_interview'],axis=1,inplace=True)"
   ]
  },
  {
   "cell_type": "markdown",
   "id": "517e0100",
   "metadata": {},
   "source": [
    "#### Handle Numerical columns\n",
    "\n",
    "##### Column lead_number\n",
    "- lead_number is a unique identifier for each lead.<br/>\n",
    "- Aggretations won't be of any help. so change it to Object."
   ]
  },
  {
   "cell_type": "code",
   "execution_count": 52,
   "id": "595e2446",
   "metadata": {},
   "outputs": [],
   "source": [
    "df.lead_number=df.lead_number.astype('object')"
   ]
  },
  {
   "cell_type": "markdown",
   "id": "638a005e",
   "metadata": {},
   "source": [
    "##### Checking for Outliers.\n",
    "- In Numerical Columns. \n",
    "    - total_visits\n",
    "    - time_on_website\n",
    "    - page_views_per_visit\n",
    "- Make a box plot to check Outliers.\n",
    "- we make box plot to check if we have to impute mean or median."
   ]
  },
  {
   "cell_type": "code",
   "execution_count": 53,
   "id": "f44f1b8d",
   "metadata": {},
   "outputs": [],
   "source": [
    "# STYLESSSSSSS\n",
    "plt.style.use('bmh')"
   ]
  },
  {
   "cell_type": "code",
   "execution_count": 54,
   "id": "ac8fb3e7",
   "metadata": {},
   "outputs": [
    {
     "data": {
      "image/png": "[encoded data removed]",
      "text/plain": [
       "<Figure size 720x720 with 3 Axes>"
      ]
     },
     "metadata": {
      "needs_background": "light"
     },
     "output_type": "display_data"
    }
   ],
   "source": [
    "req_columns=['total_visits','time_on_website','page_views_per_visit']\n",
    "\n",
    "plt.figure(figsize=(10,10))\n",
    "for _ in enumerate(req_columns):\n",
    "    plt.subplot(len(req_columns),1,_[0]+1)\n",
    "    sns.boxplot(df[_[1]].dropna(),orient='h')"
   ]
  },
  {
   "cell_type": "markdown",
   "id": "7b244400",
   "metadata": {},
   "source": [
    "**Presence of Outliers in _total_visits_ and _page_views_per_visit_ so we can impute Median Safely**\n",
    "\n",
    "1. So Handling Missing Data by imputing median\n",
    "2. A general observation is that column _total_visits_ is a float. Since Total Visits cant be a float.\n"
   ]
  },
  {
   "cell_type": "code",
   "execution_count": 55,
   "id": "08b51340",
   "metadata": {},
   "outputs": [],
   "source": [
    "df.total_visits.fillna(df.total_visits.median(),inplace=True)\n",
    "df.total_visits = df.total_visits.astype('int')"
   ]
  },
  {
   "cell_type": "code",
   "execution_count": 56,
   "id": "ff5eff0b",
   "metadata": {},
   "outputs": [],
   "source": [
    "df.page_views_per_visit.fillna(df.page_views_per_visit.median(),inplace=True)"
   ]
  },
  {
   "cell_type": "markdown",
   "id": "0d9e61f9",
   "metadata": {},
   "source": [
    "we can drop do not email column as it has not much significance.\n"
   ]
  },
  {
   "cell_type": "code",
   "execution_count": 57,
   "id": "6261e57a",
   "metadata": {},
   "outputs": [],
   "source": [
    "df.drop('do_not_email',axis=1,inplace=True)"
   ]
  },
  {
   "cell_type": "markdown",
   "id": "43b8bc80",
   "metadata": {},
   "source": [
    "##### Data Cleaning Results."
   ]
  },
  {
   "cell_type": "code",
   "execution_count": 58,
   "id": "1d45b9d5",
   "metadata": {},
   "outputs": [
    {
     "name": "stdout",
     "output_type": "stream",
     "text": [
      "<class 'pandas.core.frame.DataFrame'>\n",
      "RangeIndex: 9240 entries, 0 to 9239\n",
      "Data columns (total 11 columns):\n",
      " #   Column                Non-Null Count  Dtype  \n",
      "---  ------                --------------  -----  \n",
      " 0   lead_number           9240 non-null   object \n",
      " 1   lead_origin           9240 non-null   object \n",
      " 2   lead_source           9240 non-null   object \n",
      " 3   converted             9240 non-null   int64  \n",
      " 4   total_visits          9240 non-null   int32  \n",
      " 5   time_on_website       9240 non-null   int64  \n",
      " 6   page_views_per_visit  9240 non-null   float64\n",
      " 7   specialization        9240 non-null   object \n",
      " 8   occupation            9240 non-null   object \n",
      " 9   tags                  9240 non-null   object \n",
      " 10  city                  9240 non-null   object \n",
      "dtypes: float64(1), int32(1), int64(2), object(7)\n",
      "memory usage: 758.1+ KB\n"
     ]
    }
   ],
   "source": [
    "df.info()"
   ]
  },
  {
   "cell_type": "markdown",
   "id": "dfefc28d",
   "metadata": {},
   "source": [
    "### EDA (Exploratory Data Analysis)"
   ]
  },
  {
   "cell_type": "markdown",
   "id": "2f512fe3",
   "metadata": {},
   "source": [
    "#### Numerical Columns"
   ]
  },
  {
   "cell_type": "code",
   "execution_count": 59,
   "id": "5615a855",
   "metadata": {},
   "outputs": [],
   "source": [
    "# Plot Stylesssssssssssss\n",
    "plt.style.use('ggplot')"
   ]
  },
  {
   "cell_type": "code",
   "execution_count": 60,
   "id": "941f4e4c",
   "metadata": {},
   "outputs": [
    {
     "data": {
      "image/png": "[encoded data removed]",
      "text/plain": [
       "<Figure size 1440x1440 with 3 Axes>"
      ]
     },
     "metadata": {},
     "output_type": "display_data"
    }
   ],
   "source": [
    "titles=['Total website visits','Total time spent on websites','Average number of page views per visit']\n",
    "plt.figure(figsize=(20,20))\n",
    "for _ in enumerate(req_columns):\n",
    "    plt.subplot(len(req_columns),1,_[0]+1)\n",
    "    plt.hist(df[_[1]].dropna(),bins=40)\n",
    "    x=_[0]\n",
    "    plt.title(titles[x])\n",
    "    plt.show"
   ]
  },
  {
   "cell_type": "markdown",
   "id": "617cb849",
   "metadata": {},
   "source": [
    "**Observations :** \n",
    "- High peaks and Right Skewered Data.\n",
    "- Possibility of Outliers.\n",
    "- Have Checked them."
   ]
  },
  {
   "cell_type": "markdown",
   "id": "6b062c41",
   "metadata": {},
   "source": [
    "#### Heatmap"
   ]
  },
  {
   "cell_type": "code",
   "execution_count": 61,
   "id": "163b617e",
   "metadata": {},
   "outputs": [
    {
     "data": {
      "text/plain": [
       "<AxesSubplot:>"
      ]
     },
     "execution_count": 61,
     "metadata": {},
     "output_type": "execute_result"
    },
    {
     "data": {
      "image/png": "[encoded data removed]",
      "text/plain": [
       "<Figure size 1080x936 with 2 Axes>"
      ]
     },
     "metadata": {},
     "output_type": "display_data"
    }
   ],
   "source": [
    "plt.figure(figsize=(15,13))\n",
    "sns.heatmap(df[req_columns].corr(),cmap='BuPu',annot=True)"
   ]
  },
  {
   "cell_type": "markdown",
   "id": "97e5630e",
   "metadata": {},
   "source": [
    "##### No corelation in this columns so we don't need to drop them (positive Corelation)"
   ]
  },
  {
   "cell_type": "markdown",
   "id": "551790e4",
   "metadata": {},
   "source": [
    "### Categorical Columns"
   ]
  },
  {
   "cell_type": "markdown",
   "id": "c6746a56",
   "metadata": {},
   "source": [
    "#### Lead Origin"
   ]
  },
  {
   "cell_type": "code",
   "execution_count": 62,
   "id": "c31aed08",
   "metadata": {},
   "outputs": [
    {
     "data": {
      "image/png": "[encoded data removed]",
      "text/plain": [
       "<Figure size 864x432 with 1 Axes>"
      ]
     },
     "metadata": {},
     "output_type": "display_data"
    }
   ],
   "source": [
    "plt.style.use('dark_background')\n",
    "plt.figure(figsize=(12,6))\n",
    "x=df.groupby('lead_origin')\n",
    "x['lead_number'].count().sort_values().plot(kind='barh',edgecolor='b',color=['#7f7f7f', '#bcbd22', '#17becf'])\n",
    "plt.show()"
   ]
  },
  {
   "cell_type": "markdown",
   "id": "47ab6ec8",
   "metadata": {},
   "source": [
    "#### Lead Source"
   ]
  },
  {
   "cell_type": "code",
   "execution_count": 63,
   "id": "a9d17da0",
   "metadata": {},
   "outputs": [
    {
     "data": {
      "image/png": "[encoded data removed]",
      "text/plain": [
       "<Figure size 864x432 with 1 Axes>"
      ]
     },
     "metadata": {},
     "output_type": "display_data"
    }
   ],
   "source": [
    "plt.style.use('dark_background')\n",
    "plt.figure(figsize=(12,6))\n",
    "x=df.groupby('lead_source')\n",
    "x['lead_number'].count().sort_values().plot(kind='bar',edgecolor='b',color=['#1f77b4', '#ff7f0e', '#2ca02c', '#d62728', '#9467bd','#8c564b'])\n",
    "plt.show()"
   ]
  },
  {
   "cell_type": "markdown",
   "id": "c074148c",
   "metadata": {},
   "source": [
    "Most people come from 'Google'."
   ]
  },
  {
   "cell_type": "markdown",
   "id": "1141248e",
   "metadata": {},
   "source": [
    "#### Specialization"
   ]
  },
  {
   "cell_type": "code",
   "execution_count": 64,
   "id": "4100d968",
   "metadata": {},
   "outputs": [
    {
     "data": {
      "image/png": "[encoded data removed]",
      "text/plain": [
       "<Figure size 864x432 with 1 Axes>"
      ]
     },
     "metadata": {},
     "output_type": "display_data"
    }
   ],
   "source": [
    "plt.style.use('dark_background')\n",
    "plt.figure(figsize=(12,6))\n",
    "x=df.groupby('specialization')\n",
    "x['lead_number'].count().sort_values(ascending= False).plot(kind='bar',edgecolor='b')\n",
    "plt.show()"
   ]
  },
  {
   "cell_type": "markdown",
   "id": "b26d2781",
   "metadata": {},
   "source": [
    "Most of the Specialization is coming from Management Professionals"
   ]
  },
  {
   "cell_type": "markdown",
   "id": "358b3c67",
   "metadata": {},
   "source": [
    "#### Occupation"
   ]
  },
  {
   "cell_type": "code",
   "execution_count": 65,
   "id": "8dda417c",
   "metadata": {},
   "outputs": [
    {
     "data": {
      "image/png": "[encoded data removed]",
      "text/plain": [
       "<Figure size 864x432 with 1 Axes>"
      ]
     },
     "metadata": {},
     "output_type": "display_data"
    }
   ],
   "source": [
    "plt.figure(figsize=(12,6))\n",
    "x=df.groupby('occupation')\n",
    "x['lead_number'].count().sort_values(ascending= False).plot(kind='bar',edgecolor='b')\n",
    "plt.show()"
   ]
  },
  {
   "cell_type": "markdown",
   "id": "217015e5",
   "metadata": {},
   "source": [
    "Unemployed users are more significant to be a lead."
   ]
  },
  {
   "cell_type": "markdown",
   "id": "98e1b3cc",
   "metadata": {},
   "source": [
    "#### City"
   ]
  },
  {
   "cell_type": "code",
   "execution_count": 66,
   "id": "7e4d17ab",
   "metadata": {},
   "outputs": [
    {
     "data": {
      "image/png": "[encoded data removed]",
      "text/plain": [
       "<Figure size 864x432 with 1 Axes>"
      ]
     },
     "metadata": {},
     "output_type": "display_data"
    }
   ],
   "source": [
    "plt.figure(figsize=(12,6))\n",
    "x=df.groupby('city')\n",
    "x['lead_number'].count().sort_values(ascending= False).plot(kind='barh',edgecolor='b')\n",
    "plt.show()"
   ]
  },
  {
   "cell_type": "markdown",
   "id": "21a3c11e",
   "metadata": {},
   "source": [
    "Mumbai and Maharashtra in general dominates the markets.<br/>\n",
    "This is likely to the fact that courses are based in Mumbai??"
   ]
  },
  {
   "cell_type": "markdown",
   "id": "ac1986c5",
   "metadata": {},
   "source": [
    "### Data Prepration"
   ]
  },
  {
   "cell_type": "code",
   "execution_count": 67,
   "id": "741bba4a",
   "metadata": {},
   "outputs": [
    {
     "data": {
      "text/plain": [
       "lead_number       9240\n",
       "lead_origin          5\n",
       "lead_source          6\n",
       "specialization      11\n",
       "occupation           6\n",
       "tags                 8\n",
       "city                 6\n",
       "dtype: int64"
      ]
     },
     "execution_count": 67,
     "metadata": {},
     "output_type": "execute_result"
    }
   ],
   "source": [
    "df.select_dtypes(include='object').nunique()"
   ]
  },
  {
   "cell_type": "markdown",
   "id": "7f4b473d",
   "metadata": {},
   "source": [
    "#### Converting Binary Columns"
   ]
  },
  {
   "cell_type": "code",
   "execution_count": 68,
   "id": "cb375774",
   "metadata": {},
   "outputs": [
    {
     "ename": "KeyError",
     "evalue": "'do_not_email'",
     "output_type": "error",
     "traceback": [
      "\u001b[1;31m---------------------------------------------------------------------------\u001b[0m",
      "\u001b[1;31mKeyError\u001b[0m                                  Traceback (most recent call last)",
      "File \u001b[1;32m~\\anaconda3\\lib\\site-packages\\pandas\\core\\indexes\\base.py:3621\u001b[0m, in \u001b[0;36mIndex.get_loc\u001b[1;34m(self, key, method, tolerance)\u001b[0m\n\u001b[0;32m   3620\u001b[0m \u001b[38;5;28;01mtry\u001b[39;00m:\n\u001b[1;32m-> 3621\u001b[0m     \u001b[38;5;28;01mreturn\u001b[39;00m \u001b[38;5;28;43mself\u001b[39;49m\u001b[38;5;241;43m.\u001b[39;49m\u001b[43m_engine\u001b[49m\u001b[38;5;241;43m.\u001b[39;49m\u001b[43mget_loc\u001b[49m\u001b[43m(\u001b[49m\u001b[43mcasted_key\u001b[49m\u001b[43m)\u001b[49m\n\u001b[0;32m   3622\u001b[0m \u001b[38;5;28;01mexcept\u001b[39;00m \u001b[38;5;167;01mKeyError\u001b[39;00m \u001b[38;5;28;01mas\u001b[39;00m err:\n",
      "File \u001b[1;32m~\\anaconda3\\lib\\site-packages\\pandas\\_libs\\index.pyx:136\u001b[0m, in \u001b[0;36mpandas._libs.index.IndexEngine.get_loc\u001b[1;34m()\u001b[0m\n",
      "File \u001b[1;32m~\\anaconda3\\lib\\site-packages\\pandas\\_libs\\index.pyx:163\u001b[0m, in \u001b[0;36mpandas._libs.index.IndexEngine.get_loc\u001b[1;34m()\u001b[0m\n",
      "File \u001b[1;32mpandas\\_libs\\hashtable_class_helper.pxi:5198\u001b[0m, in \u001b[0;36mpandas._libs.hashtable.PyObjectHashTable.get_item\u001b[1;34m()\u001b[0m\n",
      "File \u001b[1;32mpandas\\_libs\\hashtable_class_helper.pxi:5206\u001b[0m, in \u001b[0;36mpandas._libs.hashtable.PyObjectHashTable.get_item\u001b[1;34m()\u001b[0m\n",
      "\u001b[1;31mKeyError\u001b[0m: 'do_not_email'",
      "\nThe above exception was the direct cause of the following exception:\n",
      "\u001b[1;31mKeyError\u001b[0m                                  Traceback (most recent call last)",
      "Input \u001b[1;32mIn [68]\u001b[0m, in \u001b[0;36m<cell line: 5>\u001b[1;34m()\u001b[0m\n\u001b[0;32m      2\u001b[0m \u001b[38;5;28;01mfrom\u001b[39;00m \u001b[38;5;21;01msklearn\u001b[39;00m\u001b[38;5;21;01m.\u001b[39;00m\u001b[38;5;21;01mpreprocessing\u001b[39;00m \u001b[38;5;28;01mimport\u001b[39;00m LabelEncoder\n\u001b[0;32m      4\u001b[0m label\u001b[38;5;241m=\u001b[39m LabelEncoder() \n\u001b[1;32m----> 5\u001b[0m df[\u001b[38;5;124m'\u001b[39m\u001b[38;5;124mdo_not_email\u001b[39m\u001b[38;5;124m'\u001b[39m] \u001b[38;5;241m=\u001b[39m label\u001b[38;5;241m.\u001b[39mfit_transform(\u001b[43mdf\u001b[49m\u001b[43m[\u001b[49m\u001b[38;5;124;43m'\u001b[39;49m\u001b[38;5;124;43mdo_not_email\u001b[39;49m\u001b[38;5;124;43m'\u001b[39;49m\u001b[43m]\u001b[49m)\n\u001b[0;32m      6\u001b[0m df[\u001b[38;5;124m'\u001b[39m\u001b[38;5;124mmastering_interview\u001b[39m\u001b[38;5;124m'\u001b[39m]\u001b[38;5;241m=\u001b[39mlabel\u001b[38;5;241m.\u001b[39mfit_transform(df[\u001b[38;5;124m'\u001b[39m\u001b[38;5;124mmastering_interview\u001b[39m\u001b[38;5;124m'\u001b[39m])\n\u001b[0;32m      8\u001b[0m \u001b[38;5;66;03m#checking\u001b[39;00m\n",
      "File \u001b[1;32m~\\anaconda3\\lib\\site-packages\\pandas\\core\\frame.py:3505\u001b[0m, in \u001b[0;36mDataFrame.__getitem__\u001b[1;34m(self, key)\u001b[0m\n\u001b[0;32m   3503\u001b[0m \u001b[38;5;28;01mif\u001b[39;00m \u001b[38;5;28mself\u001b[39m\u001b[38;5;241m.\u001b[39mcolumns\u001b[38;5;241m.\u001b[39mnlevels \u001b[38;5;241m>\u001b[39m \u001b[38;5;241m1\u001b[39m:\n\u001b[0;32m   3504\u001b[0m     \u001b[38;5;28;01mreturn\u001b[39;00m \u001b[38;5;28mself\u001b[39m\u001b[38;5;241m.\u001b[39m_getitem_multilevel(key)\n\u001b[1;32m-> 3505\u001b[0m indexer \u001b[38;5;241m=\u001b[39m \u001b[38;5;28;43mself\u001b[39;49m\u001b[38;5;241;43m.\u001b[39;49m\u001b[43mcolumns\u001b[49m\u001b[38;5;241;43m.\u001b[39;49m\u001b[43mget_loc\u001b[49m\u001b[43m(\u001b[49m\u001b[43mkey\u001b[49m\u001b[43m)\u001b[49m\n\u001b[0;32m   3506\u001b[0m \u001b[38;5;28;01mif\u001b[39;00m is_integer(indexer):\n\u001b[0;32m   3507\u001b[0m     indexer \u001b[38;5;241m=\u001b[39m [indexer]\n",
      "File \u001b[1;32m~\\anaconda3\\lib\\site-packages\\pandas\\core\\indexes\\base.py:3623\u001b[0m, in \u001b[0;36mIndex.get_loc\u001b[1;34m(self, key, method, tolerance)\u001b[0m\n\u001b[0;32m   3621\u001b[0m     \u001b[38;5;28;01mreturn\u001b[39;00m \u001b[38;5;28mself\u001b[39m\u001b[38;5;241m.\u001b[39m_engine\u001b[38;5;241m.\u001b[39mget_loc(casted_key)\n\u001b[0;32m   3622\u001b[0m \u001b[38;5;28;01mexcept\u001b[39;00m \u001b[38;5;167;01mKeyError\u001b[39;00m \u001b[38;5;28;01mas\u001b[39;00m err:\n\u001b[1;32m-> 3623\u001b[0m     \u001b[38;5;28;01mraise\u001b[39;00m \u001b[38;5;167;01mKeyError\u001b[39;00m(key) \u001b[38;5;28;01mfrom\u001b[39;00m \u001b[38;5;21;01merr\u001b[39;00m\n\u001b[0;32m   3624\u001b[0m \u001b[38;5;28;01mexcept\u001b[39;00m \u001b[38;5;167;01mTypeError\u001b[39;00m:\n\u001b[0;32m   3625\u001b[0m     \u001b[38;5;66;03m# If we have a listlike key, _check_indexing_error will raise\u001b[39;00m\n\u001b[0;32m   3626\u001b[0m     \u001b[38;5;66;03m#  InvalidIndexError. Otherwise we fall through and re-raise\u001b[39;00m\n\u001b[0;32m   3627\u001b[0m     \u001b[38;5;66;03m#  the TypeError.\u001b[39;00m\n\u001b[0;32m   3628\u001b[0m     \u001b[38;5;28mself\u001b[39m\u001b[38;5;241m.\u001b[39m_check_indexing_error(key)\n",
      "\u001b[1;31mKeyError\u001b[0m: 'do_not_email'"
     ]
    }
   ],
   "source": [
    "#converting yes / no in do_not_email\n",
    "# from sklearn.preprocessing import LabelEncoder\n",
    "\n",
    "# label= LabelEncoder() \n",
    "# df['do_not_email'] = label.fit_transform(df['do_not_email'])\n",
    "# df['mastering_interview']=label.fit_transform(df['mastering_interview'])\n",
    "\n",
    "# #checking\n",
    "# df.head()"
   ]
  },
  {
   "cell_type": "markdown",
   "id": "d96cb2fb",
   "metadata": {},
   "source": [
    "Sucessfully converted Yes/No to 1/0 Using **Label Encoder**"
   ]
  },
  {
   "cell_type": "markdown",
   "id": "c3c2d325",
   "metadata": {},
   "source": [
    "#### Creating Dummy Varaibles for Categorical columns\n",
    "\n",
    "Categorical Columns are : lead_origin, lead_source, Specialization, occupation, city."
   ]
  },
  {
   "cell_type": "code",
   "execution_count": 69,
   "id": "ed3baf89",
   "metadata": {},
   "outputs": [],
   "source": [
    "#create dummies\n",
    "dumdum=pd.get_dummies(df[['lead_origin', 'lead_source', 'specialization', 'occupation', 'city','tags']],drop_first=True)\n",
    "\n",
    "dumdum.head()\n",
    "\n",
    "#concat results to original data frame\n",
    "\n",
    "df=pd.concat([df,dumdum],axis=1)"
   ]
  },
  {
   "cell_type": "code",
   "execution_count": 70,
   "id": "7f6ecdf4",
   "metadata": {},
   "outputs": [],
   "source": [
    "#Droping the columns for which dummies are created.\n",
    "df.drop(['lead_origin', 'lead_source', 'specialization', 'occupation', 'city','tags'],axis=1,inplace=True)"
   ]
  },
  {
   "cell_type": "code",
   "execution_count": 71,
   "id": "8ed806e1",
   "metadata": {},
   "outputs": [
    {
     "data": {
      "text/html": [
       "<div>\n",
       "<style scoped>\n",
       "    .dataframe tbody tr th:only-of-type {\n",
       "        vertical-align: middle;\n",
       "    }\n",
       "\n",
       "    .dataframe tbody tr th {\n",
       "        vertical-align: top;\n",
       "    }\n",
       "\n",
       "    .dataframe thead th {\n",
       "        text-align: right;\n",
       "    }\n",
       "</style>\n",
       "<table border=\"1\" class=\"dataframe\">\n",
       "  <thead>\n",
       "    <tr style=\"text-align: right;\">\n",
       "      <th></th>\n",
       "      <th>lead_number</th>\n",
       "      <th>converted</th>\n",
       "      <th>total_visits</th>\n",
       "      <th>time_on_website</th>\n",
       "      <th>page_views_per_visit</th>\n",
       "      <th>lead_origin_Landing Page Submission</th>\n",
       "      <th>lead_origin_Lead Add Form</th>\n",
       "      <th>lead_origin_Lead Import</th>\n",
       "      <th>lead_origin_Quick Add Form</th>\n",
       "      <th>lead_source_Google</th>\n",
       "      <th>lead_source_Olark Chat</th>\n",
       "      <th>lead_source_Organic Search</th>\n",
       "      <th>lead_source_Other Social Sites</th>\n",
       "      <th>lead_source_Reference</th>\n",
       "      <th>specialization_Business Administration</th>\n",
       "      <th>specialization_E-Business</th>\n",
       "      <th>specialization_E-COMMERCE</th>\n",
       "      <th>specialization_International Business</th>\n",
       "      <th>specialization_Management</th>\n",
       "      <th>specialization_Media and Advertising</th>\n",
       "      <th>specialization_Not Specified</th>\n",
       "      <th>specialization_Rural and Agribusiness</th>\n",
       "      <th>specialization_Services Excellence</th>\n",
       "      <th>specialization_Travel and Tourism</th>\n",
       "      <th>occupation_Housewife</th>\n",
       "      <th>occupation_Other</th>\n",
       "      <th>occupation_Student</th>\n",
       "      <th>occupation_Unemployed</th>\n",
       "      <th>occupation_Working Professional</th>\n",
       "      <th>city_Other Cities</th>\n",
       "      <th>city_Other Cities of Maharashtra</th>\n",
       "      <th>city_Other Metro Cities</th>\n",
       "      <th>city_Thane &amp; Outskirts</th>\n",
       "      <th>city_Tier II Cities</th>\n",
       "      <th>tags_Closed by Horizzon</th>\n",
       "      <th>tags_Interested in other courses</th>\n",
       "      <th>tags_Lost to EINS</th>\n",
       "      <th>tags_Not Specified</th>\n",
       "      <th>tags_Other_Tags</th>\n",
       "      <th>tags_Ringing</th>\n",
       "      <th>tags_Will revert after reading the email</th>\n",
       "    </tr>\n",
       "  </thead>\n",
       "  <tbody>\n",
       "    <tr>\n",
       "      <th>0</th>\n",
       "      <td>660737</td>\n",
       "      <td>0</td>\n",
       "      <td>0</td>\n",
       "      <td>0</td>\n",
       "      <td>0.00</td>\n",
       "      <td>0</td>\n",
       "      <td>0</td>\n",
       "      <td>0</td>\n",
       "      <td>0</td>\n",
       "      <td>0</td>\n",
       "      <td>1</td>\n",
       "      <td>0</td>\n",
       "      <td>0</td>\n",
       "      <td>0</td>\n",
       "      <td>0</td>\n",
       "      <td>0</td>\n",
       "      <td>0</td>\n",
       "      <td>0</td>\n",
       "      <td>0</td>\n",
       "      <td>0</td>\n",
       "      <td>1</td>\n",
       "      <td>0</td>\n",
       "      <td>0</td>\n",
       "      <td>0</td>\n",
       "      <td>0</td>\n",
       "      <td>0</td>\n",
       "      <td>0</td>\n",
       "      <td>1</td>\n",
       "      <td>0</td>\n",
       "      <td>0</td>\n",
       "      <td>0</td>\n",
       "      <td>0</td>\n",
       "      <td>0</td>\n",
       "      <td>0</td>\n",
       "      <td>0</td>\n",
       "      <td>1</td>\n",
       "      <td>0</td>\n",
       "      <td>0</td>\n",
       "      <td>0</td>\n",
       "      <td>0</td>\n",
       "      <td>0</td>\n",
       "    </tr>\n",
       "    <tr>\n",
       "      <th>1</th>\n",
       "      <td>660728</td>\n",
       "      <td>0</td>\n",
       "      <td>5</td>\n",
       "      <td>674</td>\n",
       "      <td>2.50</td>\n",
       "      <td>0</td>\n",
       "      <td>0</td>\n",
       "      <td>0</td>\n",
       "      <td>0</td>\n",
       "      <td>0</td>\n",
       "      <td>0</td>\n",
       "      <td>1</td>\n",
       "      <td>0</td>\n",
       "      <td>0</td>\n",
       "      <td>0</td>\n",
       "      <td>0</td>\n",
       "      <td>0</td>\n",
       "      <td>0</td>\n",
       "      <td>0</td>\n",
       "      <td>0</td>\n",
       "      <td>1</td>\n",
       "      <td>0</td>\n",
       "      <td>0</td>\n",
       "      <td>0</td>\n",
       "      <td>0</td>\n",
       "      <td>0</td>\n",
       "      <td>0</td>\n",
       "      <td>1</td>\n",
       "      <td>0</td>\n",
       "      <td>0</td>\n",
       "      <td>0</td>\n",
       "      <td>0</td>\n",
       "      <td>0</td>\n",
       "      <td>0</td>\n",
       "      <td>0</td>\n",
       "      <td>0</td>\n",
       "      <td>0</td>\n",
       "      <td>0</td>\n",
       "      <td>0</td>\n",
       "      <td>1</td>\n",
       "      <td>0</td>\n",
       "    </tr>\n",
       "    <tr>\n",
       "      <th>2</th>\n",
       "      <td>660727</td>\n",
       "      <td>1</td>\n",
       "      <td>2</td>\n",
       "      <td>1532</td>\n",
       "      <td>2.00</td>\n",
       "      <td>1</td>\n",
       "      <td>0</td>\n",
       "      <td>0</td>\n",
       "      <td>0</td>\n",
       "      <td>0</td>\n",
       "      <td>0</td>\n",
       "      <td>0</td>\n",
       "      <td>0</td>\n",
       "      <td>0</td>\n",
       "      <td>1</td>\n",
       "      <td>0</td>\n",
       "      <td>0</td>\n",
       "      <td>0</td>\n",
       "      <td>0</td>\n",
       "      <td>0</td>\n",
       "      <td>0</td>\n",
       "      <td>0</td>\n",
       "      <td>0</td>\n",
       "      <td>0</td>\n",
       "      <td>0</td>\n",
       "      <td>0</td>\n",
       "      <td>1</td>\n",
       "      <td>0</td>\n",
       "      <td>0</td>\n",
       "      <td>0</td>\n",
       "      <td>0</td>\n",
       "      <td>0</td>\n",
       "      <td>0</td>\n",
       "      <td>0</td>\n",
       "      <td>0</td>\n",
       "      <td>0</td>\n",
       "      <td>0</td>\n",
       "      <td>0</td>\n",
       "      <td>0</td>\n",
       "      <td>0</td>\n",
       "      <td>1</td>\n",
       "    </tr>\n",
       "    <tr>\n",
       "      <th>3</th>\n",
       "      <td>660719</td>\n",
       "      <td>0</td>\n",
       "      <td>1</td>\n",
       "      <td>305</td>\n",
       "      <td>1.00</td>\n",
       "      <td>1</td>\n",
       "      <td>0</td>\n",
       "      <td>0</td>\n",
       "      <td>0</td>\n",
       "      <td>0</td>\n",
       "      <td>0</td>\n",
       "      <td>0</td>\n",
       "      <td>0</td>\n",
       "      <td>0</td>\n",
       "      <td>0</td>\n",
       "      <td>0</td>\n",
       "      <td>0</td>\n",
       "      <td>0</td>\n",
       "      <td>0</td>\n",
       "      <td>1</td>\n",
       "      <td>0</td>\n",
       "      <td>0</td>\n",
       "      <td>0</td>\n",
       "      <td>0</td>\n",
       "      <td>0</td>\n",
       "      <td>0</td>\n",
       "      <td>0</td>\n",
       "      <td>1</td>\n",
       "      <td>0</td>\n",
       "      <td>0</td>\n",
       "      <td>0</td>\n",
       "      <td>0</td>\n",
       "      <td>0</td>\n",
       "      <td>0</td>\n",
       "      <td>0</td>\n",
       "      <td>0</td>\n",
       "      <td>0</td>\n",
       "      <td>0</td>\n",
       "      <td>0</td>\n",
       "      <td>1</td>\n",
       "      <td>0</td>\n",
       "    </tr>\n",
       "    <tr>\n",
       "      <th>4</th>\n",
       "      <td>660681</td>\n",
       "      <td>1</td>\n",
       "      <td>2</td>\n",
       "      <td>1428</td>\n",
       "      <td>1.00</td>\n",
       "      <td>1</td>\n",
       "      <td>0</td>\n",
       "      <td>0</td>\n",
       "      <td>0</td>\n",
       "      <td>1</td>\n",
       "      <td>0</td>\n",
       "      <td>0</td>\n",
       "      <td>0</td>\n",
       "      <td>0</td>\n",
       "      <td>0</td>\n",
       "      <td>0</td>\n",
       "      <td>0</td>\n",
       "      <td>0</td>\n",
       "      <td>0</td>\n",
       "      <td>0</td>\n",
       "      <td>1</td>\n",
       "      <td>0</td>\n",
       "      <td>0</td>\n",
       "      <td>0</td>\n",
       "      <td>0</td>\n",
       "      <td>0</td>\n",
       "      <td>0</td>\n",
       "      <td>1</td>\n",
       "      <td>0</td>\n",
       "      <td>0</td>\n",
       "      <td>0</td>\n",
       "      <td>0</td>\n",
       "      <td>0</td>\n",
       "      <td>0</td>\n",
       "      <td>0</td>\n",
       "      <td>0</td>\n",
       "      <td>0</td>\n",
       "      <td>0</td>\n",
       "      <td>0</td>\n",
       "      <td>0</td>\n",
       "      <td>1</td>\n",
       "    </tr>\n",
       "  </tbody>\n",
       "</table>\n",
       "</div>"
      ],
      "text/plain": [
       "  lead_number  converted  total_visits  time_on_website  page_views_per_visit  \\\n",
       "0      660737          0             0                0                  0.00   \n",
       "1      660728          0             5              674                  2.50   \n",
       "2      660727          1             2             1532                  2.00   \n",
       "3      660719          0             1              305                  1.00   \n",
       "4      660681          1             2             1428                  1.00   \n",
       "\n",
       "   lead_origin_Landing Page Submission  lead_origin_Lead Add Form  \\\n",
       "0                                    0                          0   \n",
       "1                                    0                          0   \n",
       "2                                    1                          0   \n",
       "3                                    1                          0   \n",
       "4                                    1                          0   \n",
       "\n",
       "   lead_origin_Lead Import  lead_origin_Quick Add Form  lead_source_Google  \\\n",
       "0                        0                           0                   0   \n",
       "1                        0                           0                   0   \n",
       "2                        0                           0                   0   \n",
       "3                        0                           0                   0   \n",
       "4                        0                           0                   1   \n",
       "\n",
       "   lead_source_Olark Chat  lead_source_Organic Search  \\\n",
       "0                       1                           0   \n",
       "1                       0                           1   \n",
       "2                       0                           0   \n",
       "3                       0                           0   \n",
       "4                       0                           0   \n",
       "\n",
       "   lead_source_Other Social Sites  lead_source_Reference  \\\n",
       "0                               0                      0   \n",
       "1                               0                      0   \n",
       "2                               0                      0   \n",
       "3                               0                      0   \n",
       "4                               0                      0   \n",
       "\n",
       "   specialization_Business Administration  specialization_E-Business  \\\n",
       "0                                       0                          0   \n",
       "1                                       0                          0   \n",
       "2                                       1                          0   \n",
       "3                                       0                          0   \n",
       "4                                       0                          0   \n",
       "\n",
       "   specialization_E-COMMERCE  specialization_International Business  \\\n",
       "0                          0                                      0   \n",
       "1                          0                                      0   \n",
       "2                          0                                      0   \n",
       "3                          0                                      0   \n",
       "4                          0                                      0   \n",
       "\n",
       "   specialization_Management  specialization_Media and Advertising  \\\n",
       "0                          0                                     0   \n",
       "1                          0                                     0   \n",
       "2                          0                                     0   \n",
       "3                          0                                     1   \n",
       "4                          0                                     0   \n",
       "\n",
       "   specialization_Not Specified  specialization_Rural and Agribusiness  \\\n",
       "0                             1                                      0   \n",
       "1                             1                                      0   \n",
       "2                             0                                      0   \n",
       "3                             0                                      0   \n",
       "4                             1                                      0   \n",
       "\n",
       "   specialization_Services Excellence  specialization_Travel and Tourism  \\\n",
       "0                                   0                                  0   \n",
       "1                                   0                                  0   \n",
       "2                                   0                                  0   \n",
       "3                                   0                                  0   \n",
       "4                                   0                                  0   \n",
       "\n",
       "   occupation_Housewife  occupation_Other  occupation_Student  \\\n",
       "0                     0                 0                   0   \n",
       "1                     0                 0                   0   \n",
       "2                     0                 0                   1   \n",
       "3                     0                 0                   0   \n",
       "4                     0                 0                   0   \n",
       "\n",
       "   occupation_Unemployed  occupation_Working Professional  city_Other Cities  \\\n",
       "0                      1                                0                  0   \n",
       "1                      1                                0                  0   \n",
       "2                      0                                0                  0   \n",
       "3                      1                                0                  0   \n",
       "4                      1                                0                  0   \n",
       "\n",
       "   city_Other Cities of Maharashtra  city_Other Metro Cities  \\\n",
       "0                                 0                        0   \n",
       "1                                 0                        0   \n",
       "2                                 0                        0   \n",
       "3                                 0                        0   \n",
       "4                                 0                        0   \n",
       "\n",
       "   city_Thane & Outskirts  city_Tier II Cities  tags_Closed by Horizzon  \\\n",
       "0                       0                    0                        0   \n",
       "1                       0                    0                        0   \n",
       "2                       0                    0                        0   \n",
       "3                       0                    0                        0   \n",
       "4                       0                    0                        0   \n",
       "\n",
       "   tags_Interested in other courses  tags_Lost to EINS  tags_Not Specified  \\\n",
       "0                                 1                  0                   0   \n",
       "1                                 0                  0                   0   \n",
       "2                                 0                  0                   0   \n",
       "3                                 0                  0                   0   \n",
       "4                                 0                  0                   0   \n",
       "\n",
       "   tags_Other_Tags  tags_Ringing  tags_Will revert after reading the email  \n",
       "0                0             0                                         0  \n",
       "1                0             1                                         0  \n",
       "2                0             0                                         1  \n",
       "3                0             1                                         0  \n",
       "4                0             0                                         1  "
      ]
     },
     "execution_count": 71,
     "metadata": {},
     "output_type": "execute_result"
    }
   ],
   "source": [
    "df.head()"
   ]
  },
  {
   "cell_type": "markdown",
   "id": "5bf0f048",
   "metadata": {},
   "source": [
    "#### Handling Outliers."
   ]
  },
  {
   "cell_type": "markdown",
   "id": "594701a3",
   "metadata": {},
   "source": [
    "- First we check the 99% th values.\n",
    "- Then we can cap the outliers \n",
    "- capping means replacing the outliers with .99%tile of the values. \n",
    "- This is one of the methods to handle outliers just like imputation."
   ]
  },
  {
   "cell_type": "code",
   "execution_count": 72,
   "id": "4ce5e8e5",
   "metadata": {},
   "outputs": [
    {
     "data": {
      "text/plain": [
       "count   9240.00\n",
       "mean       3.44\n",
       "std        4.82\n",
       "min        0.00\n",
       "50%        3.00\n",
       "99%       17.00\n",
       "max      251.00\n",
       "Name: total_visits, dtype: float64"
      ]
     },
     "execution_count": 72,
     "metadata": {},
     "output_type": "execute_result"
    }
   ],
   "source": [
    "#checking .99 percentile of the values. for tota_visits\n",
    "df['total_visits'].describe(percentiles=[.99])"
   ]
  },
  {
   "cell_type": "code",
   "execution_count": 73,
   "id": "5f724b34",
   "metadata": {},
   "outputs": [
    {
     "data": {
      "text/plain": [
       "count   9240.00\n",
       "mean       2.36\n",
       "std        2.15\n",
       "min        0.00\n",
       "50%        2.00\n",
       "99%        9.00\n",
       "max       55.00\n",
       "Name: page_views_per_visit, dtype: float64"
      ]
     },
     "execution_count": 73,
     "metadata": {},
     "output_type": "execute_result"
    }
   ],
   "source": [
    "#checking .99 percentile of the values. for page_views_per_visit\n",
    "df['page_views_per_visit'].describe(percentiles=[.99])"
   ]
  },
  {
   "cell_type": "code",
   "execution_count": 74,
   "id": "f7a7c32d",
   "metadata": {},
   "outputs": [],
   "source": [
    "#replacing values outliers.\n",
    "df.total_visits.loc[df.total_visits>=df.total_visits.quantile(0.99)]=df.total_visits.quantile(0.99)\n",
    "df.page_views_per_visit.loc[df.page_views_per_visit>=df.page_views_per_visit.quantile(0.99)]=df.page_views_per_visit.quantile(0.99)"
   ]
  },
  {
   "cell_type": "code",
   "execution_count": 75,
   "id": "aa969b5e",
   "metadata": {},
   "outputs": [
    {
     "data": {
      "image/png": "[encoded data removed]",
      "text/plain": [
       "<Figure size 720x1008 with 2 Axes>"
      ]
     },
     "metadata": {},
     "output_type": "display_data"
    }
   ],
   "source": [
    "plt.style.use('ggplot')\n",
    "plt.figure(figsize=(10,14))\n",
    "\n",
    "plt.subplot(2,1,1)\n",
    "sns.boxplot(df.total_visits)\n",
    "\n",
    "plt.subplot(2,1,2)\n",
    "sns.boxplot(df.page_views_per_visit)\n",
    "\n",
    "plt.show()"
   ]
  },
  {
   "cell_type": "markdown",
   "id": "af1e8f2c",
   "metadata": {},
   "source": [
    "Outliers have been reduced by capping/replacing it."
   ]
  },
  {
   "cell_type": "code",
   "execution_count": 76,
   "id": "5b17afc6",
   "metadata": {},
   "outputs": [
    {
     "data": {
      "image/png": "[encoded data removed]",
      "text/plain": [
       "<Figure size 1440x1440 with 3 Axes>"
      ]
     },
     "metadata": {},
     "output_type": "display_data"
    }
   ],
   "source": [
    "plt.style.use('dark_background')\n",
    "\n",
    "titles=['Total website visits','Total time spent on websites','Average number of page views per visit']\n",
    "plt.figure(figsize=(20,20))\n",
    "for _ in enumerate(req_columns):\n",
    "    plt.subplot(len(req_columns),1,_[0]+1)\n",
    "    plt.hist(df[_[1]].dropna(),bins=10)\n",
    "    x=_[0]\n",
    "    plt.title(titles[x])\n",
    "    plt.show"
   ]
  },
  {
   "cell_type": "markdown",
   "id": "3f82dcd9",
   "metadata": {},
   "source": [
    "### Test-Train Split"
   ]
  },
  {
   "cell_type": "code",
   "execution_count": 77,
   "id": "febd32fe",
   "metadata": {},
   "outputs": [],
   "source": [
    "#import test train library\n",
    "from sklearn.model_selection import train_test_split"
   ]
  },
  {
   "cell_type": "code",
   "execution_count": 78,
   "id": "b21adf8d",
   "metadata": {},
   "outputs": [
    {
     "data": {
      "text/html": [
       "<div>\n",
       "<style scoped>\n",
       "    .dataframe tbody tr th:only-of-type {\n",
       "        vertical-align: middle;\n",
       "    }\n",
       "\n",
       "    .dataframe tbody tr th {\n",
       "        vertical-align: top;\n",
       "    }\n",
       "\n",
       "    .dataframe thead th {\n",
       "        text-align: right;\n",
       "    }\n",
       "</style>\n",
       "<table border=\"1\" class=\"dataframe\">\n",
       "  <thead>\n",
       "    <tr style=\"text-align: right;\">\n",
       "      <th></th>\n",
       "      <th>total_visits</th>\n",
       "      <th>time_on_website</th>\n",
       "      <th>page_views_per_visit</th>\n",
       "      <th>lead_origin_Landing Page Submission</th>\n",
       "      <th>lead_origin_Lead Add Form</th>\n",
       "      <th>lead_origin_Lead Import</th>\n",
       "      <th>lead_origin_Quick Add Form</th>\n",
       "      <th>lead_source_Google</th>\n",
       "      <th>lead_source_Olark Chat</th>\n",
       "      <th>lead_source_Organic Search</th>\n",
       "      <th>lead_source_Other Social Sites</th>\n",
       "      <th>lead_source_Reference</th>\n",
       "      <th>specialization_Business Administration</th>\n",
       "      <th>specialization_E-Business</th>\n",
       "      <th>specialization_E-COMMERCE</th>\n",
       "      <th>specialization_International Business</th>\n",
       "      <th>specialization_Management</th>\n",
       "      <th>specialization_Media and Advertising</th>\n",
       "      <th>specialization_Not Specified</th>\n",
       "      <th>specialization_Rural and Agribusiness</th>\n",
       "      <th>specialization_Services Excellence</th>\n",
       "      <th>specialization_Travel and Tourism</th>\n",
       "      <th>occupation_Housewife</th>\n",
       "      <th>occupation_Other</th>\n",
       "      <th>occupation_Student</th>\n",
       "      <th>occupation_Unemployed</th>\n",
       "      <th>occupation_Working Professional</th>\n",
       "      <th>city_Other Cities</th>\n",
       "      <th>city_Other Cities of Maharashtra</th>\n",
       "      <th>city_Other Metro Cities</th>\n",
       "      <th>city_Thane &amp; Outskirts</th>\n",
       "      <th>city_Tier II Cities</th>\n",
       "      <th>tags_Closed by Horizzon</th>\n",
       "      <th>tags_Interested in other courses</th>\n",
       "      <th>tags_Lost to EINS</th>\n",
       "      <th>tags_Not Specified</th>\n",
       "      <th>tags_Other_Tags</th>\n",
       "      <th>tags_Ringing</th>\n",
       "      <th>tags_Will revert after reading the email</th>\n",
       "    </tr>\n",
       "  </thead>\n",
       "  <tbody>\n",
       "    <tr>\n",
       "      <th>0</th>\n",
       "      <td>0</td>\n",
       "      <td>0</td>\n",
       "      <td>0.00</td>\n",
       "      <td>0</td>\n",
       "      <td>0</td>\n",
       "      <td>0</td>\n",
       "      <td>0</td>\n",
       "      <td>0</td>\n",
       "      <td>1</td>\n",
       "      <td>0</td>\n",
       "      <td>0</td>\n",
       "      <td>0</td>\n",
       "      <td>0</td>\n",
       "      <td>0</td>\n",
       "      <td>0</td>\n",
       "      <td>0</td>\n",
       "      <td>0</td>\n",
       "      <td>0</td>\n",
       "      <td>1</td>\n",
       "      <td>0</td>\n",
       "      <td>0</td>\n",
       "      <td>0</td>\n",
       "      <td>0</td>\n",
       "      <td>0</td>\n",
       "      <td>0</td>\n",
       "      <td>1</td>\n",
       "      <td>0</td>\n",
       "      <td>0</td>\n",
       "      <td>0</td>\n",
       "      <td>0</td>\n",
       "      <td>0</td>\n",
       "      <td>0</td>\n",
       "      <td>0</td>\n",
       "      <td>1</td>\n",
       "      <td>0</td>\n",
       "      <td>0</td>\n",
       "      <td>0</td>\n",
       "      <td>0</td>\n",
       "      <td>0</td>\n",
       "    </tr>\n",
       "    <tr>\n",
       "      <th>1</th>\n",
       "      <td>5</td>\n",
       "      <td>674</td>\n",
       "      <td>2.50</td>\n",
       "      <td>0</td>\n",
       "      <td>0</td>\n",
       "      <td>0</td>\n",
       "      <td>0</td>\n",
       "      <td>0</td>\n",
       "      <td>0</td>\n",
       "      <td>1</td>\n",
       "      <td>0</td>\n",
       "      <td>0</td>\n",
       "      <td>0</td>\n",
       "      <td>0</td>\n",
       "      <td>0</td>\n",
       "      <td>0</td>\n",
       "      <td>0</td>\n",
       "      <td>0</td>\n",
       "      <td>1</td>\n",
       "      <td>0</td>\n",
       "      <td>0</td>\n",
       "      <td>0</td>\n",
       "      <td>0</td>\n",
       "      <td>0</td>\n",
       "      <td>0</td>\n",
       "      <td>1</td>\n",
       "      <td>0</td>\n",
       "      <td>0</td>\n",
       "      <td>0</td>\n",
       "      <td>0</td>\n",
       "      <td>0</td>\n",
       "      <td>0</td>\n",
       "      <td>0</td>\n",
       "      <td>0</td>\n",
       "      <td>0</td>\n",
       "      <td>0</td>\n",
       "      <td>0</td>\n",
       "      <td>1</td>\n",
       "      <td>0</td>\n",
       "    </tr>\n",
       "    <tr>\n",
       "      <th>2</th>\n",
       "      <td>2</td>\n",
       "      <td>1532</td>\n",
       "      <td>2.00</td>\n",
       "      <td>1</td>\n",
       "      <td>0</td>\n",
       "      <td>0</td>\n",
       "      <td>0</td>\n",
       "      <td>0</td>\n",
       "      <td>0</td>\n",
       "      <td>0</td>\n",
       "      <td>0</td>\n",
       "      <td>0</td>\n",
       "      <td>1</td>\n",
       "      <td>0</td>\n",
       "      <td>0</td>\n",
       "      <td>0</td>\n",
       "      <td>0</td>\n",
       "      <td>0</td>\n",
       "      <td>0</td>\n",
       "      <td>0</td>\n",
       "      <td>0</td>\n",
       "      <td>0</td>\n",
       "      <td>0</td>\n",
       "      <td>0</td>\n",
       "      <td>1</td>\n",
       "      <td>0</td>\n",
       "      <td>0</td>\n",
       "      <td>0</td>\n",
       "      <td>0</td>\n",
       "      <td>0</td>\n",
       "      <td>0</td>\n",
       "      <td>0</td>\n",
       "      <td>0</td>\n",
       "      <td>0</td>\n",
       "      <td>0</td>\n",
       "      <td>0</td>\n",
       "      <td>0</td>\n",
       "      <td>0</td>\n",
       "      <td>1</td>\n",
       "    </tr>\n",
       "    <tr>\n",
       "      <th>3</th>\n",
       "      <td>1</td>\n",
       "      <td>305</td>\n",
       "      <td>1.00</td>\n",
       "      <td>1</td>\n",
       "      <td>0</td>\n",
       "      <td>0</td>\n",
       "      <td>0</td>\n",
       "      <td>0</td>\n",
       "      <td>0</td>\n",
       "      <td>0</td>\n",
       "      <td>0</td>\n",
       "      <td>0</td>\n",
       "      <td>0</td>\n",
       "      <td>0</td>\n",
       "      <td>0</td>\n",
       "      <td>0</td>\n",
       "      <td>0</td>\n",
       "      <td>1</td>\n",
       "      <td>0</td>\n",
       "      <td>0</td>\n",
       "      <td>0</td>\n",
       "      <td>0</td>\n",
       "      <td>0</td>\n",
       "      <td>0</td>\n",
       "      <td>0</td>\n",
       "      <td>1</td>\n",
       "      <td>0</td>\n",
       "      <td>0</td>\n",
       "      <td>0</td>\n",
       "      <td>0</td>\n",
       "      <td>0</td>\n",
       "      <td>0</td>\n",
       "      <td>0</td>\n",
       "      <td>0</td>\n",
       "      <td>0</td>\n",
       "      <td>0</td>\n",
       "      <td>0</td>\n",
       "      <td>1</td>\n",
       "      <td>0</td>\n",
       "    </tr>\n",
       "    <tr>\n",
       "      <th>4</th>\n",
       "      <td>2</td>\n",
       "      <td>1428</td>\n",
       "      <td>1.00</td>\n",
       "      <td>1</td>\n",
       "      <td>0</td>\n",
       "      <td>0</td>\n",
       "      <td>0</td>\n",
       "      <td>1</td>\n",
       "      <td>0</td>\n",
       "      <td>0</td>\n",
       "      <td>0</td>\n",
       "      <td>0</td>\n",
       "      <td>0</td>\n",
       "      <td>0</td>\n",
       "      <td>0</td>\n",
       "      <td>0</td>\n",
       "      <td>0</td>\n",
       "      <td>0</td>\n",
       "      <td>1</td>\n",
       "      <td>0</td>\n",
       "      <td>0</td>\n",
       "      <td>0</td>\n",
       "      <td>0</td>\n",
       "      <td>0</td>\n",
       "      <td>0</td>\n",
       "      <td>1</td>\n",
       "      <td>0</td>\n",
       "      <td>0</td>\n",
       "      <td>0</td>\n",
       "      <td>0</td>\n",
       "      <td>0</td>\n",
       "      <td>0</td>\n",
       "      <td>0</td>\n",
       "      <td>0</td>\n",
       "      <td>0</td>\n",
       "      <td>0</td>\n",
       "      <td>0</td>\n",
       "      <td>0</td>\n",
       "      <td>1</td>\n",
       "    </tr>\n",
       "  </tbody>\n",
       "</table>\n",
       "</div>"
      ],
      "text/plain": [
       "   total_visits  time_on_website  page_views_per_visit  \\\n",
       "0             0                0                  0.00   \n",
       "1             5              674                  2.50   \n",
       "2             2             1532                  2.00   \n",
       "3             1              305                  1.00   \n",
       "4             2             1428                  1.00   \n",
       "\n",
       "   lead_origin_Landing Page Submission  lead_origin_Lead Add Form  \\\n",
       "0                                    0                          0   \n",
       "1                                    0                          0   \n",
       "2                                    1                          0   \n",
       "3                                    1                          0   \n",
       "4                                    1                          0   \n",
       "\n",
       "   lead_origin_Lead Import  lead_origin_Quick Add Form  lead_source_Google  \\\n",
       "0                        0                           0                   0   \n",
       "1                        0                           0                   0   \n",
       "2                        0                           0                   0   \n",
       "3                        0                           0                   0   \n",
       "4                        0                           0                   1   \n",
       "\n",
       "   lead_source_Olark Chat  lead_source_Organic Search  \\\n",
       "0                       1                           0   \n",
       "1                       0                           1   \n",
       "2                       0                           0   \n",
       "3                       0                           0   \n",
       "4                       0                           0   \n",
       "\n",
       "   lead_source_Other Social Sites  lead_source_Reference  \\\n",
       "0                               0                      0   \n",
       "1                               0                      0   \n",
       "2                               0                      0   \n",
       "3                               0                      0   \n",
       "4                               0                      0   \n",
       "\n",
       "   specialization_Business Administration  specialization_E-Business  \\\n",
       "0                                       0                          0   \n",
       "1                                       0                          0   \n",
       "2                                       1                          0   \n",
       "3                                       0                          0   \n",
       "4                                       0                          0   \n",
       "\n",
       "   specialization_E-COMMERCE  specialization_International Business  \\\n",
       "0                          0                                      0   \n",
       "1                          0                                      0   \n",
       "2                          0                                      0   \n",
       "3                          0                                      0   \n",
       "4                          0                                      0   \n",
       "\n",
       "   specialization_Management  specialization_Media and Advertising  \\\n",
       "0                          0                                     0   \n",
       "1                          0                                     0   \n",
       "2                          0                                     0   \n",
       "3                          0                                     1   \n",
       "4                          0                                     0   \n",
       "\n",
       "   specialization_Not Specified  specialization_Rural and Agribusiness  \\\n",
       "0                             1                                      0   \n",
       "1                             1                                      0   \n",
       "2                             0                                      0   \n",
       "3                             0                                      0   \n",
       "4                             1                                      0   \n",
       "\n",
       "   specialization_Services Excellence  specialization_Travel and Tourism  \\\n",
       "0                                   0                                  0   \n",
       "1                                   0                                  0   \n",
       "2                                   0                                  0   \n",
       "3                                   0                                  0   \n",
       "4                                   0                                  0   \n",
       "\n",
       "   occupation_Housewife  occupation_Other  occupation_Student  \\\n",
       "0                     0                 0                   0   \n",
       "1                     0                 0                   0   \n",
       "2                     0                 0                   1   \n",
       "3                     0                 0                   0   \n",
       "4                     0                 0                   0   \n",
       "\n",
       "   occupation_Unemployed  occupation_Working Professional  city_Other Cities  \\\n",
       "0                      1                                0                  0   \n",
       "1                      1                                0                  0   \n",
       "2                      0                                0                  0   \n",
       "3                      1                                0                  0   \n",
       "4                      1                                0                  0   \n",
       "\n",
       "   city_Other Cities of Maharashtra  city_Other Metro Cities  \\\n",
       "0                                 0                        0   \n",
       "1                                 0                        0   \n",
       "2                                 0                        0   \n",
       "3                                 0                        0   \n",
       "4                                 0                        0   \n",
       "\n",
       "   city_Thane & Outskirts  city_Tier II Cities  tags_Closed by Horizzon  \\\n",
       "0                       0                    0                        0   \n",
       "1                       0                    0                        0   \n",
       "2                       0                    0                        0   \n",
       "3                       0                    0                        0   \n",
       "4                       0                    0                        0   \n",
       "\n",
       "   tags_Interested in other courses  tags_Lost to EINS  tags_Not Specified  \\\n",
       "0                                 1                  0                   0   \n",
       "1                                 0                  0                   0   \n",
       "2                                 0                  0                   0   \n",
       "3                                 0                  0                   0   \n",
       "4                                 0                  0                   0   \n",
       "\n",
       "   tags_Other_Tags  tags_Ringing  tags_Will revert after reading the email  \n",
       "0                0             0                                         0  \n",
       "1                0             1                                         0  \n",
       "2                0             0                                         1  \n",
       "3                0             1                                         0  \n",
       "4                0             0                                         1  "
      ]
     },
     "execution_count": 78,
     "metadata": {},
     "output_type": "execute_result"
    }
   ],
   "source": [
    "# Drop the converted column as we need to have that as dependent varaible.\n",
    "\n",
    "x=df.drop(['converted','lead_number'],axis=1)\n",
    "\n",
    "x.head()"
   ]
  },
  {
   "cell_type": "code",
   "execution_count": 79,
   "id": "f8fd760a",
   "metadata": {},
   "outputs": [
    {
     "data": {
      "text/plain": [
       "0    0\n",
       "1    0\n",
       "2    1\n",
       "3    0\n",
       "4    1\n",
       "Name: converted, dtype: int64"
      ]
     },
     "execution_count": 79,
     "metadata": {},
     "output_type": "execute_result"
    }
   ],
   "source": [
    "# Dependent Varaible\n",
    "\n",
    "y=df['converted']\n",
    "\n",
    "y.head()"
   ]
  },
  {
   "cell_type": "code",
   "execution_count": 80,
   "id": "79f0f11e",
   "metadata": {},
   "outputs": [],
   "source": [
    "#Split the data set into 80% and 20% test train respectively.\n",
    "x_train,x_test,y_train,y_test=train_test_split(x,y,train_size=0.7,test_size=0.3,random_state=10)"
   ]
  },
  {
   "cell_type": "markdown",
   "id": "157afcc9",
   "metadata": {},
   "source": [
    "**Obesrvation from EDA.**\n",
    "- The Numerical columns are Right skewered.\n",
    "- The Best way to Scale this kind of distribution is to perform a MinMax Feature scaling."
   ]
  },
  {
   "cell_type": "code",
   "execution_count": 81,
   "id": "099ce130",
   "metadata": {},
   "outputs": [],
   "source": [
    "#import minmax scaler \n",
    "from sklearn.preprocessing import MinMaxScaler\n",
    "scaler=MinMaxScaler()\n",
    "x_train[['total_visits','time_on_website','page_views_per_visit']]=scaler.fit_transform(x_train[['total_visits','time_on_website','page_views_per_visit']])\n",
    "x_test[['total_visits','time_on_website','page_views_per_visit']]=scaler.fit_transform(x_test[['total_visits','time_on_website','page_views_per_visit']])\n"
   ]
  },
  {
   "cell_type": "markdown",
   "id": "5df14501",
   "metadata": {},
   "source": [
    "### Model Building"
   ]
  },
  {
   "cell_type": "code",
   "execution_count": 83,
   "id": "fb254a37",
   "metadata": {},
   "outputs": [],
   "source": [
    "#Importing Necessary Library\n",
    "import statsmodels.api as sm\n",
    "from sklearn.linear_model import LogisticRegression\n",
    "from sklearn.feature_selection import RFE\n",
    "from statsmodels.stats.outliers_influence import variance_inflation_factor"
   ]
  },
  {
   "cell_type": "markdown",
   "id": "39ca5875",
   "metadata": {},
   "source": [
    "#### RFE (Recursive feature Elemination)\n",
    "- There are a few ways to remove features in models.\n",
    "- Either thru one by one elimination or by using techniques provided by Sklearn.\n",
    "- RFE removes Features one by one until the optimal number of features is left.\n",
    "- This is the most important feature selection algorithms due to ease of use and its flexibility.\n",
    "- The algorithm can wrap around any model, and it produces the best possible set of features that gives the highest performance.\n",
    "- RFE will give the same accuracy with less number of Features."
   ]
  },
  {
   "cell_type": "code",
   "execution_count": 111,
   "id": "a8a0811a",
   "metadata": {},
   "outputs": [],
   "source": [
    "# initiate logistic regression\n",
    "logR = LogisticRegression()\n",
    "\n",
    "# initiate rfe\n",
    "rfe = RFE(logR, n_features_to_select=16)             # running RFE with 13 variables as output\n",
    "rfe = rfe.fit(x_train, y_train)"
   ]
  },
  {
   "cell_type": "markdown",
   "id": "36ebbbde",
   "metadata": {},
   "source": [
    "We fit the estimator into the RFE class.\n",
    "the rfe.support_ attribute that gives a boolean mask with False values for discarded features.\n",
    "we can use it to subset our data."
   ]
  },
  {
   "cell_type": "code",
   "execution_count": 112,
   "id": "c61b6e9f",
   "metadata": {},
   "outputs": [
    {
     "data": {
      "text/plain": [
       "array([False,  True, False,  True,  True, False, False, False,  True,\n",
       "       False, False,  True, False, False, False, False, False, False,\n",
       "       False, False,  True,  True, False, False, False, False,  True,\n",
       "       False, False, False, False,  True,  True,  True,  True,  True,\n",
       "        True,  True,  True])"
      ]
     },
     "execution_count": 112,
     "metadata": {},
     "output_type": "execute_result"
    }
   ],
   "source": [
    "rfe.support_"
   ]
  },
  {
   "cell_type": "markdown",
   "id": "994dcd22",
   "metadata": {},
   "source": [
    "**The Columns that RFE selects are down below**"
   ]
  },
  {
   "cell_type": "code",
   "execution_count": 113,
   "id": "8ee1e1ae",
   "metadata": {},
   "outputs": [
    {
     "name": "stdout",
     "output_type": "stream",
     "text": [
      "Index(['time_on_website', 'lead_origin_Landing Page Submission',\n",
      "       'lead_origin_Lead Add Form', 'lead_source_Olark Chat',\n",
      "       'lead_source_Reference', 'specialization_Services Excellence',\n",
      "       'specialization_Travel and Tourism', 'occupation_Working Professional',\n",
      "       'city_Tier II Cities', 'tags_Closed by Horizzon',\n",
      "       'tags_Interested in other courses', 'tags_Lost to EINS',\n",
      "       'tags_Not Specified', 'tags_Other_Tags', 'tags_Ringing',\n",
      "       'tags_Will revert after reading the email'],\n",
      "      dtype='object')\n"
     ]
    }
   ],
   "source": [
    "col = x_train.columns[rfe.support_]\n",
    "print(col)"
   ]
  },
  {
   "cell_type": "code",
   "execution_count": 114,
   "id": "b418591e",
   "metadata": {},
   "outputs": [
    {
     "data": {
      "text/plain": [
       "Index(['total_visits', 'page_views_per_visit', 'lead_origin_Lead Import',\n",
       "       'lead_origin_Quick Add Form', 'lead_source_Google',\n",
       "       'lead_source_Organic Search', 'lead_source_Other Social Sites',\n",
       "       'specialization_Business Administration', 'specialization_E-Business',\n",
       "       'specialization_E-COMMERCE', 'specialization_International Business',\n",
       "       'specialization_Management', 'specialization_Media and Advertising',\n",
       "       'specialization_Not Specified', 'specialization_Rural and Agribusiness',\n",
       "       'occupation_Housewife', 'occupation_Other', 'occupation_Student',\n",
       "       'occupation_Unemployed', 'city_Other Cities',\n",
       "       'city_Other Cities of Maharashtra', 'city_Other Metro Cities',\n",
       "       'city_Thane & Outskirts'],\n",
       "      dtype='object')"
      ]
     },
     "execution_count": 114,
     "metadata": {},
     "output_type": "execute_result"
    }
   ],
   "source": [
    "x_train.columns[~rfe.support_]"
   ]
  },
  {
   "cell_type": "markdown",
   "id": "53fb4dc0",
   "metadata": {},
   "source": [
    "**The columns that RFE don't select are above**"
   ]
  },
  {
   "cell_type": "code",
   "execution_count": 115,
   "id": "3289ab04",
   "metadata": {},
   "outputs": [
    {
     "data": {
      "text/plain": [
       "[('total_visits', False, 11),\n",
       " ('time_on_website', True, 1),\n",
       " ('page_views_per_visit', False, 10),\n",
       " ('lead_origin_Landing Page Submission', True, 1),\n",
       " ('lead_origin_Lead Add Form', True, 1),\n",
       " ('lead_origin_Lead Import', False, 3),\n",
       " ('lead_origin_Quick Add Form', False, 24),\n",
       " ('lead_source_Google', False, 8),\n",
       " ('lead_source_Olark Chat', True, 1),\n",
       " ('lead_source_Organic Search', False, 7),\n",
       " ('lead_source_Other Social Sites', False, 2),\n",
       " ('lead_source_Reference', True, 1),\n",
       " ('specialization_Business Administration', False, 18),\n",
       " ('specialization_E-Business', False, 22),\n",
       " ('specialization_E-COMMERCE', False, 4),\n",
       " ('specialization_International Business', False, 12),\n",
       " ('specialization_Management', False, 23),\n",
       " ('specialization_Media and Advertising', False, 21),\n",
       " ('specialization_Not Specified', False, 16),\n",
       " ('specialization_Rural and Agribusiness', False, 9),\n",
       " ('specialization_Services Excellence', True, 1),\n",
       " ('specialization_Travel and Tourism', True, 1),\n",
       " ('occupation_Housewife', False, 14),\n",
       " ('occupation_Other', False, 15),\n",
       " ('occupation_Student', False, 17),\n",
       " ('occupation_Unemployed', False, 5),\n",
       " ('occupation_Working Professional', True, 1),\n",
       " ('city_Other Cities', False, 20),\n",
       " ('city_Other Cities of Maharashtra', False, 6),\n",
       " ('city_Other Metro Cities', False, 13),\n",
       " ('city_Thane & Outskirts', False, 19),\n",
       " ('city_Tier II Cities', True, 1),\n",
       " ('tags_Closed by Horizzon', True, 1),\n",
       " ('tags_Interested in other courses', True, 1),\n",
       " ('tags_Lost to EINS', True, 1),\n",
       " ('tags_Not Specified', True, 1),\n",
       " ('tags_Other_Tags', True, 1),\n",
       " ('tags_Ringing', True, 1),\n",
       " ('tags_Will revert after reading the email', True, 1)]"
      ]
     },
     "execution_count": 115,
     "metadata": {},
     "output_type": "execute_result"
    }
   ],
   "source": [
    "list(zip(x_train.columns, rfe.support_, rfe.ranking_))"
   ]
  },
  {
   "cell_type": "markdown",
   "id": "b3da97af",
   "metadata": {},
   "source": [
    "**RFE Ranking the column revelence above**"
   ]
  },
  {
   "cell_type": "markdown",
   "id": "a81bb6d3",
   "metadata": {},
   "source": [
    "### **FIRST MODEL** (Made using Feature Selection)"
   ]
  },
  {
   "cell_type": "markdown",
   "id": "a351fcb7",
   "metadata": {},
   "source": [
    "**Model Stats Using statsmodels**"
   ]
  },
  {
   "cell_type": "code",
   "execution_count": 116,
   "id": "5870a4ea",
   "metadata": {},
   "outputs": [
    {
     "data": {
      "text/html": [
       "<table class=\"simpletable\">\n",
       "<caption>Generalized Linear Model Regression Results</caption>\n",
       "<tr>\n",
       "  <th>Dep. Variable:</th>       <td>converted</td>    <th>  No. Observations:  </th>  <td>  6468</td> \n",
       "</tr>\n",
       "<tr>\n",
       "  <th>Model:</th>                  <td>GLM</td>       <th>  Df Residuals:      </th>  <td>  6451</td> \n",
       "</tr>\n",
       "<tr>\n",
       "  <th>Model Family:</th>        <td>Binomial</td>     <th>  Df Model:          </th>  <td>    16</td> \n",
       "</tr>\n",
       "<tr>\n",
       "  <th>Link Function:</th>         <td>Logit</td>      <th>  Scale:             </th> <td>  1.0000</td>\n",
       "</tr>\n",
       "<tr>\n",
       "  <th>Method:</th>                <td>IRLS</td>       <th>  Log-Likelihood:    </th> <td> -1577.8</td>\n",
       "</tr>\n",
       "<tr>\n",
       "  <th>Date:</th>            <td>Mon, 23 Jan 2023</td> <th>  Deviance:          </th> <td>  3155.5</td>\n",
       "</tr>\n",
       "<tr>\n",
       "  <th>Time:</th>                <td>21:38:08</td>     <th>  Pearson chi2:      </th> <td>1.51e+04</td>\n",
       "</tr>\n",
       "<tr>\n",
       "  <th>No. Iterations:</th>          <td>8</td>        <th>  Pseudo R-squ. (CS):</th>  <td>0.5719</td> \n",
       "</tr>\n",
       "<tr>\n",
       "  <th>Covariance Type:</th>     <td>nonrobust</td>    <th>                     </th>     <td> </td>   \n",
       "</tr>\n",
       "</table>\n",
       "<table class=\"simpletable\">\n",
       "<tr>\n",
       "                      <td></td>                        <th>coef</th>     <th>std err</th>      <th>z</th>      <th>P>|z|</th>  <th>[0.025</th>    <th>0.975]</th>  \n",
       "</tr>\n",
       "<tr>\n",
       "  <th>const</th>                                    <td>    0.2520</td> <td>    0.219</td> <td>    1.152</td> <td> 0.249</td> <td>   -0.177</td> <td>    0.681</td>\n",
       "</tr>\n",
       "<tr>\n",
       "  <th>time_on_website</th>                          <td>    1.0697</td> <td>    0.055</td> <td>   19.527</td> <td> 0.000</td> <td>    0.962</td> <td>    1.177</td>\n",
       "</tr>\n",
       "<tr>\n",
       "  <th>lead_origin_Landing Page Submission</th>      <td>   -0.5073</td> <td>    0.118</td> <td>   -4.295</td> <td> 0.000</td> <td>   -0.739</td> <td>   -0.276</td>\n",
       "</tr>\n",
       "<tr>\n",
       "  <th>lead_origin_Lead Add Form</th>                <td>    4.8400</td> <td>    0.492</td> <td>    9.831</td> <td> 0.000</td> <td>    3.875</td> <td>    5.805</td>\n",
       "</tr>\n",
       "<tr>\n",
       "  <th>lead_source_Olark Chat</th>                   <td>    0.4713</td> <td>    0.144</td> <td>    3.262</td> <td> 0.001</td> <td>    0.188</td> <td>    0.754</td>\n",
       "</tr>\n",
       "<tr>\n",
       "  <th>lead_source_Reference</th>                    <td>   -3.3432</td> <td>    0.625</td> <td>   -5.351</td> <td> 0.000</td> <td>   -4.568</td> <td>   -2.119</td>\n",
       "</tr>\n",
       "<tr>\n",
       "  <th>specialization_Services Excellence</th>       <td>   -0.5157</td> <td>    0.698</td> <td>   -0.739</td> <td> 0.460</td> <td>   -1.883</td> <td>    0.851</td>\n",
       "</tr>\n",
       "<tr>\n",
       "  <th>specialization_Travel and Tourism</th>        <td>   -0.7394</td> <td>    0.369</td> <td>   -2.003</td> <td> 0.045</td> <td>   -1.463</td> <td>   -0.016</td>\n",
       "</tr>\n",
       "<tr>\n",
       "  <th>occupation_Working Professional</th>          <td>    0.8185</td> <td>    0.338</td> <td>    2.420</td> <td> 0.016</td> <td>    0.156</td> <td>    1.481</td>\n",
       "</tr>\n",
       "<tr>\n",
       "  <th>city_Tier II Cities</th>                      <td>   -0.6773</td> <td>    0.625</td> <td>   -1.084</td> <td> 0.278</td> <td>   -1.902</td> <td>    0.547</td>\n",
       "</tr>\n",
       "<tr>\n",
       "  <th>tags_Closed by Horizzon</th>                  <td>    4.0217</td> <td>    0.751</td> <td>    5.355</td> <td> 0.000</td> <td>    2.550</td> <td>    5.494</td>\n",
       "</tr>\n",
       "<tr>\n",
       "  <th>tags_Interested in other courses</th>         <td>   -3.9424</td> <td>    0.377</td> <td>  -10.463</td> <td> 0.000</td> <td>   -4.681</td> <td>   -3.204</td>\n",
       "</tr>\n",
       "<tr>\n",
       "  <th>tags_Lost to EINS</th>                        <td>    2.9697</td> <td>    0.555</td> <td>    5.347</td> <td> 0.000</td> <td>    1.881</td> <td>    4.058</td>\n",
       "</tr>\n",
       "<tr>\n",
       "  <th>tags_Not Specified</th>                       <td>   -1.3884</td> <td>    0.207</td> <td>   -6.701</td> <td> 0.000</td> <td>   -1.795</td> <td>   -0.982</td>\n",
       "</tr>\n",
       "<tr>\n",
       "  <th>tags_Other_Tags</th>                          <td>   -3.7028</td> <td>    0.281</td> <td>  -13.200</td> <td> 0.000</td> <td>   -4.253</td> <td>   -3.153</td>\n",
       "</tr>\n",
       "<tr>\n",
       "  <th>tags_Ringing</th>                             <td>   -4.0483</td> <td>    0.308</td> <td>  -13.128</td> <td> 0.000</td> <td>   -4.653</td> <td>   -3.444</td>\n",
       "</tr>\n",
       "<tr>\n",
       "  <th>tags_Will revert after reading the email</th> <td>    2.9459</td> <td>    0.255</td> <td>   11.539</td> <td> 0.000</td> <td>    2.446</td> <td>    3.446</td>\n",
       "</tr>\n",
       "</table>"
      ],
      "text/plain": [
       "<class 'statsmodels.iolib.summary.Summary'>\n",
       "\"\"\"\n",
       "                 Generalized Linear Model Regression Results                  \n",
       "==============================================================================\n",
       "Dep. Variable:              converted   No. Observations:                 6468\n",
       "Model:                            GLM   Df Residuals:                     6451\n",
       "Model Family:                Binomial   Df Model:                           16\n",
       "Link Function:                  Logit   Scale:                          1.0000\n",
       "Method:                          IRLS   Log-Likelihood:                -1577.8\n",
       "Date:                Mon, 23 Jan 2023   Deviance:                       3155.5\n",
       "Time:                        21:38:08   Pearson chi2:                 1.51e+04\n",
       "No. Iterations:                     8   Pseudo R-squ. (CS):             0.5719\n",
       "Covariance Type:            nonrobust                                         \n",
       "============================================================================================================\n",
       "                                               coef    std err          z      P>|z|      [0.025      0.975]\n",
       "------------------------------------------------------------------------------------------------------------\n",
       "const                                        0.2520      0.219      1.152      0.249      -0.177       0.681\n",
       "time_on_website                              1.0697      0.055     19.527      0.000       0.962       1.177\n",
       "lead_origin_Landing Page Submission         -0.5073      0.118     -4.295      0.000      -0.739      -0.276\n",
       "lead_origin_Lead Add Form                    4.8400      0.492      9.831      0.000       3.875       5.805\n",
       "lead_source_Olark Chat                       0.4713      0.144      3.262      0.001       0.188       0.754\n",
       "lead_source_Reference                       -3.3432      0.625     -5.351      0.000      -4.568      -2.119\n",
       "specialization_Services Excellence          -0.5157      0.698     -0.739      0.460      -1.883       0.851\n",
       "specialization_Travel and Tourism           -0.7394      0.369     -2.003      0.045      -1.463      -0.016\n",
       "occupation_Working Professional              0.8185      0.338      2.420      0.016       0.156       1.481\n",
       "city_Tier II Cities                         -0.6773      0.625     -1.084      0.278      -1.902       0.547\n",
       "tags_Closed by Horizzon                      4.0217      0.751      5.355      0.000       2.550       5.494\n",
       "tags_Interested in other courses            -3.9424      0.377    -10.463      0.000      -4.681      -3.204\n",
       "tags_Lost to EINS                            2.9697      0.555      5.347      0.000       1.881       4.058\n",
       "tags_Not Specified                          -1.3884      0.207     -6.701      0.000      -1.795      -0.982\n",
       "tags_Other_Tags                             -3.7028      0.281    -13.200      0.000      -4.253      -3.153\n",
       "tags_Ringing                                -4.0483      0.308    -13.128      0.000      -4.653      -3.444\n",
       "tags_Will revert after reading the email     2.9459      0.255     11.539      0.000       2.446       3.446\n",
       "============================================================================================================\n",
       "\"\"\""
      ]
     },
     "execution_count": 116,
     "metadata": {},
     "output_type": "execute_result"
    }
   ],
   "source": [
    "#model 1\n",
    "x_train_sm = sm.add_constant(x_train[col])\n",
    "\n",
    "log1 = sm.GLM(y_train,x_train_sm, family = sm.families.Binomial())\n",
    "res = log1.fit()\n",
    "res.summary()"
   ]
  },
  {
   "cell_type": "code",
   "execution_count": null,
   "id": "ef5ab114",
   "metadata": {},
   "outputs": [],
   "source": []
  },
  {
   "cell_type": "code",
   "execution_count": 117,
   "id": "84d9b385",
   "metadata": {},
   "outputs": [],
   "source": [
    "col=col.drop(['specialization_Services Excellence'])\n",
    "# col=col.drop(['lead_origin_Landing Page Submission'])\n",
    "col=col.drop(['city_Tier II Cities'])"
   ]
  },
  {
   "cell_type": "markdown",
   "id": "03b9e17f",
   "metadata": {},
   "source": [
    "### **SECOND MODEL** (Made using Feature Selection)"
   ]
  },
  {
   "cell_type": "code",
   "execution_count": 118,
   "id": "2a4364a8",
   "metadata": {},
   "outputs": [
    {
     "data": {
      "text/html": [
       "<table class=\"simpletable\">\n",
       "<caption>Generalized Linear Model Regression Results</caption>\n",
       "<tr>\n",
       "  <th>Dep. Variable:</th>       <td>converted</td>    <th>  No. Observations:  </th>  <td>  6468</td> \n",
       "</tr>\n",
       "<tr>\n",
       "  <th>Model:</th>                  <td>GLM</td>       <th>  Df Residuals:      </th>  <td>  6453</td> \n",
       "</tr>\n",
       "<tr>\n",
       "  <th>Model Family:</th>        <td>Binomial</td>     <th>  Df Model:          </th>  <td>    14</td> \n",
       "</tr>\n",
       "<tr>\n",
       "  <th>Link Function:</th>         <td>Logit</td>      <th>  Scale:             </th> <td>  1.0000</td>\n",
       "</tr>\n",
       "<tr>\n",
       "  <th>Method:</th>                <td>IRLS</td>       <th>  Log-Likelihood:    </th> <td> -1578.6</td>\n",
       "</tr>\n",
       "<tr>\n",
       "  <th>Date:</th>            <td>Mon, 23 Jan 2023</td> <th>  Deviance:          </th> <td>  3157.3</td>\n",
       "</tr>\n",
       "<tr>\n",
       "  <th>Time:</th>                <td>21:39:12</td>     <th>  Pearson chi2:      </th> <td>1.50e+04</td>\n",
       "</tr>\n",
       "<tr>\n",
       "  <th>No. Iterations:</th>          <td>8</td>        <th>  Pseudo R-squ. (CS):</th>  <td>0.5718</td> \n",
       "</tr>\n",
       "<tr>\n",
       "  <th>Covariance Type:</th>     <td>nonrobust</td>    <th>                     </th>     <td> </td>   \n",
       "</tr>\n",
       "</table>\n",
       "<table class=\"simpletable\">\n",
       "<tr>\n",
       "                      <td></td>                        <th>coef</th>     <th>std err</th>      <th>z</th>      <th>P>|z|</th>  <th>[0.025</th>    <th>0.975]</th>  \n",
       "</tr>\n",
       "<tr>\n",
       "  <th>const</th>                                    <td>    0.2517</td> <td>    0.219</td> <td>    1.151</td> <td> 0.250</td> <td>   -0.177</td> <td>    0.680</td>\n",
       "</tr>\n",
       "<tr>\n",
       "  <th>time_on_website</th>                          <td>    1.0698</td> <td>    0.055</td> <td>   19.531</td> <td> 0.000</td> <td>    0.962</td> <td>    1.177</td>\n",
       "</tr>\n",
       "<tr>\n",
       "  <th>lead_origin_Landing Page Submission</th>      <td>   -0.5195</td> <td>    0.118</td> <td>   -4.410</td> <td> 0.000</td> <td>   -0.750</td> <td>   -0.289</td>\n",
       "</tr>\n",
       "<tr>\n",
       "  <th>lead_origin_Lead Add Form</th>                <td>    4.8406</td> <td>    0.492</td> <td>    9.833</td> <td> 0.000</td> <td>    3.876</td> <td>    5.805</td>\n",
       "</tr>\n",
       "<tr>\n",
       "  <th>lead_source_Olark Chat</th>                   <td>    0.4721</td> <td>    0.144</td> <td>    3.268</td> <td> 0.001</td> <td>    0.189</td> <td>    0.755</td>\n",
       "</tr>\n",
       "<tr>\n",
       "  <th>lead_source_Reference</th>                    <td>   -3.3421</td> <td>    0.625</td> <td>   -5.351</td> <td> 0.000</td> <td>   -4.566</td> <td>   -2.118</td>\n",
       "</tr>\n",
       "<tr>\n",
       "  <th>specialization_Travel and Tourism</th>        <td>   -0.7626</td> <td>    0.368</td> <td>   -2.072</td> <td> 0.038</td> <td>   -1.484</td> <td>   -0.041</td>\n",
       "</tr>\n",
       "<tr>\n",
       "  <th>occupation_Working Professional</th>          <td>    0.8138</td> <td>    0.338</td> <td>    2.410</td> <td> 0.016</td> <td>    0.152</td> <td>    1.476</td>\n",
       "</tr>\n",
       "<tr>\n",
       "  <th>tags_Closed by Horizzon</th>                  <td>    4.0263</td> <td>    0.751</td> <td>    5.362</td> <td> 0.000</td> <td>    2.555</td> <td>    5.498</td>\n",
       "</tr>\n",
       "<tr>\n",
       "  <th>tags_Interested in other courses</th>         <td>   -3.9459</td> <td>    0.377</td> <td>  -10.476</td> <td> 0.000</td> <td>   -4.684</td> <td>   -3.208</td>\n",
       "</tr>\n",
       "<tr>\n",
       "  <th>tags_Lost to EINS</th>                        <td>    2.9568</td> <td>    0.554</td> <td>    5.336</td> <td> 0.000</td> <td>    1.871</td> <td>    4.043</td>\n",
       "</tr>\n",
       "<tr>\n",
       "  <th>tags_Not Specified</th>                       <td>   -1.3887</td> <td>    0.207</td> <td>   -6.710</td> <td> 0.000</td> <td>   -1.794</td> <td>   -0.983</td>\n",
       "</tr>\n",
       "<tr>\n",
       "  <th>tags_Other_Tags</th>                          <td>   -3.7024</td> <td>    0.280</td> <td>  -13.209</td> <td> 0.000</td> <td>   -4.252</td> <td>   -3.153</td>\n",
       "</tr>\n",
       "<tr>\n",
       "  <th>tags_Ringing</th>                             <td>   -4.0465</td> <td>    0.308</td> <td>  -13.132</td> <td> 0.000</td> <td>   -4.650</td> <td>   -3.443</td>\n",
       "</tr>\n",
       "<tr>\n",
       "  <th>tags_Will revert after reading the email</th> <td>    2.9430</td> <td>    0.255</td> <td>   11.544</td> <td> 0.000</td> <td>    2.443</td> <td>    3.443</td>\n",
       "</tr>\n",
       "</table>"
      ],
      "text/plain": [
       "<class 'statsmodels.iolib.summary.Summary'>\n",
       "\"\"\"\n",
       "                 Generalized Linear Model Regression Results                  \n",
       "==============================================================================\n",
       "Dep. Variable:              converted   No. Observations:                 6468\n",
       "Model:                            GLM   Df Residuals:                     6453\n",
       "Model Family:                Binomial   Df Model:                           14\n",
       "Link Function:                  Logit   Scale:                          1.0000\n",
       "Method:                          IRLS   Log-Likelihood:                -1578.6\n",
       "Date:                Mon, 23 Jan 2023   Deviance:                       3157.3\n",
       "Time:                        21:39:12   Pearson chi2:                 1.50e+04\n",
       "No. Iterations:                     8   Pseudo R-squ. (CS):             0.5718\n",
       "Covariance Type:            nonrobust                                         \n",
       "============================================================================================================\n",
       "                                               coef    std err          z      P>|z|      [0.025      0.975]\n",
       "------------------------------------------------------------------------------------------------------------\n",
       "const                                        0.2517      0.219      1.151      0.250      -0.177       0.680\n",
       "time_on_website                              1.0698      0.055     19.531      0.000       0.962       1.177\n",
       "lead_origin_Landing Page Submission         -0.5195      0.118     -4.410      0.000      -0.750      -0.289\n",
       "lead_origin_Lead Add Form                    4.8406      0.492      9.833      0.000       3.876       5.805\n",
       "lead_source_Olark Chat                       0.4721      0.144      3.268      0.001       0.189       0.755\n",
       "lead_source_Reference                       -3.3421      0.625     -5.351      0.000      -4.566      -2.118\n",
       "specialization_Travel and Tourism           -0.7626      0.368     -2.072      0.038      -1.484      -0.041\n",
       "occupation_Working Professional              0.8138      0.338      2.410      0.016       0.152       1.476\n",
       "tags_Closed by Horizzon                      4.0263      0.751      5.362      0.000       2.555       5.498\n",
       "tags_Interested in other courses            -3.9459      0.377    -10.476      0.000      -4.684      -3.208\n",
       "tags_Lost to EINS                            2.9568      0.554      5.336      0.000       1.871       4.043\n",
       "tags_Not Specified                          -1.3887      0.207     -6.710      0.000      -1.794      -0.983\n",
       "tags_Other_Tags                             -3.7024      0.280    -13.209      0.000      -4.252      -3.153\n",
       "tags_Ringing                                -4.0465      0.308    -13.132      0.000      -4.650      -3.443\n",
       "tags_Will revert after reading the email     2.9430      0.255     11.544      0.000       2.443       3.443\n",
       "============================================================================================================\n",
       "\"\"\""
      ]
     },
     "execution_count": 118,
     "metadata": {},
     "output_type": "execute_result"
    }
   ],
   "source": [
    "#model 2\n",
    "x_train_sm = sm.add_constant(x_train[col])\n",
    "\n",
    "logm2 = sm.GLM(y_train,x_train_sm, family = sm.families.Binomial())\n",
    "res = logm2.fit()\n",
    "res.summary()"
   ]
  },
  {
   "cell_type": "code",
   "execution_count": 93,
   "id": "80aeffc6",
   "metadata": {},
   "outputs": [
    {
     "data": {
      "text/plain": [
       "array([0.14325439, 0.85606618, 0.99929508, ..., 0.16607602, 0.09443467,\n",
       "       0.53081616])"
      ]
     },
     "execution_count": 93,
     "metadata": {},
     "output_type": "execute_result"
    }
   ],
   "source": [
    "y_train_pred = res.predict(x_train_sm).values.reshape(-1)\n",
    "y_train_pred"
   ]
  },
  {
   "cell_type": "code",
   "execution_count": 121,
   "id": "1ce0446b",
   "metadata": {},
   "outputs": [
    {
     "data": {
      "text/html": [
       "<div>\n",
       "<style scoped>\n",
       "    .dataframe tbody tr th:only-of-type {\n",
       "        vertical-align: middle;\n",
       "    }\n",
       "\n",
       "    .dataframe tbody tr th {\n",
       "        vertical-align: top;\n",
       "    }\n",
       "\n",
       "    .dataframe thead th {\n",
       "        text-align: right;\n",
       "    }\n",
       "</style>\n",
       "<table border=\"1\" class=\"dataframe\">\n",
       "  <thead>\n",
       "    <tr style=\"text-align: right;\">\n",
       "      <th></th>\n",
       "      <th>Converted</th>\n",
       "      <th>Converted_Prob</th>\n",
       "      <th>Lead_score</th>\n",
       "    </tr>\n",
       "  </thead>\n",
       "  <tbody>\n",
       "    <tr>\n",
       "      <th>0</th>\n",
       "      <td>0</td>\n",
       "      <td>0.14</td>\n",
       "      <td>14.33</td>\n",
       "    </tr>\n",
       "    <tr>\n",
       "      <th>1</th>\n",
       "      <td>1</td>\n",
       "      <td>0.86</td>\n",
       "      <td>85.61</td>\n",
       "    </tr>\n",
       "    <tr>\n",
       "      <th>2</th>\n",
       "      <td>1</td>\n",
       "      <td>1.00</td>\n",
       "      <td>99.93</td>\n",
       "    </tr>\n",
       "    <tr>\n",
       "      <th>3</th>\n",
       "      <td>1</td>\n",
       "      <td>0.99</td>\n",
       "      <td>98.87</td>\n",
       "    </tr>\n",
       "    <tr>\n",
       "      <th>4</th>\n",
       "      <td>0</td>\n",
       "      <td>0.04</td>\n",
       "      <td>3.57</td>\n",
       "    </tr>\n",
       "  </tbody>\n",
       "</table>\n",
       "</div>"
      ],
      "text/plain": [
       "   Converted  Converted_Prob  Lead_score\n",
       "0          0            0.14       14.33\n",
       "1          1            0.86       85.61\n",
       "2          1            1.00       99.93\n",
       "3          1            0.99       98.87\n",
       "4          0            0.04        3.57"
      ]
     },
     "execution_count": 121,
     "metadata": {},
     "output_type": "execute_result"
    }
   ],
   "source": [
    "y_train_pred_final = pd.DataFrame({'Converted': y_train.values, 'Converted_Prob': y_train_pred,'Lead_score':y_train_pred*100})\n",
    "y_train_pred_final.head()"
   ]
  },
  {
   "cell_type": "code",
   "execution_count": 122,
   "id": "7d4b6c53",
   "metadata": {},
   "outputs": [
    {
     "data": {
      "text/html": [
       "<div>\n",
       "<style scoped>\n",
       "    .dataframe tbody tr th:only-of-type {\n",
       "        vertical-align: middle;\n",
       "    }\n",
       "\n",
       "    .dataframe tbody tr th {\n",
       "        vertical-align: top;\n",
       "    }\n",
       "\n",
       "    .dataframe thead th {\n",
       "        text-align: right;\n",
       "    }\n",
       "</style>\n",
       "<table border=\"1\" class=\"dataframe\">\n",
       "  <thead>\n",
       "    <tr style=\"text-align: right;\">\n",
       "      <th></th>\n",
       "      <th>Converted</th>\n",
       "      <th>Converted_Prob</th>\n",
       "      <th>Lead_score</th>\n",
       "      <th>Predicted</th>\n",
       "    </tr>\n",
       "  </thead>\n",
       "  <tbody>\n",
       "    <tr>\n",
       "      <th>0</th>\n",
       "      <td>0</td>\n",
       "      <td>0.14</td>\n",
       "      <td>14.33</td>\n",
       "      <td>0</td>\n",
       "    </tr>\n",
       "    <tr>\n",
       "      <th>1</th>\n",
       "      <td>1</td>\n",
       "      <td>0.86</td>\n",
       "      <td>85.61</td>\n",
       "      <td>1</td>\n",
       "    </tr>\n",
       "    <tr>\n",
       "      <th>2</th>\n",
       "      <td>1</td>\n",
       "      <td>1.00</td>\n",
       "      <td>99.93</td>\n",
       "      <td>1</td>\n",
       "    </tr>\n",
       "    <tr>\n",
       "      <th>3</th>\n",
       "      <td>1</td>\n",
       "      <td>0.99</td>\n",
       "      <td>98.87</td>\n",
       "      <td>1</td>\n",
       "    </tr>\n",
       "    <tr>\n",
       "      <th>4</th>\n",
       "      <td>0</td>\n",
       "      <td>0.04</td>\n",
       "      <td>3.57</td>\n",
       "      <td>0</td>\n",
       "    </tr>\n",
       "  </tbody>\n",
       "</table>\n",
       "</div>"
      ],
      "text/plain": [
       "   Converted  Converted_Prob  Lead_score  Predicted\n",
       "0          0            0.14       14.33          0\n",
       "1          1            0.86       85.61          1\n",
       "2          1            1.00       99.93          1\n",
       "3          1            0.99       98.87          1\n",
       "4          0            0.04        3.57          0"
      ]
     },
     "execution_count": 122,
     "metadata": {},
     "output_type": "execute_result"
    }
   ],
   "source": [
    "y_train_pred_final['Predicted'] = y_train_pred_final.Converted_Prob.map(lambda x: 1 if x > 0.5 else 0)\n",
    "y_train_pred_final.head()\n"
   ]
  },
  {
   "cell_type": "code",
   "execution_count": 128,
   "id": "511785ea",
   "metadata": {},
   "outputs": [],
   "source": [
    "from sklearn import metrics\n",
    "accuracy=round(metrics.accuracy_score(y_true= y_train_pred_final.Converted, y_pred= y_train_pred_final.Predicted),2)"
   ]
  },
  {
   "cell_type": "code",
   "execution_count": 129,
   "id": "a4527dff",
   "metadata": {},
   "outputs": [
    {
     "name": "stdout",
     "output_type": "stream",
     "text": [
      "0.91\n"
     ]
    }
   ],
   "source": [
    "print(accuracy)"
   ]
  },
  {
   "cell_type": "code",
   "execution_count": 143,
   "id": "35c21efb",
   "metadata": {},
   "outputs": [
    {
     "data": {
      "text/plain": [
       "<Figure size 1800x1800 with 0 Axes>"
      ]
     },
     "metadata": {},
     "output_type": "display_data"
    },
    {
     "data": {
      "image/png": "[encoded data removed]",
      "text/plain": [
       "<Figure size 432x288 with 1 Axes>"
      ]
     },
     "metadata": {},
     "output_type": "display_data"
    }
   ],
   "source": [
    "confusion = metrics.confusion_matrix(y_true= y_train_pred_final.Converted, y_pred= y_train_pred_final.Predicted)\n",
    "\n",
    "from mlxtend.plotting import plot_confusion_matrix \n",
    "plt.figure(figsize=(25,25))\n",
    "plot_confusion_matrix(conf_mat=confusion,cmap='BuPu')\n",
    "plt.xlabel('Predictions', fontsize=15)\n",
    "plt.ylabel('Actuals', fontsize=12)\n",
    "plt.title('Confusion Matrix', fontsize=12)\n",
    "plt.show()"
   ]
  },
  {
   "cell_type": "code",
   "execution_count": 145,
   "id": "497da07c",
   "metadata": {},
   "outputs": [
    {
     "name": "stdout",
     "output_type": "stream",
     "text": [
      "[[3784  170]\n",
      " [ 443 2071]]\n"
     ]
    }
   ],
   "source": [
    "print(confusion)"
   ]
  },
  {
   "cell_type": "code",
   "execution_count": null,
   "id": "e4a27fb1",
   "metadata": {},
   "outputs": [],
   "source": []
  }
 ],
 "metadata": {
  "kernelspec": {
   "display_name": "Python 3 (ipykernel)",
   "language": "python",
   "name": "python3"
  },
  "language_info": {
   "codemirror_mode": {
    "name": "ipython",
    "version": 3
   },
   "file_extension": ".py",
   "mimetype": "text/x-python",
   "name": "python",
   "nbconvert_exporter": "python",
   "pygments_lexer": "ipython3",
   "version": "3.9.12"
  }
 },
 "nbformat": 4,
 "nbformat_minor": 5
}
