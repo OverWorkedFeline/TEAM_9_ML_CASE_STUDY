{
 "cells": [
  {
   "cell_type": "markdown",
   "id": "3df646bb",
   "metadata": {},
   "source": [
    "## LEAD SCORING CASE STUDY (TEAM 9 SEPT 2022 MODULE EXAM)"
   ]
  },
  {
   "cell_type": "markdown",
   "id": "ebcaa627",
   "metadata": {},
   "source": [
    "### PROBLEM STATEMENT\n",
    "\n",
    "    An education company named X Education sells online courses to our industry professionals.\n",
    "    many professionals who are interested in the courses land on their website for courses.\n",
    "    \n",
    "    The company is using social Media marketing on various websites and search engines like google\n",
    "    once the people land on websites, they might get intrested and browse courses or fill up a \n",
    "    form for the course or watch videos.\n",
    "    1. Important to know that these people are classified as leads as they fill up a form \n",
    "    providing their email address or phone number. \n",
    "    Moreover, the company also gets leads through past referrals\n",
    "    2. Important to know that once the they get a lead. sales team contacts them.\n",
    "    3. Important to know that Thru this process, some of the leads get converted while most do \n",
    "    not. TYPICAL LEAD CONVERSION RATE IS ABOUT 30%.\n",
    "    \n",
    "    X Education has now hired you!!!\n",
    "    They have given you a task.\n",
    "    1. SELECT THE MOST PROMISING LEADS. i.e. the leads that are most likely to convert into paying \n",
    "    customers.\n",
    "    2. The company requires a model. wherein you need to assign a leadscore to each of the leads\n",
    "    such that the customers with higher lead socre have a higher conversion chance and the\n",
    "    customers with lower lead score havd a lower conversion chance.\n",
    "    3. The CEO, in particular has given a target lead conversion rate to be around 80%.\n",
    "    "
   ]
  },
  {
   "cell_type": "markdown",
   "id": "60054c0b",
   "metadata": {},
   "source": [
    "### GOALS OF THE CASE STUDY\n",
    "\n",
    "    1. Build a LOGISTIC REGRESSION MODEL to assign a lead score between 0 and 100 to each of the \n",
    "    leads which can be used by the company to target potential sales.\n",
    "    2. higher the score would mean that the lead is hot.\n",
    "    hot here means the lead is most likely to convert, whereas a lower score would mean that\n",
    "    the lead is cold and will most likely skip."
   ]
  },
  {
   "cell_type": "code",
   "execution_count": 1,
   "id": "f6fe6304",
   "metadata": {},
   "outputs": [],
   "source": [
    "#basic modules\n",
    "import pandas as pd\n",
    "import numpy as np\n",
    "#data Visualization modules\n",
    "import matplotlib.pyplot as plt\n",
    "import seaborn as sns\n",
    "#supress warnings\n",
    "import warnings\n",
    "warnings.filterwarnings('ignore')\n",
    "#increase view limits\n",
    "pd.options.display.max_columns = None\n",
    "pd.options.display.max_rows = 100\n",
    "pd.options.display.float_format= '{:.2f}'.format"
   ]
  },
  {
   "cell_type": "markdown",
   "id": "bcc99d66",
   "metadata": {},
   "source": [
    "### Reading and Understanding Data"
   ]
  },
  {
   "cell_type": "code",
   "execution_count": 2,
   "id": "f64a90b2",
   "metadata": {},
   "outputs": [],
   "source": [
    "# importing os \n",
    "import os\n",
    "os.chdir(r\"C:\\Users\\stanl\\Downloads\")"
   ]
  },
  {
   "cell_type": "code",
   "execution_count": 3,
   "id": "3503952b",
   "metadata": {},
   "outputs": [
    {
     "data": {
      "text/html": [
       "<div>\n",
       "<style scoped>\n",
       "    .dataframe tbody tr th:only-of-type {\n",
       "        vertical-align: middle;\n",
       "    }\n",
       "\n",
       "    .dataframe tbody tr th {\n",
       "        vertical-align: top;\n",
       "    }\n",
       "\n",
       "    .dataframe thead th {\n",
       "        text-align: right;\n",
       "    }\n",
       "</style>\n",
       "<table border=\"1\" class=\"dataframe\">\n",
       "  <thead>\n",
       "    <tr style=\"text-align: right;\">\n",
       "      <th></th>\n",
       "      <th>Prospect ID</th>\n",
       "      <th>Lead Number</th>\n",
       "      <th>Lead Origin</th>\n",
       "      <th>Lead Source</th>\n",
       "      <th>Do Not Email</th>\n",
       "      <th>Do Not Call</th>\n",
       "      <th>Converted</th>\n",
       "      <th>TotalVisits</th>\n",
       "      <th>Total Time Spent on Website</th>\n",
       "      <th>Page Views Per Visit</th>\n",
       "      <th>Last Activity</th>\n",
       "      <th>Country</th>\n",
       "      <th>Specialization</th>\n",
       "      <th>How did you hear about X Education</th>\n",
       "      <th>What is your current occupation</th>\n",
       "      <th>What matters most to you in choosing a course</th>\n",
       "      <th>Search</th>\n",
       "      <th>Magazine</th>\n",
       "      <th>Newspaper Article</th>\n",
       "      <th>X Education Forums</th>\n",
       "      <th>Newspaper</th>\n",
       "      <th>Digital Advertisement</th>\n",
       "      <th>Through Recommendations</th>\n",
       "      <th>Receive More Updates About Our Courses</th>\n",
       "      <th>Tags</th>\n",
       "      <th>Lead Quality</th>\n",
       "      <th>Update me on Supply Chain Content</th>\n",
       "      <th>Get updates on DM Content</th>\n",
       "      <th>Lead Profile</th>\n",
       "      <th>City</th>\n",
       "      <th>Asymmetrique Activity Index</th>\n",
       "      <th>Asymmetrique Profile Index</th>\n",
       "      <th>Asymmetrique Activity Score</th>\n",
       "      <th>Asymmetrique Profile Score</th>\n",
       "      <th>I agree to pay the amount through cheque</th>\n",
       "      <th>A free copy of Mastering The Interview</th>\n",
       "      <th>Last Notable Activity</th>\n",
       "    </tr>\n",
       "  </thead>\n",
       "  <tbody>\n",
       "    <tr>\n",
       "      <th>0</th>\n",
       "      <td>7927b2df-8bba-4d29-b9a2-b6e0beafe620</td>\n",
       "      <td>660737</td>\n",
       "      <td>API</td>\n",
       "      <td>Olark Chat</td>\n",
       "      <td>No</td>\n",
       "      <td>No</td>\n",
       "      <td>0</td>\n",
       "      <td>0.00</td>\n",
       "      <td>0</td>\n",
       "      <td>0.00</td>\n",
       "      <td>Page Visited on Website</td>\n",
       "      <td>NaN</td>\n",
       "      <td>Select</td>\n",
       "      <td>Select</td>\n",
       "      <td>Unemployed</td>\n",
       "      <td>Better Career Prospects</td>\n",
       "      <td>No</td>\n",
       "      <td>No</td>\n",
       "      <td>No</td>\n",
       "      <td>No</td>\n",
       "      <td>No</td>\n",
       "      <td>No</td>\n",
       "      <td>No</td>\n",
       "      <td>No</td>\n",
       "      <td>Interested in other courses</td>\n",
       "      <td>Low in Relevance</td>\n",
       "      <td>No</td>\n",
       "      <td>No</td>\n",
       "      <td>Select</td>\n",
       "      <td>Select</td>\n",
       "      <td>02.Medium</td>\n",
       "      <td>02.Medium</td>\n",
       "      <td>15.00</td>\n",
       "      <td>15.00</td>\n",
       "      <td>No</td>\n",
       "      <td>No</td>\n",
       "      <td>Modified</td>\n",
       "    </tr>\n",
       "    <tr>\n",
       "      <th>1</th>\n",
       "      <td>2a272436-5132-4136-86fa-dcc88c88f482</td>\n",
       "      <td>660728</td>\n",
       "      <td>API</td>\n",
       "      <td>Organic Search</td>\n",
       "      <td>No</td>\n",
       "      <td>No</td>\n",
       "      <td>0</td>\n",
       "      <td>5.00</td>\n",
       "      <td>674</td>\n",
       "      <td>2.50</td>\n",
       "      <td>Email Opened</td>\n",
       "      <td>India</td>\n",
       "      <td>Select</td>\n",
       "      <td>Select</td>\n",
       "      <td>Unemployed</td>\n",
       "      <td>Better Career Prospects</td>\n",
       "      <td>No</td>\n",
       "      <td>No</td>\n",
       "      <td>No</td>\n",
       "      <td>No</td>\n",
       "      <td>No</td>\n",
       "      <td>No</td>\n",
       "      <td>No</td>\n",
       "      <td>No</td>\n",
       "      <td>Ringing</td>\n",
       "      <td>NaN</td>\n",
       "      <td>No</td>\n",
       "      <td>No</td>\n",
       "      <td>Select</td>\n",
       "      <td>Select</td>\n",
       "      <td>02.Medium</td>\n",
       "      <td>02.Medium</td>\n",
       "      <td>15.00</td>\n",
       "      <td>15.00</td>\n",
       "      <td>No</td>\n",
       "      <td>No</td>\n",
       "      <td>Email Opened</td>\n",
       "    </tr>\n",
       "    <tr>\n",
       "      <th>2</th>\n",
       "      <td>8cc8c611-a219-4f35-ad23-fdfd2656bd8a</td>\n",
       "      <td>660727</td>\n",
       "      <td>Landing Page Submission</td>\n",
       "      <td>Direct Traffic</td>\n",
       "      <td>No</td>\n",
       "      <td>No</td>\n",
       "      <td>1</td>\n",
       "      <td>2.00</td>\n",
       "      <td>1532</td>\n",
       "      <td>2.00</td>\n",
       "      <td>Email Opened</td>\n",
       "      <td>India</td>\n",
       "      <td>Business Administration</td>\n",
       "      <td>Select</td>\n",
       "      <td>Student</td>\n",
       "      <td>Better Career Prospects</td>\n",
       "      <td>No</td>\n",
       "      <td>No</td>\n",
       "      <td>No</td>\n",
       "      <td>No</td>\n",
       "      <td>No</td>\n",
       "      <td>No</td>\n",
       "      <td>No</td>\n",
       "      <td>No</td>\n",
       "      <td>Will revert after reading the email</td>\n",
       "      <td>Might be</td>\n",
       "      <td>No</td>\n",
       "      <td>No</td>\n",
       "      <td>Potential Lead</td>\n",
       "      <td>Mumbai</td>\n",
       "      <td>02.Medium</td>\n",
       "      <td>01.High</td>\n",
       "      <td>14.00</td>\n",
       "      <td>20.00</td>\n",
       "      <td>No</td>\n",
       "      <td>Yes</td>\n",
       "      <td>Email Opened</td>\n",
       "    </tr>\n",
       "    <tr>\n",
       "      <th>3</th>\n",
       "      <td>0cc2df48-7cf4-4e39-9de9-19797f9b38cc</td>\n",
       "      <td>660719</td>\n",
       "      <td>Landing Page Submission</td>\n",
       "      <td>Direct Traffic</td>\n",
       "      <td>No</td>\n",
       "      <td>No</td>\n",
       "      <td>0</td>\n",
       "      <td>1.00</td>\n",
       "      <td>305</td>\n",
       "      <td>1.00</td>\n",
       "      <td>Unreachable</td>\n",
       "      <td>India</td>\n",
       "      <td>Media and Advertising</td>\n",
       "      <td>Word Of Mouth</td>\n",
       "      <td>Unemployed</td>\n",
       "      <td>Better Career Prospects</td>\n",
       "      <td>No</td>\n",
       "      <td>No</td>\n",
       "      <td>No</td>\n",
       "      <td>No</td>\n",
       "      <td>No</td>\n",
       "      <td>No</td>\n",
       "      <td>No</td>\n",
       "      <td>No</td>\n",
       "      <td>Ringing</td>\n",
       "      <td>Not Sure</td>\n",
       "      <td>No</td>\n",
       "      <td>No</td>\n",
       "      <td>Select</td>\n",
       "      <td>Mumbai</td>\n",
       "      <td>02.Medium</td>\n",
       "      <td>01.High</td>\n",
       "      <td>13.00</td>\n",
       "      <td>17.00</td>\n",
       "      <td>No</td>\n",
       "      <td>No</td>\n",
       "      <td>Modified</td>\n",
       "    </tr>\n",
       "    <tr>\n",
       "      <th>4</th>\n",
       "      <td>3256f628-e534-4826-9d63-4a8b88782852</td>\n",
       "      <td>660681</td>\n",
       "      <td>Landing Page Submission</td>\n",
       "      <td>Google</td>\n",
       "      <td>No</td>\n",
       "      <td>No</td>\n",
       "      <td>1</td>\n",
       "      <td>2.00</td>\n",
       "      <td>1428</td>\n",
       "      <td>1.00</td>\n",
       "      <td>Converted to Lead</td>\n",
       "      <td>India</td>\n",
       "      <td>Select</td>\n",
       "      <td>Other</td>\n",
       "      <td>Unemployed</td>\n",
       "      <td>Better Career Prospects</td>\n",
       "      <td>No</td>\n",
       "      <td>No</td>\n",
       "      <td>No</td>\n",
       "      <td>No</td>\n",
       "      <td>No</td>\n",
       "      <td>No</td>\n",
       "      <td>No</td>\n",
       "      <td>No</td>\n",
       "      <td>Will revert after reading the email</td>\n",
       "      <td>Might be</td>\n",
       "      <td>No</td>\n",
       "      <td>No</td>\n",
       "      <td>Select</td>\n",
       "      <td>Mumbai</td>\n",
       "      <td>02.Medium</td>\n",
       "      <td>01.High</td>\n",
       "      <td>15.00</td>\n",
       "      <td>18.00</td>\n",
       "      <td>No</td>\n",
       "      <td>No</td>\n",
       "      <td>Modified</td>\n",
       "    </tr>\n",
       "  </tbody>\n",
       "</table>\n",
       "</div>"
      ],
      "text/plain": [
       "                            Prospect ID  Lead Number              Lead Origin  \\\n",
       "0  7927b2df-8bba-4d29-b9a2-b6e0beafe620       660737                      API   \n",
       "1  2a272436-5132-4136-86fa-dcc88c88f482       660728                      API   \n",
       "2  8cc8c611-a219-4f35-ad23-fdfd2656bd8a       660727  Landing Page Submission   \n",
       "3  0cc2df48-7cf4-4e39-9de9-19797f9b38cc       660719  Landing Page Submission   \n",
       "4  3256f628-e534-4826-9d63-4a8b88782852       660681  Landing Page Submission   \n",
       "\n",
       "      Lead Source Do Not Email Do Not Call  Converted  TotalVisits  \\\n",
       "0      Olark Chat           No          No          0         0.00   \n",
       "1  Organic Search           No          No          0         5.00   \n",
       "2  Direct Traffic           No          No          1         2.00   \n",
       "3  Direct Traffic           No          No          0         1.00   \n",
       "4          Google           No          No          1         2.00   \n",
       "\n",
       "   Total Time Spent on Website  Page Views Per Visit            Last Activity  \\\n",
       "0                            0                  0.00  Page Visited on Website   \n",
       "1                          674                  2.50             Email Opened   \n",
       "2                         1532                  2.00             Email Opened   \n",
       "3                          305                  1.00              Unreachable   \n",
       "4                         1428                  1.00        Converted to Lead   \n",
       "\n",
       "  Country           Specialization How did you hear about X Education  \\\n",
       "0     NaN                   Select                             Select   \n",
       "1   India                   Select                             Select   \n",
       "2   India  Business Administration                             Select   \n",
       "3   India    Media and Advertising                      Word Of Mouth   \n",
       "4   India                   Select                              Other   \n",
       "\n",
       "  What is your current occupation  \\\n",
       "0                      Unemployed   \n",
       "1                      Unemployed   \n",
       "2                         Student   \n",
       "3                      Unemployed   \n",
       "4                      Unemployed   \n",
       "\n",
       "  What matters most to you in choosing a course Search Magazine  \\\n",
       "0                       Better Career Prospects     No       No   \n",
       "1                       Better Career Prospects     No       No   \n",
       "2                       Better Career Prospects     No       No   \n",
       "3                       Better Career Prospects     No       No   \n",
       "4                       Better Career Prospects     No       No   \n",
       "\n",
       "  Newspaper Article X Education Forums Newspaper Digital Advertisement  \\\n",
       "0                No                 No        No                    No   \n",
       "1                No                 No        No                    No   \n",
       "2                No                 No        No                    No   \n",
       "3                No                 No        No                    No   \n",
       "4                No                 No        No                    No   \n",
       "\n",
       "  Through Recommendations Receive More Updates About Our Courses  \\\n",
       "0                      No                                     No   \n",
       "1                      No                                     No   \n",
       "2                      No                                     No   \n",
       "3                      No                                     No   \n",
       "4                      No                                     No   \n",
       "\n",
       "                                  Tags      Lead Quality  \\\n",
       "0          Interested in other courses  Low in Relevance   \n",
       "1                              Ringing               NaN   \n",
       "2  Will revert after reading the email          Might be   \n",
       "3                              Ringing          Not Sure   \n",
       "4  Will revert after reading the email          Might be   \n",
       "\n",
       "  Update me on Supply Chain Content Get updates on DM Content    Lead Profile  \\\n",
       "0                                No                        No          Select   \n",
       "1                                No                        No          Select   \n",
       "2                                No                        No  Potential Lead   \n",
       "3                                No                        No          Select   \n",
       "4                                No                        No          Select   \n",
       "\n",
       "     City Asymmetrique Activity Index Asymmetrique Profile Index  \\\n",
       "0  Select                   02.Medium                  02.Medium   \n",
       "1  Select                   02.Medium                  02.Medium   \n",
       "2  Mumbai                   02.Medium                    01.High   \n",
       "3  Mumbai                   02.Medium                    01.High   \n",
       "4  Mumbai                   02.Medium                    01.High   \n",
       "\n",
       "   Asymmetrique Activity Score  Asymmetrique Profile Score  \\\n",
       "0                        15.00                       15.00   \n",
       "1                        15.00                       15.00   \n",
       "2                        14.00                       20.00   \n",
       "3                        13.00                       17.00   \n",
       "4                        15.00                       18.00   \n",
       "\n",
       "  I agree to pay the amount through cheque  \\\n",
       "0                                       No   \n",
       "1                                       No   \n",
       "2                                       No   \n",
       "3                                       No   \n",
       "4                                       No   \n",
       "\n",
       "  A free copy of Mastering The Interview Last Notable Activity  \n",
       "0                                     No              Modified  \n",
       "1                                     No          Email Opened  \n",
       "2                                    Yes          Email Opened  \n",
       "3                                     No              Modified  \n",
       "4                                     No              Modified  "
      ]
     },
     "execution_count": 3,
     "metadata": {},
     "output_type": "execute_result"
    }
   ],
   "source": [
    "#reading the data file using pandas.\n",
    "df = pd.read_csv('Leads.csv')\n",
    "\n",
    "df.head()"
   ]
  },
  {
   "cell_type": "code",
   "execution_count": 4,
   "id": "6bc77c9c",
   "metadata": {},
   "outputs": [
    {
     "data": {
      "text/plain": [
       "(9240, 37)"
      ]
     },
     "execution_count": 4,
     "metadata": {},
     "output_type": "execute_result"
    }
   ],
   "source": [
    "# checking shape\n",
    "df.shape\n",
    "\n",
    "# 9240 rows and 37 columns"
   ]
  },
  {
   "cell_type": "code",
   "execution_count": 5,
   "id": "d3580b94",
   "metadata": {},
   "outputs": [
    {
     "data": {
      "text/html": [
       "<div>\n",
       "<style scoped>\n",
       "    .dataframe tbody tr th:only-of-type {\n",
       "        vertical-align: middle;\n",
       "    }\n",
       "\n",
       "    .dataframe tbody tr th {\n",
       "        vertical-align: top;\n",
       "    }\n",
       "\n",
       "    .dataframe thead th {\n",
       "        text-align: right;\n",
       "    }\n",
       "</style>\n",
       "<table border=\"1\" class=\"dataframe\">\n",
       "  <thead>\n",
       "    <tr style=\"text-align: right;\">\n",
       "      <th></th>\n",
       "      <th>Lead Number</th>\n",
       "      <th>Converted</th>\n",
       "      <th>TotalVisits</th>\n",
       "      <th>Total Time Spent on Website</th>\n",
       "      <th>Page Views Per Visit</th>\n",
       "      <th>Asymmetrique Activity Score</th>\n",
       "      <th>Asymmetrique Profile Score</th>\n",
       "    </tr>\n",
       "  </thead>\n",
       "  <tbody>\n",
       "    <tr>\n",
       "      <th>count</th>\n",
       "      <td>9240.00</td>\n",
       "      <td>9240.00</td>\n",
       "      <td>9103.00</td>\n",
       "      <td>9240.00</td>\n",
       "      <td>9103.00</td>\n",
       "      <td>5022.00</td>\n",
       "      <td>5022.00</td>\n",
       "    </tr>\n",
       "    <tr>\n",
       "      <th>mean</th>\n",
       "      <td>617188.44</td>\n",
       "      <td>0.39</td>\n",
       "      <td>3.45</td>\n",
       "      <td>487.70</td>\n",
       "      <td>2.36</td>\n",
       "      <td>14.31</td>\n",
       "      <td>16.34</td>\n",
       "    </tr>\n",
       "    <tr>\n",
       "      <th>std</th>\n",
       "      <td>23406.00</td>\n",
       "      <td>0.49</td>\n",
       "      <td>4.85</td>\n",
       "      <td>548.02</td>\n",
       "      <td>2.16</td>\n",
       "      <td>1.39</td>\n",
       "      <td>1.81</td>\n",
       "    </tr>\n",
       "    <tr>\n",
       "      <th>min</th>\n",
       "      <td>579533.00</td>\n",
       "      <td>0.00</td>\n",
       "      <td>0.00</td>\n",
       "      <td>0.00</td>\n",
       "      <td>0.00</td>\n",
       "      <td>7.00</td>\n",
       "      <td>11.00</td>\n",
       "    </tr>\n",
       "    <tr>\n",
       "      <th>25%</th>\n",
       "      <td>596484.50</td>\n",
       "      <td>0.00</td>\n",
       "      <td>1.00</td>\n",
       "      <td>12.00</td>\n",
       "      <td>1.00</td>\n",
       "      <td>14.00</td>\n",
       "      <td>15.00</td>\n",
       "    </tr>\n",
       "    <tr>\n",
       "      <th>50%</th>\n",
       "      <td>615479.00</td>\n",
       "      <td>0.00</td>\n",
       "      <td>3.00</td>\n",
       "      <td>248.00</td>\n",
       "      <td>2.00</td>\n",
       "      <td>14.00</td>\n",
       "      <td>16.00</td>\n",
       "    </tr>\n",
       "    <tr>\n",
       "      <th>75%</th>\n",
       "      <td>637387.25</td>\n",
       "      <td>1.00</td>\n",
       "      <td>5.00</td>\n",
       "      <td>936.00</td>\n",
       "      <td>3.00</td>\n",
       "      <td>15.00</td>\n",
       "      <td>18.00</td>\n",
       "    </tr>\n",
       "    <tr>\n",
       "      <th>max</th>\n",
       "      <td>660737.00</td>\n",
       "      <td>1.00</td>\n",
       "      <td>251.00</td>\n",
       "      <td>2272.00</td>\n",
       "      <td>55.00</td>\n",
       "      <td>18.00</td>\n",
       "      <td>20.00</td>\n",
       "    </tr>\n",
       "  </tbody>\n",
       "</table>\n",
       "</div>"
      ],
      "text/plain": [
       "       Lead Number  Converted  TotalVisits  Total Time Spent on Website  \\\n",
       "count      9240.00    9240.00      9103.00                      9240.00   \n",
       "mean     617188.44       0.39         3.45                       487.70   \n",
       "std       23406.00       0.49         4.85                       548.02   \n",
       "min      579533.00       0.00         0.00                         0.00   \n",
       "25%      596484.50       0.00         1.00                        12.00   \n",
       "50%      615479.00       0.00         3.00                       248.00   \n",
       "75%      637387.25       1.00         5.00                       936.00   \n",
       "max      660737.00       1.00       251.00                      2272.00   \n",
       "\n",
       "       Page Views Per Visit  Asymmetrique Activity Score  \\\n",
       "count               9103.00                      5022.00   \n",
       "mean                   2.36                        14.31   \n",
       "std                    2.16                         1.39   \n",
       "min                    0.00                         7.00   \n",
       "25%                    1.00                        14.00   \n",
       "50%                    2.00                        14.00   \n",
       "75%                    3.00                        15.00   \n",
       "max                   55.00                        18.00   \n",
       "\n",
       "       Asymmetrique Profile Score  \n",
       "count                     5022.00  \n",
       "mean                        16.34  \n",
       "std                          1.81  \n",
       "min                         11.00  \n",
       "25%                         15.00  \n",
       "50%                         16.00  \n",
       "75%                         18.00  \n",
       "max                         20.00  "
      ]
     },
     "execution_count": 5,
     "metadata": {},
     "output_type": "execute_result"
    }
   ],
   "source": [
    "# checking stats for numerical columns\n",
    "df.describe()"
   ]
  },
  {
   "cell_type": "code",
   "execution_count": 6,
   "id": "07fa05e2",
   "metadata": {
    "scrolled": true
   },
   "outputs": [
    {
     "data": {
      "text/plain": [
       "0"
      ]
     },
     "execution_count": 6,
     "metadata": {},
     "output_type": "execute_result"
    }
   ],
   "source": [
    "# checking dublicates.\n",
    "df.duplicated().sum()\n",
    "\n",
    "# No dublicate rows. duplicated function returns a bool of rows which contain False for no dublicates."
   ]
  },
  {
   "cell_type": "code",
   "execution_count": 7,
   "id": "9b2e87c0",
   "metadata": {},
   "outputs": [
    {
     "name": "stdout",
     "output_type": "stream",
     "text": [
      "<class 'pandas.core.frame.DataFrame'>\n",
      "RangeIndex: 9240 entries, 0 to 9239\n",
      "Data columns (total 37 columns):\n",
      " #   Column                                         Non-Null Count  Dtype  \n",
      "---  ------                                         --------------  -----  \n",
      " 0   Prospect ID                                    9240 non-null   object \n",
      " 1   Lead Number                                    9240 non-null   int64  \n",
      " 2   Lead Origin                                    9240 non-null   object \n",
      " 3   Lead Source                                    9204 non-null   object \n",
      " 4   Do Not Email                                   9240 non-null   object \n",
      " 5   Do Not Call                                    9240 non-null   object \n",
      " 6   Converted                                      9240 non-null   int64  \n",
      " 7   TotalVisits                                    9103 non-null   float64\n",
      " 8   Total Time Spent on Website                    9240 non-null   int64  \n",
      " 9   Page Views Per Visit                           9103 non-null   float64\n",
      " 10  Last Activity                                  9137 non-null   object \n",
      " 11  Country                                        6779 non-null   object \n",
      " 12  Specialization                                 7802 non-null   object \n",
      " 13  How did you hear about X Education             7033 non-null   object \n",
      " 14  What is your current occupation                6550 non-null   object \n",
      " 15  What matters most to you in choosing a course  6531 non-null   object \n",
      " 16  Search                                         9240 non-null   object \n",
      " 17  Magazine                                       9240 non-null   object \n",
      " 18  Newspaper Article                              9240 non-null   object \n",
      " 19  X Education Forums                             9240 non-null   object \n",
      " 20  Newspaper                                      9240 non-null   object \n",
      " 21  Digital Advertisement                          9240 non-null   object \n",
      " 22  Through Recommendations                        9240 non-null   object \n",
      " 23  Receive More Updates About Our Courses         9240 non-null   object \n",
      " 24  Tags                                           5887 non-null   object \n",
      " 25  Lead Quality                                   4473 non-null   object \n",
      " 26  Update me on Supply Chain Content              9240 non-null   object \n",
      " 27  Get updates on DM Content                      9240 non-null   object \n",
      " 28  Lead Profile                                   6531 non-null   object \n",
      " 29  City                                           7820 non-null   object \n",
      " 30  Asymmetrique Activity Index                    5022 non-null   object \n",
      " 31  Asymmetrique Profile Index                     5022 non-null   object \n",
      " 32  Asymmetrique Activity Score                    5022 non-null   float64\n",
      " 33  Asymmetrique Profile Score                     5022 non-null   float64\n",
      " 34  I agree to pay the amount through cheque       9240 non-null   object \n",
      " 35  A free copy of Mastering The Interview         9240 non-null   object \n",
      " 36  Last Notable Activity                          9240 non-null   object \n",
      "dtypes: float64(4), int64(3), object(30)\n",
      "memory usage: 2.6+ MB\n"
     ]
    }
   ],
   "source": [
    "# checking all columns, their datatypes and also get idea of amount of null values\n",
    "df.info('all')"
   ]
  },
  {
   "cell_type": "markdown",
   "id": "67c2a04d",
   "metadata": {},
   "source": [
    "#### Observations : \n",
    "    1. alot of columns have alot of null values and are not so important, it is safe to drop it.\n",
    "    2. Prospect ID and Lead Number both have a unique idenfier(Primary key). we can drop either \n",
    "    one of them. it is safe to drop Prospect ID.\n",
    "    3. Columns names are toooooooo long.\n",
    "    4. we have observed 'select' insted of 'Nan'. it means that select appears when someone does\n",
    "    not select anything from the dropdown in the form provided.\n",
    "    "
   ]
  },
  {
   "cell_type": "markdown",
   "id": "2db4d56b",
   "metadata": {},
   "source": [
    "### Data Cleaning\n",
    "\n",
    "#### Rename column names.\n",
    "    1. Long column names makes analysis a bit hard.\n",
    "    2. convert into snake case (personal preference to handle data.)\n",
    "    "
   ]
  },
  {
   "cell_type": "code",
   "execution_count": 8,
   "id": "fe2a9cbe",
   "metadata": {},
   "outputs": [
    {
     "data": {
      "text/plain": [
       "Index(['prospect_id', 'lead_number', 'lead_origin', 'lead_source',\n",
       "       'do_not_email', 'do_not_call', 'converted', 'totalvisits',\n",
       "       'total_time_spent_on_website', 'page_views_per_visit', 'last_activity',\n",
       "       'country', 'specialization', 'how_did_you_hear_about_x_education',\n",
       "       'what_is_your_current_occupation',\n",
       "       'what_matters_most_to_you_in_choosing_a_course', 'search', 'magazine',\n",
       "       'newspaper_article', 'x_education_forums', 'newspaper',\n",
       "       'digital_advertisement', 'through_recommendations',\n",
       "       'receive_more_updates_about_our_courses', 'tags', 'lead_quality',\n",
       "       'update_me_on_supply_chain_content', 'get_updates_on_dm_content',\n",
       "       'lead_profile', 'city', 'asymmetrique_activity_index',\n",
       "       'asymmetrique_profile_index', 'asymmetrique_activity_score',\n",
       "       'asymmetrique_profile_score',\n",
       "       'i_agree_to_pay_the_amount_through_cheque',\n",
       "       'a_free_copy_of_mastering_the_interview', 'last_notable_activity'],\n",
       "      dtype='object')"
      ]
     },
     "execution_count": 8,
     "metadata": {},
     "output_type": "execute_result"
    }
   ],
   "source": [
    "# change into snake case (space to ____)\n",
    "\n",
    "df.columns = df.columns.str.replace(' ','_').str.lower()\n",
    "\n",
    "# checks\n",
    "\n",
    "df.columns"
   ]
  },
  {
   "cell_type": "code",
   "execution_count": 9,
   "id": "8619456c",
   "metadata": {},
   "outputs": [
    {
     "data": {
      "text/plain": [
       "['prospect_id',\n",
       " 'lead_number',\n",
       " 'lead_origin',\n",
       " 'lead_source',\n",
       " 'do_not_email',\n",
       " 'do_not_call',\n",
       " 'converted',\n",
       " 'total_visits',\n",
       " 'time_on_website',\n",
       " 'page_views_per_visit',\n",
       " 'last_activity',\n",
       " 'country',\n",
       " 'specialization',\n",
       " 'source',\n",
       " 'occupation',\n",
       " 'course_selection_reason',\n",
       " 'search',\n",
       " 'magazine',\n",
       " 'newspaper_article',\n",
       " 'x_education_forums',\n",
       " 'newspaper',\n",
       " 'digital_advertisement',\n",
       " 'through_recommendations',\n",
       " 'courses_updates',\n",
       " 'tags',\n",
       " 'lead_quality',\n",
       " 'supply_chain_content_updates',\n",
       " 'dm_content_updates',\n",
       " 'lead_profile',\n",
       " 'city',\n",
       " 'asymmetrique_activity_index',\n",
       " 'asymmetrique_profile_index',\n",
       " 'asymmetrique_activity_score',\n",
       " 'asymmetrique_profile_score',\n",
       " 'cheque_payment',\n",
       " 'mastering_interview',\n",
       " 'last_notable_activity']"
      ]
     },
     "execution_count": 9,
     "metadata": {},
     "output_type": "execute_result"
    }
   ],
   "source": [
    "# shorten column name\n",
    "\n",
    "df.rename(columns=\n",
    "          {'totalvisits': 'total_visits',\n",
    "           'total_time_spent_on_website': 'time_on_website', \n",
    "           'how_did_you_hear_about_x_education': 'source',\n",
    "           'what_is_your_current_occupation': 'occupation',\n",
    "           'what_matters_most_to_you_in_choosing_a_course' : 'course_selection_reason', \n",
    "           'receive_more_updates_about_our_courses': 'courses_updates', \n",
    "           'update_me_on_supply_chain_content': 'supply_chain_content_updates',\n",
    "           'get_updates_on_dm_content': 'dm_content_updates',\n",
    "           'i_agree_to_pay_the_amount_through_cheque': 'cheque_payment',\n",
    "            'a_free_copy_of_mastering_the_interview': 'mastering_interview'},\n",
    "          inplace = True)\n",
    "\n",
    "# df.rename mein dict ka key value dalo. kush raho.\n",
    "# inplace = True means it is overwriding changes to the actual data set.\n",
    "\n",
    "# checking\n",
    "\n",
    "df.columns.to_list()"
   ]
  },
  {
   "cell_type": "markdown",
   "id": "2f0992d9",
   "metadata": {},
   "source": [
    "#### Drop prospect_id column"
   ]
  },
  {
   "cell_type": "code",
   "execution_count": 10,
   "id": "74716745",
   "metadata": {},
   "outputs": [],
   "source": [
    "df.drop(['prospect_id'],axis=1,inplace=True)"
   ]
  },
  {
   "cell_type": "markdown",
   "id": "0feabac4",
   "metadata": {},
   "source": [
    "#### Replace 'select' category with Nan or null values.\n"
   ]
  },
  {
   "cell_type": "code",
   "execution_count": 11,
   "id": "0e0d5e21",
   "metadata": {},
   "outputs": [
    {
     "data": {
      "text/plain": [
       "['specialization', 'source', 'lead_profile', 'city']"
      ]
     },
     "execution_count": 11,
     "metadata": {},
     "output_type": "execute_result"
    }
   ],
   "source": [
    "# select data types with object as datatype or non numeric columns\n",
    "df_non_numeric=df.select_dtypes(include='object')\n",
    "\n",
    "# find out columns who have'Select'\n",
    "columns_with_select=df_non_numeric.columns[df_non_numeric.apply(lambda x : x.str.contains('Select',na=False)).any()]\n",
    "columns_with_select.to_list()"
   ]
  },
  {
   "cell_type": "markdown",
   "id": "2dd10a07",
   "metadata": {},
   "source": [
    "There are 4 columns that contain 'Select', which are effectively treated as null values.\n",
    "we are going to make that change."
   ]
  },
  {
   "cell_type": "code",
   "execution_count": 12,
   "id": "38397b76",
   "metadata": {},
   "outputs": [],
   "source": [
    "#replace values\n",
    "select=columns_with_select.to_list()\n",
    "df[select]=df[select].replace('Select',np.nan)"
   ]
  },
  {
   "cell_type": "markdown",
   "id": "65501daa",
   "metadata": {},
   "source": [
    "#### Handle null values and columns generated by sales team / flags\n",
    "\n",
    "1. Given are alot of columns with very high number of null entities. best is to calculate the percentage of null values in the columns and take a decision.\n",
    "2. We can drop sales related columns because they seem to be data entries that are made after the sales team has contacted the student / potential lead. those have no purpose of our model i.e providing lead scores\n",
    "3. The columns are identified as :\n",
    "    - tages <br />\n",
    "    - lead_quality <br />\n",
    "    - last_activity <br />\n",
    "    - last_notable_activity <br />\n",
    "    - all columns which start with asymmetric name. <br />\n",
    "    "
   ]
  },
  {
   "cell_type": "code",
   "execution_count": 13,
   "id": "58328577",
   "metadata": {},
   "outputs": [
    {
     "data": {
      "text/plain": [
       "lead_number                     0.00\n",
       "lead_origin                     0.00\n",
       "lead_source                     0.39\n",
       "do_not_email                    0.00\n",
       "do_not_call                     0.00\n",
       "converted                       0.00\n",
       "total_visits                    1.48\n",
       "time_on_website                 0.00\n",
       "page_views_per_visit            1.48\n",
       "last_activity                   1.11\n",
       "country                        26.63\n",
       "specialization                 36.58\n",
       "source                         78.46\n",
       "occupation                     29.11\n",
       "course_selection_reason        29.32\n",
       "search                          0.00\n",
       "magazine                        0.00\n",
       "newspaper_article               0.00\n",
       "x_education_forums              0.00\n",
       "newspaper                       0.00\n",
       "digital_advertisement           0.00\n",
       "through_recommendations         0.00\n",
       "courses_updates                 0.00\n",
       "tags                           36.29\n",
       "lead_quality                   51.59\n",
       "supply_chain_content_updates    0.00\n",
       "dm_content_updates              0.00\n",
       "lead_profile                   74.19\n",
       "city                           39.71\n",
       "asymmetrique_activity_index    45.65\n",
       "asymmetrique_profile_index     45.65\n",
       "asymmetrique_activity_score    45.65\n",
       "asymmetrique_profile_score     45.65\n",
       "cheque_payment                  0.00\n",
       "mastering_interview             0.00\n",
       "last_notable_activity           0.00\n",
       "dtype: float64"
      ]
     },
     "execution_count": 13,
     "metadata": {},
     "output_type": "execute_result"
    }
   ],
   "source": [
    "# Percentage of null values for each column in df\n",
    "(df.isnull().sum()/len(df))*100"
   ]
  },
  {
   "cell_type": "markdown",
   "id": "0405265d",
   "metadata": {},
   "source": [
    "**Observation :** we can see that few columns with high percentage of missing data.\n",
    "since, there are no ways to get data back, we can drop this columns."
   ]
  },
  {
   "cell_type": "markdown",
   "id": "90f18336",
   "metadata": {},
   "source": [
    "#### Drop columns that have 40% more null values, sales generated flags or tags and columns named as assymetric "
   ]
  },
  {
   "cell_type": "code",
   "execution_count": 14,
   "id": "e0786a9e",
   "metadata": {},
   "outputs": [
    {
     "data": {
      "text/plain": [
       "Index(['lead_number', 'lead_origin', 'lead_source', 'do_not_email',\n",
       "       'do_not_call', 'converted', 'total_visits', 'time_on_website',\n",
       "       'page_views_per_visit', 'country', 'specialization', 'occupation',\n",
       "       'course_selection_reason', 'search', 'magazine', 'newspaper_article',\n",
       "       'x_education_forums', 'newspaper', 'digital_advertisement',\n",
       "       'through_recommendations', 'courses_updates', 'tags',\n",
       "       'supply_chain_content_updates', 'dm_content_updates', 'city',\n",
       "       'cheque_payment', 'mastering_interview'],\n",
       "      dtype='object')"
      ]
     },
     "execution_count": 14,
     "metadata": {},
     "output_type": "execute_result"
    }
   ],
   "source": [
    "df.drop(\n",
    "    [\n",
    "    'source',\n",
    "    'lead_quality',\n",
    "    'lead_profile',\n",
    "    'asymmetrique_activity_index',\n",
    "    'asymmetrique_profile_index',\n",
    "    'asymmetrique_activity_score',\n",
    "    'asymmetrique_profile_score',\n",
    "    'last_activity',\n",
    "    'last_notable_activity'\n",
    "    ],axis=1,inplace=True)\n",
    "\n",
    "df.columns"
   ]
  },
  {
   "cell_type": "code",
   "execution_count": 15,
   "id": "06973d3d",
   "metadata": {},
   "outputs": [
    {
     "data": {
      "text/plain": [
       "lead_number                     0.00\n",
       "lead_origin                     0.00\n",
       "lead_source                     0.39\n",
       "do_not_email                    0.00\n",
       "do_not_call                     0.00\n",
       "converted                       0.00\n",
       "total_visits                    1.48\n",
       "time_on_website                 0.00\n",
       "page_views_per_visit            1.48\n",
       "country                        26.63\n",
       "specialization                 36.58\n",
       "occupation                     29.11\n",
       "course_selection_reason        29.32\n",
       "search                          0.00\n",
       "magazine                        0.00\n",
       "newspaper_article               0.00\n",
       "x_education_forums              0.00\n",
       "newspaper                       0.00\n",
       "digital_advertisement           0.00\n",
       "through_recommendations         0.00\n",
       "courses_updates                 0.00\n",
       "tags                           36.29\n",
       "supply_chain_content_updates    0.00\n",
       "dm_content_updates              0.00\n",
       "city                           39.71\n",
       "cheque_payment                  0.00\n",
       "mastering_interview             0.00\n",
       "dtype: float64"
      ]
     },
     "execution_count": 15,
     "metadata": {},
     "output_type": "execute_result"
    }
   ],
   "source": [
    "# we are left with few columns with nulls, rechecking\n",
    "(df.isnull().sum()/len(df))*100"
   ]
  },
  {
   "cell_type": "markdown",
   "id": "4a893e76",
   "metadata": {},
   "source": [
    "**Observation** : we have 5 columns with high null values\n",
    "- country\n",
    "- specialization\n",
    "- occupation\n",
    "- course_selection_reason\n",
    "- city\n",
    "\n",
    "we look at them individually to see what can be done."
   ]
  },
  {
   "cell_type": "markdown",
   "id": "b84a62d4",
   "metadata": {},
   "source": [
    "**Country Column**"
   ]
  },
  {
   "cell_type": "code",
   "execution_count": 16,
   "id": "58325d2e",
   "metadata": {},
   "outputs": [
    {
     "data": {
      "text/plain": [
       "India                  70.26\n",
       "NaN                    26.63\n",
       "United States           0.75\n",
       "United Arab Emirates    0.57\n",
       "Singapore               0.26\n",
       "Saudi Arabia            0.23\n",
       "United Kingdom          0.16\n",
       "Australia               0.14\n",
       "Qatar                   0.11\n",
       "Bahrain                 0.08\n",
       "Hong Kong               0.08\n",
       "Oman                    0.06\n",
       "France                  0.06\n",
       "unknown                 0.05\n",
       "Kuwait                  0.04\n",
       "South Africa            0.04\n",
       "Canada                  0.04\n",
       "Nigeria                 0.04\n",
       "Germany                 0.04\n",
       "Sweden                  0.03\n",
       "Philippines             0.02\n",
       "Uganda                  0.02\n",
       "Italy                   0.02\n",
       "Bangladesh              0.02\n",
       "Netherlands             0.02\n",
       "Asia/Pacific Region     0.02\n",
       "China                   0.02\n",
       "Belgium                 0.02\n",
       "Ghana                   0.02\n",
       "Kenya                   0.01\n",
       "Sri Lanka               0.01\n",
       "Tanzania                0.01\n",
       "Malaysia                0.01\n",
       "Liberia                 0.01\n",
       "Switzerland             0.01\n",
       "Denmark                 0.01\n",
       "Russia                  0.01\n",
       "Vietnam                 0.01\n",
       "Indonesia               0.01\n",
       "Name: country, dtype: float64"
      ]
     },
     "execution_count": 16,
     "metadata": {},
     "output_type": "execute_result"
    }
   ],
   "source": [
    "df.country.value_counts(normalize=True,dropna=False)*100"
   ]
  },
  {
   "cell_type": "code",
   "execution_count": 17,
   "id": "1a241e7d",
   "metadata": {},
   "outputs": [
    {
     "data": {
      "image/png": "[encoded data removed]",
      "text/plain": [
       "<Figure size 1080x360 with 1 Axes>"
      ]
     },
     "metadata": {},
     "output_type": "display_data"
    }
   ],
   "source": [
    "plt.style.use('dark_background')\n",
    "plt.figure(figsize=(15,5))\n",
    "s1=sns.countplot(df.country,hue=df.converted)\n",
    "s1.set_xticklabels(s1.get_xticklabels(),rotation=90)\n",
    "plt.show()"
   ]
  },
  {
   "cell_type": "markdown",
   "id": "f9d8ee12",
   "metadata": {},
   "source": [
    "**Observation :** This Distribution of the data is very heavily skewed with India + Nullvalues.\n",
    "It is safe to drop this column."
   ]
  },
  {
   "cell_type": "code",
   "execution_count": 18,
   "id": "9a4b8dd0",
   "metadata": {},
   "outputs": [],
   "source": [
    "df.drop('country',axis=1,inplace=True)"
   ]
  },
  {
   "cell_type": "markdown",
   "id": "c00333ab",
   "metadata": {},
   "source": [
    "**Column course_selection_reason**"
   ]
  },
  {
   "cell_type": "code",
   "execution_count": 19,
   "id": "89ed263e",
   "metadata": {},
   "outputs": [
    {
     "data": {
      "text/plain": [
       "Better Career Prospects     70.65\n",
       "NaN                         29.32\n",
       "Flexibility & Convenience    0.02\n",
       "Other                        0.01\n",
       "Name: course_selection_reason, dtype: float64"
      ]
     },
     "execution_count": 19,
     "metadata": {},
     "output_type": "execute_result"
    }
   ],
   "source": [
    "df.course_selection_reason.value_counts(normalize=True,dropna=False)*100"
   ]
  },
  {
   "cell_type": "markdown",
   "id": "b08cdfad",
   "metadata": {},
   "source": [
    "**Observation :** The distribution of data is heavily skewed with Better Career Prospects + Nullvalues.\n",
    "It is safe to drop this column."
   ]
  },
  {
   "cell_type": "code",
   "execution_count": 20,
   "id": "8796ded6",
   "metadata": {},
   "outputs": [],
   "source": [
    "df.drop('course_selection_reason',axis=1,inplace=True)"
   ]
  },
  {
   "cell_type": "markdown",
   "id": "559f8d4c",
   "metadata": {},
   "source": [
    "**Occupation Column**"
   ]
  },
  {
   "cell_type": "code",
   "execution_count": 21,
   "id": "6efcc321",
   "metadata": {},
   "outputs": [
    {
     "data": {
      "text/plain": [
       "Unemployed             60.61\n",
       "NaN                    29.11\n",
       "Working Professional    7.64\n",
       "Student                 2.27\n",
       "Other                   0.17\n",
       "Housewife               0.11\n",
       "Businessman             0.09\n",
       "Name: occupation, dtype: float64"
      ]
     },
     "execution_count": 21,
     "metadata": {},
     "output_type": "execute_result"
    }
   ],
   "source": [
    "df.occupation.value_counts(normalize=True,dropna=False)*100"
   ]
  },
  {
   "cell_type": "markdown",
   "id": "329418f5",
   "metadata": {},
   "source": [
    "**Observation :** For Occupation, we can combine the categories and then impute."
   ]
  },
  {
   "cell_type": "markdown",
   "id": "6d15cd70",
   "metadata": {},
   "source": [
    "29% Missing Values show that the column **who don't have any jobs didn't specify their Occupation**<br/>\n",
    "So we can Impute it with Mode as it is categorical column."
   ]
  },
  {
   "cell_type": "code",
   "execution_count": 22,
   "id": "41db8ea9",
   "metadata": {},
   "outputs": [],
   "source": [
    "df['occupation'].replace(np.nan, 'Unemployed',inplace=True)"
   ]
  },
  {
   "cell_type": "code",
   "execution_count": 23,
   "id": "69dc389b",
   "metadata": {},
   "outputs": [
    {
     "data": {
      "text/plain": [
       "Unemployed             89.72\n",
       "Working Professional    7.64\n",
       "Student                 2.27\n",
       "Other                   0.17\n",
       "Housewife               0.11\n",
       "Businessman             0.09\n",
       "Name: occupation, dtype: float64"
      ]
     },
     "execution_count": 23,
     "metadata": {},
     "output_type": "execute_result"
    }
   ],
   "source": [
    "df.occupation.value_counts(normalize=True,dropna=False)*100"
   ]
  },
  {
   "cell_type": "code",
   "execution_count": 24,
   "id": "392b421b",
   "metadata": {},
   "outputs": [
    {
     "data": {
      "image/png": "[encoded data removed]",
      "text/plain": [
       "<Figure size 1080x360 with 1 Axes>"
      ]
     },
     "metadata": {},
     "output_type": "display_data"
    }
   ],
   "source": [
    "# Visualizing the column after replacement\n",
    "plt.style.use('dark_background')\n",
    "plt.figure(figsize=(15,5))\n",
    "g1 = sns.countplot(df['occupation'], hue = df.converted)\n",
    "plt.xticks(rotation=90)\n",
    "plt.show()"
   ]
  },
  {
   "cell_type": "markdown",
   "id": "efd9ee2e",
   "metadata": {},
   "source": [
    "- Unemployed leads are the most in terms of absolute numbers\n",
    "- working professionals have a higher chance to get converted"
   ]
  },
  {
   "cell_type": "code",
   "execution_count": 25,
   "id": "19b6531c",
   "metadata": {},
   "outputs": [
    {
     "data": {
      "text/plain": [
       "Unemployed             89.72\n",
       "Working Professional    7.64\n",
       "Student                 2.27\n",
       "Other                   0.17\n",
       "Housewife               0.11\n",
       "Businessman             0.09\n",
       "Name: occupation, dtype: float64"
      ]
     },
     "execution_count": 25,
     "metadata": {},
     "output_type": "execute_result"
    }
   ],
   "source": [
    "df.occupation.value_counts(normalize=True,dropna=False)*100"
   ]
  },
  {
   "cell_type": "markdown",
   "id": "72164fcd",
   "metadata": {},
   "source": [
    "**Specialization column**"
   ]
  },
  {
   "cell_type": "code",
   "execution_count": 26,
   "id": "f7763e6d",
   "metadata": {},
   "outputs": [
    {
     "data": {
      "text/plain": [
       "NaN                                 36.58\n",
       "Finance Management                  10.56\n",
       "Human Resource Management            9.18\n",
       "Marketing Management                 9.07\n",
       "Operations Management                5.44\n",
       "Business Administration              4.36\n",
       "IT Projects Management               3.96\n",
       "Supply Chain Management              3.78\n",
       "Banking, Investment And Insurance    3.66\n",
       "Travel and Tourism                   2.20\n",
       "Media and Advertising                2.20\n",
       "International Business               1.93\n",
       "Healthcare Management                1.72\n",
       "Hospitality Management               1.23\n",
       "E-COMMERCE                           1.21\n",
       "Retail Management                    1.08\n",
       "Rural and Agribusiness               0.79\n",
       "E-Business                           0.62\n",
       "Services Excellence                  0.43\n",
       "Name: specialization, dtype: float64"
      ]
     },
     "execution_count": 26,
     "metadata": {},
     "output_type": "execute_result"
    }
   ],
   "source": [
    "df.specialization.value_counts(normalize = True, dropna = False) * 100"
   ]
  },
  {
   "cell_type": "markdown",
   "id": "040d7195",
   "metadata": {},
   "source": [
    "**Observation :** we can combine categories and impute them in propotion \n",
    "Handling missing values.\n",
    "- replacing the missing values in Specialization column with 'Not Specified' as lead may not have mentioned specialization because it was not in the list or maybe they are a students and don't have a specialization yet. \n",
    "- So we will replace NaN values here with 'Not Specified'"
   ]
  },
  {
   "cell_type": "code",
   "execution_count": 27,
   "id": "197743e3",
   "metadata": {},
   "outputs": [],
   "source": [
    "df['specialization'].replace(np.nan,'Not Specified',inplace=True)"
   ]
  },
  {
   "cell_type": "code",
   "execution_count": 28,
   "id": "79ad6bfd",
   "metadata": {},
   "outputs": [
    {
     "data": {
      "text/plain": [
       "Not Specified                       36.58\n",
       "Finance Management                  10.56\n",
       "Human Resource Management            9.18\n",
       "Marketing Management                 9.07\n",
       "Operations Management                5.44\n",
       "Business Administration              4.36\n",
       "IT Projects Management               3.96\n",
       "Supply Chain Management              3.78\n",
       "Banking, Investment And Insurance    3.66\n",
       "Travel and Tourism                   2.20\n",
       "Media and Advertising                2.20\n",
       "International Business               1.93\n",
       "Healthcare Management                1.72\n",
       "Hospitality Management               1.23\n",
       "E-COMMERCE                           1.21\n",
       "Retail Management                    1.08\n",
       "Rural and Agribusiness               0.79\n",
       "E-Business                           0.62\n",
       "Services Excellence                  0.43\n",
       "Name: specialization, dtype: float64"
      ]
     },
     "execution_count": 28,
     "metadata": {},
     "output_type": "execute_result"
    }
   ],
   "source": [
    "df.specialization.value_counts(normalize = True) * 100"
   ]
  },
  {
   "cell_type": "markdown",
   "id": "9d52be6d",
   "metadata": {},
   "source": [
    "**we can combine the management specialisations as they fall under the same category**"
   ]
  },
  {
   "cell_type": "code",
   "execution_count": 29,
   "id": "8c0ad8ca",
   "metadata": {},
   "outputs": [],
   "source": [
    "df['specialization'].replace(['Finance Management','Human Resource Management','Marketing Management',\n",
    "                                 'Operations Management','IT Projects Management','Supply Chain Management',\n",
    "                                 'Healthcare Management','Hospitality Management','Retail Management'],\n",
    "                                 'Management', inplace = True)  "
   ]
  },
  {
   "cell_type": "code",
   "execution_count": 30,
   "id": "ac711dca",
   "metadata": {},
   "outputs": [
    {
     "data": {
      "text/plain": [
       "Management                          46.03\n",
       "Not Specified                       36.58\n",
       "Business Administration              4.36\n",
       "Banking, Investment And Insurance    3.66\n",
       "Media and Advertising                2.20\n",
       "Travel and Tourism                   2.20\n",
       "International Business               1.93\n",
       "E-COMMERCE                           1.21\n",
       "Rural and Agribusiness               0.79\n",
       "E-Business                           0.62\n",
       "Services Excellence                  0.43\n",
       "Name: specialization, dtype: float64"
      ]
     },
     "execution_count": 30,
     "metadata": {},
     "output_type": "execute_result"
    }
   ],
   "source": [
    "df.specialization.value_counts(normalize = True) * 100"
   ]
  },
  {
   "cell_type": "markdown",
   "id": "a4f4eb29",
   "metadata": {},
   "source": [
    "**City column**"
   ]
  },
  {
   "cell_type": "code",
   "execution_count": 31,
   "id": "4fe8e6da",
   "metadata": {},
   "outputs": [
    {
     "data": {
      "text/plain": [
       "NaN                           39.71\n",
       "Mumbai                        34.87\n",
       "Thane & Outskirts              8.14\n",
       "Other Cities                   7.42\n",
       "Other Cities of Maharashtra    4.95\n",
       "Other Metro Cities             4.11\n",
       "Tier II Cities                 0.80\n",
       "Name: city, dtype: float64"
      ]
     },
     "execution_count": 31,
     "metadata": {},
     "output_type": "execute_result"
    }
   ],
   "source": [
    "df.city.value_counts(normalize = True, dropna = False) * 100"
   ]
  },
  {
   "cell_type": "code",
   "execution_count": 32,
   "id": "dd5f6d23",
   "metadata": {},
   "outputs": [
    {
     "data": {
      "image/png": "[encoded data removed]",
      "text/plain": [
       "<Figure size 1080x360 with 1 Axes>"
      ]
     },
     "metadata": {},
     "output_type": "display_data"
    }
   ],
   "source": [
    "# Visualizing the country column\n",
    "plt.style.use('dark_background')\n",
    "plt.figure(figsize=(15,5))\n",
    "s1 = sns.countplot(df.city, hue = df.converted)\n",
    "plt.xticks(rotation=90)\n",
    "plt.show()"
   ]
  },
  {
   "cell_type": "markdown",
   "id": "a7968164",
   "metadata": {},
   "source": [
    "**we can clearly see that Mumbai is the Mode of the Given Column** \n",
    "- Replacing the missing values with Mode. \n",
    "- As it is a categorical column we use mode"
   ]
  },
  {
   "cell_type": "code",
   "execution_count": 33,
   "id": "c4113f1a",
   "metadata": {},
   "outputs": [],
   "source": [
    "df['city'].replace(np.nan,df['city'].mode()[0],inplace=True)"
   ]
  },
  {
   "cell_type": "code",
   "execution_count": 34,
   "id": "3b38eda0",
   "metadata": {},
   "outputs": [
    {
     "data": {
      "text/plain": [
       "NaN                                                  3353\n",
       "Will revert after reading the email                  2072\n",
       "Ringing                                              1203\n",
       "Interested in other courses                           513\n",
       "Already a student                                     465\n",
       "Closed by Horizzon                                    358\n",
       "switched off                                          240\n",
       "Busy                                                  186\n",
       "Lost to EINS                                          175\n",
       "Not doing further education                           145\n",
       "Interested  in full time MBA                          117\n",
       "Graduation in progress                                111\n",
       "invalid number                                         83\n",
       "Diploma holder (Not Eligible)                          63\n",
       "wrong number given                                     47\n",
       "opp hangup                                             33\n",
       "number not provided                                    27\n",
       "in touch with EINS                                     12\n",
       "Lost to Others                                          7\n",
       "Still Thinking                                          6\n",
       "Want to take admission but has financial problems       6\n",
       "In confusion whether part time or DLP                   5\n",
       "Interested in Next batch                                5\n",
       "Lateral student                                         3\n",
       "Shall take in the next coming month                     2\n",
       "University not recognized                               2\n",
       "Recognition issue (DEC approval)                        1\n",
       "Name: tags, dtype: int64"
      ]
     },
     "execution_count": 34,
     "metadata": {},
     "output_type": "execute_result"
    }
   ],
   "source": [
    "df['tags'].value_counts(dropna=False)"
   ]
  },
  {
   "cell_type": "code",
   "execution_count": 35,
   "id": "51b242a1",
   "metadata": {},
   "outputs": [],
   "source": [
    "#replacing Nan values with \"Not Specified\"\n",
    "\n",
    "df['tags'] = df['tags'].replace(np.nan,'Not Specified')"
   ]
  },
  {
   "cell_type": "markdown",
   "id": "670d2fa1",
   "metadata": {},
   "source": [
    "#### Handle categorical columns with less missing values and low representation of categories\n",
    "\n",
    "- Impute missing values.\n",
    "- Merge categories that have low representation."
   ]
  },
  {
   "cell_type": "code",
   "execution_count": 36,
   "id": "8474b4f7",
   "metadata": {},
   "outputs": [],
   "source": [
    "df['tags'] = df['tags'].replace(['In confusion whether part time or DLP', 'in touch with EINS','Diploma holder (Not Eligible)',\n",
    "                                     'Approached upfront','Graduation in progress','number not provided', 'opp hangup','Still Thinking',\n",
    "                                    'Lost to Others','Shall take in the next coming month','Lateral student','Interested in Next batch',\n",
    "                                    'Recognition issue (DEC approval)','Want to take admission but has financial problems',\n",
    "                                    'University not recognized','switched off',\n",
    "                                      'Already a student',\n",
    "                                       'Not doing further education',\n",
    "                                       'invalid number',\n",
    "                                       'wrong number given',\n",
    "                                       'Interested  in full time MBA'], 'Other_Tags')"
   ]
  },
  {
   "cell_type": "code",
   "execution_count": 37,
   "id": "72155897",
   "metadata": {},
   "outputs": [
    {
     "data": {
      "text/plain": [
       "lead_number                    0.00\n",
       "lead_origin                    0.00\n",
       "lead_source                    0.39\n",
       "do_not_email                   0.00\n",
       "do_not_call                    0.00\n",
       "converted                      0.00\n",
       "total_visits                   1.48\n",
       "time_on_website                0.00\n",
       "page_views_per_visit           1.48\n",
       "specialization                 0.00\n",
       "occupation                     0.00\n",
       "search                         0.00\n",
       "magazine                       0.00\n",
       "newspaper_article              0.00\n",
       "x_education_forums             0.00\n",
       "newspaper                      0.00\n",
       "digital_advertisement          0.00\n",
       "through_recommendations        0.00\n",
       "courses_updates                0.00\n",
       "tags                           0.00\n",
       "supply_chain_content_updates   0.00\n",
       "dm_content_updates             0.00\n",
       "city                           0.00\n",
       "cheque_payment                 0.00\n",
       "mastering_interview            0.00\n",
       "dtype: float64"
      ]
     },
     "execution_count": 37,
     "metadata": {},
     "output_type": "execute_result"
    }
   ],
   "source": [
    "df.isnull().sum()/len(df)*100"
   ]
  },
  {
   "cell_type": "code",
   "execution_count": 38,
   "id": "c75f5e21",
   "metadata": {},
   "outputs": [
    {
     "data": {
      "text/plain": [
       "lead_origin                      5\n",
       "lead_source                     21\n",
       "do_not_email                     2\n",
       "do_not_call                      2\n",
       "specialization                  11\n",
       "occupation                       6\n",
       "search                           2\n",
       "magazine                         1\n",
       "newspaper_article                2\n",
       "x_education_forums               2\n",
       "newspaper                        2\n",
       "digital_advertisement            2\n",
       "through_recommendations          2\n",
       "courses_updates                  1\n",
       "tags                             8\n",
       "supply_chain_content_updates     1\n",
       "dm_content_updates               1\n",
       "city                             6\n",
       "cheque_payment                   1\n",
       "mastering_interview              2\n",
       "dtype: int64"
      ]
     },
     "execution_count": 38,
     "metadata": {},
     "output_type": "execute_result"
    }
   ],
   "source": [
    "# determine all unique values for object datatype columns.\n",
    "df.select_dtypes(include='object').nunique()"
   ]
  },
  {
   "cell_type": "markdown",
   "id": "d6ee1b56",
   "metadata": {},
   "source": [
    "**Observation :** As we can see that number of unique value is greater than 3 in two columns.\n",
    "- lead_source\n",
    "- lead_origin"
   ]
  },
  {
   "cell_type": "markdown",
   "id": "18e2376e",
   "metadata": {},
   "source": [
    "**Column lead_source**"
   ]
  },
  {
   "cell_type": "code",
   "execution_count": 39,
   "id": "ff30d1ae",
   "metadata": {},
   "outputs": [
    {
     "data": {
      "text/plain": [
       "Google              31.04\n",
       "Direct Traffic      27.52\n",
       "Olark Chat          18.99\n",
       "Organic Search      12.49\n",
       "Reference            5.78\n",
       "Welingak Website     1.54\n",
       "Referral Sites       1.35\n",
       "Facebook             0.60\n",
       "NaN                  0.39\n",
       "bing                 0.06\n",
       "google               0.05\n",
       "Click2call           0.04\n",
       "Press_Release        0.02\n",
       "Social Media         0.02\n",
       "Live Chat            0.02\n",
       "youtubechannel       0.01\n",
       "testone              0.01\n",
       "Pay per Click Ads    0.01\n",
       "welearnblog_Home     0.01\n",
       "WeLearn              0.01\n",
       "blog                 0.01\n",
       "NC_EDM               0.01\n",
       "Name: lead_source, dtype: float64"
      ]
     },
     "execution_count": 39,
     "metadata": {},
     "output_type": "execute_result"
    }
   ],
   "source": [
    "df.lead_source.value_counts(normalize=True,dropna=False)*100"
   ]
  },
  {
   "cell_type": "code",
   "execution_count": 40,
   "id": "ec86ce2f",
   "metadata": {},
   "outputs": [
    {
     "data": {
      "text/plain": [
       "'Google'"
      ]
     },
     "execution_count": 40,
     "metadata": {},
     "output_type": "execute_result"
    }
   ],
   "source": [
    "df.lead_source.mode()[0]"
   ]
  },
  {
   "cell_type": "code",
   "execution_count": 41,
   "id": "a62c2463",
   "metadata": {},
   "outputs": [],
   "source": [
    "# we can impute missing values with mode of data. i.e Google.\n",
    "df.lead_source.fillna('Google',inplace=True)"
   ]
  },
  {
   "cell_type": "code",
   "execution_count": 42,
   "id": "1feb9f79",
   "metadata": {},
   "outputs": [],
   "source": [
    "df['lead_source'] = df['lead_source'].replace('google','Google')\n",
    "df['lead_source'] = df['lead_source'].replace('Facebook','Social Media')"
   ]
  },
  {
   "cell_type": "code",
   "execution_count": 43,
   "id": "a24f0767",
   "metadata": {},
   "outputs": [],
   "source": [
    "# There are alot of smaller values which will not be used. so we are safe to group them all.\n",
    "df['lead_source'] = df['lead_source'].apply(lambda x: x if \n",
    "                                            ((x== 'Google') | (x=='Direct Traffic') | (x=='Olark Chat') | \n",
    "                                             (x=='Organic Search') | (x=='Reference')) \n",
    "                                            else 'Other Social Sites')"
   ]
  },
  {
   "cell_type": "code",
   "execution_count": 44,
   "id": "386c64a5",
   "metadata": {},
   "outputs": [
    {
     "data": {
      "text/plain": [
       "Google               31.48\n",
       "Direct Traffic       27.52\n",
       "Olark Chat           18.99\n",
       "Organic Search       12.49\n",
       "Reference             5.78\n",
       "Other Social Sites    3.73\n",
       "Name: lead_source, dtype: float64"
      ]
     },
     "execution_count": 44,
     "metadata": {},
     "output_type": "execute_result"
    }
   ],
   "source": [
    "df.lead_source.value_counts(normalize=True,dropna=False)*100"
   ]
  },
  {
   "cell_type": "code",
   "execution_count": 45,
   "id": "586e52a6",
   "metadata": {},
   "outputs": [
    {
     "data": {
      "image/png": "[encoded data removed]",
      "text/plain": [
       "<Figure size 1080x360 with 1 Axes>"
      ]
     },
     "metadata": {},
     "output_type": "display_data"
    }
   ],
   "source": [
    "# Visualizing the column after replacement\n",
    "plt.style.use('dark_background')\n",
    "plt.figure(figsize=(15,5))\n",
    "s1 = sns.countplot(df['lead_source'], hue = df.converted)\n",
    "plt.xticks(rotation=90)\n",
    "plt.show()"
   ]
  },
  {
   "cell_type": "markdown",
   "id": "0a19cc11",
   "metadata": {},
   "source": [
    "**Observation**\n",
    "- Max Number of leads are generated by 'Google' and 'Direct Traffic'\n",
    "- Conversion rate for referals are higher!\n",
    "- we have to focus on 'Olark Chat' and other columns to convert to leads\n",
    "- other social sites do have a higher conversion rate.\n",
    "- maybe google is lower due to the fact that they first googled the course but got thru by some other means (googling for information)"
   ]
  },
  {
   "cell_type": "markdown",
   "id": "c6af1e3a",
   "metadata": {},
   "source": [
    "**column lead_origin**"
   ]
  },
  {
   "cell_type": "code",
   "execution_count": 46,
   "id": "c452afb9",
   "metadata": {},
   "outputs": [
    {
     "data": {
      "text/plain": [
       "Landing Page Submission   52.88\n",
       "API                       38.74\n",
       "Lead Add Form              7.77\n",
       "Lead Import                0.60\n",
       "Quick Add Form             0.01\n",
       "Name: lead_origin, dtype: float64"
      ]
     },
     "execution_count": 46,
     "metadata": {},
     "output_type": "execute_result"
    }
   ],
   "source": [
    "df.lead_origin.value_counts(normalize = True, dropna = False) * 100"
   ]
  },
  {
   "cell_type": "code",
   "execution_count": 47,
   "id": "a2e1e7b1",
   "metadata": {},
   "outputs": [
    {
     "data": {
      "image/png": "[encoded data removed]",
      "text/plain": [
       "<Figure size 1080x360 with 1 Axes>"
      ]
     },
     "metadata": {},
     "output_type": "display_data"
    }
   ],
   "source": [
    "# Visualizing the Lead Origin column\n",
    "plt.style.use('dark_background')\n",
    "plt.figure(figsize=(15,5))\n",
    "s1 = sns.countplot(df['lead_origin'], hue = df.converted)\n",
    "plt.xticks(rotation=90)\n",
    "plt.show()"
   ]
  },
  {
   "cell_type": "markdown",
   "id": "52043b2a",
   "metadata": {},
   "source": [
    "**Observations**\n",
    "- API brings alot of people but less conversions\n",
    "- Landing page Submission are higher in number and more than 50 % conversions\n",
    "- very few leads from lead import and quick add form\n",
    "- Lead Add Form has higherconversion rate.\n",
    "- In order to improve overall lead conversion rate, we have to improve lead conversion of API and landing page submission.\n"
   ]
  },
  {
   "cell_type": "markdown",
   "id": "230c2cf7",
   "metadata": {},
   "source": [
    "#### Handle Bindary Columns\n",
    "\n",
    "- Drop those Columns that have data imbalance\n",
    "- Drop those Columns that have only 1 unique entry"
   ]
  },
  {
   "cell_type": "code",
   "execution_count": 48,
   "id": "da8a5257",
   "metadata": {},
   "outputs": [
    {
     "data": {
      "text/plain": [
       "lead_origin                      5\n",
       "lead_source                      6\n",
       "do_not_email                     2\n",
       "do_not_call                      2\n",
       "specialization                  11\n",
       "occupation                       6\n",
       "search                           2\n",
       "magazine                         1\n",
       "newspaper_article                2\n",
       "x_education_forums               2\n",
       "newspaper                        2\n",
       "digital_advertisement            2\n",
       "through_recommendations          2\n",
       "courses_updates                  1\n",
       "tags                             8\n",
       "supply_chain_content_updates     1\n",
       "dm_content_updates               1\n",
       "city                             6\n",
       "cheque_payment                   1\n",
       "mastering_interview              2\n",
       "dtype: int64"
      ]
     },
     "execution_count": 48,
     "metadata": {},
     "output_type": "execute_result"
    }
   ],
   "source": [
    "df.select_dtypes(include='object').nunique()"
   ]
  },
  {
   "cell_type": "markdown",
   "id": "16469796",
   "metadata": {},
   "source": [
    "**Observation** \n",
    "- The columns can be droped cause they have only one Unique value.\n",
    "    - cheque_payment\n",
    "    - courses_updates\n",
    "    - supply_chain_content_updates\n",
    "    - dm_content_updates\n",
    "    - magazine"
   ]
  },
  {
   "cell_type": "code",
   "execution_count": 49,
   "id": "91c77111",
   "metadata": {},
   "outputs": [],
   "source": [
    "df.drop(['cheque_payment','courses_updates','supply_chain_content_updates','dm_content_updates','cheque_payment','magazine'],axis=1,inplace=True)"
   ]
  },
  {
   "cell_type": "markdown",
   "id": "769c6057",
   "metadata": {},
   "source": [
    "**Lets check for data imbalance for the rest of the columns**"
   ]
  },
  {
   "cell_type": "code",
   "execution_count": 50,
   "id": "1f563658",
   "metadata": {},
   "outputs": [
    {
     "name": "stdout",
     "output_type": "stream",
     "text": [
      "No    92.06\n",
      "Yes    7.94\n",
      "Name: do_not_email, dtype: float64\n",
      "No    99.98\n",
      "Yes    0.02\n",
      "Name: do_not_call, dtype: float64\n",
      "No    99.85\n",
      "Yes    0.15\n",
      "Name: search, dtype: float64\n",
      "No    99.98\n",
      "Yes    0.02\n",
      "Name: newspaper_article, dtype: float64\n",
      "No    99.99\n",
      "Yes    0.01\n",
      "Name: x_education_forums, dtype: float64\n",
      "No    99.99\n",
      "Yes    0.01\n",
      "Name: newspaper, dtype: float64\n",
      "No    99.96\n",
      "Yes    0.04\n",
      "Name: digital_advertisement, dtype: float64\n",
      "No    99.92\n",
      "Yes    0.08\n",
      "Name: through_recommendations, dtype: float64\n",
      "No    68.74\n",
      "Yes   31.26\n",
      "Name: mastering_interview, dtype: float64\n"
     ]
    }
   ],
   "source": [
    "# select rest of columns with 2 unique values\n",
    "col=['do_not_email', 'do_not_call', 'search', 'newspaper_article', 'x_education_forums', \n",
    "           'newspaper', 'digital_advertisement', 'through_recommendations', 'mastering_interview']\n",
    "\n",
    "df_binary=df[col]\n",
    "\n",
    "for _ in df_binary.columns:\n",
    "    print(df_binary[_].value_counts(normalize=True)*100)"
   ]
  },
  {
   "cell_type": "markdown",
   "id": "6d051027",
   "metadata": {},
   "source": [
    "**Observation**\n",
    "\n",
    "- The following columns can be droped as well. why, cause they have a heavy imbalance.\n",
    "    - through_recommendations\n",
    "    - newspaper\n",
    "    - x_education_forums\n",
    "    - digital_advertisement\n",
    "    - do_not_call\n",
    "    - search\n",
    "    - newspaper_article"
   ]
  },
  {
   "cell_type": "code",
   "execution_count": 51,
   "id": "ba7ea0bb",
   "metadata": {},
   "outputs": [],
   "source": [
    "df.drop(['do_not_call', 'search', 'newspaper_article', 'x_education_forums', \n",
    "           'newspaper', 'digital_advertisement', 'through_recommendations','mastering_interview'],axis=1,inplace=True)"
   ]
  },
  {
   "cell_type": "markdown",
   "id": "517e0100",
   "metadata": {},
   "source": [
    "#### Handle Numerical columns\n",
    "\n",
    "##### Column lead_number\n",
    "- lead_number is a unique identifier for each lead.<br/>\n",
    "- Aggretations won't be of any help. so change it to Object."
   ]
  },
  {
   "cell_type": "code",
   "execution_count": 52,
   "id": "595e2446",
   "metadata": {},
   "outputs": [],
   "source": [
    "df.lead_number=df.lead_number.astype('object')"
   ]
  },
  {
   "cell_type": "markdown",
   "id": "638a005e",
   "metadata": {},
   "source": [
    "##### Checking for Outliers.\n",
    "- In Numerical Columns. \n",
    "    - total_visits\n",
    "    - time_on_website\n",
    "    - page_views_per_visit\n",
    "- Make a box plot to check Outliers.\n",
    "- we make box plot to check if we have to impute mean or median."
   ]
  },
  {
   "cell_type": "code",
   "execution_count": 53,
   "id": "f44f1b8d",
   "metadata": {},
   "outputs": [],
   "source": [
    "# STYLESSSSSSS\n",
    "plt.style.use('bmh')"
   ]
  },
  {
   "cell_type": "code",
   "execution_count": 54,
   "id": "ac8fb3e7",
   "metadata": {},
   "outputs": [
    {
     "data": {
      "image/png": "[encoded data removed]",
      "text/plain": [
       "<Figure size 720x720 with 3 Axes>"
      ]
     },
     "metadata": {},
     "output_type": "display_data"
    }
   ],
   "source": [
    "req_columns=['total_visits','time_on_website','page_views_per_visit']\n",
    "\n",
    "plt.figure(figsize=(10,10))\n",
    "for _ in enumerate(req_columns):\n",
    "    plt.subplot(len(req_columns),1,_[0]+1)\n",
    "    sns.boxplot(df[_[1]].dropna(),orient='h')"
   ]
  },
  {
   "cell_type": "markdown",
   "id": "7b244400",
   "metadata": {},
   "source": [
    "**Presence of Outliers in _total_visits_ and _page_views_per_visit_ so we can impute Median Safely**\n",
    "\n",
    "1. So Handling Missing Data by imputing median\n",
    "2. A general observation is that column _total_visits_ is a float. Since Total Visits cant be a float.\n"
   ]
  },
  {
   "cell_type": "code",
   "execution_count": 55,
   "id": "08b51340",
   "metadata": {},
   "outputs": [],
   "source": [
    "df.total_visits.fillna(df.total_visits.median(),inplace=True)\n",
    "df.total_visits = df.total_visits.astype('int')"
   ]
  },
  {
   "cell_type": "code",
   "execution_count": 56,
   "id": "ff5eff0b",
   "metadata": {},
   "outputs": [],
   "source": [
    "df.page_views_per_visit.fillna(df.page_views_per_visit.median(),inplace=True)"
   ]
  },
  {
   "cell_type": "markdown",
   "id": "937d3033",
   "metadata": {},
   "source": [
    "we can drop do not email column as it has not much significance.\n"
   ]
  },
  {
   "cell_type": "code",
   "execution_count": 57,
   "id": "5b712c87",
   "metadata": {},
   "outputs": [],
   "source": [
    "df.drop('do_not_email',axis=1,inplace=True)"
   ]
  },
  {
   "cell_type": "markdown",
   "id": "43b8bc80",
   "metadata": {},
   "source": [
    "##### Data Cleaning Results."
   ]
  },
  {
   "cell_type": "code",
   "execution_count": 58,
   "id": "1d45b9d5",
   "metadata": {},
   "outputs": [
    {
     "name": "stdout",
     "output_type": "stream",
     "text": [
      "<class 'pandas.core.frame.DataFrame'>\n",
      "RangeIndex: 9240 entries, 0 to 9239\n",
      "Data columns (total 11 columns):\n",
      " #   Column                Non-Null Count  Dtype  \n",
      "---  ------                --------------  -----  \n",
      " 0   lead_number           9240 non-null   object \n",
      " 1   lead_origin           9240 non-null   object \n",
      " 2   lead_source           9240 non-null   object \n",
      " 3   converted             9240 non-null   int64  \n",
      " 4   total_visits          9240 non-null   int32  \n",
      " 5   time_on_website       9240 non-null   int64  \n",
      " 6   page_views_per_visit  9240 non-null   float64\n",
      " 7   specialization        9240 non-null   object \n",
      " 8   occupation            9240 non-null   object \n",
      " 9   tags                  9240 non-null   object \n",
      " 10  city                  9240 non-null   object \n",
      "dtypes: float64(1), int32(1), int64(2), object(7)\n",
      "memory usage: 758.1+ KB\n"
     ]
    }
   ],
   "source": [
    "df.info()"
   ]
  },
  {
   "cell_type": "markdown",
   "id": "dfefc28d",
   "metadata": {},
   "source": [
    "### EDA (Exploratory Data Analysis)"
   ]
  },
  {
   "cell_type": "markdown",
   "id": "2f512fe3",
   "metadata": {},
   "source": [
    "#### Numerical Columns"
   ]
  },
  {
   "cell_type": "code",
   "execution_count": 59,
   "id": "5615a855",
   "metadata": {},
   "outputs": [],
   "source": [
    "# Plot Stylesssssssssssss\n",
    "plt.style.use('ggplot')"
   ]
  },
  {
   "cell_type": "code",
   "execution_count": 60,
   "id": "941f4e4c",
   "metadata": {},
   "outputs": [
    {
     "data": {
      "image/png": "[encoded data removed]",
      "text/plain": [
       "<Figure size 1440x1440 with 3 Axes>"
      ]
     },
     "metadata": {},
     "output_type": "display_data"
    }
   ],
   "source": [
    "titles=['Total website visits','Total time spent on websites','Average number of page views per visit']\n",
    "plt.figure(figsize=(20,20))\n",
    "for _ in enumerate(req_columns):\n",
    "    plt.subplot(len(req_columns),1,_[0]+1)\n",
    "    plt.hist(df[_[1]].dropna(),bins=40)\n",
    "    x=_[0]\n",
    "    plt.title(titles[x])\n",
    "    plt.show"
   ]
  },
  {
   "cell_type": "markdown",
   "id": "617cb849",
   "metadata": {},
   "source": [
    "**Observations :** \n",
    "- High peaks and Right Skewered Data.\n",
    "- Possibility of Outliers.\n",
    "- Have Checked them."
   ]
  },
  {
   "cell_type": "markdown",
   "id": "6b062c41",
   "metadata": {},
   "source": [
    "#### Heatmap"
   ]
  },
  {
   "cell_type": "code",
   "execution_count": 61,
   "id": "163b617e",
   "metadata": {},
   "outputs": [
    {
     "data": {
      "text/plain": [
       "<AxesSubplot:>"
      ]
     },
     "execution_count": 61,
     "metadata": {},
     "output_type": "execute_result"
    },
    {
     "data": {
      "image/png": "[encoded data removed]",
      "text/plain": [
       "<Figure size 1080x936 with 2 Axes>"
      ]
     },
     "metadata": {},
     "output_type": "display_data"
    }
   ],
   "source": [
    "plt.figure(figsize=(15,13))\n",
    "sns.heatmap(df[req_columns].corr(),cmap='BuPu',annot=True)"
   ]
  },
  {
   "cell_type": "markdown",
   "id": "97e5630e",
   "metadata": {},
   "source": [
    "##### No corelation in this columns so we don't need to drop them (positive Corelation)"
   ]
  },
  {
   "cell_type": "markdown",
   "id": "551790e4",
   "metadata": {},
   "source": [
    "### Categorical Columns"
   ]
  },
  {
   "cell_type": "markdown",
   "id": "c6746a56",
   "metadata": {},
   "source": [
    "#### Lead Origin"
   ]
  },
  {
   "cell_type": "code",
   "execution_count": 62,
   "id": "c31aed08",
   "metadata": {},
   "outputs": [
    {
     "data": {
      "image/png": "[encoded data removed]",
      "text/plain": [
       "<Figure size 864x432 with 1 Axes>"
      ]
     },
     "metadata": {},
     "output_type": "display_data"
    }
   ],
   "source": [
    "plt.style.use('dark_background')\n",
    "plt.figure(figsize=(12,6))\n",
    "x=df.groupby('lead_origin')\n",
    "x['lead_number'].count().sort_values().plot(kind='barh',edgecolor='b',color=['#7f7f7f', '#bcbd22', '#17becf'])\n",
    "plt.show()"
   ]
  },
  {
   "cell_type": "markdown",
   "id": "47ab6ec8",
   "metadata": {},
   "source": [
    "#### Lead Source"
   ]
  },
  {
   "cell_type": "code",
   "execution_count": 63,
   "id": "a9d17da0",
   "metadata": {},
   "outputs": [
    {
     "data": {
      "image/png": "[encoded data removed]",
      "text/plain": [
       "<Figure size 864x432 with 1 Axes>"
      ]
     },
     "metadata": {},
     "output_type": "display_data"
    }
   ],
   "source": [
    "plt.style.use('dark_background')\n",
    "plt.figure(figsize=(12,6))\n",
    "x=df.groupby('lead_source')\n",
    "x['lead_number'].count().sort_values().plot(kind='bar',edgecolor='b',color=['#1f77b4', '#ff7f0e', '#2ca02c', '#d62728', '#9467bd','#8c564b'])\n",
    "plt.show()"
   ]
  },
  {
   "cell_type": "markdown",
   "id": "c074148c",
   "metadata": {},
   "source": [
    "Most people come from 'Google'."
   ]
  },
  {
   "cell_type": "markdown",
   "id": "1141248e",
   "metadata": {},
   "source": [
    "#### Specialization"
   ]
  },
  {
   "cell_type": "code",
   "execution_count": 64,
   "id": "4100d968",
   "metadata": {},
   "outputs": [
    {
     "data": {
      "image/png": "[encoded data removed]",
      "text/plain": [
       "<Figure size 864x432 with 1 Axes>"
      ]
     },
     "metadata": {},
     "output_type": "display_data"
    }
   ],
   "source": [
    "plt.style.use('dark_background')\n",
    "plt.figure(figsize=(12,6))\n",
    "x=df.groupby('specialization')\n",
    "x['lead_number'].count().sort_values(ascending= False).plot(kind='bar',edgecolor='b')\n",
    "plt.show()"
   ]
  },
  {
   "cell_type": "markdown",
   "id": "b26d2781",
   "metadata": {},
   "source": [
    "Most of the Specialization is coming from Management Professionals"
   ]
  },
  {
   "cell_type": "markdown",
   "id": "358b3c67",
   "metadata": {},
   "source": [
    "#### Occupation"
   ]
  },
  {
   "cell_type": "code",
   "execution_count": 65,
   "id": "8dda417c",
   "metadata": {},
   "outputs": [
    {
     "data": {
      "image/png": "[encoded data removed]",
      "text/plain": [
       "<Figure size 864x432 with 1 Axes>"
      ]
     },
     "metadata": {},
     "output_type": "display_data"
    }
   ],
   "source": [
    "plt.figure(figsize=(12,6))\n",
    "x=df.groupby('occupation')\n",
    "x['lead_number'].count().sort_values(ascending= False).plot(kind='bar',edgecolor='b')\n",
    "plt.show()"
   ]
  },
  {
   "cell_type": "markdown",
   "id": "217015e5",
   "metadata": {},
   "source": [
    "Unemployed users are more significant to be a lead."
   ]
  },
  {
   "cell_type": "markdown",
   "id": "98e1b3cc",
   "metadata": {},
   "source": [
    "#### City"
   ]
  },
  {
   "cell_type": "code",
   "execution_count": 66,
   "id": "7e4d17ab",
   "metadata": {},
   "outputs": [
    {
     "data": {
      "image/png": "[encoded data removed]",
      "text/plain": [
       "<Figure size 864x432 with 1 Axes>"
      ]
     },
     "metadata": {},
     "output_type": "display_data"
    }
   ],
   "source": [
    "plt.figure(figsize=(12,6))\n",
    "x=df.groupby('city')\n",
    "x['lead_number'].count().sort_values(ascending= False).plot(kind='barh',edgecolor='b')\n",
    "plt.show()"
   ]
  },
  {
   "cell_type": "markdown",
   "id": "21a3c11e",
   "metadata": {},
   "source": [
    "Mumbai and Maharashtra in general dominates the markets.<br/>\n",
    "This is likely to the fact that courses are based in Mumbai??"
   ]
  },
  {
   "cell_type": "markdown",
   "id": "ac1986c5",
   "metadata": {},
   "source": [
    "### Data Prepration"
   ]
  },
  {
   "cell_type": "code",
   "execution_count": 67,
   "id": "741bba4a",
   "metadata": {},
   "outputs": [
    {
     "data": {
      "text/plain": [
       "lead_number       9240\n",
       "lead_origin          5\n",
       "lead_source          6\n",
       "specialization      11\n",
       "occupation           6\n",
       "tags                 8\n",
       "city                 6\n",
       "dtype: int64"
      ]
     },
     "execution_count": 67,
     "metadata": {},
     "output_type": "execute_result"
    }
   ],
   "source": [
    "df.select_dtypes(include='object').nunique()"
   ]
  },
  {
   "cell_type": "markdown",
   "id": "7f4b473d",
   "metadata": {},
   "source": [
    "#### Converting Binary Columns"
   ]
  },
  {
   "cell_type": "markdown",
   "id": "d96cb2fb",
   "metadata": {},
   "source": [
    "Sucessfully converted Yes/No to 1/0 Using **Label Encoder**"
   ]
  },
  {
   "cell_type": "markdown",
   "id": "c3c2d325",
   "metadata": {},
   "source": [
    "#### Creating Dummy Varaibles for Categorical columns\n",
    "\n",
    "Categorical Columns are : lead_origin, lead_source, Specialization, occupation, city."
   ]
  },
  {
   "cell_type": "code",
   "execution_count": 68,
   "id": "ed3baf89",
   "metadata": {},
   "outputs": [],
   "source": [
    "#create dummies\n",
    "dumdum=pd.get_dummies(df[['lead_origin', 'lead_source', 'specialization', 'occupation', 'city','tags']],drop_first=True)\n",
    "\n",
    "dumdum.head()\n",
    "\n",
    "#concat results to original data frame\n",
    "\n",
    "df=pd.concat([df,dumdum],axis=1)"
   ]
  },
  {
   "cell_type": "code",
   "execution_count": 69,
   "id": "7f6ecdf4",
   "metadata": {},
   "outputs": [],
   "source": [
    "#Droping the columns for which dummies are created.\n",
    "df.drop(['lead_origin', 'lead_source', 'specialization', 'occupation', 'city','tags'],axis=1,inplace=True)"
   ]
  },
  {
   "cell_type": "code",
   "execution_count": 70,
   "id": "8ed806e1",
   "metadata": {},
   "outputs": [
    {
     "data": {
      "text/html": [
       "<div>\n",
       "<style scoped>\n",
       "    .dataframe tbody tr th:only-of-type {\n",
       "        vertical-align: middle;\n",
       "    }\n",
       "\n",
       "    .dataframe tbody tr th {\n",
       "        vertical-align: top;\n",
       "    }\n",
       "\n",
       "    .dataframe thead th {\n",
       "        text-align: right;\n",
       "    }\n",
       "</style>\n",
       "<table border=\"1\" class=\"dataframe\">\n",
       "  <thead>\n",
       "    <tr style=\"text-align: right;\">\n",
       "      <th></th>\n",
       "      <th>lead_number</th>\n",
       "      <th>converted</th>\n",
       "      <th>total_visits</th>\n",
       "      <th>time_on_website</th>\n",
       "      <th>page_views_per_visit</th>\n",
       "      <th>lead_origin_Landing Page Submission</th>\n",
       "      <th>lead_origin_Lead Add Form</th>\n",
       "      <th>lead_origin_Lead Import</th>\n",
       "      <th>lead_origin_Quick Add Form</th>\n",
       "      <th>lead_source_Google</th>\n",
       "      <th>lead_source_Olark Chat</th>\n",
       "      <th>lead_source_Organic Search</th>\n",
       "      <th>lead_source_Other Social Sites</th>\n",
       "      <th>lead_source_Reference</th>\n",
       "      <th>specialization_Business Administration</th>\n",
       "      <th>specialization_E-Business</th>\n",
       "      <th>specialization_E-COMMERCE</th>\n",
       "      <th>specialization_International Business</th>\n",
       "      <th>specialization_Management</th>\n",
       "      <th>specialization_Media and Advertising</th>\n",
       "      <th>specialization_Not Specified</th>\n",
       "      <th>specialization_Rural and Agribusiness</th>\n",
       "      <th>specialization_Services Excellence</th>\n",
       "      <th>specialization_Travel and Tourism</th>\n",
       "      <th>occupation_Housewife</th>\n",
       "      <th>occupation_Other</th>\n",
       "      <th>occupation_Student</th>\n",
       "      <th>occupation_Unemployed</th>\n",
       "      <th>occupation_Working Professional</th>\n",
       "      <th>city_Other Cities</th>\n",
       "      <th>city_Other Cities of Maharashtra</th>\n",
       "      <th>city_Other Metro Cities</th>\n",
       "      <th>city_Thane &amp; Outskirts</th>\n",
       "      <th>city_Tier II Cities</th>\n",
       "      <th>tags_Closed by Horizzon</th>\n",
       "      <th>tags_Interested in other courses</th>\n",
       "      <th>tags_Lost to EINS</th>\n",
       "      <th>tags_Not Specified</th>\n",
       "      <th>tags_Other_Tags</th>\n",
       "      <th>tags_Ringing</th>\n",
       "      <th>tags_Will revert after reading the email</th>\n",
       "    </tr>\n",
       "  </thead>\n",
       "  <tbody>\n",
       "    <tr>\n",
       "      <th>0</th>\n",
       "      <td>660737</td>\n",
       "      <td>0</td>\n",
       "      <td>0</td>\n",
       "      <td>0</td>\n",
       "      <td>0.00</td>\n",
       "      <td>0</td>\n",
       "      <td>0</td>\n",
       "      <td>0</td>\n",
       "      <td>0</td>\n",
       "      <td>0</td>\n",
       "      <td>1</td>\n",
       "      <td>0</td>\n",
       "      <td>0</td>\n",
       "      <td>0</td>\n",
       "      <td>0</td>\n",
       "      <td>0</td>\n",
       "      <td>0</td>\n",
       "      <td>0</td>\n",
       "      <td>0</td>\n",
       "      <td>0</td>\n",
       "      <td>1</td>\n",
       "      <td>0</td>\n",
       "      <td>0</td>\n",
       "      <td>0</td>\n",
       "      <td>0</td>\n",
       "      <td>0</td>\n",
       "      <td>0</td>\n",
       "      <td>1</td>\n",
       "      <td>0</td>\n",
       "      <td>0</td>\n",
       "      <td>0</td>\n",
       "      <td>0</td>\n",
       "      <td>0</td>\n",
       "      <td>0</td>\n",
       "      <td>0</td>\n",
       "      <td>1</td>\n",
       "      <td>0</td>\n",
       "      <td>0</td>\n",
       "      <td>0</td>\n",
       "      <td>0</td>\n",
       "      <td>0</td>\n",
       "    </tr>\n",
       "    <tr>\n",
       "      <th>1</th>\n",
       "      <td>660728</td>\n",
       "      <td>0</td>\n",
       "      <td>5</td>\n",
       "      <td>674</td>\n",
       "      <td>2.50</td>\n",
       "      <td>0</td>\n",
       "      <td>0</td>\n",
       "      <td>0</td>\n",
       "      <td>0</td>\n",
       "      <td>0</td>\n",
       "      <td>0</td>\n",
       "      <td>1</td>\n",
       "      <td>0</td>\n",
       "      <td>0</td>\n",
       "      <td>0</td>\n",
       "      <td>0</td>\n",
       "      <td>0</td>\n",
       "      <td>0</td>\n",
       "      <td>0</td>\n",
       "      <td>0</td>\n",
       "      <td>1</td>\n",
       "      <td>0</td>\n",
       "      <td>0</td>\n",
       "      <td>0</td>\n",
       "      <td>0</td>\n",
       "      <td>0</td>\n",
       "      <td>0</td>\n",
       "      <td>1</td>\n",
       "      <td>0</td>\n",
       "      <td>0</td>\n",
       "      <td>0</td>\n",
       "      <td>0</td>\n",
       "      <td>0</td>\n",
       "      <td>0</td>\n",
       "      <td>0</td>\n",
       "      <td>0</td>\n",
       "      <td>0</td>\n",
       "      <td>0</td>\n",
       "      <td>0</td>\n",
       "      <td>1</td>\n",
       "      <td>0</td>\n",
       "    </tr>\n",
       "    <tr>\n",
       "      <th>2</th>\n",
       "      <td>660727</td>\n",
       "      <td>1</td>\n",
       "      <td>2</td>\n",
       "      <td>1532</td>\n",
       "      <td>2.00</td>\n",
       "      <td>1</td>\n",
       "      <td>0</td>\n",
       "      <td>0</td>\n",
       "      <td>0</td>\n",
       "      <td>0</td>\n",
       "      <td>0</td>\n",
       "      <td>0</td>\n",
       "      <td>0</td>\n",
       "      <td>0</td>\n",
       "      <td>1</td>\n",
       "      <td>0</td>\n",
       "      <td>0</td>\n",
       "      <td>0</td>\n",
       "      <td>0</td>\n",
       "      <td>0</td>\n",
       "      <td>0</td>\n",
       "      <td>0</td>\n",
       "      <td>0</td>\n",
       "      <td>0</td>\n",
       "      <td>0</td>\n",
       "      <td>0</td>\n",
       "      <td>1</td>\n",
       "      <td>0</td>\n",
       "      <td>0</td>\n",
       "      <td>0</td>\n",
       "      <td>0</td>\n",
       "      <td>0</td>\n",
       "      <td>0</td>\n",
       "      <td>0</td>\n",
       "      <td>0</td>\n",
       "      <td>0</td>\n",
       "      <td>0</td>\n",
       "      <td>0</td>\n",
       "      <td>0</td>\n",
       "      <td>0</td>\n",
       "      <td>1</td>\n",
       "    </tr>\n",
       "    <tr>\n",
       "      <th>3</th>\n",
       "      <td>660719</td>\n",
       "      <td>0</td>\n",
       "      <td>1</td>\n",
       "      <td>305</td>\n",
       "      <td>1.00</td>\n",
       "      <td>1</td>\n",
       "      <td>0</td>\n",
       "      <td>0</td>\n",
       "      <td>0</td>\n",
       "      <td>0</td>\n",
       "      <td>0</td>\n",
       "      <td>0</td>\n",
       "      <td>0</td>\n",
       "      <td>0</td>\n",
       "      <td>0</td>\n",
       "      <td>0</td>\n",
       "      <td>0</td>\n",
       "      <td>0</td>\n",
       "      <td>0</td>\n",
       "      <td>1</td>\n",
       "      <td>0</td>\n",
       "      <td>0</td>\n",
       "      <td>0</td>\n",
       "      <td>0</td>\n",
       "      <td>0</td>\n",
       "      <td>0</td>\n",
       "      <td>0</td>\n",
       "      <td>1</td>\n",
       "      <td>0</td>\n",
       "      <td>0</td>\n",
       "      <td>0</td>\n",
       "      <td>0</td>\n",
       "      <td>0</td>\n",
       "      <td>0</td>\n",
       "      <td>0</td>\n",
       "      <td>0</td>\n",
       "      <td>0</td>\n",
       "      <td>0</td>\n",
       "      <td>0</td>\n",
       "      <td>1</td>\n",
       "      <td>0</td>\n",
       "    </tr>\n",
       "    <tr>\n",
       "      <th>4</th>\n",
       "      <td>660681</td>\n",
       "      <td>1</td>\n",
       "      <td>2</td>\n",
       "      <td>1428</td>\n",
       "      <td>1.00</td>\n",
       "      <td>1</td>\n",
       "      <td>0</td>\n",
       "      <td>0</td>\n",
       "      <td>0</td>\n",
       "      <td>1</td>\n",
       "      <td>0</td>\n",
       "      <td>0</td>\n",
       "      <td>0</td>\n",
       "      <td>0</td>\n",
       "      <td>0</td>\n",
       "      <td>0</td>\n",
       "      <td>0</td>\n",
       "      <td>0</td>\n",
       "      <td>0</td>\n",
       "      <td>0</td>\n",
       "      <td>1</td>\n",
       "      <td>0</td>\n",
       "      <td>0</td>\n",
       "      <td>0</td>\n",
       "      <td>0</td>\n",
       "      <td>0</td>\n",
       "      <td>0</td>\n",
       "      <td>1</td>\n",
       "      <td>0</td>\n",
       "      <td>0</td>\n",
       "      <td>0</td>\n",
       "      <td>0</td>\n",
       "      <td>0</td>\n",
       "      <td>0</td>\n",
       "      <td>0</td>\n",
       "      <td>0</td>\n",
       "      <td>0</td>\n",
       "      <td>0</td>\n",
       "      <td>0</td>\n",
       "      <td>0</td>\n",
       "      <td>1</td>\n",
       "    </tr>\n",
       "  </tbody>\n",
       "</table>\n",
       "</div>"
      ],
      "text/plain": [
       "  lead_number  converted  total_visits  time_on_website  page_views_per_visit  \\\n",
       "0      660737          0             0                0                  0.00   \n",
       "1      660728          0             5              674                  2.50   \n",
       "2      660727          1             2             1532                  2.00   \n",
       "3      660719          0             1              305                  1.00   \n",
       "4      660681          1             2             1428                  1.00   \n",
       "\n",
       "   lead_origin_Landing Page Submission  lead_origin_Lead Add Form  \\\n",
       "0                                    0                          0   \n",
       "1                                    0                          0   \n",
       "2                                    1                          0   \n",
       "3                                    1                          0   \n",
       "4                                    1                          0   \n",
       "\n",
       "   lead_origin_Lead Import  lead_origin_Quick Add Form  lead_source_Google  \\\n",
       "0                        0                           0                   0   \n",
       "1                        0                           0                   0   \n",
       "2                        0                           0                   0   \n",
       "3                        0                           0                   0   \n",
       "4                        0                           0                   1   \n",
       "\n",
       "   lead_source_Olark Chat  lead_source_Organic Search  \\\n",
       "0                       1                           0   \n",
       "1                       0                           1   \n",
       "2                       0                           0   \n",
       "3                       0                           0   \n",
       "4                       0                           0   \n",
       "\n",
       "   lead_source_Other Social Sites  lead_source_Reference  \\\n",
       "0                               0                      0   \n",
       "1                               0                      0   \n",
       "2                               0                      0   \n",
       "3                               0                      0   \n",
       "4                               0                      0   \n",
       "\n",
       "   specialization_Business Administration  specialization_E-Business  \\\n",
       "0                                       0                          0   \n",
       "1                                       0                          0   \n",
       "2                                       1                          0   \n",
       "3                                       0                          0   \n",
       "4                                       0                          0   \n",
       "\n",
       "   specialization_E-COMMERCE  specialization_International Business  \\\n",
       "0                          0                                      0   \n",
       "1                          0                                      0   \n",
       "2                          0                                      0   \n",
       "3                          0                                      0   \n",
       "4                          0                                      0   \n",
       "\n",
       "   specialization_Management  specialization_Media and Advertising  \\\n",
       "0                          0                                     0   \n",
       "1                          0                                     0   \n",
       "2                          0                                     0   \n",
       "3                          0                                     1   \n",
       "4                          0                                     0   \n",
       "\n",
       "   specialization_Not Specified  specialization_Rural and Agribusiness  \\\n",
       "0                             1                                      0   \n",
       "1                             1                                      0   \n",
       "2                             0                                      0   \n",
       "3                             0                                      0   \n",
       "4                             1                                      0   \n",
       "\n",
       "   specialization_Services Excellence  specialization_Travel and Tourism  \\\n",
       "0                                   0                                  0   \n",
       "1                                   0                                  0   \n",
       "2                                   0                                  0   \n",
       "3                                   0                                  0   \n",
       "4                                   0                                  0   \n",
       "\n",
       "   occupation_Housewife  occupation_Other  occupation_Student  \\\n",
       "0                     0                 0                   0   \n",
       "1                     0                 0                   0   \n",
       "2                     0                 0                   1   \n",
       "3                     0                 0                   0   \n",
       "4                     0                 0                   0   \n",
       "\n",
       "   occupation_Unemployed  occupation_Working Professional  city_Other Cities  \\\n",
       "0                      1                                0                  0   \n",
       "1                      1                                0                  0   \n",
       "2                      0                                0                  0   \n",
       "3                      1                                0                  0   \n",
       "4                      1                                0                  0   \n",
       "\n",
       "   city_Other Cities of Maharashtra  city_Other Metro Cities  \\\n",
       "0                                 0                        0   \n",
       "1                                 0                        0   \n",
       "2                                 0                        0   \n",
       "3                                 0                        0   \n",
       "4                                 0                        0   \n",
       "\n",
       "   city_Thane & Outskirts  city_Tier II Cities  tags_Closed by Horizzon  \\\n",
       "0                       0                    0                        0   \n",
       "1                       0                    0                        0   \n",
       "2                       0                    0                        0   \n",
       "3                       0                    0                        0   \n",
       "4                       0                    0                        0   \n",
       "\n",
       "   tags_Interested in other courses  tags_Lost to EINS  tags_Not Specified  \\\n",
       "0                                 1                  0                   0   \n",
       "1                                 0                  0                   0   \n",
       "2                                 0                  0                   0   \n",
       "3                                 0                  0                   0   \n",
       "4                                 0                  0                   0   \n",
       "\n",
       "   tags_Other_Tags  tags_Ringing  tags_Will revert after reading the email  \n",
       "0                0             0                                         0  \n",
       "1                0             1                                         0  \n",
       "2                0             0                                         1  \n",
       "3                0             1                                         0  \n",
       "4                0             0                                         1  "
      ]
     },
     "execution_count": 70,
     "metadata": {},
     "output_type": "execute_result"
    }
   ],
   "source": [
    "df.head()"
   ]
  },
  {
   "cell_type": "markdown",
   "id": "5bf0f048",
   "metadata": {},
   "source": [
    "#### Handling Outliers."
   ]
  },
  {
   "cell_type": "markdown",
   "id": "594701a3",
   "metadata": {},
   "source": [
    "- First we check the 99% th values.\n",
    "- Then we can cap the outliers \n",
    "- capping means replacing the outliers with .99%tile of the values. \n",
    "- This is one of the methods to handle outliers just like imputation."
   ]
  },
  {
   "cell_type": "code",
   "execution_count": 71,
   "id": "4ce5e8e5",
   "metadata": {},
   "outputs": [
    {
     "data": {
      "text/plain": [
       "count   9240.00\n",
       "mean       3.44\n",
       "std        4.82\n",
       "min        0.00\n",
       "50%        3.00\n",
       "99%       17.00\n",
       "max      251.00\n",
       "Name: total_visits, dtype: float64"
      ]
     },
     "execution_count": 71,
     "metadata": {},
     "output_type": "execute_result"
    }
   ],
   "source": [
    "#checking .99 percentile of the values. for tota_visits\n",
    "df['total_visits'].describe(percentiles=[.99])"
   ]
  },
  {
   "cell_type": "code",
   "execution_count": 72,
   "id": "5f724b34",
   "metadata": {},
   "outputs": [
    {
     "data": {
      "text/plain": [
       "count   9240.00\n",
       "mean       2.36\n",
       "std        2.15\n",
       "min        0.00\n",
       "50%        2.00\n",
       "99%        9.00\n",
       "max       55.00\n",
       "Name: page_views_per_visit, dtype: float64"
      ]
     },
     "execution_count": 72,
     "metadata": {},
     "output_type": "execute_result"
    }
   ],
   "source": [
    "#checking .99 percentile of the values. for page_views_per_visit\n",
    "df['page_views_per_visit'].describe(percentiles=[.99])"
   ]
  },
  {
   "cell_type": "code",
   "execution_count": 73,
   "id": "f7a7c32d",
   "metadata": {},
   "outputs": [],
   "source": [
    "#replacing values outliers.\n",
    "df.total_visits.loc[df.total_visits>=df.total_visits.quantile(0.99)]=df.total_visits.quantile(0.99)\n",
    "df.page_views_per_visit.loc[df.page_views_per_visit>=df.page_views_per_visit.quantile(0.99)]=df.page_views_per_visit.quantile(0.99)"
   ]
  },
  {
   "cell_type": "code",
   "execution_count": 74,
   "id": "aa969b5e",
   "metadata": {},
   "outputs": [
    {
     "data": {
      "image/png": "[encoded data removed]",
      "text/plain": [
       "<Figure size 720x1008 with 2 Axes>"
      ]
     },
     "metadata": {},
     "output_type": "display_data"
    }
   ],
   "source": [
    "plt.style.use('ggplot')\n",
    "plt.figure(figsize=(10,14))\n",
    "\n",
    "plt.subplot(2,1,1)\n",
    "sns.boxplot(df.total_visits)\n",
    "\n",
    "plt.subplot(2,1,2)\n",
    "sns.boxplot(df.page_views_per_visit)\n",
    "\n",
    "plt.show()"
   ]
  },
  {
   "cell_type": "markdown",
   "id": "af1e8f2c",
   "metadata": {},
   "source": [
    "Outliers have been reduced by capping/replacing it."
   ]
  },
  {
   "cell_type": "code",
   "execution_count": 75,
   "id": "5b17afc6",
   "metadata": {},
   "outputs": [
    {
     "data": {
      "image/png": "[encoded data removed]",
      "text/plain": [
       "<Figure size 1440x1440 with 3 Axes>"
      ]
     },
     "metadata": {},
     "output_type": "display_data"
    }
   ],
   "source": [
    "plt.style.use('dark_background')\n",
    "\n",
    "titles=['Total website visits','Total time spent on websites','Average number of page views per visit']\n",
    "plt.figure(figsize=(20,20))\n",
    "for _ in enumerate(req_columns):\n",
    "    plt.subplot(len(req_columns),1,_[0]+1)\n",
    "    plt.hist(df[_[1]].dropna(),bins=10)\n",
    "    x=_[0]\n",
    "    plt.title(titles[x])\n",
    "    plt.show"
   ]
  },
  {
   "cell_type": "markdown",
   "id": "3f82dcd9",
   "metadata": {},
   "source": [
    "### Test-Train Split"
   ]
  },
  {
   "cell_type": "code",
   "execution_count": 76,
   "id": "febd32fe",
   "metadata": {},
   "outputs": [],
   "source": [
    "#import test train library\n",
    "from sklearn.model_selection import train_test_split"
   ]
  },
  {
   "cell_type": "code",
   "execution_count": 77,
   "id": "b21adf8d",
   "metadata": {},
   "outputs": [
    {
     "data": {
      "text/html": [
       "<div>\n",
       "<style scoped>\n",
       "    .dataframe tbody tr th:only-of-type {\n",
       "        vertical-align: middle;\n",
       "    }\n",
       "\n",
       "    .dataframe tbody tr th {\n",
       "        vertical-align: top;\n",
       "    }\n",
       "\n",
       "    .dataframe thead th {\n",
       "        text-align: right;\n",
       "    }\n",
       "</style>\n",
       "<table border=\"1\" class=\"dataframe\">\n",
       "  <thead>\n",
       "    <tr style=\"text-align: right;\">\n",
       "      <th></th>\n",
       "      <th>total_visits</th>\n",
       "      <th>time_on_website</th>\n",
       "      <th>page_views_per_visit</th>\n",
       "      <th>lead_origin_Landing Page Submission</th>\n",
       "      <th>lead_origin_Lead Add Form</th>\n",
       "      <th>lead_origin_Lead Import</th>\n",
       "      <th>lead_origin_Quick Add Form</th>\n",
       "      <th>lead_source_Google</th>\n",
       "      <th>lead_source_Olark Chat</th>\n",
       "      <th>lead_source_Organic Search</th>\n",
       "      <th>lead_source_Other Social Sites</th>\n",
       "      <th>lead_source_Reference</th>\n",
       "      <th>specialization_Business Administration</th>\n",
       "      <th>specialization_E-Business</th>\n",
       "      <th>specialization_E-COMMERCE</th>\n",
       "      <th>specialization_International Business</th>\n",
       "      <th>specialization_Management</th>\n",
       "      <th>specialization_Media and Advertising</th>\n",
       "      <th>specialization_Not Specified</th>\n",
       "      <th>specialization_Rural and Agribusiness</th>\n",
       "      <th>specialization_Services Excellence</th>\n",
       "      <th>specialization_Travel and Tourism</th>\n",
       "      <th>occupation_Housewife</th>\n",
       "      <th>occupation_Other</th>\n",
       "      <th>occupation_Student</th>\n",
       "      <th>occupation_Unemployed</th>\n",
       "      <th>occupation_Working Professional</th>\n",
       "      <th>city_Other Cities</th>\n",
       "      <th>city_Other Cities of Maharashtra</th>\n",
       "      <th>city_Other Metro Cities</th>\n",
       "      <th>city_Thane &amp; Outskirts</th>\n",
       "      <th>city_Tier II Cities</th>\n",
       "      <th>tags_Closed by Horizzon</th>\n",
       "      <th>tags_Interested in other courses</th>\n",
       "      <th>tags_Lost to EINS</th>\n",
       "      <th>tags_Not Specified</th>\n",
       "      <th>tags_Other_Tags</th>\n",
       "      <th>tags_Ringing</th>\n",
       "      <th>tags_Will revert after reading the email</th>\n",
       "    </tr>\n",
       "  </thead>\n",
       "  <tbody>\n",
       "    <tr>\n",
       "      <th>0</th>\n",
       "      <td>0</td>\n",
       "      <td>0</td>\n",
       "      <td>0.00</td>\n",
       "      <td>0</td>\n",
       "      <td>0</td>\n",
       "      <td>0</td>\n",
       "      <td>0</td>\n",
       "      <td>0</td>\n",
       "      <td>1</td>\n",
       "      <td>0</td>\n",
       "      <td>0</td>\n",
       "      <td>0</td>\n",
       "      <td>0</td>\n",
       "      <td>0</td>\n",
       "      <td>0</td>\n",
       "      <td>0</td>\n",
       "      <td>0</td>\n",
       "      <td>0</td>\n",
       "      <td>1</td>\n",
       "      <td>0</td>\n",
       "      <td>0</td>\n",
       "      <td>0</td>\n",
       "      <td>0</td>\n",
       "      <td>0</td>\n",
       "      <td>0</td>\n",
       "      <td>1</td>\n",
       "      <td>0</td>\n",
       "      <td>0</td>\n",
       "      <td>0</td>\n",
       "      <td>0</td>\n",
       "      <td>0</td>\n",
       "      <td>0</td>\n",
       "      <td>0</td>\n",
       "      <td>1</td>\n",
       "      <td>0</td>\n",
       "      <td>0</td>\n",
       "      <td>0</td>\n",
       "      <td>0</td>\n",
       "      <td>0</td>\n",
       "    </tr>\n",
       "    <tr>\n",
       "      <th>1</th>\n",
       "      <td>5</td>\n",
       "      <td>674</td>\n",
       "      <td>2.50</td>\n",
       "      <td>0</td>\n",
       "      <td>0</td>\n",
       "      <td>0</td>\n",
       "      <td>0</td>\n",
       "      <td>0</td>\n",
       "      <td>0</td>\n",
       "      <td>1</td>\n",
       "      <td>0</td>\n",
       "      <td>0</td>\n",
       "      <td>0</td>\n",
       "      <td>0</td>\n",
       "      <td>0</td>\n",
       "      <td>0</td>\n",
       "      <td>0</td>\n",
       "      <td>0</td>\n",
       "      <td>1</td>\n",
       "      <td>0</td>\n",
       "      <td>0</td>\n",
       "      <td>0</td>\n",
       "      <td>0</td>\n",
       "      <td>0</td>\n",
       "      <td>0</td>\n",
       "      <td>1</td>\n",
       "      <td>0</td>\n",
       "      <td>0</td>\n",
       "      <td>0</td>\n",
       "      <td>0</td>\n",
       "      <td>0</td>\n",
       "      <td>0</td>\n",
       "      <td>0</td>\n",
       "      <td>0</td>\n",
       "      <td>0</td>\n",
       "      <td>0</td>\n",
       "      <td>0</td>\n",
       "      <td>1</td>\n",
       "      <td>0</td>\n",
       "    </tr>\n",
       "    <tr>\n",
       "      <th>2</th>\n",
       "      <td>2</td>\n",
       "      <td>1532</td>\n",
       "      <td>2.00</td>\n",
       "      <td>1</td>\n",
       "      <td>0</td>\n",
       "      <td>0</td>\n",
       "      <td>0</td>\n",
       "      <td>0</td>\n",
       "      <td>0</td>\n",
       "      <td>0</td>\n",
       "      <td>0</td>\n",
       "      <td>0</td>\n",
       "      <td>1</td>\n",
       "      <td>0</td>\n",
       "      <td>0</td>\n",
       "      <td>0</td>\n",
       "      <td>0</td>\n",
       "      <td>0</td>\n",
       "      <td>0</td>\n",
       "      <td>0</td>\n",
       "      <td>0</td>\n",
       "      <td>0</td>\n",
       "      <td>0</td>\n",
       "      <td>0</td>\n",
       "      <td>1</td>\n",
       "      <td>0</td>\n",
       "      <td>0</td>\n",
       "      <td>0</td>\n",
       "      <td>0</td>\n",
       "      <td>0</td>\n",
       "      <td>0</td>\n",
       "      <td>0</td>\n",
       "      <td>0</td>\n",
       "      <td>0</td>\n",
       "      <td>0</td>\n",
       "      <td>0</td>\n",
       "      <td>0</td>\n",
       "      <td>0</td>\n",
       "      <td>1</td>\n",
       "    </tr>\n",
       "    <tr>\n",
       "      <th>3</th>\n",
       "      <td>1</td>\n",
       "      <td>305</td>\n",
       "      <td>1.00</td>\n",
       "      <td>1</td>\n",
       "      <td>0</td>\n",
       "      <td>0</td>\n",
       "      <td>0</td>\n",
       "      <td>0</td>\n",
       "      <td>0</td>\n",
       "      <td>0</td>\n",
       "      <td>0</td>\n",
       "      <td>0</td>\n",
       "      <td>0</td>\n",
       "      <td>0</td>\n",
       "      <td>0</td>\n",
       "      <td>0</td>\n",
       "      <td>0</td>\n",
       "      <td>1</td>\n",
       "      <td>0</td>\n",
       "      <td>0</td>\n",
       "      <td>0</td>\n",
       "      <td>0</td>\n",
       "      <td>0</td>\n",
       "      <td>0</td>\n",
       "      <td>0</td>\n",
       "      <td>1</td>\n",
       "      <td>0</td>\n",
       "      <td>0</td>\n",
       "      <td>0</td>\n",
       "      <td>0</td>\n",
       "      <td>0</td>\n",
       "      <td>0</td>\n",
       "      <td>0</td>\n",
       "      <td>0</td>\n",
       "      <td>0</td>\n",
       "      <td>0</td>\n",
       "      <td>0</td>\n",
       "      <td>1</td>\n",
       "      <td>0</td>\n",
       "    </tr>\n",
       "    <tr>\n",
       "      <th>4</th>\n",
       "      <td>2</td>\n",
       "      <td>1428</td>\n",
       "      <td>1.00</td>\n",
       "      <td>1</td>\n",
       "      <td>0</td>\n",
       "      <td>0</td>\n",
       "      <td>0</td>\n",
       "      <td>1</td>\n",
       "      <td>0</td>\n",
       "      <td>0</td>\n",
       "      <td>0</td>\n",
       "      <td>0</td>\n",
       "      <td>0</td>\n",
       "      <td>0</td>\n",
       "      <td>0</td>\n",
       "      <td>0</td>\n",
       "      <td>0</td>\n",
       "      <td>0</td>\n",
       "      <td>1</td>\n",
       "      <td>0</td>\n",
       "      <td>0</td>\n",
       "      <td>0</td>\n",
       "      <td>0</td>\n",
       "      <td>0</td>\n",
       "      <td>0</td>\n",
       "      <td>1</td>\n",
       "      <td>0</td>\n",
       "      <td>0</td>\n",
       "      <td>0</td>\n",
       "      <td>0</td>\n",
       "      <td>0</td>\n",
       "      <td>0</td>\n",
       "      <td>0</td>\n",
       "      <td>0</td>\n",
       "      <td>0</td>\n",
       "      <td>0</td>\n",
       "      <td>0</td>\n",
       "      <td>0</td>\n",
       "      <td>1</td>\n",
       "    </tr>\n",
       "  </tbody>\n",
       "</table>\n",
       "</div>"
      ],
      "text/plain": [
       "   total_visits  time_on_website  page_views_per_visit  \\\n",
       "0             0                0                  0.00   \n",
       "1             5              674                  2.50   \n",
       "2             2             1532                  2.00   \n",
       "3             1              305                  1.00   \n",
       "4             2             1428                  1.00   \n",
       "\n",
       "   lead_origin_Landing Page Submission  lead_origin_Lead Add Form  \\\n",
       "0                                    0                          0   \n",
       "1                                    0                          0   \n",
       "2                                    1                          0   \n",
       "3                                    1                          0   \n",
       "4                                    1                          0   \n",
       "\n",
       "   lead_origin_Lead Import  lead_origin_Quick Add Form  lead_source_Google  \\\n",
       "0                        0                           0                   0   \n",
       "1                        0                           0                   0   \n",
       "2                        0                           0                   0   \n",
       "3                        0                           0                   0   \n",
       "4                        0                           0                   1   \n",
       "\n",
       "   lead_source_Olark Chat  lead_source_Organic Search  \\\n",
       "0                       1                           0   \n",
       "1                       0                           1   \n",
       "2                       0                           0   \n",
       "3                       0                           0   \n",
       "4                       0                           0   \n",
       "\n",
       "   lead_source_Other Social Sites  lead_source_Reference  \\\n",
       "0                               0                      0   \n",
       "1                               0                      0   \n",
       "2                               0                      0   \n",
       "3                               0                      0   \n",
       "4                               0                      0   \n",
       "\n",
       "   specialization_Business Administration  specialization_E-Business  \\\n",
       "0                                       0                          0   \n",
       "1                                       0                          0   \n",
       "2                                       1                          0   \n",
       "3                                       0                          0   \n",
       "4                                       0                          0   \n",
       "\n",
       "   specialization_E-COMMERCE  specialization_International Business  \\\n",
       "0                          0                                      0   \n",
       "1                          0                                      0   \n",
       "2                          0                                      0   \n",
       "3                          0                                      0   \n",
       "4                          0                                      0   \n",
       "\n",
       "   specialization_Management  specialization_Media and Advertising  \\\n",
       "0                          0                                     0   \n",
       "1                          0                                     0   \n",
       "2                          0                                     0   \n",
       "3                          0                                     1   \n",
       "4                          0                                     0   \n",
       "\n",
       "   specialization_Not Specified  specialization_Rural and Agribusiness  \\\n",
       "0                             1                                      0   \n",
       "1                             1                                      0   \n",
       "2                             0                                      0   \n",
       "3                             0                                      0   \n",
       "4                             1                                      0   \n",
       "\n",
       "   specialization_Services Excellence  specialization_Travel and Tourism  \\\n",
       "0                                   0                                  0   \n",
       "1                                   0                                  0   \n",
       "2                                   0                                  0   \n",
       "3                                   0                                  0   \n",
       "4                                   0                                  0   \n",
       "\n",
       "   occupation_Housewife  occupation_Other  occupation_Student  \\\n",
       "0                     0                 0                   0   \n",
       "1                     0                 0                   0   \n",
       "2                     0                 0                   1   \n",
       "3                     0                 0                   0   \n",
       "4                     0                 0                   0   \n",
       "\n",
       "   occupation_Unemployed  occupation_Working Professional  city_Other Cities  \\\n",
       "0                      1                                0                  0   \n",
       "1                      1                                0                  0   \n",
       "2                      0                                0                  0   \n",
       "3                      1                                0                  0   \n",
       "4                      1                                0                  0   \n",
       "\n",
       "   city_Other Cities of Maharashtra  city_Other Metro Cities  \\\n",
       "0                                 0                        0   \n",
       "1                                 0                        0   \n",
       "2                                 0                        0   \n",
       "3                                 0                        0   \n",
       "4                                 0                        0   \n",
       "\n",
       "   city_Thane & Outskirts  city_Tier II Cities  tags_Closed by Horizzon  \\\n",
       "0                       0                    0                        0   \n",
       "1                       0                    0                        0   \n",
       "2                       0                    0                        0   \n",
       "3                       0                    0                        0   \n",
       "4                       0                    0                        0   \n",
       "\n",
       "   tags_Interested in other courses  tags_Lost to EINS  tags_Not Specified  \\\n",
       "0                                 1                  0                   0   \n",
       "1                                 0                  0                   0   \n",
       "2                                 0                  0                   0   \n",
       "3                                 0                  0                   0   \n",
       "4                                 0                  0                   0   \n",
       "\n",
       "   tags_Other_Tags  tags_Ringing  tags_Will revert after reading the email  \n",
       "0                0             0                                         0  \n",
       "1                0             1                                         0  \n",
       "2                0             0                                         1  \n",
       "3                0             1                                         0  \n",
       "4                0             0                                         1  "
      ]
     },
     "execution_count": 77,
     "metadata": {},
     "output_type": "execute_result"
    }
   ],
   "source": [
    "# Drop the converted column as we need to have that as dependent varaible.\n",
    "\n",
    "x=df.drop(['converted','lead_number'],axis=1)\n",
    "\n",
    "x.head()"
   ]
  },
  {
   "cell_type": "code",
   "execution_count": 78,
   "id": "f8fd760a",
   "metadata": {},
   "outputs": [
    {
     "data": {
      "text/plain": [
       "0    0\n",
       "1    0\n",
       "2    1\n",
       "3    0\n",
       "4    1\n",
       "Name: converted, dtype: int64"
      ]
     },
     "execution_count": 78,
     "metadata": {},
     "output_type": "execute_result"
    }
   ],
   "source": [
    "# Dependent Varaible\n",
    "\n",
    "y=df['converted']\n",
    "\n",
    "y.head()"
   ]
  },
  {
   "cell_type": "code",
   "execution_count": 79,
   "id": "79f0f11e",
   "metadata": {},
   "outputs": [],
   "source": [
    "#Split the data set into 80% and 20% test train respectively.\n",
    "x_train,x_test,y_train,y_test=train_test_split(x,y,train_size=0.7,test_size=0.3,random_state=10)"
   ]
  },
  {
   "cell_type": "markdown",
   "id": "157afcc9",
   "metadata": {},
   "source": [
    "**Obesrvation from EDA.**\n",
    "- The Numerical columns are Right skewered.\n",
    "- The Best way to Scale this kind of distribution is to perform a MinMax Feature scaling."
   ]
  },
  {
   "cell_type": "code",
   "execution_count": 80,
   "id": "099ce130",
   "metadata": {},
   "outputs": [],
   "source": [
    "#import minmax scaler \n",
    "from sklearn.preprocessing import MinMaxScaler\n",
    "scaler=MinMaxScaler()\n",
    "x_train[['total_visits','time_on_website','page_views_per_visit']]=scaler.fit_transform(x_train[['total_visits','time_on_website','page_views_per_visit']])\n",
    "x_test[['total_visits','time_on_website','page_views_per_visit']]=scaler.fit_transform(x_test[['total_visits','time_on_website','page_views_per_visit']])\n"
   ]
  },
  {
   "cell_type": "markdown",
   "id": "5df14501",
   "metadata": {},
   "source": [
    "### Model Building"
   ]
  },
  {
   "cell_type": "code",
   "execution_count": 81,
   "id": "fb254a37",
   "metadata": {},
   "outputs": [],
   "source": [
    "#Importing Necessary Library\n",
    "import statsmodels.api as sm\n",
    "from sklearn.linear_model import LogisticRegression\n",
    "from sklearn.feature_selection import RFE\n",
    "from statsmodels.stats.outliers_influence import variance_inflation_factor"
   ]
  },
  {
   "cell_type": "markdown",
   "id": "39ca5875",
   "metadata": {},
   "source": [
    "#### RFE (Recursive feature Elemination)\n",
    "- There are a few ways to remove features in models.\n",
    "- Either thru one by one elimination or by using techniques provided by Sklearn.\n",
    "- RFE removes Features one by one until the optimal number of features is left.\n",
    "- This is the most important feature selection algorithms due to ease of use and its flexibility.\n",
    "- The algorithm can wrap around any model, and it produces the best possible set of features that gives the highest performance.\n",
    "- RFE will give the same accuracy with less number of Features."
   ]
  },
  {
   "cell_type": "code",
   "execution_count": 82,
   "id": "a8a0811a",
   "metadata": {},
   "outputs": [],
   "source": [
    "# initiate logistic regression\n",
    "logR = LogisticRegression()\n",
    "\n",
    "# initiate rfe\n",
    "rfe = RFE(logR, n_features_to_select=16)             # running RFE with 13 variables as output\n",
    "rfe = rfe.fit(x_train, y_train)"
   ]
  },
  {
   "cell_type": "markdown",
   "id": "36ebbbde",
   "metadata": {},
   "source": [
    "We fit the estimator into the RFE class.\n",
    "the rfe.support_ attribute that gives a boolean mask with False values for discarded features.\n",
    "we can use it to subset our data."
   ]
  },
  {
   "cell_type": "code",
   "execution_count": 83,
   "id": "c61b6e9f",
   "metadata": {},
   "outputs": [
    {
     "data": {
      "text/plain": [
       "array([ True,  True,  True,  True,  True, False, False, False, False,\n",
       "       False, False,  True, False, False, False, False, False, False,\n",
       "       False, False, False,  True, False, False, False, False,  True,\n",
       "       False, False, False, False,  True,  True,  True,  True,  True,\n",
       "        True,  True,  True])"
      ]
     },
     "execution_count": 83,
     "metadata": {},
     "output_type": "execute_result"
    }
   ],
   "source": [
    "rfe.support_"
   ]
  },
  {
   "cell_type": "markdown",
   "id": "994dcd22",
   "metadata": {},
   "source": [
    "**The Columns that RFE selects are down below**"
   ]
  },
  {
   "cell_type": "code",
   "execution_count": 84,
   "id": "8ee1e1ae",
   "metadata": {},
   "outputs": [
    {
     "name": "stdout",
     "output_type": "stream",
     "text": [
      "Index(['total_visits', 'time_on_website', 'page_views_per_visit',\n",
      "       'lead_origin_Landing Page Submission', 'lead_origin_Lead Add Form',\n",
      "       'lead_source_Reference', 'specialization_Travel and Tourism',\n",
      "       'occupation_Working Professional', 'city_Tier II Cities',\n",
      "       'tags_Closed by Horizzon', 'tags_Interested in other courses',\n",
      "       'tags_Lost to EINS', 'tags_Not Specified', 'tags_Other_Tags',\n",
      "       'tags_Ringing', 'tags_Will revert after reading the email'],\n",
      "      dtype='object')\n"
     ]
    }
   ],
   "source": [
    "col = x_train.columns[rfe.support_]\n",
    "print(col)"
   ]
  },
  {
   "cell_type": "code",
   "execution_count": 85,
   "id": "b418591e",
   "metadata": {},
   "outputs": [
    {
     "data": {
      "text/plain": [
       "Index(['lead_origin_Lead Import', 'lead_origin_Quick Add Form',\n",
       "       'lead_source_Google', 'lead_source_Olark Chat',\n",
       "       'lead_source_Organic Search', 'lead_source_Other Social Sites',\n",
       "       'specialization_Business Administration', 'specialization_E-Business',\n",
       "       'specialization_E-COMMERCE', 'specialization_International Business',\n",
       "       'specialization_Management', 'specialization_Media and Advertising',\n",
       "       'specialization_Not Specified', 'specialization_Rural and Agribusiness',\n",
       "       'specialization_Services Excellence', 'occupation_Housewife',\n",
       "       'occupation_Other', 'occupation_Student', 'occupation_Unemployed',\n",
       "       'city_Other Cities', 'city_Other Cities of Maharashtra',\n",
       "       'city_Other Metro Cities', 'city_Thane & Outskirts'],\n",
       "      dtype='object')"
      ]
     },
     "execution_count": 85,
     "metadata": {},
     "output_type": "execute_result"
    }
   ],
   "source": [
    "x_train.columns[~rfe.support_]"
   ]
  },
  {
   "cell_type": "markdown",
   "id": "53fb4dc0",
   "metadata": {},
   "source": [
    "**The columns that RFE don't select are above**"
   ]
  },
  {
   "cell_type": "code",
   "execution_count": 86,
   "id": "3289ab04",
   "metadata": {},
   "outputs": [
    {
     "data": {
      "text/plain": [
       "[('total_visits', True, 1),\n",
       " ('time_on_website', True, 1),\n",
       " ('page_views_per_visit', True, 1),\n",
       " ('lead_origin_Landing Page Submission', True, 1),\n",
       " ('lead_origin_Lead Add Form', True, 1),\n",
       " ('lead_origin_Lead Import', False, 5),\n",
       " ('lead_origin_Quick Add Form', False, 24),\n",
       " ('lead_source_Google', False, 10),\n",
       " ('lead_source_Olark Chat', False, 2),\n",
       " ('lead_source_Organic Search', False, 9),\n",
       " ('lead_source_Other Social Sites', False, 4),\n",
       " ('lead_source_Reference', True, 1),\n",
       " ('specialization_Business Administration', False, 17),\n",
       " ('specialization_E-Business', False, 22),\n",
       " ('specialization_E-COMMERCE', False, 8),\n",
       " ('specialization_International Business', False, 12),\n",
       " ('specialization_Management', False, 23),\n",
       " ('specialization_Media and Advertising', False, 21),\n",
       " ('specialization_Not Specified', False, 16),\n",
       " ('specialization_Rural and Agribusiness', False, 11),\n",
       " ('specialization_Services Excellence', False, 3),\n",
       " ('specialization_Travel and Tourism', True, 1),\n",
       " ('occupation_Housewife', False, 14),\n",
       " ('occupation_Other', False, 15),\n",
       " ('occupation_Student', False, 18),\n",
       " ('occupation_Unemployed', False, 7),\n",
       " ('occupation_Working Professional', True, 1),\n",
       " ('city_Other Cities', False, 20),\n",
       " ('city_Other Cities of Maharashtra', False, 6),\n",
       " ('city_Other Metro Cities', False, 13),\n",
       " ('city_Thane & Outskirts', False, 19),\n",
       " ('city_Tier II Cities', True, 1),\n",
       " ('tags_Closed by Horizzon', True, 1),\n",
       " ('tags_Interested in other courses', True, 1),\n",
       " ('tags_Lost to EINS', True, 1),\n",
       " ('tags_Not Specified', True, 1),\n",
       " ('tags_Other_Tags', True, 1),\n",
       " ('tags_Ringing', True, 1),\n",
       " ('tags_Will revert after reading the email', True, 1)]"
      ]
     },
     "execution_count": 86,
     "metadata": {},
     "output_type": "execute_result"
    }
   ],
   "source": [
    "list(zip(x_train.columns, rfe.support_, rfe.ranking_))"
   ]
  },
  {
   "cell_type": "markdown",
   "id": "b3da97af",
   "metadata": {},
   "source": [
    "**RFE Ranking the column revelence above**"
   ]
  },
  {
   "cell_type": "markdown",
   "id": "a81bb6d3",
   "metadata": {},
   "source": [
    "### **FIRST MODEL** (Made using Feature Selection)"
   ]
  },
  {
   "cell_type": "markdown",
   "id": "a351fcb7",
   "metadata": {},
   "source": [
    "**Model Stats Using statsmodels**"
   ]
  },
  {
   "cell_type": "code",
   "execution_count": 87,
   "id": "5870a4ea",
   "metadata": {},
   "outputs": [
    {
     "data": {
      "text/html": [
       "<table class=\"simpletable\">\n",
       "<caption>Generalized Linear Model Regression Results</caption>\n",
       "<tr>\n",
       "  <th>Dep. Variable:</th>       <td>converted</td>    <th>  No. Observations:  </th>  <td>  6468</td> \n",
       "</tr>\n",
       "<tr>\n",
       "  <th>Model:</th>                  <td>GLM</td>       <th>  Df Residuals:      </th>  <td>  6451</td> \n",
       "</tr>\n",
       "<tr>\n",
       "  <th>Model Family:</th>        <td>Binomial</td>     <th>  Df Model:          </th>  <td>    16</td> \n",
       "</tr>\n",
       "<tr>\n",
       "  <th>Link Function:</th>         <td>Logit</td>      <th>  Scale:             </th> <td>  1.0000</td>\n",
       "</tr>\n",
       "<tr>\n",
       "  <th>Method:</th>                <td>IRLS</td>       <th>  Log-Likelihood:    </th> <td> -1580.0</td>\n",
       "</tr>\n",
       "<tr>\n",
       "  <th>Date:</th>            <td>Mon, 23 Jan 2023</td> <th>  Deviance:          </th> <td>  3160.0</td>\n",
       "</tr>\n",
       "<tr>\n",
       "  <th>Time:</th>                <td>23:19:14</td>     <th>  Pearson chi2:      </th> <td>1.36e+04</td>\n",
       "</tr>\n",
       "<tr>\n",
       "  <th>No. Iterations:</th>          <td>8</td>        <th>  Pseudo R-squ. (CS):</th>  <td>0.5716</td> \n",
       "</tr>\n",
       "<tr>\n",
       "  <th>Covariance Type:</th>     <td>nonrobust</td>    <th>                     </th>     <td> </td>   \n",
       "</tr>\n",
       "</table>\n",
       "<table class=\"simpletable\">\n",
       "<tr>\n",
       "                      <td></td>                        <th>coef</th>     <th>std err</th>      <th>z</th>      <th>P>|z|</th>  <th>[0.025</th>    <th>0.975]</th>  \n",
       "</tr>\n",
       "<tr>\n",
       "  <th>const</th>                                    <td>   -0.3904</td> <td>    0.214</td> <td>   -1.827</td> <td> 0.068</td> <td>   -0.809</td> <td>    0.028</td>\n",
       "</tr>\n",
       "<tr>\n",
       "  <th>total_visits</th>                             <td>    0.7106</td> <td>    0.333</td> <td>    2.131</td> <td> 0.033</td> <td>    0.057</td> <td>    1.364</td>\n",
       "</tr>\n",
       "<tr>\n",
       "  <th>time_on_website</th>                          <td>    4.1232</td> <td>    0.210</td> <td>   19.637</td> <td> 0.000</td> <td>    3.712</td> <td>    4.535</td>\n",
       "</tr>\n",
       "<tr>\n",
       "  <th>page_views_per_visit</th>                     <td>   -0.8360</td> <td>    0.338</td> <td>   -2.475</td> <td> 0.013</td> <td>   -1.498</td> <td>   -0.174</td>\n",
       "</tr>\n",
       "<tr>\n",
       "  <th>lead_origin_Landing Page Submission</th>      <td>   -0.6243</td> <td>    0.113</td> <td>   -5.507</td> <td> 0.000</td> <td>   -0.846</td> <td>   -0.402</td>\n",
       "</tr>\n",
       "<tr>\n",
       "  <th>lead_origin_Lead Add Form</th>                <td>    4.5290</td> <td>    0.484</td> <td>    9.351</td> <td> 0.000</td> <td>    3.580</td> <td>    5.478</td>\n",
       "</tr>\n",
       "<tr>\n",
       "  <th>lead_source_Reference</th>                    <td>   -3.3280</td> <td>    0.625</td> <td>   -5.327</td> <td> 0.000</td> <td>   -4.553</td> <td>   -2.103</td>\n",
       "</tr>\n",
       "<tr>\n",
       "  <th>specialization_Travel and Tourism</th>        <td>   -0.7041</td> <td>    0.370</td> <td>   -1.905</td> <td> 0.057</td> <td>   -1.429</td> <td>    0.020</td>\n",
       "</tr>\n",
       "<tr>\n",
       "  <th>occupation_Working Professional</th>          <td>    0.8371</td> <td>    0.339</td> <td>    2.466</td> <td> 0.014</td> <td>    0.172</td> <td>    1.502</td>\n",
       "</tr>\n",
       "<tr>\n",
       "  <th>city_Tier II Cities</th>                      <td>   -0.6981</td> <td>    0.620</td> <td>   -1.127</td> <td> 0.260</td> <td>   -1.912</td> <td>    0.516</td>\n",
       "</tr>\n",
       "<tr>\n",
       "  <th>tags_Closed by Horizzon</th>                  <td>    3.9828</td> <td>    0.750</td> <td>    5.308</td> <td> 0.000</td> <td>    2.512</td> <td>    5.454</td>\n",
       "</tr>\n",
       "<tr>\n",
       "  <th>tags_Interested in other courses</th>         <td>   -3.9408</td> <td>    0.375</td> <td>  -10.506</td> <td> 0.000</td> <td>   -4.676</td> <td>   -3.206</td>\n",
       "</tr>\n",
       "<tr>\n",
       "  <th>tags_Lost to EINS</th>                        <td>    2.9351</td> <td>    0.554</td> <td>    5.298</td> <td> 0.000</td> <td>    1.849</td> <td>    4.021</td>\n",
       "</tr>\n",
       "<tr>\n",
       "  <th>tags_Not Specified</th>                       <td>   -1.3798</td> <td>    0.205</td> <td>   -6.715</td> <td> 0.000</td> <td>   -1.783</td> <td>   -0.977</td>\n",
       "</tr>\n",
       "<tr>\n",
       "  <th>tags_Other_Tags</th>                          <td>   -3.6972</td> <td>    0.279</td> <td>  -13.266</td> <td> 0.000</td> <td>   -4.243</td> <td>   -3.151</td>\n",
       "</tr>\n",
       "<tr>\n",
       "  <th>tags_Ringing</th>                             <td>   -4.0318</td> <td>    0.306</td> <td>  -13.162</td> <td> 0.000</td> <td>   -4.632</td> <td>   -3.431</td>\n",
       "</tr>\n",
       "<tr>\n",
       "  <th>tags_Will revert after reading the email</th> <td>    2.9452</td> <td>    0.254</td> <td>   11.605</td> <td> 0.000</td> <td>    2.448</td> <td>    3.443</td>\n",
       "</tr>\n",
       "</table>"
      ],
      "text/plain": [
       "<class 'statsmodels.iolib.summary.Summary'>\n",
       "\"\"\"\n",
       "                 Generalized Linear Model Regression Results                  \n",
       "==============================================================================\n",
       "Dep. Variable:              converted   No. Observations:                 6468\n",
       "Model:                            GLM   Df Residuals:                     6451\n",
       "Model Family:                Binomial   Df Model:                           16\n",
       "Link Function:                  Logit   Scale:                          1.0000\n",
       "Method:                          IRLS   Log-Likelihood:                -1580.0\n",
       "Date:                Mon, 23 Jan 2023   Deviance:                       3160.0\n",
       "Time:                        23:19:14   Pearson chi2:                 1.36e+04\n",
       "No. Iterations:                     8   Pseudo R-squ. (CS):             0.5716\n",
       "Covariance Type:            nonrobust                                         \n",
       "============================================================================================================\n",
       "                                               coef    std err          z      P>|z|      [0.025      0.975]\n",
       "------------------------------------------------------------------------------------------------------------\n",
       "const                                       -0.3904      0.214     -1.827      0.068      -0.809       0.028\n",
       "total_visits                                 0.7106      0.333      2.131      0.033       0.057       1.364\n",
       "time_on_website                              4.1232      0.210     19.637      0.000       3.712       4.535\n",
       "page_views_per_visit                        -0.8360      0.338     -2.475      0.013      -1.498      -0.174\n",
       "lead_origin_Landing Page Submission         -0.6243      0.113     -5.507      0.000      -0.846      -0.402\n",
       "lead_origin_Lead Add Form                    4.5290      0.484      9.351      0.000       3.580       5.478\n",
       "lead_source_Reference                       -3.3280      0.625     -5.327      0.000      -4.553      -2.103\n",
       "specialization_Travel and Tourism           -0.7041      0.370     -1.905      0.057      -1.429       0.020\n",
       "occupation_Working Professional              0.8371      0.339      2.466      0.014       0.172       1.502\n",
       "city_Tier II Cities                         -0.6981      0.620     -1.127      0.260      -1.912       0.516\n",
       "tags_Closed by Horizzon                      3.9828      0.750      5.308      0.000       2.512       5.454\n",
       "tags_Interested in other courses            -3.9408      0.375    -10.506      0.000      -4.676      -3.206\n",
       "tags_Lost to EINS                            2.9351      0.554      5.298      0.000       1.849       4.021\n",
       "tags_Not Specified                          -1.3798      0.205     -6.715      0.000      -1.783      -0.977\n",
       "tags_Other_Tags                             -3.6972      0.279    -13.266      0.000      -4.243      -3.151\n",
       "tags_Ringing                                -4.0318      0.306    -13.162      0.000      -4.632      -3.431\n",
       "tags_Will revert after reading the email     2.9452      0.254     11.605      0.000       2.448       3.443\n",
       "============================================================================================================\n",
       "\"\"\""
      ]
     },
     "execution_count": 87,
     "metadata": {},
     "output_type": "execute_result"
    }
   ],
   "source": [
    "#model 1\n",
    "x_train_sm = sm.add_constant(x_train[col])\n",
    "\n",
    "log1 = sm.GLM(y_train,x_train_sm, family = sm.families.Binomial())\n",
    "res = log1.fit()\n",
    "res.summary()"
   ]
  },
  {
   "cell_type": "code",
   "execution_count": 89,
   "id": "84d9b385",
   "metadata": {},
   "outputs": [],
   "source": [
    "# col=col.drop(['specialization_Services Excellence'])\n",
    "col=col.drop(['city_Tier II Cities'])"
   ]
  },
  {
   "cell_type": "markdown",
   "id": "4e6a1169",
   "metadata": {},
   "source": [
    "**Droping the Above columns cause they have High P-Value.**"
   ]
  },
  {
   "cell_type": "markdown",
   "id": "03b9e17f",
   "metadata": {},
   "source": [
    "### **SECOND MODEL** (Made using Feature Selection)"
   ]
  },
  {
   "cell_type": "code",
   "execution_count": 90,
   "id": "2a4364a8",
   "metadata": {},
   "outputs": [
    {
     "data": {
      "text/html": [
       "<table class=\"simpletable\">\n",
       "<caption>Generalized Linear Model Regression Results</caption>\n",
       "<tr>\n",
       "  <th>Dep. Variable:</th>       <td>converted</td>    <th>  No. Observations:  </th>  <td>  6468</td> \n",
       "</tr>\n",
       "<tr>\n",
       "  <th>Model:</th>                  <td>GLM</td>       <th>  Df Residuals:      </th>  <td>  6452</td> \n",
       "</tr>\n",
       "<tr>\n",
       "  <th>Model Family:</th>        <td>Binomial</td>     <th>  Df Model:          </th>  <td>    15</td> \n",
       "</tr>\n",
       "<tr>\n",
       "  <th>Link Function:</th>         <td>Logit</td>      <th>  Scale:             </th> <td>  1.0000</td>\n",
       "</tr>\n",
       "<tr>\n",
       "  <th>Method:</th>                <td>IRLS</td>       <th>  Log-Likelihood:    </th> <td> -1580.7</td>\n",
       "</tr>\n",
       "<tr>\n",
       "  <th>Date:</th>            <td>Mon, 23 Jan 2023</td> <th>  Deviance:          </th> <td>  3161.4</td>\n",
       "</tr>\n",
       "<tr>\n",
       "  <th>Time:</th>                <td>23:19:36</td>     <th>  Pearson chi2:      </th> <td>1.35e+04</td>\n",
       "</tr>\n",
       "<tr>\n",
       "  <th>No. Iterations:</th>          <td>8</td>        <th>  Pseudo R-squ. (CS):</th>  <td>0.5715</td> \n",
       "</tr>\n",
       "<tr>\n",
       "  <th>Covariance Type:</th>     <td>nonrobust</td>    <th>                     </th>     <td> </td>   \n",
       "</tr>\n",
       "</table>\n",
       "<table class=\"simpletable\">\n",
       "<tr>\n",
       "                      <td></td>                        <th>coef</th>     <th>std err</th>      <th>z</th>      <th>P>|z|</th>  <th>[0.025</th>    <th>0.975]</th>  \n",
       "</tr>\n",
       "<tr>\n",
       "  <th>const</th>                                    <td>   -0.3898</td> <td>    0.213</td> <td>   -1.827</td> <td> 0.068</td> <td>   -0.808</td> <td>    0.028</td>\n",
       "</tr>\n",
       "<tr>\n",
       "  <th>total_visits</th>                             <td>    0.7088</td> <td>    0.333</td> <td>    2.126</td> <td> 0.033</td> <td>    0.055</td> <td>    1.362</td>\n",
       "</tr>\n",
       "<tr>\n",
       "  <th>time_on_website</th>                          <td>    4.1220</td> <td>    0.210</td> <td>   19.631</td> <td> 0.000</td> <td>    3.711</td> <td>    4.534</td>\n",
       "</tr>\n",
       "<tr>\n",
       "  <th>page_views_per_visit</th>                     <td>   -0.8277</td> <td>    0.338</td> <td>   -2.450</td> <td> 0.014</td> <td>   -1.490</td> <td>   -0.166</td>\n",
       "</tr>\n",
       "<tr>\n",
       "  <th>lead_origin_Landing Page Submission</th>      <td>   -0.6338</td> <td>    0.113</td> <td>   -5.605</td> <td> 0.000</td> <td>   -0.855</td> <td>   -0.412</td>\n",
       "</tr>\n",
       "<tr>\n",
       "  <th>lead_origin_Lead Add Form</th>                <td>    4.5292</td> <td>    0.484</td> <td>    9.351</td> <td> 0.000</td> <td>    3.580</td> <td>    5.479</td>\n",
       "</tr>\n",
       "<tr>\n",
       "  <th>lead_source_Reference</th>                    <td>   -3.3253</td> <td>    0.625</td> <td>   -5.324</td> <td> 0.000</td> <td>   -4.549</td> <td>   -2.101</td>\n",
       "</tr>\n",
       "<tr>\n",
       "  <th>specialization_Travel and Tourism</th>        <td>   -0.7345</td> <td>    0.369</td> <td>   -1.993</td> <td> 0.046</td> <td>   -1.457</td> <td>   -0.012</td>\n",
       "</tr>\n",
       "<tr>\n",
       "  <th>occupation_Working Professional</th>          <td>    0.8328</td> <td>    0.339</td> <td>    2.458</td> <td> 0.014</td> <td>    0.169</td> <td>    1.497</td>\n",
       "</tr>\n",
       "<tr>\n",
       "  <th>tags_Closed by Horizzon</th>                  <td>    3.9854</td> <td>    0.750</td> <td>    5.312</td> <td> 0.000</td> <td>    2.515</td> <td>    5.456</td>\n",
       "</tr>\n",
       "<tr>\n",
       "  <th>tags_Interested in other courses</th>         <td>   -3.9466</td> <td>    0.375</td> <td>  -10.523</td> <td> 0.000</td> <td>   -4.682</td> <td>   -3.212</td>\n",
       "</tr>\n",
       "<tr>\n",
       "  <th>tags_Lost to EINS</th>                        <td>    2.9234</td> <td>    0.553</td> <td>    5.283</td> <td> 0.000</td> <td>    1.839</td> <td>    4.008</td>\n",
       "</tr>\n",
       "<tr>\n",
       "  <th>tags_Not Specified</th>                       <td>   -1.3806</td> <td>    0.205</td> <td>   -6.727</td> <td> 0.000</td> <td>   -1.783</td> <td>   -0.978</td>\n",
       "</tr>\n",
       "<tr>\n",
       "  <th>tags_Other_Tags</th>                          <td>   -3.6979</td> <td>    0.278</td> <td>  -13.278</td> <td> 0.000</td> <td>   -4.244</td> <td>   -3.152</td>\n",
       "</tr>\n",
       "<tr>\n",
       "  <th>tags_Ringing</th>                             <td>   -4.0324</td> <td>    0.306</td> <td>  -13.172</td> <td> 0.000</td> <td>   -4.632</td> <td>   -3.432</td>\n",
       "</tr>\n",
       "<tr>\n",
       "  <th>tags_Will revert after reading the email</th> <td>    2.9400</td> <td>    0.253</td> <td>   11.602</td> <td> 0.000</td> <td>    2.443</td> <td>    3.437</td>\n",
       "</tr>\n",
       "</table>"
      ],
      "text/plain": [
       "<class 'statsmodels.iolib.summary.Summary'>\n",
       "\"\"\"\n",
       "                 Generalized Linear Model Regression Results                  \n",
       "==============================================================================\n",
       "Dep. Variable:              converted   No. Observations:                 6468\n",
       "Model:                            GLM   Df Residuals:                     6452\n",
       "Model Family:                Binomial   Df Model:                           15\n",
       "Link Function:                  Logit   Scale:                          1.0000\n",
       "Method:                          IRLS   Log-Likelihood:                -1580.7\n",
       "Date:                Mon, 23 Jan 2023   Deviance:                       3161.4\n",
       "Time:                        23:19:36   Pearson chi2:                 1.35e+04\n",
       "No. Iterations:                     8   Pseudo R-squ. (CS):             0.5715\n",
       "Covariance Type:            nonrobust                                         \n",
       "============================================================================================================\n",
       "                                               coef    std err          z      P>|z|      [0.025      0.975]\n",
       "------------------------------------------------------------------------------------------------------------\n",
       "const                                       -0.3898      0.213     -1.827      0.068      -0.808       0.028\n",
       "total_visits                                 0.7088      0.333      2.126      0.033       0.055       1.362\n",
       "time_on_website                              4.1220      0.210     19.631      0.000       3.711       4.534\n",
       "page_views_per_visit                        -0.8277      0.338     -2.450      0.014      -1.490      -0.166\n",
       "lead_origin_Landing Page Submission         -0.6338      0.113     -5.605      0.000      -0.855      -0.412\n",
       "lead_origin_Lead Add Form                    4.5292      0.484      9.351      0.000       3.580       5.479\n",
       "lead_source_Reference                       -3.3253      0.625     -5.324      0.000      -4.549      -2.101\n",
       "specialization_Travel and Tourism           -0.7345      0.369     -1.993      0.046      -1.457      -0.012\n",
       "occupation_Working Professional              0.8328      0.339      2.458      0.014       0.169       1.497\n",
       "tags_Closed by Horizzon                      3.9854      0.750      5.312      0.000       2.515       5.456\n",
       "tags_Interested in other courses            -3.9466      0.375    -10.523      0.000      -4.682      -3.212\n",
       "tags_Lost to EINS                            2.9234      0.553      5.283      0.000       1.839       4.008\n",
       "tags_Not Specified                          -1.3806      0.205     -6.727      0.000      -1.783      -0.978\n",
       "tags_Other_Tags                             -3.6979      0.278    -13.278      0.000      -4.244      -3.152\n",
       "tags_Ringing                                -4.0324      0.306    -13.172      0.000      -4.632      -3.432\n",
       "tags_Will revert after reading the email     2.9400      0.253     11.602      0.000       2.443       3.437\n",
       "============================================================================================================\n",
       "\"\"\""
      ]
     },
     "execution_count": 90,
     "metadata": {},
     "output_type": "execute_result"
    }
   ],
   "source": [
    "#model 2\n",
    "x_train_sm = sm.add_constant(x_train[col])\n",
    "\n",
    "logm2 = sm.GLM(y_train,x_train_sm, family = sm.families.Binomial())\n",
    "res = logm2.fit()\n",
    "res.summary()"
   ]
  },
  {
   "cell_type": "markdown",
   "id": "3e17cfe5",
   "metadata": {},
   "source": [
    "**Model P-values look good. lets check accuracy and other factors**"
   ]
  },
  {
   "cell_type": "markdown",
   "id": "57ec9d6f",
   "metadata": {},
   "source": [
    "**Training Predicted Values**"
   ]
  },
  {
   "cell_type": "code",
   "execution_count": 91,
   "id": "80aeffc6",
   "metadata": {},
   "outputs": [
    {
     "data": {
      "text/plain": [
       "array([0.14791994, 0.82143796, 0.99918864, ..., 0.14548494, 0.10726831,\n",
       "       0.51049352])"
      ]
     },
     "execution_count": 91,
     "metadata": {},
     "output_type": "execute_result"
    }
   ],
   "source": [
    "y_train_pred = res.predict(x_train_sm).values.reshape(-1)\n",
    "y_train_pred"
   ]
  },
  {
   "cell_type": "markdown",
   "id": "b53711ce",
   "metadata": {},
   "source": [
    "**Making a DataFrame with columns**\n",
    "- y_train.values ---> The actual Training values\n",
    "- y_train_pred ---> The Training predicted probablities\n",
    "- y_train_pred ---> The Lead Scores (just to check)"
   ]
  },
  {
   "cell_type": "code",
   "execution_count": 92,
   "id": "1ce0446b",
   "metadata": {},
   "outputs": [
    {
     "data": {
      "text/html": [
       "<div>\n",
       "<style scoped>\n",
       "    .dataframe tbody tr th:only-of-type {\n",
       "        vertical-align: middle;\n",
       "    }\n",
       "\n",
       "    .dataframe tbody tr th {\n",
       "        vertical-align: top;\n",
       "    }\n",
       "\n",
       "    .dataframe thead th {\n",
       "        text-align: right;\n",
       "    }\n",
       "</style>\n",
       "<table border=\"1\" class=\"dataframe\">\n",
       "  <thead>\n",
       "    <tr style=\"text-align: right;\">\n",
       "      <th></th>\n",
       "      <th>Converted</th>\n",
       "      <th>Converted_Prob</th>\n",
       "      <th>Lead_score</th>\n",
       "    </tr>\n",
       "  </thead>\n",
       "  <tbody>\n",
       "    <tr>\n",
       "      <th>0</th>\n",
       "      <td>0</td>\n",
       "      <td>0.15</td>\n",
       "      <td>14.79</td>\n",
       "    </tr>\n",
       "    <tr>\n",
       "      <th>1</th>\n",
       "      <td>1</td>\n",
       "      <td>0.82</td>\n",
       "      <td>82.14</td>\n",
       "    </tr>\n",
       "    <tr>\n",
       "      <th>2</th>\n",
       "      <td>1</td>\n",
       "      <td>1.00</td>\n",
       "      <td>99.92</td>\n",
       "    </tr>\n",
       "    <tr>\n",
       "      <th>3</th>\n",
       "      <td>1</td>\n",
       "      <td>0.99</td>\n",
       "      <td>99.14</td>\n",
       "    </tr>\n",
       "    <tr>\n",
       "      <th>4</th>\n",
       "      <td>0</td>\n",
       "      <td>0.03</td>\n",
       "      <td>3.32</td>\n",
       "    </tr>\n",
       "  </tbody>\n",
       "</table>\n",
       "</div>"
      ],
      "text/plain": [
       "   Converted  Converted_Prob  Lead_score\n",
       "0          0            0.15       14.79\n",
       "1          1            0.82       82.14\n",
       "2          1            1.00       99.92\n",
       "3          1            0.99       99.14\n",
       "4          0            0.03        3.32"
      ]
     },
     "execution_count": 92,
     "metadata": {},
     "output_type": "execute_result"
    }
   ],
   "source": [
    "y_train_pred_final = pd.DataFrame({'Converted': y_train.values, 'Converted_Prob': y_train_pred,'Lead_score':y_train_pred*100})\n",
    "y_train_pred_final.head()"
   ]
  },
  {
   "cell_type": "markdown",
   "id": "4b2b0558",
   "metadata": {},
   "source": [
    "**Adding a column which says Predicted**\n",
    "- Checking if we keep classification at 50 % probablities.\n",
    "- Test the accuracy and other parameters."
   ]
  },
  {
   "cell_type": "code",
   "execution_count": 93,
   "id": "7d4b6c53",
   "metadata": {},
   "outputs": [
    {
     "data": {
      "text/html": [
       "<div>\n",
       "<style scoped>\n",
       "    .dataframe tbody tr th:only-of-type {\n",
       "        vertical-align: middle;\n",
       "    }\n",
       "\n",
       "    .dataframe tbody tr th {\n",
       "        vertical-align: top;\n",
       "    }\n",
       "\n",
       "    .dataframe thead th {\n",
       "        text-align: right;\n",
       "    }\n",
       "</style>\n",
       "<table border=\"1\" class=\"dataframe\">\n",
       "  <thead>\n",
       "    <tr style=\"text-align: right;\">\n",
       "      <th></th>\n",
       "      <th>Converted</th>\n",
       "      <th>Converted_Prob</th>\n",
       "      <th>Lead_score</th>\n",
       "      <th>Predicted</th>\n",
       "    </tr>\n",
       "  </thead>\n",
       "  <tbody>\n",
       "    <tr>\n",
       "      <th>0</th>\n",
       "      <td>0</td>\n",
       "      <td>0.15</td>\n",
       "      <td>14.79</td>\n",
       "      <td>0</td>\n",
       "    </tr>\n",
       "    <tr>\n",
       "      <th>1</th>\n",
       "      <td>1</td>\n",
       "      <td>0.82</td>\n",
       "      <td>82.14</td>\n",
       "      <td>1</td>\n",
       "    </tr>\n",
       "    <tr>\n",
       "      <th>2</th>\n",
       "      <td>1</td>\n",
       "      <td>1.00</td>\n",
       "      <td>99.92</td>\n",
       "      <td>1</td>\n",
       "    </tr>\n",
       "    <tr>\n",
       "      <th>3</th>\n",
       "      <td>1</td>\n",
       "      <td>0.99</td>\n",
       "      <td>99.14</td>\n",
       "      <td>1</td>\n",
       "    </tr>\n",
       "    <tr>\n",
       "      <th>4</th>\n",
       "      <td>0</td>\n",
       "      <td>0.03</td>\n",
       "      <td>3.32</td>\n",
       "      <td>0</td>\n",
       "    </tr>\n",
       "  </tbody>\n",
       "</table>\n",
       "</div>"
      ],
      "text/plain": [
       "   Converted  Converted_Prob  Lead_score  Predicted\n",
       "0          0            0.15       14.79          0\n",
       "1          1            0.82       82.14          1\n",
       "2          1            1.00       99.92          1\n",
       "3          1            0.99       99.14          1\n",
       "4          0            0.03        3.32          0"
      ]
     },
     "execution_count": 93,
     "metadata": {},
     "output_type": "execute_result"
    }
   ],
   "source": [
    "y_train_pred_final['Predicted'] = y_train_pred_final.Converted_Prob.map(lambda x: 1 if x > 0.5 else 0)\n",
    "y_train_pred_final.head()"
   ]
  },
  {
   "cell_type": "markdown",
   "id": "3b928c92",
   "metadata": {},
   "source": [
    "**Checking accuracy Score of the Model**"
   ]
  },
  {
   "cell_type": "code",
   "execution_count": 95,
   "id": "4adf3f3d",
   "metadata": {},
   "outputs": [],
   "source": [
    "from sklearn import metrics\n",
    "accuracy=round(metrics.accuracy_score(y_true= y_train_pred_final.Converted, y_pred= y_train_pred_final.Predicted),2)"
   ]
  },
  {
   "cell_type": "code",
   "execution_count": 96,
   "id": "1386d5a7",
   "metadata": {},
   "outputs": [
    {
     "name": "stdout",
     "output_type": "stream",
     "text": [
      "0.91\n"
     ]
    }
   ],
   "source": [
    "print(accuracy)"
   ]
  },
  {
   "cell_type": "markdown",
   "id": "86be2490",
   "metadata": {},
   "source": [
    "**We have achieved 91 % accuracy**"
   ]
  },
  {
   "cell_type": "markdown",
   "id": "aba5120b",
   "metadata": {},
   "source": [
    "**Making a Confusion Matrix and Ploting**"
   ]
  },
  {
   "cell_type": "code",
   "execution_count": 97,
   "id": "35c21efb",
   "metadata": {},
   "outputs": [
    {
     "data": {
      "text/plain": [
       "<Figure size 1800x1800 with 0 Axes>"
      ]
     },
     "metadata": {},
     "output_type": "display_data"
    },
    {
     "data": {
      "image/png": "[encoded data removed]",
      "text/plain": [
       "<Figure size 432x288 with 1 Axes>"
      ]
     },
     "metadata": {},
     "output_type": "display_data"
    }
   ],
   "source": [
    "confusion = metrics.confusion_matrix(y_true= y_train_pred_final.Converted, y_pred= y_train_pred_final.Predicted)\n",
    "\n",
    "from mlxtend.plotting import plot_confusion_matrix \n",
    "plt.figure(figsize=(25,25))\n",
    "plot_confusion_matrix(conf_mat=confusion,cmap='BuPu')\n",
    "plt.xlabel('Predictions', fontsize=15)\n",
    "plt.ylabel('Actuals', fontsize=12)\n",
    "plt.title('Confusion Matrix', fontsize=12)\n",
    "plt.show()"
   ]
  },
  {
   "cell_type": "code",
   "execution_count": 98,
   "id": "497da07c",
   "metadata": {},
   "outputs": [
    {
     "name": "stdout",
     "output_type": "stream",
     "text": [
      "[[3786  168]\n",
      " [ 441 2073]]\n"
     ]
    }
   ],
   "source": [
    "print(confusion)"
   ]
  },
  {
   "cell_type": "markdown",
   "id": "949b54a3",
   "metadata": {},
   "source": [
    "**Calculation of Sensitivity and Specificity!**\n",
    "- Sensitivity is a measure of how well a machine learning model can detect positive instances. It is also known as the true positive rate (TPR).<br/>\n",
    "    Mathematically, sensitivity or true positive rate can be calculated as the following:<br/>\n",
    "    **Sensitivity = (True Positive)/(True Positive + False Negative)**\n",
    "- A high sensitivity means that the model is correctly identifying most of the positive results, while a low sensitivity means that the model is missing a lot of positive results.\n",
    "- Specificity measures the proportion of true negatives that are correctly identified by the model.\n",
    "- This proportion could also be called a True Negative Rate (TNR).<br/>\n",
    "    Mathematically, specificity can be calculated as the following:<br/>\n",
    "    **Specificity = (True Negative)/(True Negative + False Positive)**"
   ]
  },
  {
   "cell_type": "code",
   "execution_count": 99,
   "id": "319a6f9e",
   "metadata": {},
   "outputs": [],
   "source": [
    "TP = confusion[1,1] # true positive \n",
    "TN = confusion[0,0] # true negatives\n",
    "FP = confusion[0,1] # false positives\n",
    "FN = confusion[1,0] # false negatives"
   ]
  },
  {
   "cell_type": "code",
   "execution_count": 100,
   "id": "7214c657",
   "metadata": {},
   "outputs": [
    {
     "data": {
      "text/plain": [
       "0.8245823389021479"
      ]
     },
     "execution_count": 100,
     "metadata": {},
     "output_type": "execute_result"
    }
   ],
   "source": [
    "# Let's see the sensitivity of our logistic regression model\n",
    "TP / float(TP+FN)"
   ]
  },
  {
   "cell_type": "code",
   "execution_count": 101,
   "id": "08ccc707",
   "metadata": {},
   "outputs": [
    {
     "data": {
      "text/plain": [
       "0.9575113808801214"
      ]
     },
     "execution_count": 101,
     "metadata": {},
     "output_type": "execute_result"
    }
   ],
   "source": [
    "# Let us calculate specificity\n",
    "TN / float(TN+FP)"
   ]
  },
  {
   "cell_type": "code",
   "execution_count": 102,
   "id": "a22c4f02",
   "metadata": {},
   "outputs": [
    {
     "name": "stdout",
     "output_type": "stream",
     "text": [
      "0.042488619119878605\n"
     ]
    }
   ],
   "source": [
    "# Calculate false postive rate - predicting churn when customer does not have churned\n",
    "print(FP/ float(TN+FP))"
   ]
  },
  {
   "cell_type": "code",
   "execution_count": 103,
   "id": "24026178",
   "metadata": {},
   "outputs": [
    {
     "name": "stdout",
     "output_type": "stream",
     "text": [
      "0.9250334672021419\n"
     ]
    }
   ],
   "source": [
    "# positive predictive value \n",
    "print (TP / float(TP+FP))"
   ]
  },
  {
   "cell_type": "code",
   "execution_count": 104,
   "id": "087192f3",
   "metadata": {},
   "outputs": [
    {
     "name": "stdout",
     "output_type": "stream",
     "text": [
      "0.8956706884315118\n"
     ]
    }
   ],
   "source": [
    "# Negative predictive value\n",
    "print (TN / float(TN+ FN))"
   ]
  },
  {
   "cell_type": "markdown",
   "id": "d66fc594",
   "metadata": {},
   "source": [
    "**Making a Column**"
   ]
  },
  {
   "cell_type": "code",
   "execution_count": 105,
   "id": "315c850d",
   "metadata": {},
   "outputs": [
    {
     "data": {
      "text/html": [
       "<div>\n",
       "<style scoped>\n",
       "    .dataframe tbody tr th:only-of-type {\n",
       "        vertical-align: middle;\n",
       "    }\n",
       "\n",
       "    .dataframe tbody tr th {\n",
       "        vertical-align: top;\n",
       "    }\n",
       "\n",
       "    .dataframe thead th {\n",
       "        text-align: right;\n",
       "    }\n",
       "</style>\n",
       "<table border=\"1\" class=\"dataframe\">\n",
       "  <thead>\n",
       "    <tr style=\"text-align: right;\">\n",
       "      <th></th>\n",
       "      <th>Converted</th>\n",
       "      <th>Converted_Prob</th>\n",
       "      <th>Lead_score</th>\n",
       "      <th>Predicted</th>\n",
       "      <th>0.0</th>\n",
       "      <th>0.1</th>\n",
       "      <th>0.2</th>\n",
       "      <th>0.3</th>\n",
       "      <th>0.4</th>\n",
       "      <th>0.5</th>\n",
       "      <th>0.6</th>\n",
       "      <th>0.7</th>\n",
       "      <th>0.8</th>\n",
       "      <th>0.9</th>\n",
       "    </tr>\n",
       "  </thead>\n",
       "  <tbody>\n",
       "    <tr>\n",
       "      <th>0</th>\n",
       "      <td>0</td>\n",
       "      <td>0.15</td>\n",
       "      <td>14.79</td>\n",
       "      <td>0</td>\n",
       "      <td>1</td>\n",
       "      <td>1</td>\n",
       "      <td>0</td>\n",
       "      <td>0</td>\n",
       "      <td>0</td>\n",
       "      <td>0</td>\n",
       "      <td>0</td>\n",
       "      <td>0</td>\n",
       "      <td>0</td>\n",
       "      <td>0</td>\n",
       "    </tr>\n",
       "    <tr>\n",
       "      <th>1</th>\n",
       "      <td>1</td>\n",
       "      <td>0.82</td>\n",
       "      <td>82.14</td>\n",
       "      <td>1</td>\n",
       "      <td>1</td>\n",
       "      <td>1</td>\n",
       "      <td>1</td>\n",
       "      <td>1</td>\n",
       "      <td>1</td>\n",
       "      <td>1</td>\n",
       "      <td>1</td>\n",
       "      <td>1</td>\n",
       "      <td>1</td>\n",
       "      <td>0</td>\n",
       "    </tr>\n",
       "    <tr>\n",
       "      <th>2</th>\n",
       "      <td>1</td>\n",
       "      <td>1.00</td>\n",
       "      <td>99.92</td>\n",
       "      <td>1</td>\n",
       "      <td>1</td>\n",
       "      <td>1</td>\n",
       "      <td>1</td>\n",
       "      <td>1</td>\n",
       "      <td>1</td>\n",
       "      <td>1</td>\n",
       "      <td>1</td>\n",
       "      <td>1</td>\n",
       "      <td>1</td>\n",
       "      <td>1</td>\n",
       "    </tr>\n",
       "    <tr>\n",
       "      <th>3</th>\n",
       "      <td>1</td>\n",
       "      <td>0.99</td>\n",
       "      <td>99.14</td>\n",
       "      <td>1</td>\n",
       "      <td>1</td>\n",
       "      <td>1</td>\n",
       "      <td>1</td>\n",
       "      <td>1</td>\n",
       "      <td>1</td>\n",
       "      <td>1</td>\n",
       "      <td>1</td>\n",
       "      <td>1</td>\n",
       "      <td>1</td>\n",
       "      <td>1</td>\n",
       "    </tr>\n",
       "    <tr>\n",
       "      <th>4</th>\n",
       "      <td>0</td>\n",
       "      <td>0.03</td>\n",
       "      <td>3.32</td>\n",
       "      <td>0</td>\n",
       "      <td>1</td>\n",
       "      <td>0</td>\n",
       "      <td>0</td>\n",
       "      <td>0</td>\n",
       "      <td>0</td>\n",
       "      <td>0</td>\n",
       "      <td>0</td>\n",
       "      <td>0</td>\n",
       "      <td>0</td>\n",
       "      <td>0</td>\n",
       "    </tr>\n",
       "  </tbody>\n",
       "</table>\n",
       "</div>"
      ],
      "text/plain": [
       "   Converted  Converted_Prob  Lead_score  Predicted  0.0  0.1  0.2  0.3  0.4  \\\n",
       "0          0            0.15       14.79          0    1    1    0    0    0   \n",
       "1          1            0.82       82.14          1    1    1    1    1    1   \n",
       "2          1            1.00       99.92          1    1    1    1    1    1   \n",
       "3          1            0.99       99.14          1    1    1    1    1    1   \n",
       "4          0            0.03        3.32          0    1    0    0    0    0   \n",
       "\n",
       "   0.5  0.6  0.7  0.8  0.9  \n",
       "0    0    0    0    0    0  \n",
       "1    1    1    1    1    0  \n",
       "2    1    1    1    1    1  \n",
       "3    1    1    1    1    1  \n",
       "4    0    0    0    0    0  "
      ]
     },
     "execution_count": 105,
     "metadata": {},
     "output_type": "execute_result"
    }
   ],
   "source": [
    "# Let's create columns with different probability cutoffs \n",
    "numbers = [float(x)/10 for x in range(10)]\n",
    "for i in numbers:\n",
    "    y_train_pred_final[i]= y_train_pred_final.Converted_Prob.map(lambda x: 1 if x > i else 0)\n",
    "y_train_pred_final.head()"
   ]
  },
  {
   "cell_type": "markdown",
   "id": "a6256e41",
   "metadata": {},
   "source": [
    "**Binning and creating probablities**"
   ]
  },
  {
   "cell_type": "code",
   "execution_count": 106,
   "id": "e14eb21c",
   "metadata": {},
   "outputs": [
    {
     "name": "stdout",
     "output_type": "stream",
     "text": [
      "      prob  accuracy  sensitivity  specificity\n",
      "0.00  0.00      0.39         1.00         0.00\n",
      "0.10  0.10      0.73         0.98         0.57\n",
      "0.20  0.20      0.88         0.90         0.87\n",
      "0.30  0.30      0.90         0.88         0.92\n",
      "0.40  0.40      0.91         0.85         0.94\n",
      "0.50  0.50      0.91         0.82         0.96\n",
      "0.60  0.60      0.90         0.80         0.97\n",
      "0.70  0.70      0.90         0.78         0.98\n",
      "0.80  0.80      0.89         0.76         0.98\n",
      "0.90  0.90      0.88         0.71         0.99\n"
     ]
    }
   ],
   "source": [
    "# Now let's calculate accuracy sensitivity and specificity for various probability cutoffs.\n",
    "cutoff_df = pd.DataFrame( columns = ['prob','accuracy','sensitivity','specificity'])\n",
    "from sklearn.metrics import confusion_matrix\n",
    "\n",
    "num = [0.0,0.1,0.2,0.3,0.4,0.5,0.6,0.7,0.8,0.9]\n",
    "for i in num:\n",
    "    cm1 = metrics.confusion_matrix(y_train_pred_final.Converted, y_train_pred_final[i] )\n",
    "    total1=sum(sum(cm1))\n",
    "    accuracy = (cm1[0,0]+cm1[1,1])/total1\n",
    "    speci = cm1[0,0]/(cm1[0,0]+cm1[0,1])\n",
    "    sensi = cm1[1,1]/(cm1[1,0]+cm1[1,1])\n",
    "    cutoff_df.loc[i] =[ i ,accuracy,sensi,speci]\n",
    "print(cutoff_df)"
   ]
  },
  {
   "cell_type": "markdown",
   "id": "f37e8cd5",
   "metadata": {},
   "source": [
    "**Finding Optimal Cut-off Points**<br/>\n",
    "Optimal cutoff probability is that probability where we get balanced sensitivity and specificity."
   ]
  },
  {
   "cell_type": "code",
   "execution_count": 107,
   "id": "cf1153a3",
   "metadata": {},
   "outputs": [
    {
     "data": {
      "image/png": "[encoded data removed]",
      "text/plain": [
       "<Figure size 432x288 with 1 Axes>"
      ]
     },
     "metadata": {},
     "output_type": "display_data"
    }
   ],
   "source": [
    "# Let's plot accuracy sensitivity and specificity for various probabilities.\n",
    "cutoff_df.plot.line(x='prob', y=['accuracy','sensitivity','specificity'])\n",
    "plt.show()"
   ]
  },
  {
   "cell_type": "markdown",
   "id": "d57cfdd8",
   "metadata": {},
   "source": [
    "**_From the graph, we can see that the optimal point is 0.28_**"
   ]
  },
  {
   "cell_type": "markdown",
   "id": "66c05d8f",
   "metadata": {},
   "source": [
    "**Creating DataFrame for Optimal Probablity 0.28**"
   ]
  },
  {
   "cell_type": "code",
   "execution_count": 108,
   "id": "873ea66b",
   "metadata": {},
   "outputs": [
    {
     "data": {
      "text/html": [
       "<div>\n",
       "<style scoped>\n",
       "    .dataframe tbody tr th:only-of-type {\n",
       "        vertical-align: middle;\n",
       "    }\n",
       "\n",
       "    .dataframe tbody tr th {\n",
       "        vertical-align: top;\n",
       "    }\n",
       "\n",
       "    .dataframe thead th {\n",
       "        text-align: right;\n",
       "    }\n",
       "</style>\n",
       "<table border=\"1\" class=\"dataframe\">\n",
       "  <thead>\n",
       "    <tr style=\"text-align: right;\">\n",
       "      <th></th>\n",
       "      <th>Converted</th>\n",
       "      <th>Converted_Prob</th>\n",
       "      <th>Lead_score</th>\n",
       "      <th>Predicted</th>\n",
       "      <th>0.0</th>\n",
       "      <th>0.1</th>\n",
       "      <th>0.2</th>\n",
       "      <th>0.3</th>\n",
       "      <th>0.4</th>\n",
       "      <th>0.5</th>\n",
       "      <th>0.6</th>\n",
       "      <th>0.7</th>\n",
       "      <th>0.8</th>\n",
       "      <th>0.9</th>\n",
       "      <th>Final_Predicted</th>\n",
       "    </tr>\n",
       "  </thead>\n",
       "  <tbody>\n",
       "    <tr>\n",
       "      <th>0</th>\n",
       "      <td>0</td>\n",
       "      <td>0.15</td>\n",
       "      <td>14.79</td>\n",
       "      <td>0</td>\n",
       "      <td>1</td>\n",
       "      <td>1</td>\n",
       "      <td>0</td>\n",
       "      <td>0</td>\n",
       "      <td>0</td>\n",
       "      <td>0</td>\n",
       "      <td>0</td>\n",
       "      <td>0</td>\n",
       "      <td>0</td>\n",
       "      <td>0</td>\n",
       "      <td>0</td>\n",
       "    </tr>\n",
       "    <tr>\n",
       "      <th>1</th>\n",
       "      <td>1</td>\n",
       "      <td>0.82</td>\n",
       "      <td>82.14</td>\n",
       "      <td>1</td>\n",
       "      <td>1</td>\n",
       "      <td>1</td>\n",
       "      <td>1</td>\n",
       "      <td>1</td>\n",
       "      <td>1</td>\n",
       "      <td>1</td>\n",
       "      <td>1</td>\n",
       "      <td>1</td>\n",
       "      <td>1</td>\n",
       "      <td>0</td>\n",
       "      <td>1</td>\n",
       "    </tr>\n",
       "    <tr>\n",
       "      <th>2</th>\n",
       "      <td>1</td>\n",
       "      <td>1.00</td>\n",
       "      <td>99.92</td>\n",
       "      <td>1</td>\n",
       "      <td>1</td>\n",
       "      <td>1</td>\n",
       "      <td>1</td>\n",
       "      <td>1</td>\n",
       "      <td>1</td>\n",
       "      <td>1</td>\n",
       "      <td>1</td>\n",
       "      <td>1</td>\n",
       "      <td>1</td>\n",
       "      <td>1</td>\n",
       "      <td>1</td>\n",
       "    </tr>\n",
       "    <tr>\n",
       "      <th>3</th>\n",
       "      <td>1</td>\n",
       "      <td>0.99</td>\n",
       "      <td>99.14</td>\n",
       "      <td>1</td>\n",
       "      <td>1</td>\n",
       "      <td>1</td>\n",
       "      <td>1</td>\n",
       "      <td>1</td>\n",
       "      <td>1</td>\n",
       "      <td>1</td>\n",
       "      <td>1</td>\n",
       "      <td>1</td>\n",
       "      <td>1</td>\n",
       "      <td>1</td>\n",
       "      <td>1</td>\n",
       "    </tr>\n",
       "    <tr>\n",
       "      <th>4</th>\n",
       "      <td>0</td>\n",
       "      <td>0.03</td>\n",
       "      <td>3.32</td>\n",
       "      <td>0</td>\n",
       "      <td>1</td>\n",
       "      <td>0</td>\n",
       "      <td>0</td>\n",
       "      <td>0</td>\n",
       "      <td>0</td>\n",
       "      <td>0</td>\n",
       "      <td>0</td>\n",
       "      <td>0</td>\n",
       "      <td>0</td>\n",
       "      <td>0</td>\n",
       "      <td>0</td>\n",
       "    </tr>\n",
       "  </tbody>\n",
       "</table>\n",
       "</div>"
      ],
      "text/plain": [
       "   Converted  Converted_Prob  Lead_score  Predicted  0.0  0.1  0.2  0.3  0.4  \\\n",
       "0          0            0.15       14.79          0    1    1    0    0    0   \n",
       "1          1            0.82       82.14          1    1    1    1    1    1   \n",
       "2          1            1.00       99.92          1    1    1    1    1    1   \n",
       "3          1            0.99       99.14          1    1    1    1    1    1   \n",
       "4          0            0.03        3.32          0    1    0    0    0    0   \n",
       "\n",
       "   0.5  0.6  0.7  0.8  0.9  Final_Predicted  \n",
       "0    0    0    0    0    0                0  \n",
       "1    1    1    1    1    0                1  \n",
       "2    1    1    1    1    1                1  \n",
       "3    1    1    1    1    1                1  \n",
       "4    0    0    0    0    0                0  "
      ]
     },
     "execution_count": 108,
     "metadata": {},
     "output_type": "execute_result"
    }
   ],
   "source": [
    "y_train_pred_final['Final_Predicted'] = y_train_pred_final.Converted_Prob.map( lambda x: 1 if x > 0.28 else 0)\n",
    "y_train_pred_final.head()"
   ]
  },
  {
   "cell_type": "code",
   "execution_count": 109,
   "id": "fd360f9f",
   "metadata": {},
   "outputs": [
    {
     "name": "stdout",
     "output_type": "stream",
     "text": [
      "0.9025974025974026\n"
     ]
    }
   ],
   "source": [
    "# Let's check the overall accuracy.\n",
    "print(metrics.accuracy_score(y_true= y_train_pred_final.Converted, y_pred= y_train_pred_final.Final_Predicted))"
   ]
  },
  {
   "cell_type": "code",
   "execution_count": 110,
   "id": "44d23c37",
   "metadata": {},
   "outputs": [
    {
     "data": {
      "text/plain": [
       "array([[3613,  341],\n",
       "       [ 289, 2225]], dtype=int64)"
      ]
     },
     "execution_count": 110,
     "metadata": {},
     "output_type": "execute_result"
    }
   ],
   "source": [
    "# Let's take a look at the confusion matrix again \n",
    "confusion = metrics.confusion_matrix(y_true= y_train_pred_final.Converted, y_pred= y_train_pred_final.Final_Predicted)\n",
    "confusion"
   ]
  },
  {
   "cell_type": "code",
   "execution_count": 111,
   "id": "73cecb2b",
   "metadata": {},
   "outputs": [],
   "source": [
    "TP = confusion[1,1] # true positive \n",
    "TN = confusion[0,0] # true negatives\n",
    "FP = confusion[0,1] # false positives\n",
    "FN = confusion[1,0] # false negatives"
   ]
  },
  {
   "cell_type": "code",
   "execution_count": 112,
   "id": "d5883847",
   "metadata": {},
   "outputs": [
    {
     "data": {
      "text/plain": [
       "0.8850437549721559"
      ]
     },
     "execution_count": 112,
     "metadata": {},
     "output_type": "execute_result"
    }
   ],
   "source": [
    "# Let's see the sensitivity of our logistic regression model\n",
    "TP / float(TP+FN)"
   ]
  },
  {
   "cell_type": "code",
   "execution_count": 113,
   "id": "a5fa92a5",
   "metadata": {},
   "outputs": [
    {
     "data": {
      "text/plain": [
       "0.9137582195245321"
      ]
     },
     "execution_count": 113,
     "metadata": {},
     "output_type": "execute_result"
    }
   ],
   "source": [
    "# Let us calculate specificity\n",
    "TN / float(TN+FP)"
   ]
  },
  {
   "cell_type": "code",
   "execution_count": 114,
   "id": "14a8fd4d",
   "metadata": {},
   "outputs": [
    {
     "name": "stdout",
     "output_type": "stream",
     "text": [
      "0.08624178047546788\n"
     ]
    }
   ],
   "source": [
    "# Calculate false postive rate - predicting churn when customer does not have churned\n",
    "print(FP/ float(TN+FP))"
   ]
  },
  {
   "cell_type": "code",
   "execution_count": 115,
   "id": "f2128453",
   "metadata": {},
   "outputs": [
    {
     "name": "stdout",
     "output_type": "stream",
     "text": [
      "0.9259354177344952\n"
     ]
    }
   ],
   "source": [
    "# Negative predictive value\n",
    "print (TN / float(TN+ FN))"
   ]
  },
  {
   "cell_type": "markdown",
   "id": "10956364",
   "metadata": {},
   "source": [
    "**PREDICTIONS ON X TEST**"
   ]
  },
  {
   "cell_type": "code",
   "execution_count": 116,
   "id": "977f18e4",
   "metadata": {},
   "outputs": [
    {
     "data": {
      "text/html": [
       "<div>\n",
       "<style scoped>\n",
       "    .dataframe tbody tr th:only-of-type {\n",
       "        vertical-align: middle;\n",
       "    }\n",
       "\n",
       "    .dataframe tbody tr th {\n",
       "        vertical-align: top;\n",
       "    }\n",
       "\n",
       "    .dataframe thead th {\n",
       "        text-align: right;\n",
       "    }\n",
       "</style>\n",
       "<table border=\"1\" class=\"dataframe\">\n",
       "  <thead>\n",
       "    <tr style=\"text-align: right;\">\n",
       "      <th></th>\n",
       "      <th>total_visits</th>\n",
       "      <th>time_on_website</th>\n",
       "      <th>page_views_per_visit</th>\n",
       "      <th>lead_origin_Landing Page Submission</th>\n",
       "      <th>lead_origin_Lead Add Form</th>\n",
       "      <th>lead_source_Reference</th>\n",
       "      <th>specialization_Travel and Tourism</th>\n",
       "      <th>occupation_Working Professional</th>\n",
       "      <th>tags_Closed by Horizzon</th>\n",
       "      <th>tags_Interested in other courses</th>\n",
       "      <th>tags_Lost to EINS</th>\n",
       "      <th>tags_Not Specified</th>\n",
       "      <th>tags_Other_Tags</th>\n",
       "      <th>tags_Ringing</th>\n",
       "      <th>tags_Will revert after reading the email</th>\n",
       "    </tr>\n",
       "  </thead>\n",
       "  <tbody>\n",
       "    <tr>\n",
       "      <th>567</th>\n",
       "      <td>0.24</td>\n",
       "      <td>0.15</td>\n",
       "      <td>0.44</td>\n",
       "      <td>1</td>\n",
       "      <td>0</td>\n",
       "      <td>0</td>\n",
       "      <td>0</td>\n",
       "      <td>0</td>\n",
       "      <td>0</td>\n",
       "      <td>0</td>\n",
       "      <td>0</td>\n",
       "      <td>0</td>\n",
       "      <td>0</td>\n",
       "      <td>1</td>\n",
       "      <td>0</td>\n",
       "    </tr>\n",
       "    <tr>\n",
       "      <th>2303</th>\n",
       "      <td>0.12</td>\n",
       "      <td>0.68</td>\n",
       "      <td>0.22</td>\n",
       "      <td>1</td>\n",
       "      <td>0</td>\n",
       "      <td>0</td>\n",
       "      <td>0</td>\n",
       "      <td>0</td>\n",
       "      <td>0</td>\n",
       "      <td>0</td>\n",
       "      <td>0</td>\n",
       "      <td>0</td>\n",
       "      <td>1</td>\n",
       "      <td>0</td>\n",
       "      <td>0</td>\n",
       "    </tr>\n",
       "    <tr>\n",
       "      <th>1523</th>\n",
       "      <td>0.18</td>\n",
       "      <td>0.59</td>\n",
       "      <td>0.33</td>\n",
       "      <td>0</td>\n",
       "      <td>0</td>\n",
       "      <td>0</td>\n",
       "      <td>0</td>\n",
       "      <td>0</td>\n",
       "      <td>0</td>\n",
       "      <td>1</td>\n",
       "      <td>0</td>\n",
       "      <td>0</td>\n",
       "      <td>0</td>\n",
       "      <td>0</td>\n",
       "      <td>0</td>\n",
       "    </tr>\n",
       "    <tr>\n",
       "      <th>6923</th>\n",
       "      <td>0.29</td>\n",
       "      <td>0.08</td>\n",
       "      <td>0.56</td>\n",
       "      <td>1</td>\n",
       "      <td>0</td>\n",
       "      <td>0</td>\n",
       "      <td>0</td>\n",
       "      <td>0</td>\n",
       "      <td>0</td>\n",
       "      <td>0</td>\n",
       "      <td>0</td>\n",
       "      <td>1</td>\n",
       "      <td>0</td>\n",
       "      <td>0</td>\n",
       "      <td>0</td>\n",
       "    </tr>\n",
       "    <tr>\n",
       "      <th>7841</th>\n",
       "      <td>0.12</td>\n",
       "      <td>0.31</td>\n",
       "      <td>0.22</td>\n",
       "      <td>1</td>\n",
       "      <td>0</td>\n",
       "      <td>0</td>\n",
       "      <td>0</td>\n",
       "      <td>0</td>\n",
       "      <td>0</td>\n",
       "      <td>1</td>\n",
       "      <td>0</td>\n",
       "      <td>0</td>\n",
       "      <td>0</td>\n",
       "      <td>0</td>\n",
       "      <td>0</td>\n",
       "    </tr>\n",
       "  </tbody>\n",
       "</table>\n",
       "</div>"
      ],
      "text/plain": [
       "      total_visits  time_on_website  page_views_per_visit  \\\n",
       "567           0.24             0.15                  0.44   \n",
       "2303          0.12             0.68                  0.22   \n",
       "1523          0.18             0.59                  0.33   \n",
       "6923          0.29             0.08                  0.56   \n",
       "7841          0.12             0.31                  0.22   \n",
       "\n",
       "      lead_origin_Landing Page Submission  lead_origin_Lead Add Form  \\\n",
       "567                                     1                          0   \n",
       "2303                                    1                          0   \n",
       "1523                                    0                          0   \n",
       "6923                                    1                          0   \n",
       "7841                                    1                          0   \n",
       "\n",
       "      lead_source_Reference  specialization_Travel and Tourism  \\\n",
       "567                       0                                  0   \n",
       "2303                      0                                  0   \n",
       "1523                      0                                  0   \n",
       "6923                      0                                  0   \n",
       "7841                      0                                  0   \n",
       "\n",
       "      occupation_Working Professional  tags_Closed by Horizzon  \\\n",
       "567                                 0                        0   \n",
       "2303                                0                        0   \n",
       "1523                                0                        0   \n",
       "6923                                0                        0   \n",
       "7841                                0                        0   \n",
       "\n",
       "      tags_Interested in other courses  tags_Lost to EINS  tags_Not Specified  \\\n",
       "567                                  0                  0                   0   \n",
       "2303                                 0                  0                   0   \n",
       "1523                                 1                  0                   0   \n",
       "6923                                 0                  0                   1   \n",
       "7841                                 1                  0                   0   \n",
       "\n",
       "      tags_Other_Tags  tags_Ringing  tags_Will revert after reading the email  \n",
       "567                 0             1                                         0  \n",
       "2303                1             0                                         0  \n",
       "1523                0             0                                         0  \n",
       "6923                0             0                                         0  \n",
       "7841                0             0                                         0  "
      ]
     },
     "execution_count": 116,
     "metadata": {},
     "output_type": "execute_result"
    }
   ],
   "source": [
    "x_test = x_test[col]\n",
    "x_test.head()"
   ]
  },
  {
   "cell_type": "code",
   "execution_count": 117,
   "id": "eae985b8",
   "metadata": {},
   "outputs": [],
   "source": [
    "X_test_sm = sm.add_constant(x_test)"
   ]
  },
  {
   "cell_type": "code",
   "execution_count": 118,
   "id": "41448483",
   "metadata": {},
   "outputs": [
    {
     "data": {
      "text/plain": [
       "567    0.01\n",
       "2303   0.12\n",
       "1523   0.11\n",
       "6923   0.09\n",
       "7841   0.02\n",
       "dtype: float64"
      ]
     },
     "execution_count": 118,
     "metadata": {},
     "output_type": "execute_result"
    }
   ],
   "source": [
    "# Predictions on test set\n",
    "y_test_pred = res.predict(X_test_sm)\n",
    "y_test_pred.head()"
   ]
  },
  {
   "cell_type": "code",
   "execution_count": 119,
   "id": "b6f9cf5c",
   "metadata": {},
   "outputs": [
    {
     "data": {
      "text/html": [
       "<div>\n",
       "<style scoped>\n",
       "    .dataframe tbody tr th:only-of-type {\n",
       "        vertical-align: middle;\n",
       "    }\n",
       "\n",
       "    .dataframe tbody tr th {\n",
       "        vertical-align: top;\n",
       "    }\n",
       "\n",
       "    .dataframe thead th {\n",
       "        text-align: right;\n",
       "    }\n",
       "</style>\n",
       "<table border=\"1\" class=\"dataframe\">\n",
       "  <thead>\n",
       "    <tr style=\"text-align: right;\">\n",
       "      <th></th>\n",
       "      <th>0</th>\n",
       "    </tr>\n",
       "  </thead>\n",
       "  <tbody>\n",
       "    <tr>\n",
       "      <th>567</th>\n",
       "      <td>0.01</td>\n",
       "    </tr>\n",
       "    <tr>\n",
       "      <th>2303</th>\n",
       "      <td>0.12</td>\n",
       "    </tr>\n",
       "    <tr>\n",
       "      <th>1523</th>\n",
       "      <td>0.11</td>\n",
       "    </tr>\n",
       "    <tr>\n",
       "      <th>6923</th>\n",
       "      <td>0.09</td>\n",
       "    </tr>\n",
       "    <tr>\n",
       "      <th>7841</th>\n",
       "      <td>0.02</td>\n",
       "    </tr>\n",
       "  </tbody>\n",
       "</table>\n",
       "</div>"
      ],
      "text/plain": [
       "        0\n",
       "567  0.01\n",
       "2303 0.12\n",
       "1523 0.11\n",
       "6923 0.09\n",
       "7841 0.02"
      ]
     },
     "execution_count": 119,
     "metadata": {},
     "output_type": "execute_result"
    }
   ],
   "source": [
    "# Converting y_pred to a DataFrame\n",
    "y_pred_1 = pd.DataFrame(y_test_pred)\n",
    "y_pred_1.head()"
   ]
  },
  {
   "cell_type": "code",
   "execution_count": 120,
   "id": "f3d6ed4e",
   "metadata": {},
   "outputs": [],
   "source": [
    "# Converting y_test to DataFrame\n",
    "y_test_df = pd.DataFrame(y_test)"
   ]
  },
  {
   "cell_type": "code",
   "execution_count": 121,
   "id": "9dffb93f",
   "metadata": {},
   "outputs": [],
   "source": [
    "# Removing index for both DataFrames to concatenate them side by side\n",
    "y_pred_1.reset_index(drop= True, inplace= True)\n",
    "y_test_df.reset_index(drop= True, inplace= True)"
   ]
  },
  {
   "cell_type": "code",
   "execution_count": 122,
   "id": "e9561815",
   "metadata": {},
   "outputs": [
    {
     "data": {
      "text/html": [
       "<div>\n",
       "<style scoped>\n",
       "    .dataframe tbody tr th:only-of-type {\n",
       "        vertical-align: middle;\n",
       "    }\n",
       "\n",
       "    .dataframe tbody tr th {\n",
       "        vertical-align: top;\n",
       "    }\n",
       "\n",
       "    .dataframe thead th {\n",
       "        text-align: right;\n",
       "    }\n",
       "</style>\n",
       "<table border=\"1\" class=\"dataframe\">\n",
       "  <thead>\n",
       "    <tr style=\"text-align: right;\">\n",
       "      <th></th>\n",
       "      <th>converted</th>\n",
       "      <th>0</th>\n",
       "    </tr>\n",
       "  </thead>\n",
       "  <tbody>\n",
       "    <tr>\n",
       "      <th>0</th>\n",
       "      <td>0</td>\n",
       "      <td>0.01</td>\n",
       "    </tr>\n",
       "    <tr>\n",
       "      <th>1</th>\n",
       "      <td>0</td>\n",
       "      <td>0.12</td>\n",
       "    </tr>\n",
       "    <tr>\n",
       "      <th>2</th>\n",
       "      <td>0</td>\n",
       "      <td>0.11</td>\n",
       "    </tr>\n",
       "    <tr>\n",
       "      <th>3</th>\n",
       "      <td>0</td>\n",
       "      <td>0.09</td>\n",
       "    </tr>\n",
       "    <tr>\n",
       "      <th>4</th>\n",
       "      <td>0</td>\n",
       "      <td>0.02</td>\n",
       "    </tr>\n",
       "  </tbody>\n",
       "</table>\n",
       "</div>"
      ],
      "text/plain": [
       "   converted    0\n",
       "0          0 0.01\n",
       "1          0 0.12\n",
       "2          0 0.11\n",
       "3          0 0.09\n",
       "4          0 0.02"
      ]
     },
     "execution_count": 122,
     "metadata": {},
     "output_type": "execute_result"
    }
   ],
   "source": [
    "# Concatenating y_test_df and y_pred_1\n",
    "y_pred_final = pd.concat([y_test_df, y_pred_1], axis = 1)\n",
    "y_pred_final.head()"
   ]
  },
  {
   "cell_type": "code",
   "execution_count": 123,
   "id": "db914261",
   "metadata": {},
   "outputs": [],
   "source": [
    "# Renaming the column\n",
    "y_pred_final = y_pred_final.rename(columns = {0: 'Converted_Prob'})"
   ]
  },
  {
   "cell_type": "code",
   "execution_count": 124,
   "id": "49d229f3",
   "metadata": {},
   "outputs": [
    {
     "data": {
      "text/html": [
       "<div>\n",
       "<style scoped>\n",
       "    .dataframe tbody tr th:only-of-type {\n",
       "        vertical-align: middle;\n",
       "    }\n",
       "\n",
       "    .dataframe tbody tr th {\n",
       "        vertical-align: top;\n",
       "    }\n",
       "\n",
       "    .dataframe thead th {\n",
       "        text-align: right;\n",
       "    }\n",
       "</style>\n",
       "<table border=\"1\" class=\"dataframe\">\n",
       "  <thead>\n",
       "    <tr style=\"text-align: right;\">\n",
       "      <th></th>\n",
       "      <th>converted</th>\n",
       "      <th>Converted_Prob</th>\n",
       "      <th>Final_Predicted</th>\n",
       "    </tr>\n",
       "  </thead>\n",
       "  <tbody>\n",
       "    <tr>\n",
       "      <th>0</th>\n",
       "      <td>0</td>\n",
       "      <td>0.01</td>\n",
       "      <td>0</td>\n",
       "    </tr>\n",
       "    <tr>\n",
       "      <th>1</th>\n",
       "      <td>0</td>\n",
       "      <td>0.12</td>\n",
       "      <td>0</td>\n",
       "    </tr>\n",
       "    <tr>\n",
       "      <th>2</th>\n",
       "      <td>0</td>\n",
       "      <td>0.11</td>\n",
       "      <td>0</td>\n",
       "    </tr>\n",
       "    <tr>\n",
       "      <th>3</th>\n",
       "      <td>0</td>\n",
       "      <td>0.09</td>\n",
       "      <td>0</td>\n",
       "    </tr>\n",
       "    <tr>\n",
       "      <th>4</th>\n",
       "      <td>0</td>\n",
       "      <td>0.02</td>\n",
       "      <td>0</td>\n",
       "    </tr>\n",
       "  </tbody>\n",
       "</table>\n",
       "</div>"
      ],
      "text/plain": [
       "   converted  Converted_Prob  Final_Predicted\n",
       "0          0            0.01                0\n",
       "1          0            0.12                0\n",
       "2          0            0.11                0\n",
       "3          0            0.09                0\n",
       "4          0            0.02                0"
      ]
     },
     "execution_count": 124,
     "metadata": {},
     "output_type": "execute_result"
    }
   ],
   "source": [
    "y_pred_final['Final_Predicted'] = y_pred_final.Converted_Prob.map(lambda x: 1 if x > 0.28 else 0)\n",
    "y_pred_final.head()"
   ]
  },
  {
   "cell_type": "code",
   "execution_count": 125,
   "id": "2607978b",
   "metadata": {},
   "outputs": [
    {
     "data": {
      "text/plain": [
       "0.9065656565656566"
      ]
     },
     "execution_count": 125,
     "metadata": {},
     "output_type": "execute_result"
    }
   ],
   "source": [
    "# Overall Accuracy\n",
    "metrics.accuracy_score(y_true= y_pred_final.converted, y_pred= y_pred_final.Final_Predicted)"
   ]
  },
  {
   "cell_type": "code",
   "execution_count": 126,
   "id": "dc4eeb0c",
   "metadata": {},
   "outputs": [
    {
     "data": {
      "text/plain": [
       "<Figure size 1800x1800 with 0 Axes>"
      ]
     },
     "metadata": {},
     "output_type": "display_data"
    },
    {
     "data": {
      "image/png": "[encoded data removed]",
      "text/plain": [
       "<Figure size 432x288 with 1 Axes>"
      ]
     },
     "metadata": {},
     "output_type": "display_data"
    }
   ],
   "source": [
    "# Confusion Matrix\n",
    "confusion2 = metrics.confusion_matrix(y_true= y_pred_final.converted, y_pred= y_pred_final.Final_Predicted)\n",
    "from mlxtend.plotting import plot_confusion_matrix \n",
    "plt.figure(figsize=(25,25))\n",
    "plot_confusion_matrix(conf_mat=confusion2,cmap='BuPu')\n",
    "plt.xlabel('Predictions', fontsize=15)\n",
    "plt.ylabel('Actuals', fontsize=12)\n",
    "plt.title('Confusion Matrix', fontsize=12)\n",
    "plt.show()"
   ]
  },
  {
   "cell_type": "code",
   "execution_count": 127,
   "id": "47208f1f",
   "metadata": {},
   "outputs": [],
   "source": [
    "TP = confusion2[1,1]\n",
    "TN = confusion2[0,0]\n",
    "FP = confusion2[0,1]\n",
    "FN = confusion2[1,0]"
   ]
  },
  {
   "cell_type": "code",
   "execution_count": 128,
   "id": "1045e456",
   "metadata": {},
   "outputs": [
    {
     "data": {
      "text/plain": [
       "0.8806112702960841"
      ]
     },
     "execution_count": 128,
     "metadata": {},
     "output_type": "execute_result"
    }
   ],
   "source": [
    "# Let's see the sensitivity of our logistic regression model\n",
    "TP / float(TP+FN)"
   ]
  },
  {
   "cell_type": "code",
   "execution_count": 129,
   "id": "60d44771",
   "metadata": {},
   "outputs": [
    {
     "data": {
      "text/plain": [
       "0.9223188405797101"
      ]
     },
     "execution_count": 129,
     "metadata": {},
     "output_type": "execute_result"
    }
   ],
   "source": [
    "# Let us calculate specificity\n",
    "TN / float(TN+FP)"
   ]
  },
  {
   "cell_type": "code",
   "execution_count": 130,
   "id": "e7db1906",
   "metadata": {},
   "outputs": [
    {
     "name": "stdout",
     "output_type": "stream",
     "text": [
      "0.07768115942028986\n"
     ]
    }
   ],
   "source": [
    "# Calculate false postive rate - predicting churn when customer does not have churned\n",
    "print(FP/ float(TN+FP))"
   ]
  },
  {
   "cell_type": "code",
   "execution_count": 131,
   "id": "5d2c7aca",
   "metadata": {},
   "outputs": [
    {
     "name": "stdout",
     "output_type": "stream",
     "text": [
      "0.8731060606060606\n"
     ]
    }
   ],
   "source": [
    "# Positive predictive value \n",
    "print (TP / float(TP+FP))"
   ]
  },
  {
   "cell_type": "code",
   "execution_count": 132,
   "id": "d0f2a957",
   "metadata": {},
   "outputs": [
    {
     "name": "stdout",
     "output_type": "stream",
     "text": [
      "0.9271561771561772\n"
     ]
    }
   ],
   "source": [
    "# Negative predictive value\n",
    "print (TN / float(TN+ FN))"
   ]
  },
  {
   "cell_type": "markdown",
   "id": "84058f21",
   "metadata": {},
   "source": [
    "**Making DataFrame with Lead scores**"
   ]
  },
  {
   "cell_type": "code",
   "execution_count": 133,
   "id": "7a840cb3",
   "metadata": {},
   "outputs": [
    {
     "data": {
      "text/html": [
       "<div>\n",
       "<style scoped>\n",
       "    .dataframe tbody tr th:only-of-type {\n",
       "        vertical-align: middle;\n",
       "    }\n",
       "\n",
       "    .dataframe tbody tr th {\n",
       "        vertical-align: top;\n",
       "    }\n",
       "\n",
       "    .dataframe thead th {\n",
       "        text-align: right;\n",
       "    }\n",
       "</style>\n",
       "<table border=\"1\" class=\"dataframe\">\n",
       "  <thead>\n",
       "    <tr style=\"text-align: right;\">\n",
       "      <th></th>\n",
       "      <th>lead_number</th>\n",
       "      <th>converted</th>\n",
       "      <th>total_visits</th>\n",
       "      <th>time_on_website</th>\n",
       "      <th>page_views_per_visit</th>\n",
       "      <th>lead_origin_Landing Page Submission</th>\n",
       "      <th>lead_origin_Lead Add Form</th>\n",
       "      <th>lead_origin_Lead Import</th>\n",
       "      <th>lead_origin_Quick Add Form</th>\n",
       "      <th>lead_source_Google</th>\n",
       "      <th>lead_source_Olark Chat</th>\n",
       "      <th>lead_source_Organic Search</th>\n",
       "      <th>lead_source_Other Social Sites</th>\n",
       "      <th>lead_source_Reference</th>\n",
       "      <th>specialization_Business Administration</th>\n",
       "      <th>specialization_E-Business</th>\n",
       "      <th>specialization_E-COMMERCE</th>\n",
       "      <th>specialization_International Business</th>\n",
       "      <th>specialization_Management</th>\n",
       "      <th>specialization_Media and Advertising</th>\n",
       "      <th>specialization_Not Specified</th>\n",
       "      <th>specialization_Rural and Agribusiness</th>\n",
       "      <th>specialization_Services Excellence</th>\n",
       "      <th>specialization_Travel and Tourism</th>\n",
       "      <th>occupation_Housewife</th>\n",
       "      <th>occupation_Other</th>\n",
       "      <th>occupation_Student</th>\n",
       "      <th>occupation_Unemployed</th>\n",
       "      <th>occupation_Working Professional</th>\n",
       "      <th>city_Other Cities</th>\n",
       "      <th>city_Other Cities of Maharashtra</th>\n",
       "      <th>city_Other Metro Cities</th>\n",
       "      <th>city_Thane &amp; Outskirts</th>\n",
       "      <th>city_Tier II Cities</th>\n",
       "      <th>tags_Closed by Horizzon</th>\n",
       "      <th>tags_Interested in other courses</th>\n",
       "      <th>tags_Lost to EINS</th>\n",
       "      <th>tags_Not Specified</th>\n",
       "      <th>tags_Other_Tags</th>\n",
       "      <th>tags_Ringing</th>\n",
       "      <th>tags_Will revert after reading the email</th>\n",
       "    </tr>\n",
       "  </thead>\n",
       "  <tbody>\n",
       "    <tr>\n",
       "      <th>0</th>\n",
       "      <td>660737</td>\n",
       "      <td>0</td>\n",
       "      <td>0</td>\n",
       "      <td>0</td>\n",
       "      <td>0.00</td>\n",
       "      <td>0</td>\n",
       "      <td>0</td>\n",
       "      <td>0</td>\n",
       "      <td>0</td>\n",
       "      <td>0</td>\n",
       "      <td>1</td>\n",
       "      <td>0</td>\n",
       "      <td>0</td>\n",
       "      <td>0</td>\n",
       "      <td>0</td>\n",
       "      <td>0</td>\n",
       "      <td>0</td>\n",
       "      <td>0</td>\n",
       "      <td>0</td>\n",
       "      <td>0</td>\n",
       "      <td>1</td>\n",
       "      <td>0</td>\n",
       "      <td>0</td>\n",
       "      <td>0</td>\n",
       "      <td>0</td>\n",
       "      <td>0</td>\n",
       "      <td>0</td>\n",
       "      <td>1</td>\n",
       "      <td>0</td>\n",
       "      <td>0</td>\n",
       "      <td>0</td>\n",
       "      <td>0</td>\n",
       "      <td>0</td>\n",
       "      <td>0</td>\n",
       "      <td>0</td>\n",
       "      <td>1</td>\n",
       "      <td>0</td>\n",
       "      <td>0</td>\n",
       "      <td>0</td>\n",
       "      <td>0</td>\n",
       "      <td>0</td>\n",
       "    </tr>\n",
       "    <tr>\n",
       "      <th>1</th>\n",
       "      <td>660728</td>\n",
       "      <td>0</td>\n",
       "      <td>5</td>\n",
       "      <td>674</td>\n",
       "      <td>2.50</td>\n",
       "      <td>0</td>\n",
       "      <td>0</td>\n",
       "      <td>0</td>\n",
       "      <td>0</td>\n",
       "      <td>0</td>\n",
       "      <td>0</td>\n",
       "      <td>1</td>\n",
       "      <td>0</td>\n",
       "      <td>0</td>\n",
       "      <td>0</td>\n",
       "      <td>0</td>\n",
       "      <td>0</td>\n",
       "      <td>0</td>\n",
       "      <td>0</td>\n",
       "      <td>0</td>\n",
       "      <td>1</td>\n",
       "      <td>0</td>\n",
       "      <td>0</td>\n",
       "      <td>0</td>\n",
       "      <td>0</td>\n",
       "      <td>0</td>\n",
       "      <td>0</td>\n",
       "      <td>1</td>\n",
       "      <td>0</td>\n",
       "      <td>0</td>\n",
       "      <td>0</td>\n",
       "      <td>0</td>\n",
       "      <td>0</td>\n",
       "      <td>0</td>\n",
       "      <td>0</td>\n",
       "      <td>0</td>\n",
       "      <td>0</td>\n",
       "      <td>0</td>\n",
       "      <td>0</td>\n",
       "      <td>1</td>\n",
       "      <td>0</td>\n",
       "    </tr>\n",
       "    <tr>\n",
       "      <th>2</th>\n",
       "      <td>660727</td>\n",
       "      <td>1</td>\n",
       "      <td>2</td>\n",
       "      <td>1532</td>\n",
       "      <td>2.00</td>\n",
       "      <td>1</td>\n",
       "      <td>0</td>\n",
       "      <td>0</td>\n",
       "      <td>0</td>\n",
       "      <td>0</td>\n",
       "      <td>0</td>\n",
       "      <td>0</td>\n",
       "      <td>0</td>\n",
       "      <td>0</td>\n",
       "      <td>1</td>\n",
       "      <td>0</td>\n",
       "      <td>0</td>\n",
       "      <td>0</td>\n",
       "      <td>0</td>\n",
       "      <td>0</td>\n",
       "      <td>0</td>\n",
       "      <td>0</td>\n",
       "      <td>0</td>\n",
       "      <td>0</td>\n",
       "      <td>0</td>\n",
       "      <td>0</td>\n",
       "      <td>1</td>\n",
       "      <td>0</td>\n",
       "      <td>0</td>\n",
       "      <td>0</td>\n",
       "      <td>0</td>\n",
       "      <td>0</td>\n",
       "      <td>0</td>\n",
       "      <td>0</td>\n",
       "      <td>0</td>\n",
       "      <td>0</td>\n",
       "      <td>0</td>\n",
       "      <td>0</td>\n",
       "      <td>0</td>\n",
       "      <td>0</td>\n",
       "      <td>1</td>\n",
       "    </tr>\n",
       "    <tr>\n",
       "      <th>3</th>\n",
       "      <td>660719</td>\n",
       "      <td>0</td>\n",
       "      <td>1</td>\n",
       "      <td>305</td>\n",
       "      <td>1.00</td>\n",
       "      <td>1</td>\n",
       "      <td>0</td>\n",
       "      <td>0</td>\n",
       "      <td>0</td>\n",
       "      <td>0</td>\n",
       "      <td>0</td>\n",
       "      <td>0</td>\n",
       "      <td>0</td>\n",
       "      <td>0</td>\n",
       "      <td>0</td>\n",
       "      <td>0</td>\n",
       "      <td>0</td>\n",
       "      <td>0</td>\n",
       "      <td>0</td>\n",
       "      <td>1</td>\n",
       "      <td>0</td>\n",
       "      <td>0</td>\n",
       "      <td>0</td>\n",
       "      <td>0</td>\n",
       "      <td>0</td>\n",
       "      <td>0</td>\n",
       "      <td>0</td>\n",
       "      <td>1</td>\n",
       "      <td>0</td>\n",
       "      <td>0</td>\n",
       "      <td>0</td>\n",
       "      <td>0</td>\n",
       "      <td>0</td>\n",
       "      <td>0</td>\n",
       "      <td>0</td>\n",
       "      <td>0</td>\n",
       "      <td>0</td>\n",
       "      <td>0</td>\n",
       "      <td>0</td>\n",
       "      <td>1</td>\n",
       "      <td>0</td>\n",
       "    </tr>\n",
       "    <tr>\n",
       "      <th>4</th>\n",
       "      <td>660681</td>\n",
       "      <td>1</td>\n",
       "      <td>2</td>\n",
       "      <td>1428</td>\n",
       "      <td>1.00</td>\n",
       "      <td>1</td>\n",
       "      <td>0</td>\n",
       "      <td>0</td>\n",
       "      <td>0</td>\n",
       "      <td>1</td>\n",
       "      <td>0</td>\n",
       "      <td>0</td>\n",
       "      <td>0</td>\n",
       "      <td>0</td>\n",
       "      <td>0</td>\n",
       "      <td>0</td>\n",
       "      <td>0</td>\n",
       "      <td>0</td>\n",
       "      <td>0</td>\n",
       "      <td>0</td>\n",
       "      <td>1</td>\n",
       "      <td>0</td>\n",
       "      <td>0</td>\n",
       "      <td>0</td>\n",
       "      <td>0</td>\n",
       "      <td>0</td>\n",
       "      <td>0</td>\n",
       "      <td>1</td>\n",
       "      <td>0</td>\n",
       "      <td>0</td>\n",
       "      <td>0</td>\n",
       "      <td>0</td>\n",
       "      <td>0</td>\n",
       "      <td>0</td>\n",
       "      <td>0</td>\n",
       "      <td>0</td>\n",
       "      <td>0</td>\n",
       "      <td>0</td>\n",
       "      <td>0</td>\n",
       "      <td>0</td>\n",
       "      <td>1</td>\n",
       "    </tr>\n",
       "  </tbody>\n",
       "</table>\n",
       "</div>"
      ],
      "text/plain": [
       "  lead_number  converted  total_visits  time_on_website  page_views_per_visit  \\\n",
       "0      660737          0             0                0                  0.00   \n",
       "1      660728          0             5              674                  2.50   \n",
       "2      660727          1             2             1532                  2.00   \n",
       "3      660719          0             1              305                  1.00   \n",
       "4      660681          1             2             1428                  1.00   \n",
       "\n",
       "   lead_origin_Landing Page Submission  lead_origin_Lead Add Form  \\\n",
       "0                                    0                          0   \n",
       "1                                    0                          0   \n",
       "2                                    1                          0   \n",
       "3                                    1                          0   \n",
       "4                                    1                          0   \n",
       "\n",
       "   lead_origin_Lead Import  lead_origin_Quick Add Form  lead_source_Google  \\\n",
       "0                        0                           0                   0   \n",
       "1                        0                           0                   0   \n",
       "2                        0                           0                   0   \n",
       "3                        0                           0                   0   \n",
       "4                        0                           0                   1   \n",
       "\n",
       "   lead_source_Olark Chat  lead_source_Organic Search  \\\n",
       "0                       1                           0   \n",
       "1                       0                           1   \n",
       "2                       0                           0   \n",
       "3                       0                           0   \n",
       "4                       0                           0   \n",
       "\n",
       "   lead_source_Other Social Sites  lead_source_Reference  \\\n",
       "0                               0                      0   \n",
       "1                               0                      0   \n",
       "2                               0                      0   \n",
       "3                               0                      0   \n",
       "4                               0                      0   \n",
       "\n",
       "   specialization_Business Administration  specialization_E-Business  \\\n",
       "0                                       0                          0   \n",
       "1                                       0                          0   \n",
       "2                                       1                          0   \n",
       "3                                       0                          0   \n",
       "4                                       0                          0   \n",
       "\n",
       "   specialization_E-COMMERCE  specialization_International Business  \\\n",
       "0                          0                                      0   \n",
       "1                          0                                      0   \n",
       "2                          0                                      0   \n",
       "3                          0                                      0   \n",
       "4                          0                                      0   \n",
       "\n",
       "   specialization_Management  specialization_Media and Advertising  \\\n",
       "0                          0                                     0   \n",
       "1                          0                                     0   \n",
       "2                          0                                     0   \n",
       "3                          0                                     1   \n",
       "4                          0                                     0   \n",
       "\n",
       "   specialization_Not Specified  specialization_Rural and Agribusiness  \\\n",
       "0                             1                                      0   \n",
       "1                             1                                      0   \n",
       "2                             0                                      0   \n",
       "3                             0                                      0   \n",
       "4                             1                                      0   \n",
       "\n",
       "   specialization_Services Excellence  specialization_Travel and Tourism  \\\n",
       "0                                   0                                  0   \n",
       "1                                   0                                  0   \n",
       "2                                   0                                  0   \n",
       "3                                   0                                  0   \n",
       "4                                   0                                  0   \n",
       "\n",
       "   occupation_Housewife  occupation_Other  occupation_Student  \\\n",
       "0                     0                 0                   0   \n",
       "1                     0                 0                   0   \n",
       "2                     0                 0                   1   \n",
       "3                     0                 0                   0   \n",
       "4                     0                 0                   0   \n",
       "\n",
       "   occupation_Unemployed  occupation_Working Professional  city_Other Cities  \\\n",
       "0                      1                                0                  0   \n",
       "1                      1                                0                  0   \n",
       "2                      0                                0                  0   \n",
       "3                      1                                0                  0   \n",
       "4                      1                                0                  0   \n",
       "\n",
       "   city_Other Cities of Maharashtra  city_Other Metro Cities  \\\n",
       "0                                 0                        0   \n",
       "1                                 0                        0   \n",
       "2                                 0                        0   \n",
       "3                                 0                        0   \n",
       "4                                 0                        0   \n",
       "\n",
       "   city_Thane & Outskirts  city_Tier II Cities  tags_Closed by Horizzon  \\\n",
       "0                       0                    0                        0   \n",
       "1                       0                    0                        0   \n",
       "2                       0                    0                        0   \n",
       "3                       0                    0                        0   \n",
       "4                       0                    0                        0   \n",
       "\n",
       "   tags_Interested in other courses  tags_Lost to EINS  tags_Not Specified  \\\n",
       "0                                 1                  0                   0   \n",
       "1                                 0                  0                   0   \n",
       "2                                 0                  0                   0   \n",
       "3                                 0                  0                   0   \n",
       "4                                 0                  0                   0   \n",
       "\n",
       "   tags_Other_Tags  tags_Ringing  tags_Will revert after reading the email  \n",
       "0                0             0                                         0  \n",
       "1                0             1                                         0  \n",
       "2                0             0                                         1  \n",
       "3                0             1                                         0  \n",
       "4                0             0                                         1  "
      ]
     },
     "execution_count": 133,
     "metadata": {},
     "output_type": "execute_result"
    }
   ],
   "source": [
    "leads_score = df\n",
    "leads_score.head()"
   ]
  },
  {
   "cell_type": "code",
   "execution_count": 134,
   "id": "9d71cbf6",
   "metadata": {},
   "outputs": [
    {
     "data": {
      "text/html": [
       "<div>\n",
       "<style scoped>\n",
       "    .dataframe tbody tr th:only-of-type {\n",
       "        vertical-align: middle;\n",
       "    }\n",
       "\n",
       "    .dataframe tbody tr th {\n",
       "        vertical-align: top;\n",
       "    }\n",
       "\n",
       "    .dataframe thead th {\n",
       "        text-align: right;\n",
       "    }\n",
       "</style>\n",
       "<table border=\"1\" class=\"dataframe\">\n",
       "  <thead>\n",
       "    <tr style=\"text-align: right;\">\n",
       "      <th></th>\n",
       "      <th>const</th>\n",
       "      <th>total_visits</th>\n",
       "      <th>time_on_website</th>\n",
       "      <th>page_views_per_visit</th>\n",
       "      <th>lead_origin_Landing Page Submission</th>\n",
       "      <th>lead_origin_Lead Add Form</th>\n",
       "      <th>lead_source_Reference</th>\n",
       "      <th>specialization_Travel and Tourism</th>\n",
       "      <th>occupation_Working Professional</th>\n",
       "      <th>tags_Closed by Horizzon</th>\n",
       "      <th>tags_Interested in other courses</th>\n",
       "      <th>tags_Lost to EINS</th>\n",
       "      <th>tags_Not Specified</th>\n",
       "      <th>tags_Other_Tags</th>\n",
       "      <th>tags_Ringing</th>\n",
       "      <th>tags_Will revert after reading the email</th>\n",
       "    </tr>\n",
       "  </thead>\n",
       "  <tbody>\n",
       "    <tr>\n",
       "      <th>0</th>\n",
       "      <td>1.00</td>\n",
       "      <td>0</td>\n",
       "      <td>0</td>\n",
       "      <td>0.00</td>\n",
       "      <td>0</td>\n",
       "      <td>0</td>\n",
       "      <td>0</td>\n",
       "      <td>0</td>\n",
       "      <td>0</td>\n",
       "      <td>0</td>\n",
       "      <td>1</td>\n",
       "      <td>0</td>\n",
       "      <td>0</td>\n",
       "      <td>0</td>\n",
       "      <td>0</td>\n",
       "      <td>0</td>\n",
       "    </tr>\n",
       "    <tr>\n",
       "      <th>1</th>\n",
       "      <td>1.00</td>\n",
       "      <td>5</td>\n",
       "      <td>674</td>\n",
       "      <td>2.50</td>\n",
       "      <td>0</td>\n",
       "      <td>0</td>\n",
       "      <td>0</td>\n",
       "      <td>0</td>\n",
       "      <td>0</td>\n",
       "      <td>0</td>\n",
       "      <td>0</td>\n",
       "      <td>0</td>\n",
       "      <td>0</td>\n",
       "      <td>0</td>\n",
       "      <td>1</td>\n",
       "      <td>0</td>\n",
       "    </tr>\n",
       "    <tr>\n",
       "      <th>2</th>\n",
       "      <td>1.00</td>\n",
       "      <td>2</td>\n",
       "      <td>1532</td>\n",
       "      <td>2.00</td>\n",
       "      <td>1</td>\n",
       "      <td>0</td>\n",
       "      <td>0</td>\n",
       "      <td>0</td>\n",
       "      <td>0</td>\n",
       "      <td>0</td>\n",
       "      <td>0</td>\n",
       "      <td>0</td>\n",
       "      <td>0</td>\n",
       "      <td>0</td>\n",
       "      <td>0</td>\n",
       "      <td>1</td>\n",
       "    </tr>\n",
       "    <tr>\n",
       "      <th>3</th>\n",
       "      <td>1.00</td>\n",
       "      <td>1</td>\n",
       "      <td>305</td>\n",
       "      <td>1.00</td>\n",
       "      <td>1</td>\n",
       "      <td>0</td>\n",
       "      <td>0</td>\n",
       "      <td>0</td>\n",
       "      <td>0</td>\n",
       "      <td>0</td>\n",
       "      <td>0</td>\n",
       "      <td>0</td>\n",
       "      <td>0</td>\n",
       "      <td>0</td>\n",
       "      <td>1</td>\n",
       "      <td>0</td>\n",
       "    </tr>\n",
       "    <tr>\n",
       "      <th>4</th>\n",
       "      <td>1.00</td>\n",
       "      <td>2</td>\n",
       "      <td>1428</td>\n",
       "      <td>1.00</td>\n",
       "      <td>1</td>\n",
       "      <td>0</td>\n",
       "      <td>0</td>\n",
       "      <td>0</td>\n",
       "      <td>0</td>\n",
       "      <td>0</td>\n",
       "      <td>0</td>\n",
       "      <td>0</td>\n",
       "      <td>0</td>\n",
       "      <td>0</td>\n",
       "      <td>0</td>\n",
       "      <td>1</td>\n",
       "    </tr>\n",
       "  </tbody>\n",
       "</table>\n",
       "</div>"
      ],
      "text/plain": [
       "   const  total_visits  time_on_website  page_views_per_visit  \\\n",
       "0   1.00             0                0                  0.00   \n",
       "1   1.00             5              674                  2.50   \n",
       "2   1.00             2             1532                  2.00   \n",
       "3   1.00             1              305                  1.00   \n",
       "4   1.00             2             1428                  1.00   \n",
       "\n",
       "   lead_origin_Landing Page Submission  lead_origin_Lead Add Form  \\\n",
       "0                                    0                          0   \n",
       "1                                    0                          0   \n",
       "2                                    1                          0   \n",
       "3                                    1                          0   \n",
       "4                                    1                          0   \n",
       "\n",
       "   lead_source_Reference  specialization_Travel and Tourism  \\\n",
       "0                      0                                  0   \n",
       "1                      0                                  0   \n",
       "2                      0                                  0   \n",
       "3                      0                                  0   \n",
       "4                      0                                  0   \n",
       "\n",
       "   occupation_Working Professional  tags_Closed by Horizzon  \\\n",
       "0                                0                        0   \n",
       "1                                0                        0   \n",
       "2                                0                        0   \n",
       "3                                0                        0   \n",
       "4                                0                        0   \n",
       "\n",
       "   tags_Interested in other courses  tags_Lost to EINS  tags_Not Specified  \\\n",
       "0                                 1                  0                   0   \n",
       "1                                 0                  0                   0   \n",
       "2                                 0                  0                   0   \n",
       "3                                 0                  0                   0   \n",
       "4                                 0                  0                   0   \n",
       "\n",
       "   tags_Other_Tags  tags_Ringing  tags_Will revert after reading the email  \n",
       "0                0             0                                         0  \n",
       "1                0             1                                         0  \n",
       "2                0             0                                         1  \n",
       "3                0             1                                         0  \n",
       "4                0             0                                         1  "
      ]
     },
     "execution_count": 134,
     "metadata": {},
     "output_type": "execute_result"
    }
   ],
   "source": [
    "# Removing all the variables which were not in our final model\n",
    "leads_score = leads_score[col]\n",
    "leads_score = sm.add_constant(leads_score)\n",
    "leads_score.head()"
   ]
  },
  {
   "cell_type": "code",
   "execution_count": 135,
   "id": "4e34df17",
   "metadata": {},
   "outputs": [
    {
     "data": {
      "text/plain": [
       "0   0.01\n",
       "1   1.00\n",
       "2   1.00\n",
       "3   1.00\n",
       "4   1.00\n",
       "dtype: float64"
      ]
     },
     "execution_count": 135,
     "metadata": {},
     "output_type": "execute_result"
    }
   ],
   "source": [
    "# Making predictions\n",
    "leads_score_pred = res.predict(leads_score)\n",
    "leads_score_pred.head()"
   ]
  },
  {
   "cell_type": "code",
   "execution_count": 136,
   "id": "f25a3711",
   "metadata": {},
   "outputs": [
    {
     "data": {
      "text/html": [
       "<div>\n",
       "<style scoped>\n",
       "    .dataframe tbody tr th:only-of-type {\n",
       "        vertical-align: middle;\n",
       "    }\n",
       "\n",
       "    .dataframe tbody tr th {\n",
       "        vertical-align: top;\n",
       "    }\n",
       "\n",
       "    .dataframe thead th {\n",
       "        text-align: right;\n",
       "    }\n",
       "</style>\n",
       "<table border=\"1\" class=\"dataframe\">\n",
       "  <thead>\n",
       "    <tr style=\"text-align: right;\">\n",
       "      <th></th>\n",
       "      <th>const</th>\n",
       "      <th>total_visits</th>\n",
       "      <th>time_on_website</th>\n",
       "      <th>page_views_per_visit</th>\n",
       "      <th>lead_origin_Landing Page Submission</th>\n",
       "      <th>lead_origin_Lead Add Form</th>\n",
       "      <th>lead_source_Reference</th>\n",
       "      <th>specialization_Travel and Tourism</th>\n",
       "      <th>occupation_Working Professional</th>\n",
       "      <th>tags_Closed by Horizzon</th>\n",
       "      <th>tags_Interested in other courses</th>\n",
       "      <th>tags_Lost to EINS</th>\n",
       "      <th>tags_Not Specified</th>\n",
       "      <th>tags_Other_Tags</th>\n",
       "      <th>tags_Ringing</th>\n",
       "      <th>tags_Will revert after reading the email</th>\n",
       "      <th>Lead Score</th>\n",
       "    </tr>\n",
       "  </thead>\n",
       "  <tbody>\n",
       "    <tr>\n",
       "      <th>0</th>\n",
       "      <td>1.00</td>\n",
       "      <td>0</td>\n",
       "      <td>0</td>\n",
       "      <td>0.00</td>\n",
       "      <td>0</td>\n",
       "      <td>0</td>\n",
       "      <td>0</td>\n",
       "      <td>0</td>\n",
       "      <td>0</td>\n",
       "      <td>0</td>\n",
       "      <td>1</td>\n",
       "      <td>0</td>\n",
       "      <td>0</td>\n",
       "      <td>0</td>\n",
       "      <td>0</td>\n",
       "      <td>0</td>\n",
       "      <td>1.00</td>\n",
       "    </tr>\n",
       "    <tr>\n",
       "      <th>1</th>\n",
       "      <td>1.00</td>\n",
       "      <td>5</td>\n",
       "      <td>674</td>\n",
       "      <td>2.50</td>\n",
       "      <td>0</td>\n",
       "      <td>0</td>\n",
       "      <td>0</td>\n",
       "      <td>0</td>\n",
       "      <td>0</td>\n",
       "      <td>0</td>\n",
       "      <td>0</td>\n",
       "      <td>0</td>\n",
       "      <td>0</td>\n",
       "      <td>0</td>\n",
       "      <td>1</td>\n",
       "      <td>0</td>\n",
       "      <td>100.00</td>\n",
       "    </tr>\n",
       "    <tr>\n",
       "      <th>2</th>\n",
       "      <td>1.00</td>\n",
       "      <td>2</td>\n",
       "      <td>1532</td>\n",
       "      <td>2.00</td>\n",
       "      <td>1</td>\n",
       "      <td>0</td>\n",
       "      <td>0</td>\n",
       "      <td>0</td>\n",
       "      <td>0</td>\n",
       "      <td>0</td>\n",
       "      <td>0</td>\n",
       "      <td>0</td>\n",
       "      <td>0</td>\n",
       "      <td>0</td>\n",
       "      <td>0</td>\n",
       "      <td>1</td>\n",
       "      <td>100.00</td>\n",
       "    </tr>\n",
       "    <tr>\n",
       "      <th>3</th>\n",
       "      <td>1.00</td>\n",
       "      <td>1</td>\n",
       "      <td>305</td>\n",
       "      <td>1.00</td>\n",
       "      <td>1</td>\n",
       "      <td>0</td>\n",
       "      <td>0</td>\n",
       "      <td>0</td>\n",
       "      <td>0</td>\n",
       "      <td>0</td>\n",
       "      <td>0</td>\n",
       "      <td>0</td>\n",
       "      <td>0</td>\n",
       "      <td>0</td>\n",
       "      <td>1</td>\n",
       "      <td>0</td>\n",
       "      <td>100.00</td>\n",
       "    </tr>\n",
       "    <tr>\n",
       "      <th>4</th>\n",
       "      <td>1.00</td>\n",
       "      <td>2</td>\n",
       "      <td>1428</td>\n",
       "      <td>1.00</td>\n",
       "      <td>1</td>\n",
       "      <td>0</td>\n",
       "      <td>0</td>\n",
       "      <td>0</td>\n",
       "      <td>0</td>\n",
       "      <td>0</td>\n",
       "      <td>0</td>\n",
       "      <td>0</td>\n",
       "      <td>0</td>\n",
       "      <td>0</td>\n",
       "      <td>0</td>\n",
       "      <td>1</td>\n",
       "      <td>100.00</td>\n",
       "    </tr>\n",
       "  </tbody>\n",
       "</table>\n",
       "</div>"
      ],
      "text/plain": [
       "   const  total_visits  time_on_website  page_views_per_visit  \\\n",
       "0   1.00             0                0                  0.00   \n",
       "1   1.00             5              674                  2.50   \n",
       "2   1.00             2             1532                  2.00   \n",
       "3   1.00             1              305                  1.00   \n",
       "4   1.00             2             1428                  1.00   \n",
       "\n",
       "   lead_origin_Landing Page Submission  lead_origin_Lead Add Form  \\\n",
       "0                                    0                          0   \n",
       "1                                    0                          0   \n",
       "2                                    1                          0   \n",
       "3                                    1                          0   \n",
       "4                                    1                          0   \n",
       "\n",
       "   lead_source_Reference  specialization_Travel and Tourism  \\\n",
       "0                      0                                  0   \n",
       "1                      0                                  0   \n",
       "2                      0                                  0   \n",
       "3                      0                                  0   \n",
       "4                      0                                  0   \n",
       "\n",
       "   occupation_Working Professional  tags_Closed by Horizzon  \\\n",
       "0                                0                        0   \n",
       "1                                0                        0   \n",
       "2                                0                        0   \n",
       "3                                0                        0   \n",
       "4                                0                        0   \n",
       "\n",
       "   tags_Interested in other courses  tags_Lost to EINS  tags_Not Specified  \\\n",
       "0                                 1                  0                   0   \n",
       "1                                 0                  0                   0   \n",
       "2                                 0                  0                   0   \n",
       "3                                 0                  0                   0   \n",
       "4                                 0                  0                   0   \n",
       "\n",
       "   tags_Other_Tags  tags_Ringing  tags_Will revert after reading the email  \\\n",
       "0                0             0                                         0   \n",
       "1                0             1                                         0   \n",
       "2                0             0                                         1   \n",
       "3                0             1                                         0   \n",
       "4                0             0                                         1   \n",
       "\n",
       "   Lead Score  \n",
       "0        1.00  \n",
       "1      100.00  \n",
       "2      100.00  \n",
       "3      100.00  \n",
       "4      100.00  "
      ]
     },
     "execution_count": 136,
     "metadata": {},
     "output_type": "execute_result"
    }
   ],
   "source": [
    "leads_score['Lead Score'] = round(leads_score_pred*100)\n",
    "leads_score.head()"
   ]
  },
  {
   "cell_type": "code",
   "execution_count": 137,
   "id": "056d746f",
   "metadata": {},
   "outputs": [
    {
     "data": {
      "text/html": [
       "<div>\n",
       "<style scoped>\n",
       "    .dataframe tbody tr th:only-of-type {\n",
       "        vertical-align: middle;\n",
       "    }\n",
       "\n",
       "    .dataframe tbody tr th {\n",
       "        vertical-align: top;\n",
       "    }\n",
       "\n",
       "    .dataframe thead th {\n",
       "        text-align: right;\n",
       "    }\n",
       "</style>\n",
       "<table border=\"1\" class=\"dataframe\">\n",
       "  <thead>\n",
       "    <tr style=\"text-align: right;\">\n",
       "      <th></th>\n",
       "      <th>const</th>\n",
       "      <th>total_visits</th>\n",
       "      <th>time_on_website</th>\n",
       "      <th>page_views_per_visit</th>\n",
       "      <th>lead_origin_Landing Page Submission</th>\n",
       "      <th>lead_origin_Lead Add Form</th>\n",
       "      <th>lead_source_Reference</th>\n",
       "      <th>specialization_Travel and Tourism</th>\n",
       "      <th>occupation_Working Professional</th>\n",
       "      <th>tags_Closed by Horizzon</th>\n",
       "      <th>tags_Interested in other courses</th>\n",
       "      <th>tags_Lost to EINS</th>\n",
       "      <th>tags_Not Specified</th>\n",
       "      <th>tags_Other_Tags</th>\n",
       "      <th>tags_Ringing</th>\n",
       "      <th>tags_Will revert after reading the email</th>\n",
       "      <th>Lead Score</th>\n",
       "      <th>Lead Number</th>\n",
       "    </tr>\n",
       "  </thead>\n",
       "  <tbody>\n",
       "    <tr>\n",
       "      <th>0</th>\n",
       "      <td>1.00</td>\n",
       "      <td>0</td>\n",
       "      <td>0</td>\n",
       "      <td>0.00</td>\n",
       "      <td>0</td>\n",
       "      <td>0</td>\n",
       "      <td>0</td>\n",
       "      <td>0</td>\n",
       "      <td>0</td>\n",
       "      <td>0</td>\n",
       "      <td>1</td>\n",
       "      <td>0</td>\n",
       "      <td>0</td>\n",
       "      <td>0</td>\n",
       "      <td>0</td>\n",
       "      <td>0</td>\n",
       "      <td>1.00</td>\n",
       "      <td>660737</td>\n",
       "    </tr>\n",
       "    <tr>\n",
       "      <th>1</th>\n",
       "      <td>1.00</td>\n",
       "      <td>5</td>\n",
       "      <td>674</td>\n",
       "      <td>2.50</td>\n",
       "      <td>0</td>\n",
       "      <td>0</td>\n",
       "      <td>0</td>\n",
       "      <td>0</td>\n",
       "      <td>0</td>\n",
       "      <td>0</td>\n",
       "      <td>0</td>\n",
       "      <td>0</td>\n",
       "      <td>0</td>\n",
       "      <td>0</td>\n",
       "      <td>1</td>\n",
       "      <td>0</td>\n",
       "      <td>100.00</td>\n",
       "      <td>660728</td>\n",
       "    </tr>\n",
       "    <tr>\n",
       "      <th>2</th>\n",
       "      <td>1.00</td>\n",
       "      <td>2</td>\n",
       "      <td>1532</td>\n",
       "      <td>2.00</td>\n",
       "      <td>1</td>\n",
       "      <td>0</td>\n",
       "      <td>0</td>\n",
       "      <td>0</td>\n",
       "      <td>0</td>\n",
       "      <td>0</td>\n",
       "      <td>0</td>\n",
       "      <td>0</td>\n",
       "      <td>0</td>\n",
       "      <td>0</td>\n",
       "      <td>0</td>\n",
       "      <td>1</td>\n",
       "      <td>100.00</td>\n",
       "      <td>660727</td>\n",
       "    </tr>\n",
       "    <tr>\n",
       "      <th>3</th>\n",
       "      <td>1.00</td>\n",
       "      <td>1</td>\n",
       "      <td>305</td>\n",
       "      <td>1.00</td>\n",
       "      <td>1</td>\n",
       "      <td>0</td>\n",
       "      <td>0</td>\n",
       "      <td>0</td>\n",
       "      <td>0</td>\n",
       "      <td>0</td>\n",
       "      <td>0</td>\n",
       "      <td>0</td>\n",
       "      <td>0</td>\n",
       "      <td>0</td>\n",
       "      <td>1</td>\n",
       "      <td>0</td>\n",
       "      <td>100.00</td>\n",
       "      <td>660719</td>\n",
       "    </tr>\n",
       "    <tr>\n",
       "      <th>4</th>\n",
       "      <td>1.00</td>\n",
       "      <td>2</td>\n",
       "      <td>1428</td>\n",
       "      <td>1.00</td>\n",
       "      <td>1</td>\n",
       "      <td>0</td>\n",
       "      <td>0</td>\n",
       "      <td>0</td>\n",
       "      <td>0</td>\n",
       "      <td>0</td>\n",
       "      <td>0</td>\n",
       "      <td>0</td>\n",
       "      <td>0</td>\n",
       "      <td>0</td>\n",
       "      <td>0</td>\n",
       "      <td>1</td>\n",
       "      <td>100.00</td>\n",
       "      <td>660681</td>\n",
       "    </tr>\n",
       "  </tbody>\n",
       "</table>\n",
       "</div>"
      ],
      "text/plain": [
       "   const  total_visits  time_on_website  page_views_per_visit  \\\n",
       "0   1.00             0                0                  0.00   \n",
       "1   1.00             5              674                  2.50   \n",
       "2   1.00             2             1532                  2.00   \n",
       "3   1.00             1              305                  1.00   \n",
       "4   1.00             2             1428                  1.00   \n",
       "\n",
       "   lead_origin_Landing Page Submission  lead_origin_Lead Add Form  \\\n",
       "0                                    0                          0   \n",
       "1                                    0                          0   \n",
       "2                                    1                          0   \n",
       "3                                    1                          0   \n",
       "4                                    1                          0   \n",
       "\n",
       "   lead_source_Reference  specialization_Travel and Tourism  \\\n",
       "0                      0                                  0   \n",
       "1                      0                                  0   \n",
       "2                      0                                  0   \n",
       "3                      0                                  0   \n",
       "4                      0                                  0   \n",
       "\n",
       "   occupation_Working Professional  tags_Closed by Horizzon  \\\n",
       "0                                0                        0   \n",
       "1                                0                        0   \n",
       "2                                0                        0   \n",
       "3                                0                        0   \n",
       "4                                0                        0   \n",
       "\n",
       "   tags_Interested in other courses  tags_Lost to EINS  tags_Not Specified  \\\n",
       "0                                 1                  0                   0   \n",
       "1                                 0                  0                   0   \n",
       "2                                 0                  0                   0   \n",
       "3                                 0                  0                   0   \n",
       "4                                 0                  0                   0   \n",
       "\n",
       "   tags_Other_Tags  tags_Ringing  tags_Will revert after reading the email  \\\n",
       "0                0             0                                         0   \n",
       "1                0             1                                         0   \n",
       "2                0             0                                         1   \n",
       "3                0             1                                         0   \n",
       "4                0             0                                         1   \n",
       "\n",
       "   Lead Score Lead Number  \n",
       "0        1.00      660737  \n",
       "1      100.00      660728  \n",
       "2      100.00      660727  \n",
       "3      100.00      660719  \n",
       "4      100.00      660681  "
      ]
     },
     "execution_count": 137,
     "metadata": {},
     "output_type": "execute_result"
    }
   ],
   "source": [
    "# Adding Lead Number to see which Lead has scored how much\n",
    "leads_score['Lead Number'] = df.lead_number\n",
    "leads_score.head()"
   ]
  },
  {
   "cell_type": "code",
   "execution_count": 138,
   "id": "e6be0dd3",
   "metadata": {},
   "outputs": [
    {
     "data": {
      "image/png": "[encoded data removed]",
      "text/plain": [
       "<Figure size 432x288 with 1 Axes>"
      ]
     },
     "metadata": {},
     "output_type": "display_data"
    }
   ],
   "source": [
    "# Plotting Boxplot to check the distribution for the Lead Scores calculated\n",
    "sns.boxplot(y = leads_score['Lead Score'])\n",
    "plt.show()"
   ]
  }
 ],
 "metadata": {
  "kernelspec": {
   "display_name": "Python 3 (ipykernel)",
   "language": "python",
   "name": "python3"
  },
  "language_info": {
   "codemirror_mode": {
    "name": "ipython",
    "version": 3
   },
   "file_extension": ".py",
   "mimetype": "text/x-python",
   "name": "python",
   "nbconvert_exporter": "python",
   "pygments_lexer": "ipython3",
   "version": "3.9.12"
  }
 },
 "nbformat": 4,
 "nbformat_minor": 5
}
